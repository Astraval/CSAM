{
 "cells": [
  {
   "metadata": {},
   "cell_type": "markdown",
   "source": [
    "# Experiments and Results\n",
    "\n",
    "------------------------------------"
   ],
   "id": "b32d7f89a2d1bbeb"
  },
  {
   "metadata": {},
   "cell_type": "markdown",
   "source": [
    "### Set up"
   ],
   "id": "8db7b3595624b851"
  },
  {
   "cell_type": "code",
   "outputs": [],
   "source": [
    "from src.optimizers.SAMTrainer import SAMTrainer\n",
    "from src.optimizers.SimpleTrainer import SimpleTrainer\n",
    "%load_ext autoreload\n",
    "%autoreload 2\n",
    "import sys\n",
    "import os\n",
    "\n",
    "project_root = os.path.abspath(os.path.join(os.getcwd(), \"..\"))\n",
    "if project_root not in sys.path:\n",
    "    sys.path.append(project_root)"
   ],
   "metadata": {
    "collapsed": false,
    "ExecuteTime": {
     "end_time": "2025-06-06T12:04:46.296779Z",
     "start_time": "2025-06-06T12:04:42.774963Z"
    }
   },
   "id": "f938b8b1c20e8256",
   "execution_count": 4
  },
  {
   "cell_type": "code",
   "outputs": [],
   "source": [
    "import torch\n",
    "from src.optimizers.SimpleTrainer import SimpleTrainer\n",
    "from src.utils.evaluation import evaluate_run\n",
    "from src.utils import dataset\n",
    "from matplotlib import pyplot as plt\n",
    "from src.optimizers.PGDTrainer import PGDTrainer\n",
    "from src.optimizers.HypercubeTrainer import HypercubeTrainer\n",
    "from src.utils.evaluation import evaluate_accuracy, evaluate_fgsm_accuracy, evaluate_certified_adv_accuracy\n",
    "from src.cert import Safebox\n",
    "from src.optimizers.SAMTrainer import SAMTrainer\n",
    "from torch.utils.data import DataLoader, Dataset"
   ],
   "metadata": {
    "collapsed": false,
    "ExecuteTime": {
     "end_time": "2025-06-06T12:04:50.118330Z",
     "start_time": "2025-06-06T12:04:46.298256Z"
    }
   },
   "id": "721bc2f6fb41efcc",
   "execution_count": 5
  },
  {
   "cell_type": "markdown",
   "source": [
    "### Global Constants"
   ],
   "metadata": {
    "collapsed": false
   },
   "id": "a5291592b5e53a20"
  },
  {
   "cell_type": "code",
   "outputs": [],
   "source": [
    "DEVICE = \"cuda\" if torch.cuda.is_available() else \"cpu\"\n",
    "N_RUNS = 10"
   ],
   "metadata": {
    "collapsed": false,
    "ExecuteTime": {
     "end_time": "2025-06-06T12:04:50.536706Z",
     "start_time": "2025-06-06T12:04:50.352671Z"
    }
   },
   "id": "3bf09fed68380251",
   "execution_count": 7
  },
  {
   "cell_type": "markdown",
   "source": [
    "### Utils\n",
    "\n",
    "##### Plotting\n"
   ],
   "metadata": {
    "collapsed": false
   },
   "id": "5dd2dd3ab79de9f4"
  },
  {
   "cell_type": "code",
   "outputs": [],
   "source": [
    "def display_dataset(dataset):\n",
    "    fig, axs = plt.subplots(1,10)\n",
    "    fig.set_figwidth(15)\n",
    "    for i in range(10):\n",
    "        axs[i].set_axis_off()\n",
    "        axs[i].imshow(dataset[i][0].numpy().reshape((28,28)), cmap=\"gray\")"
   ],
   "metadata": {
    "collapsed": false,
    "ExecuteTime": {
     "end_time": "2025-06-06T12:04:50.706544Z",
     "start_time": "2025-06-06T12:04:50.538166Z"
    }
   },
   "id": "7e1105d4f4d016b8",
   "execution_count": 8
  },
  {
   "cell_type": "markdown",
   "source": [
    "##### Evaluation"
   ],
   "metadata": {
    "collapsed": false
   },
   "id": "8f818b4df2d5f50"
  },
  {
   "cell_type": "code",
   "outputs": [],
   "source": [
    "def evaluate_model(model: torch.nn.Sequential, test_dataset: Dataset, epsilon_fgsm: float = 0.1, epsilon_cert_adv: float = 0.03, data_domain: tuple[float] = (0.0,1.0)) -> list[int]: \n",
    "    model = model.to(DEVICE)\n",
    "    model.eval()\n",
    "    with torch.no_grad():\n",
    "        acc = evaluate_accuracy(test_dataset, model, num_samples=len(test_dataset), device=DEVICE)\n",
    "        fgsm_acc = evaluate_fgsm_accuracy(test_dataset, model, num_samples=len(test_dataset), device=DEVICE, epsilon=epsilon_fgsm, data_domain=data_domain)\n",
    "        cert_acc = evaluate_certified_adv_accuracy(test_dataset, model, num_samples=len(test_dataset), data_domain=data_domain, device=DEVICE, epsilon=epsilon_cert_adv )\n",
    "    return [acc, fgsm_acc, cert_acc]"
   ],
   "metadata": {
    "collapsed": false,
    "ExecuteTime": {
     "end_time": "2025-06-06T12:04:50.878134Z",
     "start_time": "2025-06-06T12:04:50.707546Z"
    }
   },
   "id": "fb119a75ce4e19b2",
   "execution_count": 9
  },
  {
   "cell_type": "markdown",
   "source": [
    "##### Experiment"
   ],
   "metadata": {
    "collapsed": false
   },
   "id": "24082b84c204bc5c"
  },
  {
   "cell_type": "markdown",
   "source": [
    "### Datasets\n",
    "\n",
    "We evaluate our methodology on the following datasets : MNIST, Fashion-MNIST\n",
    "##### MNIST\n",
    "\n",
    "Digit recognition dataset. "
   ],
   "metadata": {
    "collapsed": false
   },
   "id": "3f7ff5823ce283c"
  },
  {
   "cell_type": "code",
   "outputs": [
    {
     "name": "stdout",
     "output_type": "stream",
     "text": [
      "Train Dataset Size:  48000\n",
      "Test Dataset Size:  12000\n",
      "Validation Dataset Size:  10000\n",
      "Validation dataset will be used to select best model during training and handle early stopping. Test dataset will be used for benchmarking. \n"
     ]
    },
    {
     "data": {
      "text/plain": "<Figure size 1500x480 with 10 Axes>",
      "image/png": "[encoded data removed]"
     },
     "metadata": {},
     "output_type": "display_data"
    }
   ],
   "source": [
    "mnist_train_test, mnist_val = dataset.get_mnist_dataset(root=\"./data\")\n",
    "mnist_train, mnist_test = dataset.split_dataset(mnist_train_test, split_proportion=0.8)\n",
    "display_dataset(mnist_train)\n",
    "print(\"Train Dataset Size: \", len(mnist_train))\n",
    "print(\"Test Dataset Size: \", len(mnist_test))\n",
    "print(\"Validation Dataset Size: \", len(mnist_val))\n",
    "print(\"Validation dataset will be used to select best model during training and handle early stopping. Test dataset will be used for benchmarking. \")"
   ],
   "metadata": {
    "collapsed": false,
    "ExecuteTime": {
     "end_time": "2025-06-06T12:07:31.275966Z",
     "start_time": "2025-06-06T12:07:30.947123Z"
    }
   },
   "id": "cc9be8537b356921",
   "execution_count": 13
  },
  {
   "cell_type": "markdown",
   "source": [
    "##### FashionMNIST\n",
    "\n",
    "Clothing classification dataset."
   ],
   "metadata": {
    "collapsed": false
   },
   "id": "3bab77ca7a20f2dc"
  },
  {
   "cell_type": "code",
   "outputs": [
    {
     "name": "stdout",
     "output_type": "stream",
     "text": [
      "Train Dataset Size:  48000\n",
      "Test Dataset Size:  12000\n",
      "Validation Dataset Size:  10000\n",
      "Validation dataset will be used to select best model during training and handle early stopping. Test dataset will be used for benchmarking. \n"
     ]
    },
    {
     "data": {
      "text/plain": "<Figure size 1500x480 with 10 Axes>",
      "image/png": "[encoded data removed]"
     },
     "metadata": {},
     "output_type": "display_data"
    }
   ],
   "source": [
    "fashion_mnist_train_test, fashion_mnist_val = dataset.get_fashion_mnist_dataset(root=\"./data\")\n",
    "fashion_mnist_train, fashion_mnist_test = dataset.split_dataset(fashion_mnist_train_test, split_proportion=0.8)\n",
    "display_dataset(fashion_mnist_train)\n",
    "print(\"Train Dataset Size: \", len(fashion_mnist_train))\n",
    "print(\"Test Dataset Size: \", len(fashion_mnist_test))\n",
    "print(\"Validation Dataset Size: \", len(fashion_mnist_val))\n",
    "print(\"Validation dataset will be used to select best model during training and handle early stopping. Test dataset will be used for benchmarking. \")"
   ],
   "metadata": {
    "collapsed": false,
    "ExecuteTime": {
     "end_time": "2025-06-06T12:07:33.316297Z",
     "start_time": "2025-06-06T12:07:32.986119Z"
    }
   },
   "id": "5720a19e9e7e23c5",
   "execution_count": 14
  },
  {
   "cell_type": "code",
   "outputs": [
    {
     "name": "stdout",
     "output_type": "stream",
     "text": [
      "tensor(1.)\n",
      "tensor(0.)\n",
      "tensor(1.)\n",
      "tensor(0.)\n"
     ]
    }
   ],
   "source": [
    "X, y = next(iter(DataLoader(mnist_train, batch_size=len(mnist_train))))\n",
    "print(X.max())\n",
    "print(X.min())\n",
    "X, y = next(iter(DataLoader(fashion_mnist_train, batch_size=len(fashion_mnist_train))))\n",
    "print(X.max())\n",
    "print(X.min())"
   ],
   "metadata": {
    "collapsed": false,
    "ExecuteTime": {
     "end_time": "2025-06-06T12:08:28.676079Z",
     "start_time": "2025-06-06T12:08:19.476015Z"
    }
   },
   "id": "5a8f5fb995191eaf",
   "execution_count": 16
  },
  {
   "cell_type": "markdown",
   "source": [
    "### Model definition\n",
    "\n",
    "We use a simple 3 layer shallow network to benchmark our methodology. "
   ],
   "metadata": {
    "collapsed": false
   },
   "id": "bad66492e1c4e09b"
  },
  {
   "cell_type": "code",
   "outputs": [],
   "source": [
    "def get_model(output_dim=10):\n",
    "    \"\"\"Returns a simple CNN model.\"\"\"\n",
    "    model = torch.nn.Sequential(\n",
    "        torch.nn.Conv2d(1, 8, kernel_size=5, stride=1, padding=1),\n",
    "        torch.nn.ReLU(),\n",
    "        torch.nn.Conv2d(8, 1, kernel_size=5, stride=1, padding=1),\n",
    "        torch.nn.ReLU(),\n",
    "        torch.nn.Flatten(),\n",
    "        torch.nn.Linear(576, output_dim),\n",
    "    ).to(DEVICE)\n",
    "    return model"
   ],
   "metadata": {
    "collapsed": false,
    "ExecuteTime": {
     "end_time": "2025-06-06T12:08:30.719100Z",
     "start_time": "2025-06-06T12:08:30.554482Z"
    }
   },
   "id": "45f70557b78fef2e",
   "execution_count": 17
  },
  {
   "cell_type": "markdown",
   "source": [
    "### Experiments\n",
    "------------------------\n",
    "### MNIST\n"
   ],
   "metadata": {
    "collapsed": false
   },
   "id": "f9a614c4e9223834"
  },
  {
   "cell_type": "markdown",
   "source": [
    "#### Constants"
   ],
   "metadata": {
    "collapsed": false
   },
   "id": "3d4c0d5764c2ae93"
  },
  {
   "cell_type": "code",
   "outputs": [],
   "source": [
    "MNIST_EPSILON_FGSM = 0.1\n",
    "MNIST_EPSILON_CERT_ADV = 0.03\n",
    "MNIST_DATA_DOMAIN = (0.0, 1.0)"
   ],
   "metadata": {
    "collapsed": false,
    "ExecuteTime": {
     "end_time": "2025-06-06T12:01:59.425545Z",
     "start_time": "2025-06-06T12:01:59.415853Z"
    }
   },
   "id": "243c6b36aab92d3a",
   "execution_count": 3
  },
  {
   "cell_type": "markdown",
   "source": [
    "##### ADAM Baseline"
   ],
   "metadata": {
    "collapsed": false
   },
   "id": "a6ee7486def38af8"
  },
  {
   "cell_type": "code",
   "outputs": [],
   "source": [
    "# Setting random seeds for reproducibility\n",
    "torch.manual_seed(0)\n",
    "torch.cuda.manual_seed(0)\n",
    "torch.backends.cudnn.deterministic = True\n",
    "\n",
    "def runAdam() -> list[float]:\n",
    "    adam_model = get_model()        \n",
    "    trainer = SimpleTrainer(adam_model, device=DEVICE, quiet=True, acc_evalutation_steps=200)\n",
    "    trainer.train(mnist_train, mnist_val, loss_obj=0.000000000000001, max_iters=6000, batch_size=64, lr=1e-3)\n",
    "    adam_model = trainer.result()\n",
    "    evaluate_model(adam_model, mnist_test,epsilon_fgsm=MNIST_EPSILON_FGSM, epsilon_cert_adv=MNIST_EPSILON_CERT_ADV, data_domain=MNIST_DATA_DOMAIN)\n",
    "means, stds, all_runs = evaluate_run(runAdam, N_RUNS)\n",
    "print(\"-\"*10, f\"Performance of Adam across {N_RUNS} independent runs\", \"-\"*10)\n",
    "print(f\"Train Accuracy : {means[0]:.4f} (std {stds[0]:.4f})\")\n",
    "print(f\"Validation Accuracy : {means[1]:.4f} (std {stds[1]:.4f})\")\n",
    "print(\"All runs : \", all_runs)"
   ],
   "metadata": {
    "collapsed": false
   },
   "id": "892781e55c31cf7e"
  },
  {
   "cell_type": "code",
   "outputs": [],
   "source": [
    "##### PGD Baseline"
   ],
   "metadata": {
    "collapsed": false
   },
   "id": "4f592343f22dbd7e"
  },
  {
   "cell_type": "code",
   "outputs": [],
   "source": [
    "# Setting random seeds for reproducibility\n",
    "torch.manual_seed(0)\n",
    "torch.cuda.manual_seed(0)\n",
    "torch.backends.cudnn.deterministic = True\n",
    "\n",
    "def runPGD() -> list[float]:\n",
    "    pgd_model = get_model()        \n",
    "    trainer = PGDTrainer(pgd_model, quiet=False, device=DEVICE)\n",
    "    trainer.train(\n",
    "        mnist_train, mnist_val, 0.0, max_iters=6000, batch_size=64, lr=1e-3, epsilon=0.1, alpha=0.01, num_iters=10\n",
    "    )\n",
    "    pgd_model = trainer.result()\n",
    "    evaluate_model(pgd_model, mnist_test,epsilon_fgsm=MNIST_EPSILON_FGSM, epsilon_cert_adv=MNIST_EPSILON_CERT_ADV, data_domain=MNIST_DATA_DOMAIN)\n",
    "means, stds, all_runs = evaluate_run(runPGD, N_RUNS)\n",
    "print(\"-\"*10, f\"Performance of Adam across {N_RUNS} independent runs\", \"-\"*10)\n",
    "print(f\"Train Accuracy : {means[0]:.4f} (std {stds[0]:.4f})\")\n",
    "print(f\"Validation Accuracy : {means[1]:.4f} (std {stds[1]:.4f})\")\n",
    "print(\"All runs : \", all_runs)"
   ],
   "metadata": {
    "collapsed": false
   },
   "id": "7caf7999a8e15677"
  }
 ],
 "metadata": {
  "kernelspec": {
   "name": "python3",
   "language": "python",
   "display_name": "Python 3 (ipykernel)"
  }
 },
 "nbformat": 4,
 "nbformat_minor": 5
}
