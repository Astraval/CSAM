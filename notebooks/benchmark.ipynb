{
 "cells": [
  {
   "cell_type": "markdown",
   "id": "b32d7f89a2d1bbeb",
   "metadata": {},
   "source": [
    "# Experiments and Results\n",
    "\n",
    "------------------------------------"
   ]
  },
  {
   "cell_type": "markdown",
   "id": "8db7b3595624b851",
   "metadata": {},
   "source": [
    "### Set up"
   ]
  },
  {
   "cell_type": "code",
   "execution_count": 1,
   "id": "f938b8b1c20e8256",
   "metadata": {
    "collapsed": false,
    "ExecuteTime": {
     "end_time": "2025-06-08T20:27:37.341670Z",
     "start_time": "2025-06-08T20:27:37.153246Z"
    }
   },
   "outputs": [],
   "source": [
    "%load_ext autoreload\n",
    "%autoreload 2\n",
    "import sys\n",
    "import os\n",
    "\n",
    "project_root = os.path.abspath(os.path.join(os.getcwd(), \"..\"))\n",
    "if project_root not in sys.path:\n",
    "    sys.path.append(project_root)"
   ]
  },
  {
   "cell_type": "code",
   "execution_count": 2,
   "id": "721bc2f6fb41efcc",
   "metadata": {
    "collapsed": false,
    "ExecuteTime": {
     "end_time": "2025-06-08T20:27:42.636427Z",
     "start_time": "2025-06-08T20:27:37.343636Z"
    }
   },
   "outputs": [],
   "source": [
    "import torch\n",
    "from src.optimizers.SimpleTrainer import SimpleTrainer\n",
    "from src.utils.evaluation import evaluate_run\n",
    "from src.utils import dataset\n",
    "from matplotlib import pyplot as plt\n",
    "from src.optimizers import interval_narrowers\n",
    "from src.optimizers.ConstrainedVolumeMultiphaseTrainer import ConstrainedVolumeMultiphaseTrainer\n",
    "from src.optimizers.PGDTrainer import PGDTrainer\n",
    "from src.optimizers.HypercubeTrainer import HypercubeTrainer, ConstrainedVolumeTrainer\n",
    "from src.utils.evaluation import evaluate_accuracy, evaluate_fgsm_accuracy, evaluate_certified_adv_accuracy\n",
    "from src.cert import Safebox\n",
    "from src.optimizers.SAMTrainer import SAMTrainer\n",
    "from torch.utils.data import DataLoader, Dataset\n",
    "import numpy as np\n",
    "import scienceplots"
   ]
  },
  {
   "cell_type": "markdown",
   "id": "a5291592b5e53a20",
   "metadata": {
    "collapsed": false
   },
   "source": [
    "### Global Constants"
   ]
  },
  {
   "cell_type": "code",
   "execution_count": 3,
   "id": "3bf09fed68380251",
   "metadata": {
    "collapsed": false,
    "ExecuteTime": {
     "end_time": "2025-06-08T20:27:42.861817Z",
     "start_time": "2025-06-08T20:27:42.637236Z"
    }
   },
   "outputs": [],
   "source": [
    "DEVICE = \"cuda\" if torch.cuda.is_available() else \"cpu\"\n",
    "N_RUNS = 5"
   ]
  },
  {
   "cell_type": "markdown",
   "id": "5dd2dd3ab79de9f4",
   "metadata": {
    "collapsed": false
   },
   "source": [
    "### Utils\n",
    "\n",
    "##### Plotting\n"
   ]
  },
  {
   "cell_type": "code",
   "execution_count": 4,
   "id": "7e1105d4f4d016b8",
   "metadata": {
    "collapsed": false,
    "ExecuteTime": {
     "end_time": "2025-06-08T20:27:43.040660Z",
     "start_time": "2025-06-08T20:27:42.863108Z"
    }
   },
   "outputs": [],
   "source": [
    "def display_dataset(dataset):\n",
    "    fig, axs = plt.subplots(1,10)\n",
    "    fig.set_figwidth(15)\n",
    "    for i in range(10):\n",
    "        axs[i].set_axis_off()\n",
    "        axs[i].imshow(dataset[i][0].numpy().reshape((28,28)), cmap=\"gray\")"
   ]
  },
  {
   "cell_type": "code",
   "execution_count": 5,
   "id": "95eb8540",
   "metadata": {
    "ExecuteTime": {
     "end_time": "2025-06-08T20:27:43.216710Z",
     "start_time": "2025-06-08T20:27:43.041164Z"
    }
   },
   "outputs": [],
   "source": [
    "mnist_means_dict = {}\n",
    "mnist_stds_dict = {}\n",
    "fashion_mnist_means_dict = {}\n",
    "fashion_mnist_stds_dict = {}\n",
    "\n"
   ]
  },
  {
   "cell_type": "code",
   "outputs": [],
   "source": [
    "colors = ['#ff0000', '#ffa000', '#00aaff', \"#00ad3a\"]\n",
    "markers = ['D', 'p', '*', '^']\n",
    "#labels= ['Adam', 'PGD','Inflate']\n",
    "labels= ['Adam', 'PGD', 'SAM', 'CSAM (ours)']"
   ],
   "metadata": {
    "collapsed": false,
    "ExecuteTime": {
     "end_time": "2025-06-08T23:03:57.938741Z",
     "start_time": "2025-06-08T23:03:57.762660Z"
    }
   },
   "id": "19bbddae484e161c",
   "execution_count": 30
  },
  {
   "cell_type": "code",
   "execution_count": 31,
   "id": "1fb9e9d9",
   "metadata": {
    "ExecuteTime": {
     "end_time": "2025-06-08T23:04:15.342819Z",
     "start_time": "2025-06-08T23:04:15.157917Z"
    }
   },
   "outputs": [],
   "source": [
    "def plotMethod(means, stds, ax):\n",
    "    for i, (mean, std) in enumerate(zip(means, stds)):\n",
    "        ax.errorbar(mean, np.arange(3*(len(means)+1),0,-(len(means)+1))-i, xerr=std, fmt='none', color='black', capsize=6, elinewidth=2, capthick=2)\n",
    "        ax.scatter(mean, np.arange(3*(len(means)+1),0,-(len(means)+1))-i, marker=markers[i], s=40, color=colors[i], zorder=10, label=labels[i])\n",
    "\n",
    "    ax.legend(loc='best')\n",
    "    plt.rcParams.update({'ytick.right': False})\n",
    "    plt.rcParams.update({'ytick.left': False})\n",
    "    ticks = []\n",
    "    t_labels = []\n",
    "    metrics = ['Clean', 'FGSM', 'CAA']\n",
    "    \n",
    "    for i in range(1, 3*(len(means)+1)+1):\n",
    "        if i%(len(means)+1)!= 1 : \n",
    "            ticks.append(i)\n",
    "        if i%(len(means)+1) == (len(means)+3)//2 :\n",
    "            t_labels.append(metrics.pop())\n",
    "        elif i%(len(means)+1)!= 1 : \n",
    "            t_labels.append('')\n",
    "\n",
    "    ax.set_yticks(ticks, labels=t_labels)"
   ]
  },
  {
   "cell_type": "markdown",
   "source": [
    "#### WARNING : Please comment this line if you do not have a latex distribution installed on your machine. Otherwise plot generation will FAIL. Thank you. \n",
    "---\n",
    "If you already executed this line and do not have a latex distribution installed please reload the jupyter kernel and rerun all cells with this line commented. "
   ],
   "metadata": {
    "collapsed": false
   },
   "id": "31ffa7df193f8aa2"
  },
  {
   "cell_type": "code",
   "execution_count": 7,
   "id": "a8b1d4de",
   "metadata": {
    "ExecuteTime": {
     "end_time": "2025-06-08T20:27:43.573768Z",
     "start_time": "2025-06-08T20:27:43.394619Z"
    }
   },
   "outputs": [],
   "source": [
    "#plt.style.use(['science','ieee']) "
   ]
  },
  {
   "cell_type": "markdown",
   "id": "8f818b4df2d5f50",
   "metadata": {
    "collapsed": false
   },
   "source": [
    "##### Evaluation"
   ]
  },
  {
   "cell_type": "code",
   "execution_count": 8,
   "id": "fb119a75ce4e19b2",
   "metadata": {
    "collapsed": false,
    "ExecuteTime": {
     "end_time": "2025-06-08T20:27:43.749222Z",
     "start_time": "2025-06-08T20:27:43.573768Z"
    }
   },
   "outputs": [],
   "source": [
    "def evaluate_model(model: torch.nn.Sequential, test_dataset: Dataset, epsilon_fgsm: float = 0.1, epsilon_cert_adv: float = 0.03, data_domain: tuple[float] = (0.0,1.0)) -> list[int]: \n",
    "    model = model.to(DEVICE)\n",
    "    model.eval()\n",
    "    acc = evaluate_accuracy(test_dataset, model, num_samples=len(test_dataset), device=DEVICE)\n",
    "    fgsm_acc = evaluate_fgsm_accuracy(test_dataset, model, num_samples=len(test_dataset), device=DEVICE, epsilon=epsilon_fgsm, data_domain=data_domain)\n",
    "    cert_acc = evaluate_certified_adv_accuracy(test_dataset, model, num_samples=len(test_dataset), data_domain=data_domain, device=DEVICE, epsilon=epsilon_cert_adv )\n",
    "    return [acc, fgsm_acc, cert_acc]"
   ]
  },
  {
   "cell_type": "markdown",
   "id": "24082b84c204bc5c",
   "metadata": {
    "collapsed": false
   },
   "source": [
    "##### Experiment"
   ]
  },
  {
   "cell_type": "markdown",
   "id": "3f7ff5823ce283c",
   "metadata": {
    "collapsed": false
   },
   "source": [
    "### Datasets\n",
    "\n",
    "We evaluate our methodology on the following datasets : MNIST, Fashion-MNIST\n",
    "##### MNIST\n",
    "\n",
    "Digit recognition dataset. "
   ]
  },
  {
   "cell_type": "code",
   "execution_count": 9,
   "id": "cc9be8537b356921",
   "metadata": {
    "collapsed": false,
    "ExecuteTime": {
     "end_time": "2025-06-08T20:27:44.164605Z",
     "start_time": "2025-06-08T20:27:43.750227Z"
    }
   },
   "outputs": [
    {
     "name": "stdout",
     "output_type": "stream",
     "text": [
      "Train Dataset Size:  48000\n",
      "Test Dataset Size:  12000\n",
      "Validation Dataset Size:  10000\n",
      "Validation dataset will be used to select best model during training and handle early stopping. Test dataset will be used for benchmarking. \n"
     ]
    },
    {
     "data": {
      "text/plain": "<Figure size 1500x480 with 10 Axes>",
      "image/png": "[encoded data removed]"
     },
     "metadata": {},
     "output_type": "display_data"
    }
   ],
   "source": [
    "# Setting random seeds for reproducibility\n",
    "torch.manual_seed(0)\n",
    "torch.cuda.manual_seed(0)\n",
    "torch.backends.cudnn.deterministic = True\n",
    "\n",
    "mnist_train_test, mnist_val = dataset.get_mnist_dataset(root=\"./data\")\n",
    "mnist_train, mnist_test = dataset.split_dataset(mnist_train_test, split_proportion=0.8)\n",
    "display_dataset(mnist_train)\n",
    "print(\"Train Dataset Size: \", len(mnist_train))\n",
    "print(\"Test Dataset Size: \", len(mnist_test))\n",
    "print(\"Validation Dataset Size: \", len(mnist_val))\n",
    "print(\"Validation dataset will be used to select best model during training and handle early stopping. Test dataset will be used for benchmarking. \")"
   ]
  },
  {
   "cell_type": "markdown",
   "id": "3bab77ca7a20f2dc",
   "metadata": {
    "collapsed": false
   },
   "source": [
    "##### FashionMNIST\n",
    "\n",
    "Clothing classification dataset."
   ]
  },
  {
   "cell_type": "code",
   "execution_count": 10,
   "id": "5720a19e9e7e23c5",
   "metadata": {
    "collapsed": false,
    "ExecuteTime": {
     "end_time": "2025-06-08T20:27:44.545472Z",
     "start_time": "2025-06-08T20:27:44.166615Z"
    }
   },
   "outputs": [
    {
     "name": "stdout",
     "output_type": "stream",
     "text": [
      "Train Dataset Size:  48000\n",
      "Test Dataset Size:  12000\n",
      "Validation Dataset Size:  10000\n",
      "Validation dataset will be used to select best model during training and handle early stopping. Test dataset will be used for benchmarking. \n"
     ]
    },
    {
     "data": {
      "text/plain": "<Figure size 1500x480 with 10 Axes>",
      "image/png": "[encoded data removed]"
     },
     "metadata": {},
     "output_type": "display_data"
    }
   ],
   "source": [
    "# Setting random seeds for reproducibility\n",
    "torch.manual_seed(0)\n",
    "torch.cuda.manual_seed(0)\n",
    "torch.backends.cudnn.deterministic = True\n",
    "\n",
    "fashion_mnist_train_test, fashion_mnist_val = dataset.get_fashion_mnist_dataset(root=\"./data\")\n",
    "fashion_mnist_train, fashion_mnist_test = dataset.split_dataset(fashion_mnist_train_test, split_proportion=0.8)\n",
    "display_dataset(fashion_mnist_train)\n",
    "print(\"Train Dataset Size: \", len(fashion_mnist_train))\n",
    "print(\"Test Dataset Size: \", len(fashion_mnist_test))\n",
    "print(\"Validation Dataset Size: \", len(fashion_mnist_val))\n",
    "print(\"Validation dataset will be used to select best model during training and handle early stopping. Test dataset will be used for benchmarking. \")"
   ]
  },
  {
   "cell_type": "code",
   "execution_count": 11,
   "id": "a869c7b477e8fe06",
   "metadata": {
    "collapsed": false,
    "ExecuteTime": {
     "end_time": "2025-06-08T20:27:59.781336Z",
     "start_time": "2025-06-08T20:27:44.546477Z"
    }
   },
   "outputs": [
    {
     "name": "stdout",
     "output_type": "stream",
     "text": [
      "tensor(1.)\n",
      "tensor(-1.)\n",
      "tensor(1.)\n",
      "tensor(-1.)\n"
     ]
    }
   ],
   "source": [
    "X, y = next(iter(DataLoader(fashion_mnist_train, batch_size=len(fashion_mnist_train), shuffle=True)))\n",
    "print(X.max())\n",
    "print(X.min())\n",
    "X, y = next(iter(DataLoader(mnist_train, batch_size=len(mnist_train), shuffle=True)))\n",
    "print(X.max())\n",
    "print(X.min())"
   ]
  },
  {
   "cell_type": "markdown",
   "id": "bad66492e1c4e09b",
   "metadata": {
    "collapsed": false
   },
   "source": [
    "### Model definition\n",
    "\n",
    "We use a simple 3 layer shallow network to benchmark our methodology. "
   ]
  },
  {
   "cell_type": "code",
   "execution_count": 12,
   "id": "45f70557b78fef2e",
   "metadata": {
    "collapsed": false,
    "ExecuteTime": {
     "end_time": "2025-06-08T20:28:00.014128Z",
     "start_time": "2025-06-08T20:27:59.782478Z"
    }
   },
   "outputs": [],
   "source": [
    "def get_model(output_dim=10):\n",
    "    \"\"\"Returns a simple CNN model.\"\"\"\n",
    "    model = torch.nn.Sequential(\n",
    "        torch.nn.Conv2d(1, 8, kernel_size=5, stride=1, padding=1),\n",
    "        torch.nn.ReLU(),\n",
    "        torch.nn.Conv2d(8, 1, kernel_size=5, stride=1, padding=1),\n",
    "        torch.nn.ReLU(),\n",
    "        torch.nn.Flatten(),\n",
    "        torch.nn.Linear(576, output_dim),\n",
    "    ).to(DEVICE)\n",
    "    return model"
   ]
  },
  {
   "cell_type": "markdown",
   "id": "f9a614c4e9223834",
   "metadata": {
    "collapsed": false
   },
   "source": [
    "### Experiments\n",
    "------------------------\n",
    "### MNIST\n"
   ]
  },
  {
   "cell_type": "markdown",
   "id": "3d4c0d5764c2ae93",
   "metadata": {
    "collapsed": false
   },
   "source": [
    "#### Constants"
   ]
  },
  {
   "cell_type": "code",
   "execution_count": 13,
   "id": "243c6b36aab92d3a",
   "metadata": {
    "collapsed": false,
    "ExecuteTime": {
     "end_time": "2025-06-08T20:28:00.196421Z",
     "start_time": "2025-06-08T20:28:00.014128Z"
    }
   },
   "outputs": [],
   "source": [
    "MNIST_EPSILON_FGSM = 0.1\n",
    "MNIST_EPSILON_CERT_ADV = 0.03\n",
    "MNIST_DATA_DOMAIN = (-1.0, 1.0)\n",
    "\n",
    "ADAM = \"adam\"\n",
    "SAM = \"sam\"\n",
    "PGD = \"pgd\"\n",
    "HYPERCUBE = \"hypercube\""
   ]
  },
  {
   "cell_type": "markdown",
   "id": "a6ee7486def38af8",
   "metadata": {
    "collapsed": false
   },
   "source": [
    "#### ADAM Baseline"
   ]
  },
  {
   "cell_type": "code",
   "execution_count": 14,
   "id": "892781e55c31cf7e",
   "metadata": {
    "collapsed": false,
    "ExecuteTime": {
     "end_time": "2025-06-08T20:30:40.880357Z",
     "start_time": "2025-06-08T20:28:00.197598Z"
    }
   },
   "outputs": [
    {
     "name": "stdout",
     "output_type": "stream",
     "text": [
      " ---------- Starting Run #0 ---------- \n"
     ]
    },
    {
     "name": "stderr",
     "output_type": "stream",
     "text": [
      "100%|██████████| 700/700 [00:25<00:00, 27.28it/s, loss=0.0992, val_acc=0.917]\n"
     ]
    },
    {
     "name": "stdout",
     "output_type": "stream",
     "text": [
      "-> Run finished with values : [0.9169166684150696, 0.7171666622161865, 0.007249999791383743]\n",
      " ---------- Starting Run #1 ---------- \n"
     ]
    },
    {
     "name": "stderr",
     "output_type": "stream",
     "text": [
      "100%|██████████| 700/700 [00:26<00:00, 26.70it/s, loss=0.439, val_acc=0.921] \n"
     ]
    },
    {
     "name": "stdout",
     "output_type": "stream",
     "text": [
      "-> Run finished with values : [0.9174166321754456, 0.6679999828338623, 0.05649999901652336]\n",
      " ---------- Starting Run #2 ---------- \n"
     ]
    },
    {
     "name": "stderr",
     "output_type": "stream",
     "text": [
      "100%|██████████| 700/700 [00:25<00:00, 26.94it/s, loss=0.152, val_acc=0.919] \n"
     ]
    },
    {
     "name": "stdout",
     "output_type": "stream",
     "text": [
      "-> Run finished with values : [0.9171666502952576, 0.7357500195503235, 0.006583333481103182]\n",
      " ---------- Starting Run #3 ---------- \n"
     ]
    },
    {
     "name": "stderr",
     "output_type": "stream",
     "text": [
      "100%|██████████| 700/700 [00:26<00:00, 26.04it/s, loss=0.203, val_acc=0.923] \n"
     ]
    },
    {
     "name": "stdout",
     "output_type": "stream",
     "text": [
      "-> Run finished with values : [0.9174166321754456, 0.6756666302680969, 0.039916668087244034]\n",
      " ---------- Starting Run #4 ---------- \n"
     ]
    },
    {
     "name": "stderr",
     "output_type": "stream",
     "text": [
      "100%|██████████| 700/700 [00:25<00:00, 27.10it/s, loss=0.227, val_acc=0.929]\n"
     ]
    },
    {
     "name": "stdout",
     "output_type": "stream",
     "text": [
      "-> Run finished with values : [0.921833336353302, 0.7410833239555359, 0.07133333384990692]\n",
      "========== Performance of Adam across 5 independent runs ==========\n",
      "Clean Accuracy : 0.9182 (std 0.0021)\n",
      "FGSM Accuracy : 0.7075 (std 0.0339)\n",
      "Certified Adversarial Accuracy : 0.0363 (std 0.0290)\n"
     ]
    }
   ],
   "source": [
    "# Setting random seeds for reproducibility\n",
    "torch.manual_seed(0)\n",
    "torch.cuda.manual_seed(0)\n",
    "torch.backends.cudnn.deterministic = True\n",
    "\n",
    "def runAdam() -> list[float]:\n",
    "    adam_model = get_model()        \n",
    "    trainer = SimpleTrainer(adam_model, device=DEVICE, quiet=False, acc_evaluation_steps=70)\n",
    "    trainer.train(mnist_train, mnist_val, loss_obj=0.0, max_iters=700, batch_size=64, lr=1e-3)\n",
    "    adam_model = trainer.result()\n",
    "    return evaluate_model(adam_model, mnist_test,epsilon_fgsm=MNIST_EPSILON_FGSM, epsilon_cert_adv=MNIST_EPSILON_CERT_ADV, data_domain=MNIST_DATA_DOMAIN)\n",
    "means, stds, all_runs = evaluate_run(runAdam, N_RUNS)\n",
    "print(\"=\"*10, f\"Performance of Adam across {N_RUNS} independent runs\", \"=\"*10)\n",
    "print(f\"Clean Accuracy : {means[0]:.4f} (std {stds[0]:.4f})\")\n",
    "print(f\"FGSM Accuracy : {means[1]:.4f} (std {stds[1]:.4f})\")\n",
    "print(f\"Certified Adversarial Accuracy : {means[2]:.4f} (std {stds[2]:.4f})\")\n",
    "\n",
    "mnist_means_dict[ADAM] = means\n",
    "mnist_stds_dict[ADAM] = stds\n",
    "#print(\"All runs : \", all_runs)"
   ]
  },
  {
   "cell_type": "markdown",
   "id": "d70ea7de6a59af8",
   "metadata": {
    "collapsed": false
   },
   "source": [
    "#### PGD Baseline"
   ]
  },
  {
   "cell_type": "code",
   "execution_count": 15,
   "id": "7caf7999a8e15677",
   "metadata": {
    "collapsed": false,
    "ExecuteTime": {
     "end_time": "2025-06-08T20:42:15.926411Z",
     "start_time": "2025-06-08T20:30:40.881365Z"
    }
   },
   "outputs": [
    {
     "name": "stdout",
     "output_type": "stream",
     "text": [
      " ---------- Starting Run #0 ---------- \n"
     ]
    },
    {
     "name": "stderr",
     "output_type": "stream",
     "text": [
      " 14%|█▍        | 101/700 [00:08<00:51, 11.70it/s, loss=2.3, val_acc=0.0781]\n"
     ]
    },
    {
     "name": "stdout",
     "output_type": "stream",
     "text": [
      "Bad Initialization detected. Interrupted Training.\n"
     ]
    },
    {
     "name": "stderr",
     "output_type": "stream",
     "text": [
      "100%|██████████| 700/700 [01:00<00:00, 11.55it/s, loss=0.625, val_acc=0.938]\n"
     ]
    },
    {
     "name": "stdout",
     "output_type": "stream",
     "text": [
      "-> Run finished with values : [0.9043333530426025, 0.8762499690055847, 0.8237500190734863]\n",
      " ---------- Starting Run #1 ---------- \n"
     ]
    },
    {
     "name": "stderr",
     "output_type": "stream",
     "text": [
      " 14%|█▍        | 101/700 [00:08<00:52, 11.47it/s, loss=2.3, val_acc=0.0781]\n"
     ]
    },
    {
     "name": "stdout",
     "output_type": "stream",
     "text": [
      "Bad Initialization detected. Interrupted Training.\n"
     ]
    },
    {
     "name": "stderr",
     "output_type": "stream",
     "text": [
      " 14%|█▍        | 101/700 [00:08<00:51, 11.58it/s, loss=2.3, val_acc=0.141] \n"
     ]
    },
    {
     "name": "stdout",
     "output_type": "stream",
     "text": [
      "Bad Initialization detected. Interrupted Training.\n"
     ]
    },
    {
     "name": "stderr",
     "output_type": "stream",
     "text": [
      " 14%|█▍        | 101/700 [00:08<00:51, 11.71it/s, loss=2.3, val_acc=0.188] \n"
     ]
    },
    {
     "name": "stdout",
     "output_type": "stream",
     "text": [
      "Bad Initialization detected. Interrupted Training.\n"
     ]
    },
    {
     "name": "stderr",
     "output_type": "stream",
     "text": [
      " 14%|█▍        | 101/700 [00:08<00:52, 11.50it/s, loss=2.3, val_acc=0.109] \n"
     ]
    },
    {
     "name": "stdout",
     "output_type": "stream",
     "text": [
      "Bad Initialization detected. Interrupted Training.\n"
     ]
    },
    {
     "name": "stderr",
     "output_type": "stream",
     "text": [
      " 14%|█▍        | 101/700 [00:08<00:51, 11.61it/s, loss=2.3, val_acc=0.0625]\n"
     ]
    },
    {
     "name": "stdout",
     "output_type": "stream",
     "text": [
      "Bad Initialization detected. Interrupted Training.\n"
     ]
    },
    {
     "name": "stderr",
     "output_type": "stream",
     "text": [
      " 14%|█▍        | 101/700 [00:08<00:52, 11.33it/s, loss=2.3, val_acc=0.141] \n"
     ]
    },
    {
     "name": "stdout",
     "output_type": "stream",
     "text": [
      "Bad Initialization detected. Interrupted Training.\n"
     ]
    },
    {
     "name": "stderr",
     "output_type": "stream",
     "text": [
      "100%|██████████| 700/700 [01:00<00:00, 11.57it/s, loss=0.669, val_acc=0.969]\n"
     ]
    },
    {
     "name": "stdout",
     "output_type": "stream",
     "text": [
      "-> Run finished with values : [0.9018332958221436, 0.8733333349227905, 0.5954999923706055]\n",
      " ---------- Starting Run #2 ---------- \n"
     ]
    },
    {
     "name": "stderr",
     "output_type": "stream",
     "text": [
      " 14%|█▍        | 101/700 [00:08<00:52, 11.40it/s, loss=2.31, val_acc=0.156] \n"
     ]
    },
    {
     "name": "stdout",
     "output_type": "stream",
     "text": [
      "Bad Initialization detected. Interrupted Training.\n"
     ]
    },
    {
     "name": "stderr",
     "output_type": "stream",
     "text": [
      " 14%|█▍        | 101/700 [00:09<00:53, 11.14it/s, loss=2.3, val_acc=0.109] \n"
     ]
    },
    {
     "name": "stdout",
     "output_type": "stream",
     "text": [
      "Bad Initialization detected. Interrupted Training.\n"
     ]
    },
    {
     "name": "stderr",
     "output_type": "stream",
     "text": [
      " 14%|█▍        | 101/700 [00:09<00:54, 10.99it/s, loss=2.3, val_acc=0.156] \n"
     ]
    },
    {
     "name": "stdout",
     "output_type": "stream",
     "text": [
      "Bad Initialization detected. Interrupted Training.\n"
     ]
    },
    {
     "name": "stderr",
     "output_type": "stream",
     "text": [
      " 14%|█▍        | 101/700 [00:08<00:52, 11.37it/s, loss=2.3, val_acc=0.109] \n"
     ]
    },
    {
     "name": "stdout",
     "output_type": "stream",
     "text": [
      "Bad Initialization detected. Interrupted Training.\n"
     ]
    },
    {
     "name": "stderr",
     "output_type": "stream",
     "text": [
      " 14%|█▍        | 101/700 [00:08<00:53, 11.23it/s, loss=2.3, val_acc=0.156] \n"
     ]
    },
    {
     "name": "stdout",
     "output_type": "stream",
     "text": [
      "Bad Initialization detected. Interrupted Training.\n"
     ]
    },
    {
     "name": "stderr",
     "output_type": "stream",
     "text": [
      " 14%|█▍        | 101/700 [00:08<00:52, 11.44it/s, loss=2.31, val_acc=0.109]\n"
     ]
    },
    {
     "name": "stdout",
     "output_type": "stream",
     "text": [
      "Bad Initialization detected. Interrupted Training.\n"
     ]
    },
    {
     "name": "stderr",
     "output_type": "stream",
     "text": [
      " 14%|█▍        | 101/700 [00:08<00:53, 11.26it/s, loss=2.3, val_acc=0.0938]\n"
     ]
    },
    {
     "name": "stdout",
     "output_type": "stream",
     "text": [
      "Bad Initialization detected. Interrupted Training.\n"
     ]
    },
    {
     "name": "stderr",
     "output_type": "stream",
     "text": [
      " 14%|█▍        | 101/700 [00:08<00:52, 11.42it/s, loss=2.3, val_acc=0.0938]\n"
     ]
    },
    {
     "name": "stdout",
     "output_type": "stream",
     "text": [
      "Bad Initialization detected. Interrupted Training.\n"
     ]
    },
    {
     "name": "stderr",
     "output_type": "stream",
     "text": [
      " 14%|█▍        | 101/700 [00:09<00:53, 11.22it/s, loss=2.3, val_acc=0.0938]\n"
     ]
    },
    {
     "name": "stdout",
     "output_type": "stream",
     "text": [
      "Bad Initialization detected. Interrupted Training.\n"
     ]
    },
    {
     "name": "stderr",
     "output_type": "stream",
     "text": [
      " 14%|█▍        | 101/700 [00:08<00:51, 11.57it/s, loss=2.3, val_acc=0.0781]\n"
     ]
    },
    {
     "name": "stdout",
     "output_type": "stream",
     "text": [
      "Bad Initialization detected. Interrupted Training.\n"
     ]
    },
    {
     "name": "stderr",
     "output_type": "stream",
     "text": [
      " 14%|█▍        | 101/700 [00:08<00:51, 11.61it/s, loss=2.3, val_acc=0.0625]\n"
     ]
    },
    {
     "name": "stdout",
     "output_type": "stream",
     "text": [
      "Bad Initialization detected. Interrupted Training.\n"
     ]
    },
    {
     "name": "stderr",
     "output_type": "stream",
     "text": [
      " 14%|█▍        | 101/700 [00:08<00:52, 11.48it/s, loss=2.3, val_acc=0.0625]\n"
     ]
    },
    {
     "name": "stdout",
     "output_type": "stream",
     "text": [
      "Bad Initialization detected. Interrupted Training.\n"
     ]
    },
    {
     "name": "stderr",
     "output_type": "stream",
     "text": [
      " 14%|█▍        | 101/700 [00:09<00:53, 11.22it/s, loss=2.3, val_acc=0.125]  \n"
     ]
    },
    {
     "name": "stdout",
     "output_type": "stream",
     "text": [
      "Bad Initialization detected. Interrupted Training.\n"
     ]
    },
    {
     "name": "stderr",
     "output_type": "stream",
     "text": [
      " 14%|█▍        | 101/700 [00:08<00:52, 11.31it/s, loss=2.3, val_acc=0.172] \n"
     ]
    },
    {
     "name": "stdout",
     "output_type": "stream",
     "text": [
      "Bad Initialization detected. Interrupted Training.\n"
     ]
    },
    {
     "name": "stderr",
     "output_type": "stream",
     "text": [
      " 14%|█▍        | 101/700 [00:09<00:53, 11.10it/s, loss=2.3, val_acc=0.0938]\n"
     ]
    },
    {
     "name": "stdout",
     "output_type": "stream",
     "text": [
      "Bad Initialization detected. Interrupted Training.\n"
     ]
    },
    {
     "name": "stderr",
     "output_type": "stream",
     "text": [
      " 14%|█▍        | 101/700 [00:08<00:53, 11.28it/s, loss=2.3, val_acc=0.125]  \n"
     ]
    },
    {
     "name": "stdout",
     "output_type": "stream",
     "text": [
      "Bad Initialization detected. Interrupted Training.\n"
     ]
    },
    {
     "name": "stderr",
     "output_type": "stream",
     "text": [
      " 14%|█▍        | 101/700 [00:08<00:50, 11.83it/s, loss=2.3, val_acc=0.156]  \n"
     ]
    },
    {
     "name": "stdout",
     "output_type": "stream",
     "text": [
      "Bad Initialization detected. Interrupted Training.\n"
     ]
    },
    {
     "name": "stderr",
     "output_type": "stream",
     "text": [
      " 14%|█▍        | 101/700 [00:08<00:53, 11.27it/s, loss=2.31, val_acc=0.0781]\n"
     ]
    },
    {
     "name": "stdout",
     "output_type": "stream",
     "text": [
      "Bad Initialization detected. Interrupted Training.\n"
     ]
    },
    {
     "name": "stderr",
     "output_type": "stream",
     "text": [
      "100%|██████████| 700/700 [01:00<00:00, 11.55it/s, loss=0.916, val_acc=0.875]\n"
     ]
    },
    {
     "name": "stdout",
     "output_type": "stream",
     "text": [
      "-> Run finished with values : [0.8943333029747009, 0.8589166402816772, 0.5305833220481873]\n",
      " ---------- Starting Run #3 ---------- \n"
     ]
    },
    {
     "name": "stderr",
     "output_type": "stream",
     "text": [
      " 14%|█▍        | 101/700 [00:09<00:53, 11.20it/s, loss=2.3, val_acc=0.0625]\n"
     ]
    },
    {
     "name": "stdout",
     "output_type": "stream",
     "text": [
      "Bad Initialization detected. Interrupted Training.\n"
     ]
    },
    {
     "name": "stderr",
     "output_type": "stream",
     "text": [
      " 14%|█▍        | 101/700 [00:09<00:53, 11.22it/s, loss=2.3, val_acc=0.0469]\n"
     ]
    },
    {
     "name": "stdout",
     "output_type": "stream",
     "text": [
      "Bad Initialization detected. Interrupted Training.\n"
     ]
    },
    {
     "name": "stderr",
     "output_type": "stream",
     "text": [
      " 14%|█▍        | 101/700 [00:09<00:59, 10.12it/s, loss=2.3, val_acc=0.0625] \n"
     ]
    },
    {
     "name": "stdout",
     "output_type": "stream",
     "text": [
      "Bad Initialization detected. Interrupted Training.\n"
     ]
    },
    {
     "name": "stderr",
     "output_type": "stream",
     "text": [
      " 14%|█▍        | 101/700 [00:09<00:58, 10.15it/s, loss=2.3, val_acc=0.0938]\n"
     ]
    },
    {
     "name": "stdout",
     "output_type": "stream",
     "text": [
      "Bad Initialization detected. Interrupted Training.\n"
     ]
    },
    {
     "name": "stderr",
     "output_type": "stream",
     "text": [
      " 14%|█▍        | 101/700 [00:09<00:59, 10.13it/s, loss=2.3, val_acc=0.0938]\n"
     ]
    },
    {
     "name": "stdout",
     "output_type": "stream",
     "text": [
      "Bad Initialization detected. Interrupted Training.\n"
     ]
    },
    {
     "name": "stderr",
     "output_type": "stream",
     "text": [
      " 14%|█▍        | 101/700 [00:10<01:00,  9.90it/s, loss=2.31, val_acc=0.125]\n"
     ]
    },
    {
     "name": "stdout",
     "output_type": "stream",
     "text": [
      "Bad Initialization detected. Interrupted Training.\n"
     ]
    },
    {
     "name": "stderr",
     "output_type": "stream",
     "text": [
      " 14%|█▍        | 101/700 [00:09<00:54, 10.91it/s, loss=2.3, val_acc=0.125] \n"
     ]
    },
    {
     "name": "stdout",
     "output_type": "stream",
     "text": [
      "Bad Initialization detected. Interrupted Training.\n"
     ]
    },
    {
     "name": "stderr",
     "output_type": "stream",
     "text": [
      " 14%|█▍        | 101/700 [00:08<00:52, 11.31it/s, loss=2.3, val_acc=0.141] \n"
     ]
    },
    {
     "name": "stdout",
     "output_type": "stream",
     "text": [
      "Bad Initialization detected. Interrupted Training.\n"
     ]
    },
    {
     "name": "stderr",
     "output_type": "stream",
     "text": [
      " 14%|█▍        | 101/700 [00:08<00:52, 11.33it/s, loss=2.3, val_acc=0.141]  \n"
     ]
    },
    {
     "name": "stdout",
     "output_type": "stream",
     "text": [
      "Bad Initialization detected. Interrupted Training.\n"
     ]
    },
    {
     "name": "stderr",
     "output_type": "stream",
     "text": [
      " 14%|█▍        | 101/700 [00:08<00:53, 11.27it/s, loss=2.3, val_acc=0.188] \n"
     ]
    },
    {
     "name": "stdout",
     "output_type": "stream",
     "text": [
      "Bad Initialization detected. Interrupted Training.\n"
     ]
    },
    {
     "name": "stderr",
     "output_type": "stream",
     "text": [
      " 14%|█▍        | 101/700 [00:08<00:53, 11.28it/s, loss=2.3, val_acc=0.141] \n"
     ]
    },
    {
     "name": "stdout",
     "output_type": "stream",
     "text": [
      "Bad Initialization detected. Interrupted Training.\n"
     ]
    },
    {
     "name": "stderr",
     "output_type": "stream",
     "text": [
      " 14%|█▍        | 101/700 [00:08<00:51, 11.62it/s, loss=2.3, val_acc=0.0312]\n"
     ]
    },
    {
     "name": "stdout",
     "output_type": "stream",
     "text": [
      "Bad Initialization detected. Interrupted Training.\n"
     ]
    },
    {
     "name": "stderr",
     "output_type": "stream",
     "text": [
      " 14%|█▍        | 101/700 [00:08<00:51, 11.63it/s, loss=2.3, val_acc=0.0938] \n"
     ]
    },
    {
     "name": "stdout",
     "output_type": "stream",
     "text": [
      "Bad Initialization detected. Interrupted Training.\n"
     ]
    },
    {
     "name": "stderr",
     "output_type": "stream",
     "text": [
      "100%|██████████| 700/700 [01:03<00:00, 11.09it/s, loss=0.782, val_acc=0.906]\n"
     ]
    },
    {
     "name": "stdout",
     "output_type": "stream",
     "text": [
      "-> Run finished with values : [0.893916666507721, 0.8577499985694885, 0.461083322763443]\n",
      " ---------- Starting Run #4 ---------- \n"
     ]
    },
    {
     "name": "stderr",
     "output_type": "stream",
     "text": [
      " 14%|█▍        | 101/700 [00:09<00:53, 11.18it/s, loss=2.3, val_acc=0.0625]\n"
     ]
    },
    {
     "name": "stdout",
     "output_type": "stream",
     "text": [
      "Bad Initialization detected. Interrupted Training.\n"
     ]
    },
    {
     "name": "stderr",
     "output_type": "stream",
     "text": [
      " 14%|█▍        | 101/700 [00:08<00:52, 11.42it/s, loss=2.3, val_acc=0.172] \n"
     ]
    },
    {
     "name": "stdout",
     "output_type": "stream",
     "text": [
      "Bad Initialization detected. Interrupted Training.\n"
     ]
    },
    {
     "name": "stderr",
     "output_type": "stream",
     "text": [
      "100%|██████████| 700/700 [00:59<00:00, 11.68it/s, loss=0.59, val_acc=0.891] \n"
     ]
    },
    {
     "name": "stdout",
     "output_type": "stream",
     "text": [
      "-> Run finished with values : [0.8968333005905151, 0.8690833449363708, 0.690833330154419]\n",
      "========== Performance of PGD across 5 independent runs ==========\n",
      "Clean Accuracy : 0.8982 (std 0.0046)\n",
      "FGSM Accuracy : 0.8671 (std 0.0084)\n",
      "Certified Adversarial Accuracy : 0.6204 (std 0.1418)\n"
     ]
    }
   ],
   "source": [
    "# Setting random seeds for reproducibility\n",
    "torch.manual_seed(0)\n",
    "torch.cuda.manual_seed(0)\n",
    "torch.backends.cudnn.deterministic = True\n",
    "# optimal parameters borrowed from https://github.com/MadryLab/mnist_challenge/blob/master/config.json\n",
    "# epsilon was reduced to 0.2 to allow for training. We noticed that epsilon=0.3 consistently did not train across 10 independant runs. This is because we use a smaller architecture here. \n",
    "def runPGD() -> list[float]:\n",
    "    restart = True\n",
    "    trainer = None \n",
    "    while restart: # restarts if bad initialization is detected\n",
    "        pgd_model = get_model()        \n",
    "        trainer = PGDTrainer(pgd_model, quiet=False, device=DEVICE)\n",
    "        restart = not trainer.train(\n",
    "            mnist_train, mnist_val, 0.0, max_iters=700, batch_size=64, lr=1e-3, epsilon=0.3, alpha=0.01, num_iters=40, data_domain=MNIST_DATA_DOMAIN\n",
    "        )\n",
    "    pgd_model = trainer.result()\n",
    "    return evaluate_model(pgd_model, mnist_test,epsilon_fgsm=MNIST_EPSILON_FGSM, epsilon_cert_adv=MNIST_EPSILON_CERT_ADV, data_domain=MNIST_DATA_DOMAIN)\n",
    "means, stds, all_runs = evaluate_run(runPGD, N_RUNS)\n",
    "print(\"=\"*10, f\"Performance of PGD across {N_RUNS} independent runs\", \"=\"*10)\n",
    "print(f\"Clean Accuracy : {means[0]:.4f} (std {stds[0]:.4f})\")\n",
    "print(f\"FGSM Accuracy : {means[1]:.4f} (std {stds[1]:.4f})\")\n",
    "print(f\"Certified Adversarial Accuracy : {means[2]:.4f} (std {stds[2]:.4f})\")\n",
    "\n",
    "mnist_means_dict[PGD] = means\n",
    "mnist_stds_dict[PGD] = stds\n",
    "#print(\"All runs : \", all_runs)"
   ]
  },
  {
   "cell_type": "markdown",
   "source": [
    "#### SAM Baseline"
   ],
   "metadata": {
    "collapsed": false
   },
   "id": "86ddf3642f04adb1"
  },
  {
   "cell_type": "code",
   "outputs": [
    {
     "name": "stdout",
     "output_type": "stream",
     "text": [
      " ---------- Starting Run #0 ---------- \n"
     ]
    },
    {
     "name": "stderr",
     "output_type": "stream",
     "text": [
      "100%|██████████| 700/700 [00:19<00:00, 36.21it/s, loss=0.152, val_acc=0.891]\n"
     ]
    },
    {
     "name": "stdout",
     "output_type": "stream",
     "text": [
      "-> Run finished with values : [0.925000011920929, 0.7910833358764648, 0.027166666463017464]\n",
      " ---------- Starting Run #1 ---------- \n"
     ]
    },
    {
     "name": "stderr",
     "output_type": "stream",
     "text": [
      "100%|██████████| 700/700 [00:18<00:00, 37.35it/s, loss=0.152, val_acc=0.953]\n"
     ]
    },
    {
     "name": "stdout",
     "output_type": "stream",
     "text": [
      "-> Run finished with values : [0.9326666593551636, 0.7524999976158142, 0.07616666704416275]\n",
      " ---------- Starting Run #2 ---------- \n"
     ]
    },
    {
     "name": "stderr",
     "output_type": "stream",
     "text": [
      "100%|██████████| 700/700 [00:19<00:00, 36.39it/s, loss=0.276, val_acc=0.922]\n"
     ]
    },
    {
     "name": "stdout",
     "output_type": "stream",
     "text": [
      "-> Run finished with values : [0.9244999885559082, 0.7855833172798157, 0.006583333481103182]\n",
      " ---------- Starting Run #3 ---------- \n"
     ]
    },
    {
     "name": "stderr",
     "output_type": "stream",
     "text": [
      "100%|██████████| 700/700 [00:18<00:00, 36.86it/s, loss=0.275, val_acc=0.953]\n"
     ]
    },
    {
     "name": "stdout",
     "output_type": "stream",
     "text": [
      "-> Run finished with values : [0.9236666560173035, 0.8103333115577698, 0.11408333480358124]\n",
      " ---------- Starting Run #4 ---------- \n"
     ]
    },
    {
     "name": "stderr",
     "output_type": "stream",
     "text": [
      " 14%|█▍        | 101/700 [00:02<00:16, 37.14it/s, loss=2.3, val_acc=0.0938] \n"
     ]
    },
    {
     "name": "stdout",
     "output_type": "stream",
     "text": [
      "Bad Initialization detected. Interrupted Training.\n"
     ]
    },
    {
     "name": "stderr",
     "output_type": "stream",
     "text": [
      "100%|██████████| 700/700 [00:19<00:00, 36.37it/s, loss=0.332, val_acc=0.906]\n"
     ]
    },
    {
     "name": "stdout",
     "output_type": "stream",
     "text": [
      "-> Run finished with values : [0.9269166588783264, 0.7827500104904175, 0.021250000223517418]\n",
      "========== Performance of SAM training across 5 independent runs ==========\n",
      "Clean Accuracy : 0.9266 (std 0.0036)\n",
      "FGSM Accuracy : 0.7844 (std 0.0209)\n",
      "Certified Adversarial Accuracy : 0.0490 (std 0.0448)\n"
     ]
    }
   ],
   "source": [
    "# Setting random seeds for reproducibility\n",
    "torch.manual_seed(0)\n",
    "torch.cuda.manual_seed(0)\n",
    "torch.backends.cudnn.deterministic = True\n",
    "\n",
    "def runSAM() -> list[float]:\n",
    "    h_model = None\n",
    "    trainer = None\n",
    "    restart = True \n",
    "    while restart: # Restarts if bad initialization leads to no convergences at beginning of training (doesn't happen very often)\n",
    "        h_model = get_model(output_dim=10)\n",
    "        trainer = SAMTrainer(h_model, device=DEVICE)  \n",
    "        restart = not trainer.train(\n",
    "            mnist_train, mnist_val, loss_obj=0.0, max_iters=700,batch_size=64, lr=1e-3, rho=0.05, adaptive=False\n",
    "        )\n",
    "    h_model = Safebox.bmodelToModel(trainer.result()) # evaluate center model \n",
    "    return evaluate_model(h_model, mnist_test,epsilon_fgsm=MNIST_EPSILON_FGSM, epsilon_cert_adv=MNIST_EPSILON_CERT_ADV, data_domain=MNIST_DATA_DOMAIN)\n",
    "means, stds, all_runs = evaluate_run(runSAM, N_RUNS)\n",
    "print(\"=\"*10, f\"Performance of SAM training across {N_RUNS} independent runs\", \"=\"*10)\n",
    "print(f\"Clean Accuracy : {means[0]:.4f} (std {stds[0]:.4f})\")\n",
    "print(f\"FGSM Accuracy : {means[1]:.4f} (std {stds[1]:.4f})\")\n",
    "print(f\"Certified Adversarial Accuracy : {means[2]:.4f} (std {stds[2]:.4f})\")\n",
    "\n",
    "mnist_means_dict[SAM] = means\n",
    "mnist_stds_dict[SAM] = stds\n",
    "#print(\"All runs : \", all_runs)"
   ],
   "metadata": {
    "collapsed": false,
    "ExecuteTime": {
     "end_time": "2025-06-08T20:44:25.011002Z",
     "start_time": "2025-06-08T20:42:15.927422Z"
    }
   },
   "id": "b26839f8db16d957",
   "execution_count": 16
  },
  {
   "cell_type": "markdown",
   "id": "4ea499cdfaa4a48e",
   "metadata": {
    "collapsed": false
   },
   "source": [
    "#### CSAM (Ours)"
   ]
  },
  {
   "cell_type": "code",
   "execution_count": 17,
   "id": "73a8ae9c9a8cb955",
   "metadata": {
    "collapsed": false,
    "ExecuteTime": {
     "end_time": "2025-06-08T20:48:42.490783Z",
     "start_time": "2025-06-08T20:44:25.012007Z"
    }
   },
   "outputs": [
    {
     "name": "stdout",
     "output_type": "stream",
     "text": [
      " ---------- Starting Run #0 ---------- \n",
      "========== Started Multiphase Trainer for 7 phases ==========\n",
      "First time train is called. Initial training phase started with volume 5e-05.\n"
     ]
    },
    {
     "name": "stderr",
     "output_type": "stream",
     "text": [
      "100%|██████████| 100/100 [00:04<00:00, 24.50it/s, loss=0.734, min_val_acc=0.819]\n"
     ]
    },
    {
     "name": "stdout",
     "output_type": "stream",
     "text": [
      "=> Initial center accuracy is 0.8604000210762024\n",
      "-> Starting phase 6\n",
      "-> Current Volume interval : [5e-05, INFINITY]\n"
     ]
    },
    {
     "name": "stderr",
     "output_type": "stream",
     "text": [
      "100%|██████████| 100/100 [00:04<00:00, 22.65it/s, loss=0.268, min_val_acc=0.876]\n"
     ]
    },
    {
     "name": "stdout",
     "output_type": "stream",
     "text": [
      "-> Phase done\n",
      "-> Center Accuracy is 0.8899999856948853.\n",
      "-> Generalization is above minimum accuracy by 0.10999998569488523.!\n",
      "-> Starting phase 6\n",
      "-> Current Volume interval : [0.0001, INFINITY]\n"
     ]
    },
    {
     "name": "stderr",
     "output_type": "stream",
     "text": [
      "100%|██████████| 100/100 [00:04<00:00, 23.09it/s, loss=0.536, min_val_acc=0.869]\n"
     ]
    },
    {
     "name": "stdout",
     "output_type": "stream",
     "text": [
      "-> Phase done\n",
      "-> Center Accuracy is 0.9006999731063843.\n",
      "-> Generalization is above minimum accuracy by 0.12069997310638425.!\n",
      "-> Starting phase 6\n",
      "-> Current Volume interval : [0.0002, INFINITY]\n"
     ]
    },
    {
     "name": "stderr",
     "output_type": "stream",
     "text": [
      "100%|██████████| 100/100 [00:04<00:00, 22.63it/s, loss=0.478, min_val_acc=0.85]\n"
     ]
    },
    {
     "name": "stdout",
     "output_type": "stream",
     "text": [
      "-> Phase done\n",
      "-> Center Accuracy is 0.9129999876022339.\n",
      "-> Generalization is above minimum accuracy by 0.13299998760223386.!\n",
      "-> Starting phase 6\n",
      "-> Current Volume interval : [0.0004, INFINITY]\n"
     ]
    },
    {
     "name": "stderr",
     "output_type": "stream",
     "text": [
      "100%|██████████| 100/100 [00:03<00:00, 25.17it/s, loss=0.8, min_val_acc=0.817] \n"
     ]
    },
    {
     "name": "stdout",
     "output_type": "stream",
     "text": [
      "-> Phase done\n",
      "-> Center Accuracy is 0.9143000245094299.\n",
      "-> Generalization is above minimum accuracy by 0.1343000245094299.!\n",
      "-> Starting phase 6\n",
      "-> Current Volume interval : [0.0008, INFINITY]\n"
     ]
    },
    {
     "name": "stderr",
     "output_type": "stream",
     "text": [
      "100%|██████████| 100/100 [00:04<00:00, 23.47it/s, loss=0.853, min_val_acc=0.754]\n"
     ]
    },
    {
     "name": "stdout",
     "output_type": "stream",
     "text": [
      "-> Phase done\n",
      "-> Center Accuracy is 0.9143999814987183.\n",
      "-> Generalization is above minimum accuracy by 0.13439998149871824.!\n",
      "-> Starting phase 6\n",
      "-> Current Volume interval : [0.0016, INFINITY]\n"
     ]
    },
    {
     "name": "stderr",
     "output_type": "stream",
     "text": [
      "100%|██████████| 100/100 [00:04<00:00, 22.75it/s, loss=1.36, min_val_acc=0.58]\n"
     ]
    },
    {
     "name": "stdout",
     "output_type": "stream",
     "text": [
      "-> Phase done\n",
      "-> Center Accuracy is 0.9014999866485596.\n",
      "-> Generalization is above minimum accuracy by 0.12149998664855954.!\n",
      "Training succeeded !\n",
      "-> Run finished with values : [0.8922500014305115, 0.8034166693687439, 0.8138332962989807]\n",
      " ---------- Starting Run #1 ---------- \n",
      "========== Started Multiphase Trainer for 7 phases ==========\n",
      "First time train is called. Initial training phase started with volume 5e-05.\n"
     ]
    },
    {
     "name": "stderr",
     "output_type": "stream",
     "text": [
      "100%|██████████| 100/100 [00:03<00:00, 25.92it/s, loss=0.397, min_val_acc=0.845]\n"
     ]
    },
    {
     "name": "stdout",
     "output_type": "stream",
     "text": [
      "=> Initial center accuracy is 0.8536999821662903\n",
      "-> Starting phase 6\n",
      "-> Current Volume interval : [5e-05, INFINITY]\n"
     ]
    },
    {
     "name": "stderr",
     "output_type": "stream",
     "text": [
      "100%|██████████| 100/100 [00:04<00:00, 24.63it/s, loss=0.239, min_val_acc=0.889]\n"
     ]
    },
    {
     "name": "stdout",
     "output_type": "stream",
     "text": [
      "-> Phase done\n",
      "-> Center Accuracy is 0.8985999822616577.\n",
      "-> Generalization is above minimum accuracy by 0.11859998226165769.!\n",
      "-> Starting phase 6\n",
      "-> Current Volume interval : [0.0001, INFINITY]\n"
     ]
    },
    {
     "name": "stderr",
     "output_type": "stream",
     "text": [
      "100%|██████████| 100/100 [00:04<00:00, 23.14it/s, loss=0.665, min_val_acc=0.874]\n"
     ]
    },
    {
     "name": "stdout",
     "output_type": "stream",
     "text": [
      "-> Phase done\n",
      "-> Center Accuracy is 0.9075999855995178.\n",
      "-> Generalization is above minimum accuracy by 0.1275999855995178.!\n",
      "-> Starting phase 6\n",
      "-> Current Volume interval : [0.0002, INFINITY]\n"
     ]
    },
    {
     "name": "stderr",
     "output_type": "stream",
     "text": [
      "100%|██████████| 100/100 [00:04<00:00, 22.71it/s, loss=0.462, min_val_acc=0.856]\n"
     ]
    },
    {
     "name": "stdout",
     "output_type": "stream",
     "text": [
      "-> Phase done\n",
      "-> Center Accuracy is 0.9103999733924866.\n",
      "-> Generalization is above minimum accuracy by 0.13039997339248655.!\n",
      "-> Starting phase 6\n",
      "-> Current Volume interval : [0.0004, INFINITY]\n"
     ]
    },
    {
     "name": "stderr",
     "output_type": "stream",
     "text": [
      "100%|██████████| 100/100 [00:03<00:00, 25.18it/s, loss=0.462, min_val_acc=0.833]\n"
     ]
    },
    {
     "name": "stdout",
     "output_type": "stream",
     "text": [
      "-> Phase done\n",
      "-> Center Accuracy is 0.9158999919891357.\n",
      "-> Generalization is above minimum accuracy by 0.13589999198913572.!\n",
      "-> Starting phase 6\n",
      "-> Current Volume interval : [0.0008, INFINITY]\n"
     ]
    },
    {
     "name": "stderr",
     "output_type": "stream",
     "text": [
      "100%|██████████| 100/100 [00:04<00:00, 23.87it/s, loss=0.814, min_val_acc=0.778]\n"
     ]
    },
    {
     "name": "stdout",
     "output_type": "stream",
     "text": [
      "-> Phase done\n",
      "-> Center Accuracy is 0.9157000184059143.\n",
      "-> Generalization is above minimum accuracy by 0.13570001840591428.!\n",
      "-> Starting phase 6\n",
      "-> Current Volume interval : [0.0016, INFINITY]\n"
     ]
    },
    {
     "name": "stderr",
     "output_type": "stream",
     "text": [
      "100%|██████████| 100/100 [00:04<00:00, 23.62it/s, loss=1.82, min_val_acc=0.588]\n"
     ]
    },
    {
     "name": "stdout",
     "output_type": "stream",
     "text": [
      "-> Phase done\n",
      "-> Center Accuracy is 0.9082000255584717.\n",
      "-> Generalization is above minimum accuracy by 0.12820002555847165.!\n",
      "Training succeeded !\n",
      "-> Run finished with values : [0.8998333215713501, 0.812416672706604, 0.8199166655540466]\n",
      " ---------- Starting Run #2 ---------- \n",
      "========== Started Multiphase Trainer for 7 phases ==========\n",
      "First time train is called. Initial training phase started with volume 5e-05.\n"
     ]
    },
    {
     "name": "stderr",
     "output_type": "stream",
     "text": [
      "100%|██████████| 100/100 [00:03<00:00, 26.25it/s, loss=0.799, min_val_acc=0.699]\n"
     ]
    },
    {
     "name": "stdout",
     "output_type": "stream",
     "text": [
      "=> Initial center accuracy is 0.8521000146865845\n",
      "-> Starting phase 6\n",
      "-> Current Volume interval : [5e-05, INFINITY]\n"
     ]
    },
    {
     "name": "stderr",
     "output_type": "stream",
     "text": [
      "100%|██████████| 100/100 [00:04<00:00, 23.52it/s, loss=0.738, min_val_acc=0.887]\n"
     ]
    },
    {
     "name": "stdout",
     "output_type": "stream",
     "text": [
      "-> Phase done\n",
      "-> Center Accuracy is 0.9056000113487244.\n",
      "-> Generalization is above minimum accuracy by 0.12560001134872434.!\n",
      "-> Starting phase 6\n",
      "-> Current Volume interval : [0.0001, INFINITY]\n"
     ]
    },
    {
     "name": "stderr",
     "output_type": "stream",
     "text": [
      "100%|██████████| 100/100 [00:04<00:00, 23.25it/s, loss=0.33, min_val_acc=0.893]\n"
     ]
    },
    {
     "name": "stdout",
     "output_type": "stream",
     "text": [
      "-> Phase done\n",
      "-> Center Accuracy is 0.9171000123023987.\n",
      "-> Generalization is above minimum accuracy by 0.13710001230239865.!\n",
      "-> Starting phase 6\n",
      "-> Current Volume interval : [0.0002, INFINITY]\n"
     ]
    },
    {
     "name": "stderr",
     "output_type": "stream",
     "text": [
      "100%|██████████| 100/100 [00:04<00:00, 22.69it/s, loss=0.508, min_val_acc=0.876]\n"
     ]
    },
    {
     "name": "stdout",
     "output_type": "stream",
     "text": [
      "-> Phase done\n",
      "-> Center Accuracy is 0.9222999811172485.\n",
      "-> Generalization is above minimum accuracy by 0.1422999811172485.!\n",
      "-> Starting phase 6\n",
      "-> Current Volume interval : [0.0004, INFINITY]\n"
     ]
    },
    {
     "name": "stderr",
     "output_type": "stream",
     "text": [
      "100%|██████████| 100/100 [00:04<00:00, 24.88it/s, loss=0.485, min_val_acc=0.837]\n"
     ]
    },
    {
     "name": "stdout",
     "output_type": "stream",
     "text": [
      "-> Phase done\n",
      "-> Center Accuracy is 0.9251999855041504.\n",
      "-> Generalization is above minimum accuracy by 0.14519998550415036.!\n",
      "-> Starting phase 6\n",
      "-> Current Volume interval : [0.0008, INFINITY]\n"
     ]
    },
    {
     "name": "stderr",
     "output_type": "stream",
     "text": [
      "100%|██████████| 100/100 [00:04<00:00, 24.41it/s, loss=0.998, min_val_acc=0.742]\n"
     ]
    },
    {
     "name": "stdout",
     "output_type": "stream",
     "text": [
      "-> Phase done\n",
      "-> Center Accuracy is 0.9222999811172485.\n",
      "-> Generalization is above minimum accuracy by 0.1422999811172485.!\n",
      "-> Starting phase 6\n",
      "-> Current Volume interval : [0.0016, INFINITY]\n"
     ]
    },
    {
     "name": "stderr",
     "output_type": "stream",
     "text": [
      "100%|██████████| 100/100 [00:04<00:00, 23.79it/s, loss=1.56, min_val_acc=0.572]\n"
     ]
    },
    {
     "name": "stdout",
     "output_type": "stream",
     "text": [
      "-> Phase done\n",
      "-> Center Accuracy is 0.9003999829292297.\n",
      "-> Generalization is above minimum accuracy by 0.12039998292922971.!\n",
      "Training succeeded !\n",
      "-> Run finished with values : [0.8948333263397217, 0.796750009059906, 0.8031666874885559]\n",
      " ---------- Starting Run #3 ---------- \n",
      "========== Started Multiphase Trainer for 7 phases ==========\n",
      "First time train is called. Initial training phase started with volume 5e-05.\n"
     ]
    },
    {
     "name": "stderr",
     "output_type": "stream",
     "text": [
      "100%|██████████| 100/100 [00:03<00:00, 25.69it/s, loss=0.361, min_val_acc=0.835]\n"
     ]
    },
    {
     "name": "stdout",
     "output_type": "stream",
     "text": [
      "=> Initial center accuracy is 0.871399998664856\n",
      "-> Starting phase 6\n",
      "-> Current Volume interval : [5e-05, INFINITY]\n"
     ]
    },
    {
     "name": "stderr",
     "output_type": "stream",
     "text": [
      "100%|██████████| 100/100 [00:04<00:00, 23.95it/s, loss=0.543, min_val_acc=0.87]\n"
     ]
    },
    {
     "name": "stdout",
     "output_type": "stream",
     "text": [
      "-> Phase done\n",
      "-> Center Accuracy is 0.9050999879837036.\n",
      "-> Generalization is above minimum accuracy by 0.1250999879837036.!\n",
      "-> Starting phase 6\n",
      "-> Current Volume interval : [0.0001, INFINITY]\n"
     ]
    },
    {
     "name": "stderr",
     "output_type": "stream",
     "text": [
      "100%|██████████| 100/100 [00:04<00:00, 22.65it/s, loss=0.467, min_val_acc=0.878]\n"
     ]
    },
    {
     "name": "stdout",
     "output_type": "stream",
     "text": [
      "-> Phase done\n",
      "-> Center Accuracy is 0.921999990940094.\n",
      "-> Generalization is above minimum accuracy by 0.14199999094009397.!\n",
      "-> Starting phase 6\n",
      "-> Current Volume interval : [0.0002, INFINITY]\n"
     ]
    },
    {
     "name": "stderr",
     "output_type": "stream",
     "text": [
      "100%|██████████| 100/100 [00:04<00:00, 23.21it/s, loss=0.5, min_val_acc=0.868] \n"
     ]
    },
    {
     "name": "stdout",
     "output_type": "stream",
     "text": [
      "-> Phase done\n",
      "-> Center Accuracy is 0.9205999970436096.\n",
      "-> Generalization is above minimum accuracy by 0.1405999970436096.!\n",
      "-> Starting phase 6\n",
      "-> Current Volume interval : [0.0004, INFINITY]\n"
     ]
    },
    {
     "name": "stderr",
     "output_type": "stream",
     "text": [
      "100%|██████████| 100/100 [00:03<00:00, 25.13it/s, loss=0.337, min_val_acc=0.842]\n"
     ]
    },
    {
     "name": "stdout",
     "output_type": "stream",
     "text": [
      "-> Phase done\n",
      "-> Center Accuracy is 0.9265999794006348.\n",
      "-> Generalization is above minimum accuracy by 0.14659997940063474.!\n",
      "-> Starting phase 6\n",
      "-> Current Volume interval : [0.0008, INFINITY]\n"
     ]
    },
    {
     "name": "stderr",
     "output_type": "stream",
     "text": [
      "100%|██████████| 100/100 [00:04<00:00, 22.46it/s, loss=0.985, min_val_acc=0.787]\n"
     ]
    },
    {
     "name": "stdout",
     "output_type": "stream",
     "text": [
      "-> Phase done\n",
      "-> Center Accuracy is 0.9222000241279602.\n",
      "-> Generalization is above minimum accuracy by 0.14220002412796018.!\n",
      "-> Starting phase 6\n",
      "-> Current Volume interval : [0.0016, INFINITY]\n"
     ]
    },
    {
     "name": "stderr",
     "output_type": "stream",
     "text": [
      "100%|██████████| 100/100 [00:04<00:00, 22.50it/s, loss=1.01, min_val_acc=0.642]\n"
     ]
    },
    {
     "name": "stdout",
     "output_type": "stream",
     "text": [
      "-> Phase done\n",
      "-> Center Accuracy is 0.9090999960899353.\n",
      "-> Generalization is above minimum accuracy by 0.12909999608993528.!\n",
      "Training succeeded !\n",
      "-> Run finished with values : [0.9004166722297668, 0.8109999895095825, 0.8227499723434448]\n",
      " ---------- Starting Run #4 ---------- \n",
      "========== Started Multiphase Trainer for 7 phases ==========\n",
      "First time train is called. Initial training phase started with volume 5e-05.\n"
     ]
    },
    {
     "name": "stderr",
     "output_type": "stream",
     "text": [
      "100%|██████████| 100/100 [00:04<00:00, 24.94it/s, loss=2.3, min_val_acc=0.114]\n"
     ]
    },
    {
     "name": "stdout",
     "output_type": "stream",
     "text": [
      "=> Initial center accuracy is 0.11349999904632568\n",
      "Initial accuracy is below min accuracy threshold by 0.6665000009536743. Training failed.\n",
      "========== Started Multiphase Trainer for 7 phases ==========\n",
      "First time train is called. Initial training phase started with volume 5e-05.\n"
     ]
    },
    {
     "name": "stderr",
     "output_type": "stream",
     "text": [
      "100%|██████████| 100/100 [00:04<00:00, 24.30it/s, loss=2.3, min_val_acc=0.103]\n"
     ]
    },
    {
     "name": "stdout",
     "output_type": "stream",
     "text": [
      "=> Initial center accuracy is 0.10090000182390213\n",
      "Initial accuracy is below min accuracy threshold by 0.6790999981760979. Training failed.\n",
      "========== Started Multiphase Trainer for 7 phases ==========\n",
      "First time train is called. Initial training phase started with volume 5e-05.\n"
     ]
    },
    {
     "name": "stderr",
     "output_type": "stream",
     "text": [
      "100%|██████████| 100/100 [00:04<00:00, 24.68it/s, loss=2.31, min_val_acc=0.0915]\n"
     ]
    },
    {
     "name": "stdout",
     "output_type": "stream",
     "text": [
      "=> Initial center accuracy is 0.10100000351667404\n",
      "Initial accuracy is below min accuracy threshold by 0.678999996483326. Training failed.\n",
      "========== Started Multiphase Trainer for 7 phases ==========\n",
      "First time train is called. Initial training phase started with volume 5e-05.\n"
     ]
    },
    {
     "name": "stderr",
     "output_type": "stream",
     "text": [
      "100%|██████████| 100/100 [00:04<00:00, 24.14it/s, loss=0.363, min_val_acc=0.834]\n"
     ]
    },
    {
     "name": "stdout",
     "output_type": "stream",
     "text": [
      "=> Initial center accuracy is 0.8715000152587891\n",
      "-> Starting phase 6\n",
      "-> Current Volume interval : [5e-05, INFINITY]\n"
     ]
    },
    {
     "name": "stderr",
     "output_type": "stream",
     "text": [
      "100%|██████████| 100/100 [00:04<00:00, 23.99it/s, loss=0.27, min_val_acc=0.898]\n"
     ]
    },
    {
     "name": "stdout",
     "output_type": "stream",
     "text": [
      "-> Phase done\n",
      "-> Center Accuracy is 0.9096999764442444.\n",
      "-> Generalization is above minimum accuracy by 0.12969997644424436.!\n",
      "-> Starting phase 6\n",
      "-> Current Volume interval : [0.0001, INFINITY]\n"
     ]
    },
    {
     "name": "stderr",
     "output_type": "stream",
     "text": [
      "100%|██████████| 100/100 [00:04<00:00, 23.61it/s, loss=0.306, min_val_acc=0.908]\n"
     ]
    },
    {
     "name": "stdout",
     "output_type": "stream",
     "text": [
      "-> Phase done\n",
      "-> Center Accuracy is 0.9240000247955322.\n",
      "-> Generalization is above minimum accuracy by 0.1440000247955322.!\n",
      "-> Starting phase 6\n",
      "-> Current Volume interval : [0.0002, INFINITY]\n"
     ]
    },
    {
     "name": "stderr",
     "output_type": "stream",
     "text": [
      "100%|██████████| 100/100 [00:04<00:00, 23.69it/s, loss=0.754, min_val_acc=0.9] \n"
     ]
    },
    {
     "name": "stdout",
     "output_type": "stream",
     "text": [
      "-> Phase done\n",
      "-> Center Accuracy is 0.9337000250816345.\n",
      "-> Generalization is above minimum accuracy by 0.1537000250816345.!\n",
      "-> Starting phase 6\n",
      "-> Current Volume interval : [0.0004, INFINITY]\n"
     ]
    },
    {
     "name": "stderr",
     "output_type": "stream",
     "text": [
      "100%|██████████| 100/100 [00:03<00:00, 25.21it/s, loss=0.635, min_val_acc=0.872]\n"
     ]
    },
    {
     "name": "stdout",
     "output_type": "stream",
     "text": [
      "-> Phase done\n",
      "-> Center Accuracy is 0.9337000250816345.\n",
      "-> Generalization is above minimum accuracy by 0.1537000250816345.!\n",
      "-> Starting phase 6\n",
      "-> Current Volume interval : [0.0008, INFINITY]\n"
     ]
    },
    {
     "name": "stderr",
     "output_type": "stream",
     "text": [
      "100%|██████████| 100/100 [00:04<00:00, 23.51it/s, loss=0.735, min_val_acc=0.834]\n"
     ]
    },
    {
     "name": "stdout",
     "output_type": "stream",
     "text": [
      "-> Phase done\n",
      "-> Center Accuracy is 0.9283000230789185.\n",
      "-> Generalization is above minimum accuracy by 0.14830002307891843.!\n",
      "-> Starting phase 6\n",
      "-> Current Volume interval : [0.0016, INFINITY]\n"
     ]
    },
    {
     "name": "stderr",
     "output_type": "stream",
     "text": [
      "100%|██████████| 100/100 [00:04<00:00, 23.57it/s, loss=0.967, min_val_acc=0.712]\n"
     ]
    },
    {
     "name": "stdout",
     "output_type": "stream",
     "text": [
      "-> Phase done\n",
      "-> Center Accuracy is 0.9190000295639038.\n",
      "-> Generalization is above minimum accuracy by 0.13900002956390378.!\n",
      "Training succeeded !\n",
      "-> Run finished with values : [0.9100832939147949, 0.8218333125114441, 0.8296666741371155]\n",
      "========== Performance of Hypercube training across 5 independent runs ==========\n",
      "Clean Accuracy : 0.8995 (std 0.0068)\n",
      "FGSM Accuracy : 0.8091 (std 0.0095)\n",
      "Certified Adversarial Accuracy : 0.8179 (std 0.0100)\n"
     ]
    }
   ],
   "source": [
    "# Setting random seeds for reproducibility\n",
    "torch.manual_seed(0)\n",
    "torch.cuda.manual_seed(0)\n",
    "torch.backends.cudnn.deterministic = True\n",
    "\n",
    "def runHypercube() -> list[float]:\n",
    "    h_model = None\n",
    "    optimizer = None \n",
    "    multiphase_trainer = None \n",
    "    restart = True \n",
    "    while restart: # Restarts if bad initialization leads to no convergences at beginning of training (doesn't happen very often)\n",
    "        h_model = get_model(output_dim=10)\n",
    "        optimizer = HypercubeTrainer(h_model, device=DEVICE)\n",
    "        multiphase_trainer = ConstrainedVolumeMultiphaseTrainer(\n",
    "            optimizer, \n",
    "            inflate_function=interval_narrowers.inflate_multiplier(2.0),\n",
    "            # recovery mechanism, never used in practice. Hence, why it is not described in the report's pseudocode. Could be used for later work.\n",
    "            narrow_function=interval_narrowers.narrower_halver(0.5),\n",
    "            starting_value=1e-4*0.5, \n",
    "            min_acc_limit=0.78,\n",
    "            quiet=False\n",
    "        )\n",
    "        restart = not multiphase_trainer.train(\n",
    "            7, mnist_val,\n",
    "            mnist_train, mnist_val, loss_obj=0.0, max_iters=100, batch_size=64, lr=1e-3\n",
    "        )\n",
    "    h_model = Safebox.bmodelToModel(multiphase_trainer.result()) # evaluate center model \n",
    "    return evaluate_model(h_model, mnist_test,epsilon_fgsm=MNIST_EPSILON_FGSM, epsilon_cert_adv=MNIST_EPSILON_CERT_ADV, data_domain=MNIST_DATA_DOMAIN)\n",
    "means, stds, all_runs = evaluate_run(runHypercube, N_RUNS)\n",
    "print(\"=\"*10, f\"Performance of Hypercube training across {N_RUNS} independent runs\", \"=\"*10)\n",
    "print(f\"Clean Accuracy : {means[0]:.4f} (std {stds[0]:.4f})\")\n",
    "print(f\"FGSM Accuracy : {means[1]:.4f} (std {stds[1]:.4f})\")\n",
    "print(f\"Certified Adversarial Accuracy : {means[2]:.4f} (std {stds[2]:.4f})\")\n",
    "\n",
    "mnist_means_dict[HYPERCUBE] = means\n",
    "mnist_stds_dict[HYPERCUBE] = stds\n",
    "#print(\"All runs : \", all_runs)"
   ]
  },
  {
   "cell_type": "code",
   "execution_count": 32,
   "id": "0b20f854",
   "metadata": {
    "ExecuteTime": {
     "end_time": "2025-06-08T23:04:57.333991Z",
     "start_time": "2025-06-08T23:04:57.052605Z"
    }
   },
   "outputs": [
    {
     "data": {
      "text/plain": "<Figure size 640x480 with 1 Axes>",
      "image/png": "[encoded data removed]"
     },
     "metadata": {},
     "output_type": "display_data"
    }
   ],
   "source": [
    "fig, ax = plt.subplots()\n",
    "plotMethod(\n",
    "    #[mnist_means_dict[ADAM], mnist_means_dict[PGD], mnist_means_dict[HYPERCUBE]],\n",
    "    #[mnist_stds_dict[ADAM], mnist_stds_dict[PGD], mnist_stds_dict[HYPERCUBE]],\n",
    "    [mnist_means_dict[ADAM], mnist_means_dict[PGD], mnist_means_dict[SAM], mnist_means_dict[HYPERCUBE]],\n",
    "    [mnist_stds_dict[ADAM], mnist_stds_dict[PGD], mnist_stds_dict[SAM],  mnist_stds_dict[HYPERCUBE]],\n",
    "    ax\n",
    "    )"
   ]
  },
  {
   "cell_type": "markdown",
   "id": "32bcbe9e508bd20c",
   "metadata": {
    "collapsed": false
   },
   "source": [
    "### Fashion-MNIST"
   ]
  },
  {
   "cell_type": "markdown",
   "id": "84e94b53ba9c3c3c",
   "metadata": {
    "collapsed": false
   },
   "source": [
    "#### ADAM Baseline"
   ]
  },
  {
   "cell_type": "code",
   "execution_count": 19,
   "id": "423a2b57e9fe5519",
   "metadata": {
    "collapsed": false,
    "ExecuteTime": {
     "end_time": "2025-06-08T21:02:56.935953Z",
     "start_time": "2025-06-08T20:48:42.785782Z"
    }
   },
   "outputs": [
    {
     "name": "stdout",
     "output_type": "stream",
     "text": [
      " ---------- Starting Run #0 ---------- \n"
     ]
    },
    {
     "name": "stderr",
     "output_type": "stream",
     "text": [
      "100%|██████████| 7000/7000 [02:44<00:00, 42.63it/s, loss=0.484, val_acc=0.858]\n"
     ]
    },
    {
     "name": "stdout",
     "output_type": "stream",
     "text": [
      "-> Run finished with values : [0.8647499680519104, 0.140666663646698, 0.0]\n",
      " ---------- Starting Run #1 ---------- \n"
     ]
    },
    {
     "name": "stderr",
     "output_type": "stream",
     "text": [
      "100%|██████████| 7000/7000 [02:44<00:00, 42.56it/s, loss=0.326, val_acc=0.869]\n"
     ]
    },
    {
     "name": "stdout",
     "output_type": "stream",
     "text": [
      "-> Run finished with values : [0.8729999661445618, 0.10266666859388351, 0.0]\n",
      " ---------- Starting Run #2 ---------- \n"
     ]
    },
    {
     "name": "stderr",
     "output_type": "stream",
     "text": [
      "100%|██████████| 7000/7000 [02:46<00:00, 42.08it/s, loss=0.261, val_acc=0.859]\n"
     ]
    },
    {
     "name": "stdout",
     "output_type": "stream",
     "text": [
      "-> Run finished with values : [0.85916668176651, 0.19741666316986084, 0.0]\n",
      " ---------- Starting Run #3 ---------- \n"
     ]
    },
    {
     "name": "stderr",
     "output_type": "stream",
     "text": [
      "100%|██████████| 7000/7000 [02:48<00:00, 41.55it/s, loss=0.703, val_acc=0.856]\n"
     ]
    },
    {
     "name": "stdout",
     "output_type": "stream",
     "text": [
      "-> Run finished with values : [0.8571666479110718, 0.132833331823349, 0.0]\n",
      " ---------- Starting Run #4 ---------- \n"
     ]
    },
    {
     "name": "stderr",
     "output_type": "stream",
     "text": [
      "100%|██████████| 7000/7000 [02:40<00:00, 43.58it/s, loss=0.291, val_acc=0.864] \n"
     ]
    },
    {
     "name": "stdout",
     "output_type": "stream",
     "text": [
      "-> Run finished with values : [0.8646666407585144, 0.18050000071525574, 0.0]\n",
      "========== Performance of Adam across 5 independent runs ==========\n",
      "Clean Accuracy : 0.8637 (std 0.0062)\n",
      "FGSM Accuracy : 0.1508 (std 0.0381)\n",
      "Certified Adversarial Accuracy : 0.0000 (std 0.0000)\n"
     ]
    }
   ],
   "source": [
    "# Setting random seeds for reproducibility\n",
    "torch.manual_seed(0)\n",
    "torch.cuda.manual_seed(0)\n",
    "torch.backends.cudnn.deterministic = True\n",
    "\n",
    "def runAdam() -> list[float]:\n",
    "    restart = True \n",
    "    trainer = None \n",
    "    while restart:\n",
    "        adam_model = get_model()        \n",
    "        trainer = SimpleTrainer(adam_model, device=DEVICE, quiet=False, acc_evaluation_steps=200)\n",
    "        restart = not trainer.train(fashion_mnist_train, fashion_mnist_val, loss_obj=0.0, max_iters=7000, batch_size=64, lr=1e-3)\n",
    "    adam_model = trainer.result()\n",
    "    return evaluate_model(adam_model, fashion_mnist_test,epsilon_fgsm=MNIST_EPSILON_FGSM, epsilon_cert_adv=MNIST_EPSILON_CERT_ADV, data_domain=MNIST_DATA_DOMAIN)\n",
    "means, stds, all_runs = evaluate_run(runAdam, N_RUNS)\n",
    "print(\"=\"*10, f\"Performance of Adam across {N_RUNS} independent runs\", \"=\"*10)\n",
    "print(f\"Clean Accuracy : {means[0]:.4f} (std {stds[0]:.4f})\")\n",
    "print(f\"FGSM Accuracy : {means[1]:.4f} (std {stds[1]:.4f})\")\n",
    "print(f\"Certified Adversarial Accuracy : {means[2]:.4f} (std {stds[2]:.4f})\")\n",
    "\n",
    "fashion_mnist_means_dict[ADAM] = means\n",
    "fashion_mnist_stds_dict[ADAM] = stds\n",
    "\n",
    "#print(\"All runs : \", all_runs)"
   ]
  },
  {
   "cell_type": "markdown",
   "id": "a1b3b0d8eaa6baf7",
   "metadata": {
    "collapsed": false
   },
   "source": [
    "#### PGD Baseline"
   ]
  },
  {
   "cell_type": "code",
   "execution_count": 20,
   "id": "d4aa041c4cd34995",
   "metadata": {
    "collapsed": false,
    "ExecuteTime": {
     "end_time": "2025-06-08T22:10:43.006215Z",
     "start_time": "2025-06-08T21:02:56.936958Z"
    }
   },
   "outputs": [
    {
     "name": "stdout",
     "output_type": "stream",
     "text": [
      " ---------- Starting Run #0 ---------- \n"
     ]
    },
    {
     "name": "stderr",
     "output_type": "stream",
     "text": [
      "  1%|▏         | 101/7000 [00:08<09:39, 11.90it/s, loss=2.3, val_acc=0.141] \n"
     ]
    },
    {
     "name": "stdout",
     "output_type": "stream",
     "text": [
      "Bad Initialization detected. Interrupted Training.\n"
     ]
    },
    {
     "name": "stderr",
     "output_type": "stream",
     "text": [
      "100%|██████████| 7000/7000 [10:19<00:00, 11.29it/s, loss=0.933, val_acc=0.75] \n"
     ]
    },
    {
     "name": "stdout",
     "output_type": "stream",
     "text": [
      "-> Run finished with values : [0.7665833234786987, 0.7307499647140503, 0.23549999296665192]\n",
      " ---------- Starting Run #1 ---------- \n"
     ]
    },
    {
     "name": "stderr",
     "output_type": "stream",
     "text": [
      "  1%|▏         | 101/7000 [00:08<10:03, 11.42it/s, loss=2.3, val_acc=0.109] \n"
     ]
    },
    {
     "name": "stdout",
     "output_type": "stream",
     "text": [
      "Bad Initialization detected. Interrupted Training.\n"
     ]
    },
    {
     "name": "stderr",
     "output_type": "stream",
     "text": [
      "  1%|▏         | 101/7000 [00:10<11:24, 10.08it/s, loss=2.3, val_acc=0.0938] \n"
     ]
    },
    {
     "name": "stdout",
     "output_type": "stream",
     "text": [
      "Bad Initialization detected. Interrupted Training.\n"
     ]
    },
    {
     "name": "stderr",
     "output_type": "stream",
     "text": [
      "  1%|▏         | 101/7000 [00:10<11:24, 10.08it/s, loss=2.3, val_acc=0.0938]\n"
     ]
    },
    {
     "name": "stdout",
     "output_type": "stream",
     "text": [
      "Bad Initialization detected. Interrupted Training.\n"
     ]
    },
    {
     "name": "stderr",
     "output_type": "stream",
     "text": [
      "  1%|▏         | 101/7000 [00:10<11:39,  9.86it/s, loss=2.3, val_acc=0.0781]\n"
     ]
    },
    {
     "name": "stdout",
     "output_type": "stream",
     "text": [
      "Bad Initialization detected. Interrupted Training.\n"
     ]
    },
    {
     "name": "stderr",
     "output_type": "stream",
     "text": [
      "  1%|▏         | 101/7000 [00:10<11:28, 10.02it/s, loss=2.31, val_acc=0.0781]\n"
     ]
    },
    {
     "name": "stdout",
     "output_type": "stream",
     "text": [
      "Bad Initialization detected. Interrupted Training.\n"
     ]
    },
    {
     "name": "stderr",
     "output_type": "stream",
     "text": [
      "  1%|▏         | 101/7000 [00:08<10:04, 11.40it/s, loss=2.31, val_acc=0.0938]\n"
     ]
    },
    {
     "name": "stdout",
     "output_type": "stream",
     "text": [
      "Bad Initialization detected. Interrupted Training.\n"
     ]
    },
    {
     "name": "stderr",
     "output_type": "stream",
     "text": [
      "  1%|▏         | 101/7000 [00:08<10:04, 11.40it/s, loss=2.3, val_acc=0.0781]\n"
     ]
    },
    {
     "name": "stdout",
     "output_type": "stream",
     "text": [
      "Bad Initialization detected. Interrupted Training.\n"
     ]
    },
    {
     "name": "stderr",
     "output_type": "stream",
     "text": [
      "  1%|▏         | 101/7000 [00:08<10:11, 11.28it/s, loss=2.3, val_acc=0.0938]\n"
     ]
    },
    {
     "name": "stdout",
     "output_type": "stream",
     "text": [
      "Bad Initialization detected. Interrupted Training.\n"
     ]
    },
    {
     "name": "stderr",
     "output_type": "stream",
     "text": [
      "  1%|▏         | 101/7000 [00:08<10:11, 11.28it/s, loss=2.3, val_acc=0.109] \n"
     ]
    },
    {
     "name": "stdout",
     "output_type": "stream",
     "text": [
      "Bad Initialization detected. Interrupted Training.\n"
     ]
    },
    {
     "name": "stderr",
     "output_type": "stream",
     "text": [
      "  1%|▏         | 101/7000 [00:08<10:13, 11.24it/s, loss=2.3, val_acc=0.141] \n"
     ]
    },
    {
     "name": "stdout",
     "output_type": "stream",
     "text": [
      "Bad Initialization detected. Interrupted Training.\n"
     ]
    },
    {
     "name": "stderr",
     "output_type": "stream",
     "text": [
      "  1%|▏         | 101/7000 [00:09<10:18, 11.16it/s, loss=2.3, val_acc=0.0781]\n"
     ]
    },
    {
     "name": "stdout",
     "output_type": "stream",
     "text": [
      "Bad Initialization detected. Interrupted Training.\n"
     ]
    },
    {
     "name": "stderr",
     "output_type": "stream",
     "text": [
      "  1%|▏         | 101/7000 [00:09<10:35, 10.85it/s, loss=2.3, val_acc=0.0938]\n"
     ]
    },
    {
     "name": "stdout",
     "output_type": "stream",
     "text": [
      "Bad Initialization detected. Interrupted Training.\n"
     ]
    },
    {
     "name": "stderr",
     "output_type": "stream",
     "text": [
      "100%|██████████| 7000/7000 [11:23<00:00, 10.24it/s, loss=0.821, val_acc=0.797]\n"
     ]
    },
    {
     "name": "stdout",
     "output_type": "stream",
     "text": [
      "-> Run finished with values : [0.7598333358764648, 0.7224999666213989, 0.2835833430290222]\n",
      " ---------- Starting Run #2 ---------- \n"
     ]
    },
    {
     "name": "stderr",
     "output_type": "stream",
     "text": [
      "  1%|▏         | 101/7000 [00:10<11:25, 10.07it/s, loss=2.31, val_acc=0.0938]\n"
     ]
    },
    {
     "name": "stdout",
     "output_type": "stream",
     "text": [
      "Bad Initialization detected. Interrupted Training.\n"
     ]
    },
    {
     "name": "stderr",
     "output_type": "stream",
     "text": [
      "  1%|▏         | 101/7000 [00:09<11:21, 10.13it/s, loss=2.31, val_acc=0.0781]\n"
     ]
    },
    {
     "name": "stdout",
     "output_type": "stream",
     "text": [
      "Bad Initialization detected. Interrupted Training.\n"
     ]
    },
    {
     "name": "stderr",
     "output_type": "stream",
     "text": [
      "  1%|▏         | 101/7000 [00:10<11:25, 10.06it/s, loss=2.3, val_acc=0.0938] \n"
     ]
    },
    {
     "name": "stdout",
     "output_type": "stream",
     "text": [
      "Bad Initialization detected. Interrupted Training.\n"
     ]
    },
    {
     "name": "stderr",
     "output_type": "stream",
     "text": [
      "  1%|▏         | 101/7000 [00:09<11:17, 10.19it/s, loss=2.3, val_acc=0.109] \n"
     ]
    },
    {
     "name": "stdout",
     "output_type": "stream",
     "text": [
      "Bad Initialization detected. Interrupted Training.\n"
     ]
    },
    {
     "name": "stderr",
     "output_type": "stream",
     "text": [
      "  1%|▏         | 101/7000 [00:09<11:18, 10.17it/s, loss=2.3, val_acc=0.0469]\n"
     ]
    },
    {
     "name": "stdout",
     "output_type": "stream",
     "text": [
      "Bad Initialization detected. Interrupted Training.\n"
     ]
    },
    {
     "name": "stderr",
     "output_type": "stream",
     "text": [
      "  1%|▏         | 101/7000 [00:10<11:39,  9.87it/s, loss=2.31, val_acc=0.0938]\n"
     ]
    },
    {
     "name": "stdout",
     "output_type": "stream",
     "text": [
      "Bad Initialization detected. Interrupted Training.\n"
     ]
    },
    {
     "name": "stderr",
     "output_type": "stream",
     "text": [
      "  1%|▏         | 101/7000 [00:10<11:37,  9.90it/s, loss=2.31, val_acc=0.0781]\n"
     ]
    },
    {
     "name": "stdout",
     "output_type": "stream",
     "text": [
      "Bad Initialization detected. Interrupted Training.\n"
     ]
    },
    {
     "name": "stderr",
     "output_type": "stream",
     "text": [
      "  1%|▏         | 101/7000 [00:10<11:33,  9.95it/s, loss=2.31, val_acc=0.0938]\n"
     ]
    },
    {
     "name": "stdout",
     "output_type": "stream",
     "text": [
      "Bad Initialization detected. Interrupted Training.\n"
     ]
    },
    {
     "name": "stderr",
     "output_type": "stream",
     "text": [
      "  1%|▏         | 101/7000 [00:10<11:35,  9.92it/s, loss=2.3, val_acc=0.125] \n"
     ]
    },
    {
     "name": "stdout",
     "output_type": "stream",
     "text": [
      "Bad Initialization detected. Interrupted Training.\n"
     ]
    },
    {
     "name": "stderr",
     "output_type": "stream",
     "text": [
      "  1%|▏         | 101/7000 [00:10<11:31,  9.97it/s, loss=2.3, val_acc=0.0625] \n"
     ]
    },
    {
     "name": "stdout",
     "output_type": "stream",
     "text": [
      "Bad Initialization detected. Interrupted Training.\n"
     ]
    },
    {
     "name": "stderr",
     "output_type": "stream",
     "text": [
      "  1%|▏         | 101/7000 [00:10<11:29, 10.01it/s, loss=2.3, val_acc=0.109] \n"
     ]
    },
    {
     "name": "stdout",
     "output_type": "stream",
     "text": [
      "Bad Initialization detected. Interrupted Training.\n"
     ]
    },
    {
     "name": "stderr",
     "output_type": "stream",
     "text": [
      "  1%|▏         | 101/7000 [00:10<11:31,  9.98it/s, loss=2.3, val_acc=0.0625] \n"
     ]
    },
    {
     "name": "stdout",
     "output_type": "stream",
     "text": [
      "Bad Initialization detected. Interrupted Training.\n"
     ]
    },
    {
     "name": "stderr",
     "output_type": "stream",
     "text": [
      "  1%|▏         | 101/7000 [00:10<11:31,  9.98it/s, loss=2.3, val_acc=0.0938]\n"
     ]
    },
    {
     "name": "stdout",
     "output_type": "stream",
     "text": [
      "Bad Initialization detected. Interrupted Training.\n"
     ]
    },
    {
     "name": "stderr",
     "output_type": "stream",
     "text": [
      "  1%|▏         | 101/7000 [00:10<11:27, 10.03it/s, loss=2.3, val_acc=0.109] \n"
     ]
    },
    {
     "name": "stdout",
     "output_type": "stream",
     "text": [
      "Bad Initialization detected. Interrupted Training.\n"
     ]
    },
    {
     "name": "stderr",
     "output_type": "stream",
     "text": [
      "  1%|▏         | 101/7000 [00:10<11:33,  9.95it/s, loss=2.3, val_acc=0.125] \n"
     ]
    },
    {
     "name": "stdout",
     "output_type": "stream",
     "text": [
      "Bad Initialization detected. Interrupted Training.\n"
     ]
    },
    {
     "name": "stderr",
     "output_type": "stream",
     "text": [
      "  1%|▏         | 101/7000 [00:10<11:30, 10.00it/s, loss=2.3, val_acc=0.0781]\n"
     ]
    },
    {
     "name": "stdout",
     "output_type": "stream",
     "text": [
      "Bad Initialization detected. Interrupted Training.\n"
     ]
    },
    {
     "name": "stderr",
     "output_type": "stream",
     "text": [
      "  1%|▏         | 101/7000 [00:10<11:38,  9.88it/s, loss=2.3, val_acc=0.125]  \n"
     ]
    },
    {
     "name": "stdout",
     "output_type": "stream",
     "text": [
      "Bad Initialization detected. Interrupted Training.\n"
     ]
    },
    {
     "name": "stderr",
     "output_type": "stream",
     "text": [
      "  1%|▏         | 101/7000 [00:10<11:44,  9.79it/s, loss=2.3, val_acc=0.125] \n"
     ]
    },
    {
     "name": "stdout",
     "output_type": "stream",
     "text": [
      "Bad Initialization detected. Interrupted Training.\n"
     ]
    },
    {
     "name": "stderr",
     "output_type": "stream",
     "text": [
      "  1%|▏         | 101/7000 [00:10<11:38,  9.87it/s, loss=2.3, val_acc=0.109] \n"
     ]
    },
    {
     "name": "stdout",
     "output_type": "stream",
     "text": [
      "Bad Initialization detected. Interrupted Training.\n"
     ]
    },
    {
     "name": "stderr",
     "output_type": "stream",
     "text": [
      "100%|██████████| 7000/7000 [11:25<00:00, 10.21it/s, loss=0.79, val_acc=0.703] \n"
     ]
    },
    {
     "name": "stdout",
     "output_type": "stream",
     "text": [
      "-> Run finished with values : [0.7392500042915344, 0.6987500190734863, 0.2055833339691162]\n",
      " ---------- Starting Run #3 ---------- \n"
     ]
    },
    {
     "name": "stderr",
     "output_type": "stream",
     "text": [
      "100%|██████████| 7000/7000 [12:11<00:00,  9.56it/s, loss=0.815, val_acc=0.625]\n"
     ]
    },
    {
     "name": "stdout",
     "output_type": "stream",
     "text": [
      "-> Run finished with values : [0.7517499923706055, 0.7119166851043701, 0.12258332967758179]\n",
      " ---------- Starting Run #4 ---------- \n"
     ]
    },
    {
     "name": "stderr",
     "output_type": "stream",
     "text": [
      "  1%|▏         | 101/7000 [00:13<15:46,  7.29it/s, loss=2.31, val_acc=0.0312]\n"
     ]
    },
    {
     "name": "stdout",
     "output_type": "stream",
     "text": [
      "Bad Initialization detected. Interrupted Training.\n"
     ]
    },
    {
     "name": "stderr",
     "output_type": "stream",
     "text": [
      "  1%|▏         | 101/7000 [00:15<17:30,  6.56it/s, loss=2.3, val_acc=0.141] \n"
     ]
    },
    {
     "name": "stdout",
     "output_type": "stream",
     "text": [
      "Bad Initialization detected. Interrupted Training.\n"
     ]
    },
    {
     "name": "stderr",
     "output_type": "stream",
     "text": [
      "100%|██████████| 7000/7000 [16:07<00:00,  7.24it/s, loss=0.793, val_acc=0.75] \n"
     ]
    },
    {
     "name": "stdout",
     "output_type": "stream",
     "text": [
      "-> Run finished with values : [0.7672500014305115, 0.7305833101272583, 0.1929166615009308]\n",
      "========== Performance of PGD across 5 independent runs ==========\n",
      "Clean Accuracy : 0.7569 (std 0.0117)\n",
      "FGSM Accuracy : 0.7189 (std 0.0136)\n",
      "Certified Adversarial Accuracy : 0.2080 (std 0.0592)\n"
     ]
    }
   ],
   "source": [
    "# Setting random seeds for reproducibility\n",
    "torch.manual_seed(0)\n",
    "torch.cuda.manual_seed(0)\n",
    "torch.backends.cudnn.deterministic = True\n",
    "\n",
    "def runPGD() -> list[float]:\n",
    "    restart = True\n",
    "    trainer = None \n",
    "    while restart: # restarts if bad initialization is detected\n",
    "        pgd_model = get_model()        \n",
    "        trainer = PGDTrainer(pgd_model, quiet=False, device=DEVICE)\n",
    "        restart = not trainer.train(\n",
    "            fashion_mnist_train, fashion_mnist_val, 0.0, max_iters=7000, batch_size=64, lr=1e-3, epsilon=0.3, alpha=0.01, num_iters=40, data_domain=MNIST_DATA_DOMAIN\n",
    "        )\n",
    "    pgd_model = trainer.result()\n",
    "    return evaluate_model(pgd_model, fashion_mnist_test,epsilon_fgsm=MNIST_EPSILON_FGSM, epsilon_cert_adv=MNIST_EPSILON_CERT_ADV, data_domain=MNIST_DATA_DOMAIN)\n",
    "means, stds, all_runs = evaluate_run(runPGD, N_RUNS)\n",
    "print(\"=\"*10, f\"Performance of PGD across {N_RUNS} independent runs\", \"=\"*10)\n",
    "print(f\"Clean Accuracy : {means[0]:.4f} (std {stds[0]:.4f})\")\n",
    "print(f\"FGSM Accuracy : {means[1]:.4f} (std {stds[1]:.4f})\")\n",
    "print(f\"Certified Adversarial Accuracy : {means[2]:.4f} (std {stds[2]:.4f})\")\n",
    "\n",
    "fashion_mnist_means_dict[PGD] = means\n",
    "fashion_mnist_stds_dict[PGD] = stds\n",
    "#print(\"All runs : \", all_runs)"
   ]
  },
  {
   "cell_type": "markdown",
   "source": [
    "#### SAM Baseline"
   ],
   "metadata": {
    "collapsed": false
   },
   "id": "cd227e6e3efe67ca"
  },
  {
   "cell_type": "code",
   "outputs": [
    {
     "name": "stdout",
     "output_type": "stream",
     "text": [
      " ---------- Starting Run #0 ---------- \n"
     ]
    },
    {
     "name": "stderr",
     "output_type": "stream",
     "text": [
      "100%|██████████| 7000/7000 [03:21<00:00, 34.78it/s, loss=0.432, val_acc=0.875]\n"
     ]
    },
    {
     "name": "stdout",
     "output_type": "stream",
     "text": [
      "-> Run finished with values : [0.8612499833106995, 0.18316666781902313, 0.0]\n",
      " ---------- Starting Run #1 ---------- \n"
     ]
    },
    {
     "name": "stderr",
     "output_type": "stream",
     "text": [
      "100%|██████████| 7000/7000 [03:08<00:00, 37.09it/s, loss=0.364, val_acc=0.844]\n"
     ]
    },
    {
     "name": "stdout",
     "output_type": "stream",
     "text": [
      "-> Run finished with values : [0.8628333210945129, 0.18258333206176758, 0.0]\n",
      " ---------- Starting Run #2 ---------- \n"
     ]
    },
    {
     "name": "stderr",
     "output_type": "stream",
     "text": [
      "100%|██████████| 7000/7000 [03:15<00:00, 35.80it/s, loss=0.413, val_acc=0.859]\n"
     ]
    },
    {
     "name": "stdout",
     "output_type": "stream",
     "text": [
      "-> Run finished with values : [0.859833300113678, 0.18674999475479126, 0.0]\n",
      " ---------- Starting Run #3 ---------- \n"
     ]
    },
    {
     "name": "stderr",
     "output_type": "stream",
     "text": [
      "100%|██████████| 7000/7000 [03:17<00:00, 35.35it/s, loss=0.436, val_acc=0.812]\n"
     ]
    },
    {
     "name": "stdout",
     "output_type": "stream",
     "text": [
      "-> Run finished with values : [0.862500011920929, 0.1589999943971634, 0.0]\n",
      " ---------- Starting Run #4 ---------- \n"
     ]
    },
    {
     "name": "stderr",
     "output_type": "stream",
     "text": [
      "100%|██████████| 7000/7000 [03:16<00:00, 35.62it/s, loss=0.428, val_acc=0.891]\n"
     ]
    },
    {
     "name": "stdout",
     "output_type": "stream",
     "text": [
      "-> Run finished with values : [0.8611666560173035, 0.17766666412353516, 0.0]\n",
      "========== Performance of SAM training across 5 independent runs ==========\n",
      "Clean Accuracy : 0.8615 (std 0.0012)\n",
      "FGSM Accuracy : 0.1778 (std 0.0110)\n",
      "Certified Adversarial Accuracy : 0.0000 (std 0.0000)\n"
     ]
    }
   ],
   "source": [
    "# Setting random seeds for reproducibility\n",
    "torch.manual_seed(0)\n",
    "torch.cuda.manual_seed(0)\n",
    "torch.backends.cudnn.deterministic = True\n",
    "\n",
    "def runSAM() -> list[float]:\n",
    "    h_model = None\n",
    "    trainer = None\n",
    "    restart = True \n",
    "    while restart: # Restarts if bad initialization leads to no convergences at beginning of training (doesn't happen very often)\n",
    "        h_model = get_model(output_dim=10)\n",
    "        trainer = SAMTrainer(h_model, device=DEVICE)  \n",
    "        restart = not trainer.train(\n",
    "            fashion_mnist_train, fashion_mnist_val, loss_obj=0.0, max_iters=7000,batch_size=64, lr=1e-3, rho=0.05, adaptive=False\n",
    "        )\n",
    "    h_model = Safebox.bmodelToModel(trainer.result()) # evaluate center model \n",
    "    return evaluate_model(h_model, fashion_mnist_test,epsilon_fgsm=MNIST_EPSILON_FGSM, epsilon_cert_adv=MNIST_EPSILON_CERT_ADV, data_domain=MNIST_DATA_DOMAIN)\n",
    "means, stds, all_runs = evaluate_run(runSAM, N_RUNS)\n",
    "print(\"=\"*10, f\"Performance of SAM training across {N_RUNS} independent runs\", \"=\"*10)\n",
    "print(f\"Clean Accuracy : {means[0]:.4f} (std {stds[0]:.4f})\")\n",
    "print(f\"FGSM Accuracy : {means[1]:.4f} (std {stds[1]:.4f})\")\n",
    "print(f\"Certified Adversarial Accuracy : {means[2]:.4f} (std {stds[2]:.4f})\")\n",
    "\n",
    "fashion_mnist_means_dict[SAM] = means\n",
    "fashion_mnist_stds_dict[SAM] = stds\n",
    "#print(\"All runs : \", all_runs)"
   ],
   "metadata": {
    "collapsed": false,
    "ExecuteTime": {
     "end_time": "2025-06-08T22:27:33.520397Z",
     "start_time": "2025-06-08T22:10:43.007220Z"
    }
   },
   "id": "14df633e5635d125",
   "execution_count": 21
  },
  {
   "cell_type": "markdown",
   "id": "9c422a7a2f8ca75",
   "metadata": {
    "collapsed": false
   },
   "source": [
    "#### Hypercube Training (Ours)"
   ]
  },
  {
   "cell_type": "code",
   "execution_count": 22,
   "id": "2ac796a7c0564e03",
   "metadata": {
    "collapsed": false,
    "ExecuteTime": {
     "end_time": "2025-06-08T22:55:44.098554Z",
     "start_time": "2025-06-08T22:27:33.521402Z"
    }
   },
   "outputs": [
    {
     "name": "stdout",
     "output_type": "stream",
     "text": [
      " ---------- Starting Run #0 ---------- \n",
      "========== Started Multiphase Trainer for 7 phases ==========\n",
      "First time train is called. Initial training phase started with volume 5e-05.\n"
     ]
    },
    {
     "name": "stderr",
     "output_type": "stream",
     "text": [
      "100%|██████████| 1000/1000 [00:42<00:00, 23.68it/s, loss=0.516, min_val_acc=0.806]\n"
     ]
    },
    {
     "name": "stdout",
     "output_type": "stream",
     "text": [
      "=> Initial center accuracy is 0.8205999732017517\n",
      "-> Starting phase 6\n",
      "-> Current Volume interval : [5e-05, INFINITY]\n"
     ]
    },
    {
     "name": "stderr",
     "output_type": "stream",
     "text": [
      "100%|██████████| 1000/1000 [00:43<00:00, 22.84it/s, loss=0.569, min_val_acc=0.803]\n"
     ]
    },
    {
     "name": "stdout",
     "output_type": "stream",
     "text": [
      "-> Phase done\n",
      "-> Center Accuracy is 0.8310999870300293.\n",
      "-> Generalization is above minimum accuracy by 0.05109998703002927.!\n",
      "-> Starting phase 6\n",
      "-> Current Volume interval : [0.0001, INFINITY]\n"
     ]
    },
    {
     "name": "stderr",
     "output_type": "stream",
     "text": [
      "100%|██████████| 1000/1000 [00:43<00:00, 23.18it/s, loss=0.556, min_val_acc=0.787]\n"
     ]
    },
    {
     "name": "stdout",
     "output_type": "stream",
     "text": [
      "-> Phase done\n",
      "-> Center Accuracy is 0.8263999819755554.\n",
      "-> Generalization is above minimum accuracy by 0.04639998197555539.!\n",
      "-> Starting phase 6\n",
      "-> Current Volume interval : [0.0002, INFINITY]\n"
     ]
    },
    {
     "name": "stderr",
     "output_type": "stream",
     "text": [
      "100%|██████████| 1000/1000 [00:43<00:00, 22.81it/s, loss=0.616, min_val_acc=0.786]\n"
     ]
    },
    {
     "name": "stdout",
     "output_type": "stream",
     "text": [
      "-> Phase done\n",
      "-> Center Accuracy is 0.8345999717712402.\n",
      "-> Generalization is above minimum accuracy by 0.05459997177124021.!\n",
      "-> Starting phase 6\n",
      "-> Current Volume interval : [0.0004, INFINITY]\n"
     ]
    },
    {
     "name": "stderr",
     "output_type": "stream",
     "text": [
      "100%|██████████| 1000/1000 [00:45<00:00, 21.88it/s, loss=0.295, min_val_acc=0.74]\n"
     ]
    },
    {
     "name": "stdout",
     "output_type": "stream",
     "text": [
      "-> Phase done\n",
      "-> Center Accuracy is 0.8240000009536743.\n",
      "-> Generalization is above minimum accuracy by 0.04400000095367429.!\n",
      "-> Starting phase 6\n",
      "-> Current Volume interval : [0.0008, INFINITY]\n"
     ]
    },
    {
     "name": "stderr",
     "output_type": "stream",
     "text": [
      "100%|██████████| 1000/1000 [00:45<00:00, 21.94it/s, loss=0.869, min_val_acc=0.728]\n"
     ]
    },
    {
     "name": "stdout",
     "output_type": "stream",
     "text": [
      "-> Phase done\n",
      "-> Center Accuracy is 0.8258000016212463.\n",
      "-> Generalization is above minimum accuracy by 0.04580000162124631.!\n",
      "-> Starting phase 6\n",
      "-> Current Volume interval : [0.0016, INFINITY]\n"
     ]
    },
    {
     "name": "stderr",
     "output_type": "stream",
     "text": [
      "100%|██████████| 1000/1000 [00:46<00:00, 21.72it/s, loss=1.13, min_val_acc=0.675]\n"
     ]
    },
    {
     "name": "stdout",
     "output_type": "stream",
     "text": [
      "-> Phase done\n",
      "-> Center Accuracy is 0.8120999932289124.\n",
      "-> Generalization is above minimum accuracy by 0.03209999322891233.!\n",
      "Training succeeded !\n",
      "-> Run finished with values : [0.8140000104904175, 0.5650833249092102, 0.6104999780654907]\n",
      " ---------- Starting Run #1 ---------- \n",
      "========== Started Multiphase Trainer for 7 phases ==========\n",
      "First time train is called. Initial training phase started with volume 5e-05.\n"
     ]
    },
    {
     "name": "stderr",
     "output_type": "stream",
     "text": [
      " 10%|█         | 101/1000 [00:04<00:38, 23.05it/s, loss=2.3, min_val_acc=0.0985] \n"
     ]
    },
    {
     "name": "stdout",
     "output_type": "stream",
     "text": [
      "Bad Initialization detected. Interrupted Training.\n",
      "=> Initial center accuracy is 0.10019999742507935\n",
      "Initial accuracy is below min accuracy threshold by 0.6798000025749207. Training failed.\n",
      "========== Started Multiphase Trainer for 7 phases ==========\n",
      "First time train is called. Initial training phase started with volume 5e-05.\n"
     ]
    },
    {
     "name": "stderr",
     "output_type": "stream",
     "text": [
      "100%|██████████| 1000/1000 [00:46<00:00, 21.55it/s, loss=0.421, min_val_acc=0.789]\n"
     ]
    },
    {
     "name": "stdout",
     "output_type": "stream",
     "text": [
      "=> Initial center accuracy is 0.8037999868392944\n",
      "-> Starting phase 6\n",
      "-> Current Volume interval : [5e-05, INFINITY]\n"
     ]
    },
    {
     "name": "stderr",
     "output_type": "stream",
     "text": [
      "100%|██████████| 1000/1000 [00:45<00:00, 21.88it/s, loss=0.387, min_val_acc=0.8] \n"
     ]
    },
    {
     "name": "stdout",
     "output_type": "stream",
     "text": [
      "-> Phase done\n",
      "-> Center Accuracy is 0.8241000175476074.\n",
      "-> Generalization is above minimum accuracy by 0.044100017547607395.!\n",
      "-> Starting phase 6\n",
      "-> Current Volume interval : [0.0001, INFINITY]\n"
     ]
    },
    {
     "name": "stderr",
     "output_type": "stream",
     "text": [
      "100%|██████████| 1000/1000 [00:45<00:00, 22.02it/s, loss=0.411, min_val_acc=0.802]\n"
     ]
    },
    {
     "name": "stdout",
     "output_type": "stream",
     "text": [
      "-> Phase done\n",
      "-> Center Accuracy is 0.8374000191688538.\n",
      "-> Generalization is above minimum accuracy by 0.05740001916885373.!\n",
      "-> Starting phase 6\n",
      "-> Current Volume interval : [0.0002, INFINITY]\n"
     ]
    },
    {
     "name": "stderr",
     "output_type": "stream",
     "text": [
      "100%|██████████| 1000/1000 [00:45<00:00, 21.90it/s, loss=0.345, min_val_acc=0.792]\n"
     ]
    },
    {
     "name": "stdout",
     "output_type": "stream",
     "text": [
      "-> Phase done\n",
      "-> Center Accuracy is 0.8359000086784363.\n",
      "-> Generalization is above minimum accuracy by 0.05590000867843625.!\n",
      "-> Starting phase 6\n",
      "-> Current Volume interval : [0.0004, INFINITY]\n"
     ]
    },
    {
     "name": "stderr",
     "output_type": "stream",
     "text": [
      "100%|██████████| 1000/1000 [00:45<00:00, 21.80it/s, loss=0.419, min_val_acc=0.767]\n"
     ]
    },
    {
     "name": "stdout",
     "output_type": "stream",
     "text": [
      "-> Phase done\n",
      "-> Center Accuracy is 0.8384000062942505.\n",
      "-> Generalization is above minimum accuracy by 0.05840000629425046.!\n",
      "-> Starting phase 6\n",
      "-> Current Volume interval : [0.0008, INFINITY]\n"
     ]
    },
    {
     "name": "stderr",
     "output_type": "stream",
     "text": [
      "100%|██████████| 1000/1000 [00:45<00:00, 21.93it/s, loss=0.731, min_val_acc=0.753]\n"
     ]
    },
    {
     "name": "stdout",
     "output_type": "stream",
     "text": [
      "-> Phase done\n",
      "-> Center Accuracy is 0.8291000127792358.\n",
      "-> Generalization is above minimum accuracy by 0.04910001277923581.!\n",
      "-> Starting phase 6\n",
      "-> Current Volume interval : [0.0016, INFINITY]\n"
     ]
    },
    {
     "name": "stderr",
     "output_type": "stream",
     "text": [
      "100%|██████████| 1000/1000 [00:46<00:00, 21.51it/s, loss=1.11, min_val_acc=0.678]\n"
     ]
    },
    {
     "name": "stdout",
     "output_type": "stream",
     "text": [
      "-> Phase done\n",
      "-> Center Accuracy is 0.8166999816894531.\n",
      "-> Generalization is above minimum accuracy by 0.0366999816894531.!\n",
      "Training succeeded !\n",
      "-> Run finished with values : [0.8232499957084656, 0.6159999966621399, 0.6704166531562805]\n",
      " ---------- Starting Run #2 ---------- \n",
      "========== Started Multiphase Trainer for 7 phases ==========\n",
      "First time train is called. Initial training phase started with volume 5e-05.\n"
     ]
    },
    {
     "name": "stderr",
     "output_type": "stream",
     "text": [
      "100%|██████████| 1000/1000 [00:45<00:00, 21.96it/s, loss=0.434, min_val_acc=0.817]\n"
     ]
    },
    {
     "name": "stdout",
     "output_type": "stream",
     "text": [
      "=> Initial center accuracy is 0.8248999714851379\n",
      "-> Starting phase 6\n",
      "-> Current Volume interval : [5e-05, INFINITY]\n"
     ]
    },
    {
     "name": "stderr",
     "output_type": "stream",
     "text": [
      "100%|██████████| 1000/1000 [00:46<00:00, 21.72it/s, loss=0.431, min_val_acc=0.816]\n"
     ]
    },
    {
     "name": "stdout",
     "output_type": "stream",
     "text": [
      "-> Phase done\n",
      "-> Center Accuracy is 0.83160001039505.\n",
      "-> Generalization is above minimum accuracy by 0.05160001039505002.!\n",
      "-> Starting phase 6\n",
      "-> Current Volume interval : [0.0001, INFINITY]\n"
     ]
    },
    {
     "name": "stderr",
     "output_type": "stream",
     "text": [
      "100%|██████████| 1000/1000 [00:44<00:00, 22.34it/s, loss=0.631, min_val_acc=0.803]\n"
     ]
    },
    {
     "name": "stdout",
     "output_type": "stream",
     "text": [
      "-> Phase done\n",
      "-> Center Accuracy is 0.8424000144004822.\n",
      "-> Generalization is above minimum accuracy by 0.06240001440048215.!\n",
      "-> Starting phase 6\n",
      "-> Current Volume interval : [0.0002, INFINITY]\n"
     ]
    },
    {
     "name": "stderr",
     "output_type": "stream",
     "text": [
      "100%|██████████| 1000/1000 [00:46<00:00, 21.58it/s, loss=0.554, min_val_acc=0.803]\n"
     ]
    },
    {
     "name": "stdout",
     "output_type": "stream",
     "text": [
      "-> Phase done\n",
      "-> Center Accuracy is 0.8370000123977661.\n",
      "-> Generalization is above minimum accuracy by 0.05700001239776609.!\n",
      "-> Starting phase 6\n",
      "-> Current Volume interval : [0.0004, INFINITY]\n"
     ]
    },
    {
     "name": "stderr",
     "output_type": "stream",
     "text": [
      "100%|██████████| 1000/1000 [00:45<00:00, 22.19it/s, loss=0.637, min_val_acc=0.783]\n"
     ]
    },
    {
     "name": "stdout",
     "output_type": "stream",
     "text": [
      "-> Phase done\n",
      "-> Center Accuracy is 0.8317999839782715.\n",
      "-> Generalization is above minimum accuracy by 0.05179998397827146.!\n",
      "-> Starting phase 6\n",
      "-> Current Volume interval : [0.0008, INFINITY]\n"
     ]
    },
    {
     "name": "stderr",
     "output_type": "stream",
     "text": [
      "100%|██████████| 1000/1000 [00:45<00:00, 22.04it/s, loss=0.627, min_val_acc=0.719]\n"
     ]
    },
    {
     "name": "stdout",
     "output_type": "stream",
     "text": [
      "-> Phase done\n",
      "-> Center Accuracy is 0.8237000107765198.\n",
      "-> Generalization is above minimum accuracy by 0.04370001077651975.!\n",
      "-> Starting phase 6\n",
      "-> Current Volume interval : [0.0016, INFINITY]\n"
     ]
    },
    {
     "name": "stderr",
     "output_type": "stream",
     "text": [
      "100%|██████████| 1000/1000 [00:45<00:00, 22.01it/s, loss=0.954, min_val_acc=0.666]\n"
     ]
    },
    {
     "name": "stdout",
     "output_type": "stream",
     "text": [
      "-> Phase done\n",
      "-> Center Accuracy is 0.8104000091552734.\n",
      "-> Generalization is above minimum accuracy by 0.03040000915527341.!\n",
      "Training succeeded !\n",
      "-> Run finished with values : [0.815750002861023, 0.6050833463668823, 0.671916663646698]\n",
      " ---------- Starting Run #3 ---------- \n",
      "========== Started Multiphase Trainer for 7 phases ==========\n",
      "First time train is called. Initial training phase started with volume 5e-05.\n"
     ]
    },
    {
     "name": "stderr",
     "output_type": "stream",
     "text": [
      "100%|██████████| 1000/1000 [00:45<00:00, 22.03it/s, loss=0.567, min_val_acc=0.812]\n"
     ]
    },
    {
     "name": "stdout",
     "output_type": "stream",
     "text": [
      "=> Initial center accuracy is 0.8284000158309937\n",
      "-> Starting phase 6\n",
      "-> Current Volume interval : [5e-05, INFINITY]\n"
     ]
    },
    {
     "name": "stderr",
     "output_type": "stream",
     "text": [
      "100%|██████████| 1000/1000 [00:45<00:00, 21.81it/s, loss=0.483, min_val_acc=0.801]\n"
     ]
    },
    {
     "name": "stdout",
     "output_type": "stream",
     "text": [
      "-> Phase done\n",
      "-> Center Accuracy is 0.8374999761581421.\n",
      "-> Generalization is above minimum accuracy by 0.05749997615814206.!\n",
      "-> Starting phase 6\n",
      "-> Current Volume interval : [0.0001, INFINITY]\n"
     ]
    },
    {
     "name": "stderr",
     "output_type": "stream",
     "text": [
      "100%|██████████| 1000/1000 [00:45<00:00, 22.07it/s, loss=0.356, min_val_acc=0.819]\n"
     ]
    },
    {
     "name": "stdout",
     "output_type": "stream",
     "text": [
      "-> Phase done\n",
      "-> Center Accuracy is 0.8292999863624573.\n",
      "-> Generalization is above minimum accuracy by 0.04929998636245725.!\n",
      "-> Starting phase 6\n",
      "-> Current Volume interval : [0.0002, INFINITY]\n"
     ]
    },
    {
     "name": "stderr",
     "output_type": "stream",
     "text": [
      "100%|██████████| 1000/1000 [00:45<00:00, 21.84it/s, loss=0.411, min_val_acc=0.787]\n"
     ]
    },
    {
     "name": "stdout",
     "output_type": "stream",
     "text": [
      "-> Phase done\n",
      "-> Center Accuracy is 0.836899995803833.\n",
      "-> Generalization is above minimum accuracy by 0.05689999580383298.!\n",
      "-> Starting phase 6\n",
      "-> Current Volume interval : [0.0004, INFINITY]\n"
     ]
    },
    {
     "name": "stderr",
     "output_type": "stream",
     "text": [
      "100%|██████████| 1000/1000 [00:45<00:00, 22.04it/s, loss=0.723, min_val_acc=0.767]\n"
     ]
    },
    {
     "name": "stdout",
     "output_type": "stream",
     "text": [
      "-> Phase done\n",
      "-> Center Accuracy is 0.829800009727478.\n",
      "-> Generalization is above minimum accuracy by 0.049800009727478.!\n",
      "-> Starting phase 6\n",
      "-> Current Volume interval : [0.0008, INFINITY]\n"
     ]
    },
    {
     "name": "stderr",
     "output_type": "stream",
     "text": [
      "100%|██████████| 1000/1000 [00:45<00:00, 21.99it/s, loss=0.588, min_val_acc=0.739]\n"
     ]
    },
    {
     "name": "stdout",
     "output_type": "stream",
     "text": [
      "-> Phase done\n",
      "-> Center Accuracy is 0.822700023651123.\n",
      "-> Generalization is above minimum accuracy by 0.04270002365112302.!\n",
      "-> Starting phase 6\n",
      "-> Current Volume interval : [0.0016, INFINITY]\n"
     ]
    },
    {
     "name": "stderr",
     "output_type": "stream",
     "text": [
      "100%|██████████| 1000/1000 [00:45<00:00, 21.97it/s, loss=0.863, min_val_acc=0.685]\n"
     ]
    },
    {
     "name": "stdout",
     "output_type": "stream",
     "text": [
      "-> Phase done\n",
      "-> Center Accuracy is 0.8086000084877014.\n",
      "-> Generalization is above minimum accuracy by 0.02860000848770139.!\n",
      "Training succeeded !\n",
      "-> Run finished with values : [0.8103333115577698, 0.5834999680519104, 0.6380833387374878]\n",
      " ---------- Starting Run #4 ---------- \n",
      "========== Started Multiphase Trainer for 7 phases ==========\n",
      "First time train is called. Initial training phase started with volume 5e-05.\n"
     ]
    },
    {
     "name": "stderr",
     "output_type": "stream",
     "text": [
      "100%|██████████| 1000/1000 [00:45<00:00, 21.94it/s, loss=0.535, min_val_acc=0.815]\n"
     ]
    },
    {
     "name": "stdout",
     "output_type": "stream",
     "text": [
      "=> Initial center accuracy is 0.8162999749183655\n",
      "-> Starting phase 6\n",
      "-> Current Volume interval : [5e-05, INFINITY]\n"
     ]
    },
    {
     "name": "stderr",
     "output_type": "stream",
     "text": [
      "100%|██████████| 1000/1000 [00:46<00:00, 21.71it/s, loss=0.472, min_val_acc=0.823]\n"
     ]
    },
    {
     "name": "stdout",
     "output_type": "stream",
     "text": [
      "-> Phase done\n",
      "-> Center Accuracy is 0.8334000110626221.\n",
      "-> Generalization is above minimum accuracy by 0.053400011062622044.!\n",
      "-> Starting phase 6\n",
      "-> Current Volume interval : [0.0001, INFINITY]\n"
     ]
    },
    {
     "name": "stderr",
     "output_type": "stream",
     "text": [
      "100%|██████████| 1000/1000 [00:45<00:00, 22.05it/s, loss=0.367, min_val_acc=0.796]\n"
     ]
    },
    {
     "name": "stdout",
     "output_type": "stream",
     "text": [
      "-> Phase done\n",
      "-> Center Accuracy is 0.8360000252723694.\n",
      "-> Generalization is above minimum accuracy by 0.05600002527236936.!\n",
      "-> Starting phase 6\n",
      "-> Current Volume interval : [0.0002, INFINITY]\n"
     ]
    },
    {
     "name": "stderr",
     "output_type": "stream",
     "text": [
      "100%|██████████| 1000/1000 [00:45<00:00, 22.00it/s, loss=0.507, min_val_acc=0.778]\n"
     ]
    },
    {
     "name": "stdout",
     "output_type": "stream",
     "text": [
      "-> Phase done\n",
      "-> Center Accuracy is 0.8352000117301941.\n",
      "-> Generalization is above minimum accuracy by 0.055200011730194065.!\n",
      "-> Starting phase 6\n",
      "-> Current Volume interval : [0.0004, INFINITY]\n"
     ]
    },
    {
     "name": "stderr",
     "output_type": "stream",
     "text": [
      "100%|██████████| 1000/1000 [00:45<00:00, 21.82it/s, loss=0.57, min_val_acc=0.734]\n"
     ]
    },
    {
     "name": "stdout",
     "output_type": "stream",
     "text": [
      "-> Phase done\n",
      "-> Center Accuracy is 0.8294000029563904.\n",
      "-> Generalization is above minimum accuracy by 0.049400002956390354.!\n",
      "-> Starting phase 6\n",
      "-> Current Volume interval : [0.0008, INFINITY]\n"
     ]
    },
    {
     "name": "stderr",
     "output_type": "stream",
     "text": [
      "100%|██████████| 1000/1000 [00:42<00:00, 23.64it/s, loss=0.45, min_val_acc=0.721]\n"
     ]
    },
    {
     "name": "stdout",
     "output_type": "stream",
     "text": [
      "-> Phase done\n",
      "-> Center Accuracy is 0.8205000162124634.\n",
      "-> Generalization is above minimum accuracy by 0.04050001621246335.!\n",
      "-> Starting phase 6\n",
      "-> Current Volume interval : [0.0016, INFINITY]\n"
     ]
    },
    {
     "name": "stderr",
     "output_type": "stream",
     "text": [
      "100%|██████████| 1000/1000 [00:45<00:00, 22.08it/s, loss=0.71, min_val_acc=0.686]\n"
     ]
    },
    {
     "name": "stdout",
     "output_type": "stream",
     "text": [
      "-> Phase done\n",
      "-> Center Accuracy is 0.8126999735832214.\n",
      "-> Generalization is above minimum accuracy by 0.03269997358322141.!\n",
      "Training succeeded !\n",
      "-> Run finished with values : [0.8140833377838135, 0.5790833234786987, 0.6517499685287476]\n",
      "========== Performance of Hypercube training across 5 independent runs ==========\n",
      "Clean Accuracy : 0.8155 (std 0.0048)\n",
      "FGSM Accuracy : 0.5897 (std 0.0205)\n",
      "Certified Adversarial Accuracy : 0.6485 (std 0.0255)\n"
     ]
    }
   ],
   "source": [
    "# Setting random seeds for reproducibility\n",
    "torch.manual_seed(0)\n",
    "torch.cuda.manual_seed(0)\n",
    "torch.backends.cudnn.deterministic = True\n",
    "\n",
    "def runHypercube() -> list[float]:\n",
    "    h_model = None\n",
    "    optimizer = None \n",
    "    multiphase_trainer = None \n",
    "    restart = True \n",
    "    while restart: # Restarts if bad initialization leads to no convergences at beginning of training (doesn't happen very often)\n",
    "        h_model = get_model(output_dim=10)\n",
    "        optimizer = HypercubeTrainer(h_model, device=DEVICE)\n",
    "        multiphase_trainer = ConstrainedVolumeMultiphaseTrainer(\n",
    "            optimizer, \n",
    "            inflate_function=interval_narrowers.inflate_multiplier(2.0),\n",
    "            # recovery mechanism, never used in practice. Hence, why it is not described in the report's pseudocode. Could be used for later work. \n",
    "            narrow_function=interval_narrowers.narrower_halver(0.5),\n",
    "            starting_value=1e-4*0.5, \n",
    "            min_acc_limit=0.78,\n",
    "            quiet=False\n",
    "        )\n",
    "        restart = not multiphase_trainer.train(\n",
    "            7, fashion_mnist_val,\n",
    "            fashion_mnist_train, fashion_mnist_val, loss_obj=0.0, max_iters=1000, batch_size=64, lr=1e-3\n",
    "        )\n",
    "    h_model = Safebox.bmodelToModel(multiphase_trainer.result()) # evaluate center model \n",
    "    return evaluate_model(h_model, fashion_mnist_test,epsilon_fgsm=MNIST_EPSILON_FGSM, epsilon_cert_adv=MNIST_EPSILON_CERT_ADV, data_domain=MNIST_DATA_DOMAIN)\n",
    "means, stds, all_runs = evaluate_run(runHypercube, N_RUNS)\n",
    "print(\"=\"*10, f\"Performance of Hypercube training across {N_RUNS} independent runs\", \"=\"*10)\n",
    "print(f\"Clean Accuracy : {means[0]:.4f} (std {stds[0]:.4f})\")\n",
    "print(f\"FGSM Accuracy : {means[1]:.4f} (std {stds[1]:.4f})\")\n",
    "print(f\"Certified Adversarial Accuracy : {means[2]:.4f} (std {stds[2]:.4f})\")\n",
    "\n",
    "fashion_mnist_means_dict[HYPERCUBE] = means\n",
    "fashion_mnist_stds_dict[HYPERCUBE] = stds\n",
    "#print(\"All runs : \", all_runs)"
   ]
  },
  {
   "cell_type": "code",
   "execution_count": 33,
   "id": "69e5fb0becd3c54",
   "metadata": {
    "collapsed": false,
    "ExecuteTime": {
     "end_time": "2025-06-08T23:06:31.367657Z",
     "start_time": "2025-06-08T23:06:31.089590Z"
    }
   },
   "outputs": [
    {
     "data": {
      "text/plain": "<Figure size 640x480 with 1 Axes>",
      "image/png": "[encoded data removed]"
     },
     "metadata": {},
     "output_type": "display_data"
    }
   ],
   "source": [
    "fig, ax = plt.subplots()\n",
    "plotMethod(\n",
    "    #[fashion_mnist_means_dict[ADAM], fashion_mnist_means_dict[PGD], fashion_mnist_means_dict[HYPERCUBE]],\n",
    "    #[fashion_mnist_stds_dict[ADAM], fashion_mnist_stds_dict[PGD], fashion_mnist_stds_dict[HYPERCUBE]],\n",
    "    [fashion_mnist_means_dict[ADAM], fashion_mnist_means_dict[PGD], fashion_mnist_means_dict[SAM], fashion_mnist_means_dict[HYPERCUBE]],\n",
    "    [fashion_mnist_stds_dict[ADAM],  fashion_mnist_stds_dict[PGD], fashion_mnist_stds_dict[SAM], fashion_mnist_stds_dict[HYPERCUBE]],\n",
    "    ax\n",
    "    )"
   ]
  },
  {
   "cell_type": "code",
   "outputs": [],
   "source": [],
   "metadata": {
    "collapsed": false
   },
   "id": "6a68e6407a27e943"
  }
 ],
 "metadata": {
  "kernelspec": {
   "display_name": "opti3",
   "language": "python",
   "name": "python3"
  },
  "language_info": {
   "codemirror_mode": {
    "name": "ipython",
    "version": 3
   },
   "file_extension": ".py",
   "mimetype": "text/x-python",
   "name": "python",
   "nbconvert_exporter": "python",
   "pygments_lexer": "ipython3",
   "version": "3.11.9"
  }
 },
 "nbformat": 4,
 "nbformat_minor": 5
}
