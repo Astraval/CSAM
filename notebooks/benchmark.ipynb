{
 "cells": [
  {
   "metadata": {},
   "cell_type": "markdown",
   "source": [
    "# Experiments and Results\n",
    "\n",
    "------------------------------------"
   ],
   "id": "b32d7f89a2d1bbeb"
  },
  {
   "metadata": {},
   "cell_type": "markdown",
   "source": "### Set up",
   "id": "8db7b3595624b851"
  },
  {
   "metadata": {
    "ExecuteTime": {
     "end_time": "2025-06-05T16:29:39.308446Z",
     "start_time": "2025-06-05T16:29:38.250569Z"
    }
   },
   "cell_type": "code",
   "source": [
    "from src.optimizers.SAMTrainer import SAMTrainer\n",
    "from src.optimizers.SimpleTrainer import SimpleTrainer\n",
    "from src.utils.LabelNoiseDataset import LabelNoiseDataset\n",
    "%load_ext autoreload\n",
    "%autoreload 2\n",
    "import sys\n",
    "import os\n",
    "\n",
    "project_root = os.path.abspath(os.path.join(os.getcwd(), \"..\"))\n",
    "if project_root not in sys.path:\n",
    "    sys.path.append(project_root)"
   ],
   "id": "de51223d2134a1ec",
   "outputs": [],
   "execution_count": 4
  },
  {
   "metadata": {
    "ExecuteTime": {
     "end_time": "2025-06-05T16:29:40.776546Z",
     "start_time": "2025-06-05T16:29:39.722089Z"
    }
   },
   "cell_type": "code",
   "source": [
    "import torch\n",
    "from matplotlib import pyplot as plt\n",
    "from tqdm import tqdm\n",
    "\n",
    "from src.utils import dataset\n",
    "from src.utils import evaluation\n",
    "from src.optimizers.SimpleTrainer import SimpleTrainer"
   ],
   "id": "93fa50656d263452",
   "outputs": [],
   "execution_count": 5
  },
  {
   "metadata": {
    "ExecuteTime": {
     "end_time": "2025-06-05T16:29:41.211013Z",
     "start_time": "2025-06-05T16:29:41.164464Z"
    }
   },
   "cell_type": "code",
   "source": "DEVICE = \"cuda\" if torch.cuda.is_available() else \"cpu\"",
   "id": "8050f2ea0e5dae4d",
   "outputs": [],
   "execution_count": 6
  },
  {
   "metadata": {},
   "cell_type": "markdown",
   "source": [
    "### Utils\n",
    "\n",
    "##### Plotting\n"
   ],
   "id": "285494814afa2d62"
  },
  {
   "metadata": {
    "ExecuteTime": {
     "end_time": "2025-06-05T16:29:42.640301Z",
     "start_time": "2025-06-05T16:29:42.621319Z"
    }
   },
   "cell_type": "code",
   "source": [
    "def display_MNIST():\n",
    "    mnist_train, mnist_val = dataset.get_mnist_dataset()\n",
    "    fig, axs = plt.subplots(1,10)\n",
    "    fig.set_figwidth(15)\n",
    "    for i in range(10):\n",
    "        axs[i].set_axis_off()\n",
    "        axs[i].imshow(mnist_train[i][0].numpy().reshape((28,28)), cmap=\"gray\")\n",
    "\n",
    "def display_fashionMNIST():\n",
    "    fashion_mnist_train, fashion_mnist_val = dataset.get_fashion_mnist_dataset()\n",
    "    fig, axs = plt.subplots(1,10)\n",
    "    fig.set_figwidth(15)\n",
    "    for i in range(10):\n",
    "        axs[i].set_axis_off()\n",
    "        axs[i].imshow(fashion_mnist_train[i][0].numpy().reshape((28,28)), cmap=\"gray\")\n",
    "\n"
   ],
   "id": "da32787121049e82",
   "outputs": [],
   "execution_count": 7
  },
  {
   "metadata": {},
   "cell_type": "markdown",
   "source": "##### Training",
   "id": "7c9e1d7af1bf447c"
  },
  {
   "metadata": {
    "ExecuteTime": {
     "end_time": "2025-06-05T16:50:58.777523Z",
     "start_time": "2025-06-05T16:50:58.758726Z"
    }
   },
   "cell_type": "code",
   "source": [
    "def get_trained_adam_generator(\n",
    "        loss_obj: float = 1e-8,\n",
    "        max_iters: int = 500,\n",
    "        lr: float = 1e-4):\n",
    "\n",
    "    def trained_adam_generator(\n",
    "            model: torch.nn.Sequential,\n",
    "            training_set: torch.utils.data.Dataset,\n",
    "            validation_set: torch.utils.data.Dataset,):\n",
    "\n",
    "        base_trainer = SimpleTrainer(model, quiet=True, device=DEVICE)\n",
    "        base_trainer.train(training_set, validation_set, loss_obj, max_iters=max_iters, lr=lr)\n",
    "        return base_trainer.result()\n",
    "    return trained_adam_generator\n",
    "\n",
    "def get_trained_sam():...\n",
    "\n",
    "def get_trained_pgd():...\n",
    "\n",
    "def get_trained__():...\n"
   ],
   "id": "fb7a7af83ac53251",
   "outputs": [],
   "execution_count": 30
  },
  {
   "metadata": {},
   "cell_type": "markdown",
   "source": "##### Evaluation",
   "id": "69db734d88c8eb94"
  },
  {
   "metadata": {
    "ExecuteTime": {
     "end_time": "2025-06-05T16:29:46.169744Z",
     "start_time": "2025-06-05T16:29:46.151171Z"
    }
   },
   "cell_type": "code",
   "source": [
    "def evaluate_accuracy(model, training_set, validation_set):\n",
    "    training_acc = evaluation.evaluate_accuracy(model, training_set, device=DEVICE)\n",
    "    validation_acc = evaluation.evaluate_accuracy(model, validation_set, device=DEVICE)\n",
    "\n",
    "    return training_acc, validation_acc\n",
    "\n",
    "def evaluate_model_adversarial(model, training_set, validation_set):...\n"
   ],
   "id": "44dc792c207305d4",
   "outputs": [],
   "execution_count": 9
  },
  {
   "metadata": {},
   "cell_type": "markdown",
   "source": "##### Experiment",
   "id": "cf3d9133da30a525"
  },
  {
   "metadata": {
    "ExecuteTime": {
     "end_time": "2025-06-05T16:59:31.819598Z",
     "start_time": "2025-06-05T16:59:31.799548Z"
    }
   },
   "cell_type": "code",
   "source": [
    "def experiment(model_generator, trained_model_generator, training_set, validation_set, rounds:int = 2, fgsm_epsilon: float = 1e-3):\n",
    "\n",
    "    #progress_bar = tqdm(range(rounds))\n",
    "\n",
    "    training_accs = []\n",
    "    validation_accs = []\n",
    "    fgsm_accs = []\n",
    "\n",
    "    for i in range(rounds) : #progress_bar:\n",
    "\n",
    "\n",
    "        trained_model = trained_model_generator(model_generator(), training_set, validation_set)\n",
    "        training_acc = evaluation.evaluate_accuracy(training_set, trained_model, device=DEVICE)\n",
    "        validation_acc = evaluation.evaluate_accuracy(validation_set, trained_model, device=DEVICE)\n",
    "        fgsm_acc = evaluation.evaluate_fgsm_accuracy(validation_set, trained_model, device=DEVICE, epsilon=fgsm_epsilon)\n",
    "\n",
    "        training_accs.append(training_acc)\n",
    "        validation_accs.append(validation_acc)\n",
    "        fgsm_accs.append(fgsm_acc)\n",
    "\n",
    "\n",
    "        print('Round : ' +str(i+1) + '/' + str(rounds) + ' Last training accuracy : ' + str(training_acc) + ', Last validation accuracy : ' + str(validation_acc) + ', Last fgsm accuracy : ' + str(fgsm_acc))\n",
    "        #progress_bar.set_postfix({\n",
    "        #    'Last training accuracy' : training_acc,\n",
    "        #    'Last validation accuracy' : validation_acc,\n",
    "        #    'Last fgsm accuracy' : fgsm_acc,\n",
    "        #})\n"
   ],
   "id": "9a2f2e46e3a22f8a",
   "outputs": [],
   "execution_count": 49
  },
  {
   "metadata": {},
   "cell_type": "markdown",
   "source": [
    "### Datasets\n",
    "\n",
    "--Comments--\n",
    "\n",
    "##### MNIST\n",
    "\n",
    "--DS Description--"
   ],
   "id": "f7c10a89f4dd3862"
  },
  {
   "metadata": {
    "ExecuteTime": {
     "end_time": "2025-06-05T16:29:49.749836Z",
     "start_time": "2025-06-05T16:29:49.572469Z"
    }
   },
   "cell_type": "code",
   "source": [
    "display_MNIST()\n",
    "print()"
   ],
   "id": "6e310421690cc75f",
   "outputs": [
    {
     "name": "stdout",
     "output_type": "stream",
     "text": [
      "\n"
     ]
    },
    {
     "data": {
      "text/plain": [
       "<Figure size 1500x480 with 10 Axes>"
      ],
      "image/png": "[encoded data removed]"
     },
     "metadata": {},
     "output_type": "display_data"
    }
   ],
   "execution_count": 11
  },
  {
   "metadata": {},
   "cell_type": "markdown",
   "source": [
    "##### FashionMNIST\n",
    "\n",
    "--DS Description--"
   ],
   "id": "59cda16cb64bb6ed"
  },
  {
   "metadata": {
    "ExecuteTime": {
     "end_time": "2025-06-05T16:29:51.329263Z",
     "start_time": "2025-06-05T16:29:51.166187Z"
    }
   },
   "cell_type": "code",
   "source": [
    "display_fashionMNIST()\n",
    "print()"
   ],
   "id": "e31800673ed7d28c",
   "outputs": [
    {
     "name": "stdout",
     "output_type": "stream",
     "text": [
      "\n"
     ]
    },
    {
     "data": {
      "text/plain": [
       "<Figure size 1500x480 with 10 Axes>"
      ],
      "image/png": "[encoded data removed]"
     },
     "metadata": {},
     "output_type": "display_data"
    }
   ],
   "execution_count": 12
  },
  {
   "metadata": {},
   "cell_type": "markdown",
   "source": [
    "##### SVHN\n",
    "\n",
    "--DS Description--"
   ],
   "id": "92846f0d971edf99"
  },
  {
   "metadata": {
    "ExecuteTime": {
     "end_time": "2025-06-05T15:21:57.299261Z",
     "start_time": "2025-06-05T15:21:57.279477Z"
    }
   },
   "cell_type": "code",
   "source": "# Display some sample of the ds",
   "id": "42d59064be17b95",
   "outputs": [],
   "execution_count": 8
  },
  {
   "metadata": {},
   "cell_type": "markdown",
   "source": [
    "### Model definition\n",
    "\n",
    "--Comments and model description--"
   ],
   "id": "58ca290327f53479"
  },
  {
   "metadata": {
    "ExecuteTime": {
     "end_time": "2025-06-05T16:33:38.738506Z",
     "start_time": "2025-06-05T16:33:38.720011Z"
    }
   },
   "cell_type": "code",
   "source": [
    "def get_model(output_dim=10):\n",
    "    \"\"\"Returns a simple CNN model.\"\"\"\n",
    "    model = torch.nn.Sequential(\n",
    "        torch.nn.Conv2d(1, 8, kernel_size=5, stride=1, padding=1),\n",
    "        torch.nn.ReLU(),\n",
    "        torch.nn.Conv2d(8, 1, kernel_size=5, stride=1, padding=1),\n",
    "        torch.nn.ReLU(),\n",
    "        torch.nn.Flatten(),\n",
    "        torch.nn.Linear(576, output_dim),\n",
    "    ).to(DEVICE)\n",
    "    return model"
   ],
   "id": "7606ddfbb219a88",
   "outputs": [],
   "execution_count": 19
  },
  {
   "metadata": {},
   "cell_type": "markdown",
   "source": [
    "### Experiments\n",
    "------------------------\n",
    "### MNIST\n"
   ],
   "id": "9549053db891b9d2"
  },
  {
   "metadata": {
    "ExecuteTime": {
     "end_time": "2025-06-05T16:29:55.816901Z",
     "start_time": "2025-06-05T16:29:55.743188Z"
    }
   },
   "cell_type": "code",
   "source": "mnist_train, mnist_val = dataset.get_mnist_dataset()",
   "id": "6f2566e9d03150d2",
   "outputs": [],
   "execution_count": 14
  },
  {
   "metadata": {},
   "cell_type": "markdown",
   "source": "##### ADAM Baseline",
   "id": "873adab3787d46e7"
  },
  {
   "metadata": {
    "ExecuteTime": {
     "end_time": "2025-06-05T16:59:36.408256Z",
     "start_time": "2025-06-05T16:59:34.769370Z"
    }
   },
   "cell_type": "code",
   "source": "experiment(get_model, get_trained_adam_generator(max_iters=100), mnist_train, mnist_val, rounds=5)",
   "id": "3a2682714f6ccd8f",
   "outputs": [
    {
     "name": "stdout",
     "output_type": "stream",
     "text": [
      "Round : 1/2 Last training accuracy : 0.11300000548362732, Last validation accuracy : 0.11900000274181366, Last fgsm accuracy : 0.1145000085234642\n",
      "Round : 2/2 Last training accuracy : 0.10050000250339508, Last validation accuracy : 0.10850000381469727, Last fgsm accuracy : 0.09850000590085983\n"
     ]
    }
   ],
   "execution_count": 50
  }
 ],
 "metadata": {},
 "nbformat": 4,
 "nbformat_minor": 5
}
