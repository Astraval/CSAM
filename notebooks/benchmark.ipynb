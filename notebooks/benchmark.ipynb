{
 "cells": [
  {
   "cell_type": "markdown",
   "id": "b32d7f89a2d1bbeb",
   "metadata": {},
   "source": [
    "# Experiments and Results\n",
    "\n",
    "------------------------------------"
   ]
  },
  {
   "cell_type": "markdown",
   "id": "8db7b3595624b851",
   "metadata": {},
   "source": [
    "### Set up"
   ]
  },
  {
   "cell_type": "code",
   "execution_count": 1,
   "id": "f938b8b1c20e8256",
   "metadata": {
    "ExecuteTime": {
     "end_time": "2025-06-07T10:35:43.154730Z",
     "start_time": "2025-06-07T10:35:35.989660Z"
    },
    "collapsed": false
   },
   "outputs": [],
   "source": [
    "%load_ext autoreload\n",
    "%autoreload 2\n",
    "import sys\n",
    "import os\n",
    "\n",
    "project_root = os.path.abspath(os.path.join(os.getcwd(), \"..\"))\n",
    "if project_root not in sys.path:\n",
    "    sys.path.append(project_root)"
   ]
  },
  {
   "cell_type": "code",
   "execution_count": 40,
   "id": "721bc2f6fb41efcc",
   "metadata": {
    "ExecuteTime": {
     "end_time": "2025-06-07T10:35:48.138723Z",
     "start_time": "2025-06-07T10:35:43.963243Z"
    },
    "collapsed": false
   },
   "outputs": [],
   "source": [
    "import torch\n",
    "from src.optimizers.SimpleTrainer import SimpleTrainer\n",
    "from src.utils.evaluation import evaluate_run\n",
    "from src.utils import dataset\n",
    "from matplotlib import pyplot as plt\n",
    "from src.optimizers import interval_narrowers\n",
    "from src.optimizers.ConstrainedVolumeMultiphaseTrainer import ConstrainedVolumeMultiphaseTrainer\n",
    "from src.optimizers.PGDTrainer import PGDTrainer\n",
    "from src.optimizers.HypercubeTrainer import HypercubeTrainer, ConstrainedVolumeTrainer\n",
    "from src.utils.evaluation import evaluate_accuracy, evaluate_fgsm_accuracy, evaluate_certified_adv_accuracy\n",
    "from src.cert import Safebox\n",
    "from src.optimizers.SAMTrainer import SAMTrainer\n",
    "from torch.utils.data import DataLoader, Dataset\n",
    "import numpy as np\n",
    "import scienceplots"
   ]
  },
  {
   "cell_type": "markdown",
   "id": "a5291592b5e53a20",
   "metadata": {
    "collapsed": false
   },
   "source": [
    "### Global Constants"
   ]
  },
  {
   "cell_type": "code",
   "execution_count": 3,
   "id": "3bf09fed68380251",
   "metadata": {
    "ExecuteTime": {
     "end_time": "2025-06-07T10:35:48.325782Z",
     "start_time": "2025-06-07T10:35:48.140724Z"
    },
    "collapsed": false
   },
   "outputs": [],
   "source": [
    "DEVICE = \"cuda\" if torch.cuda.is_available() else \"cpu\"\n",
    "N_RUNS = 5"
   ]
  },
  {
   "cell_type": "markdown",
   "id": "5dd2dd3ab79de9f4",
   "metadata": {
    "collapsed": false
   },
   "source": [
    "### Utils\n",
    "\n",
    "##### Plotting\n"
   ]
  },
  {
   "cell_type": "code",
   "execution_count": 4,
   "id": "7e1105d4f4d016b8",
   "metadata": {
    "ExecuteTime": {
     "end_time": "2025-06-07T10:35:50.500466Z",
     "start_time": "2025-06-07T10:35:50.378917Z"
    },
    "collapsed": false
   },
   "outputs": [],
   "source": [
    "def display_dataset(dataset):\n",
    "    fig, axs = plt.subplots(1,10)\n",
    "    fig.set_figwidth(15)\n",
    "    for i in range(10):\n",
    "        axs[i].set_axis_off()\n",
    "        axs[i].imshow(dataset[i][0].numpy().reshape((28,28)), cmap=\"gray\")"
   ]
  },
  {
   "cell_type": "code",
   "execution_count": 59,
   "id": "95eb8540",
   "metadata": {},
   "outputs": [],
   "source": [
    "mnist_means_dict = {}\n",
    "mnist_stds_dict = {}\n",
    "fashion_mnist_means_dict = {}\n",
    "fashion_mnist_stds_dict = {}\n",
    "\n",
    "colors = ['#ff0000', '#ffa000', '#00aaff', \"#00ad3a\"]\n",
    "markers = ['D', 'p', '*', '^']\n",
    "labels= ['Adam', 'PGD','Inflate']\n",
    "#labels= ['Adam', 'PGD', 'SAM', 'Inflate']"
   ]
  },
  {
   "cell_type": "code",
   "execution_count": 56,
   "id": "1fb9e9d9",
   "metadata": {},
   "outputs": [],
   "source": [
    "def plotMethod(means, stds, ax):\n",
    "    for i, (mean, std) in enumerate(zip(means, stds)):\n",
    "        ax.errorbar(mean, np.arange(3*(len(means)+1),0,-(len(means)+1))-i, xerr=std, fmt='none', color='black', capsize=4, elinewidth=1.5, capthick=1.5)\n",
    "        ax.scatter(mean, np.arange(3*(len(means)+1),0,-(len(means)+1))-i, marker=markers[i], s=16, color=colors[i], zorder=10, label=labels[i])\n",
    "\n",
    "    ax.legend(loc='best')\n",
    "    plt.rcParams.update({'ytick.right': False})\n",
    "    plt.rcParams.update({'ytick.left': False})\n",
    "    ticks = []\n",
    "    t_labels = []\n",
    "    metrics = ['Clean', 'FGSM', 'CAA']\n",
    "    \n",
    "    for i in range(1, 3*(len(means)+1)+1):\n",
    "        if i%(len(means)+1)!= 1 : \n",
    "            ticks.append(i)\n",
    "        if i%(len(means)+1) == (len(means)+3)//2 :\n",
    "            t_labels.append(metrics.pop())\n",
    "        elif i%(len(means)+1)!= 1 : \n",
    "            t_labels.append('')\n",
    "\n",
    "    ax.set_yticks(ticks, labels=t_labels)"
   ]
  },
  {
   "cell_type": "code",
   "execution_count": 41,
   "id": "a8b1d4de",
   "metadata": {},
   "outputs": [],
   "source": [
    "plt.style.use(['science','ieee'])"
   ]
  },
  {
   "cell_type": "markdown",
   "id": "8f818b4df2d5f50",
   "metadata": {
    "collapsed": false
   },
   "source": [
    "##### Evaluation"
   ]
  },
  {
   "cell_type": "code",
   "execution_count": 6,
   "id": "fb119a75ce4e19b2",
   "metadata": {
    "ExecuteTime": {
     "end_time": "2025-06-07T10:35:51.899806Z",
     "start_time": "2025-06-07T10:35:51.770688Z"
    },
    "collapsed": false
   },
   "outputs": [],
   "source": [
    "def evaluate_model(model: torch.nn.Sequential, test_dataset: Dataset, epsilon_fgsm: float = 0.1, epsilon_cert_adv: float = 0.03, data_domain: tuple[float] = (0.0,1.0)) -> list[int]: \n",
    "    model = model.to(DEVICE)\n",
    "    model.eval()\n",
    "    acc = evaluate_accuracy(test_dataset, model, num_samples=len(test_dataset), device=DEVICE)\n",
    "    fgsm_acc = evaluate_fgsm_accuracy(test_dataset, model, num_samples=len(test_dataset), device=DEVICE, epsilon=epsilon_fgsm, data_domain=data_domain)\n",
    "    cert_acc = evaluate_certified_adv_accuracy(test_dataset, model, num_samples=len(test_dataset), data_domain=data_domain, device=DEVICE, epsilon=epsilon_cert_adv )\n",
    "    return [acc, fgsm_acc, cert_acc]"
   ]
  },
  {
   "cell_type": "markdown",
   "id": "24082b84c204bc5c",
   "metadata": {
    "collapsed": false
   },
   "source": [
    "##### Experiment"
   ]
  },
  {
   "cell_type": "markdown",
   "id": "3f7ff5823ce283c",
   "metadata": {
    "collapsed": false
   },
   "source": [
    "### Datasets\n",
    "\n",
    "We evaluate our methodology on the following datasets : MNIST, Fashion-MNIST\n",
    "##### MNIST\n",
    "\n",
    "Digit recognition dataset. "
   ]
  },
  {
   "cell_type": "code",
   "execution_count": 7,
   "id": "cc9be8537b356921",
   "metadata": {
    "ExecuteTime": {
     "end_time": "2025-06-07T10:36:03.316954Z",
     "start_time": "2025-06-07T10:36:02.834100Z"
    },
    "collapsed": false
   },
   "outputs": [
    {
     "name": "stderr",
     "output_type": "stream",
     "text": [
      "100%|██████████| 9.91M/9.91M [00:05<00:00, 1.98MB/s]\n",
      "100%|██████████| 28.9k/28.9k [00:00<00:00, 288kB/s]\n",
      "100%|██████████| 1.65M/1.65M [00:01<00:00, 1.46MB/s]\n",
      "100%|██████████| 4.54k/4.54k [00:00<00:00, 3.83MB/s]"
     ]
    },
    {
     "name": "stdout",
     "output_type": "stream",
     "text": [
      "Train Dataset Size:  48000\n",
      "Test Dataset Size:  12000\n",
      "Validation Dataset Size:  10000\n",
      "Validation dataset will be used to select best model during training and handle early stopping. Test dataset will be used for benchmarking. \n"
     ]
    },
    {
     "name": "stderr",
     "output_type": "stream",
     "text": [
      "\n"
     ]
    },
    {
     "data": {
      "image/png": "[encoded data removed]",
      "text/plain": [
       "<Figure size 1500x480 with 10 Axes>"
      ]
     },
     "metadata": {},
     "output_type": "display_data"
    }
   ],
   "source": [
    "# Setting random seeds for reproducibility\n",
    "torch.manual_seed(0)\n",
    "torch.cuda.manual_seed(0)\n",
    "torch.backends.cudnn.deterministic = True\n",
    "\n",
    "mnist_train_test, mnist_val = dataset.get_mnist_dataset(root=\"./data\")\n",
    "mnist_train, mnist_test = dataset.split_dataset(mnist_train_test, split_proportion=0.8)\n",
    "display_dataset(mnist_train)\n",
    "print(\"Train Dataset Size: \", len(mnist_train))\n",
    "print(\"Test Dataset Size: \", len(mnist_test))\n",
    "print(\"Validation Dataset Size: \", len(mnist_val))\n",
    "print(\"Validation dataset will be used to select best model during training and handle early stopping. Test dataset will be used for benchmarking. \")"
   ]
  },
  {
   "cell_type": "markdown",
   "id": "3bab77ca7a20f2dc",
   "metadata": {
    "collapsed": false
   },
   "source": [
    "##### FashionMNIST\n",
    "\n",
    "Clothing classification dataset."
   ]
  },
  {
   "cell_type": "code",
   "execution_count": 8,
   "id": "5720a19e9e7e23c5",
   "metadata": {
    "ExecuteTime": {
     "end_time": "2025-06-07T10:36:09.354919Z",
     "start_time": "2025-06-07T10:36:09.021066Z"
    },
    "collapsed": false
   },
   "outputs": [
    {
     "name": "stderr",
     "output_type": "stream",
     "text": [
      "100%|██████████| 26.4M/26.4M [00:01<00:00, 20.7MB/s]\n",
      "100%|██████████| 29.5k/29.5k [00:00<00:00, 2.53MB/s]\n",
      "100%|██████████| 4.42M/4.42M [00:00<00:00, 14.8MB/s]\n",
      "100%|██████████| 5.15k/5.15k [00:00<00:00, 40.9MB/s]\n"
     ]
    },
    {
     "name": "stdout",
     "output_type": "stream",
     "text": [
      "Train Dataset Size:  48000\n",
      "Test Dataset Size:  12000\n",
      "Validation Dataset Size:  10000\n",
      "Validation dataset will be used to select best model during training and handle early stopping. Test dataset will be used for benchmarking. \n"
     ]
    },
    {
     "data": {
      "image/png": "[encoded data removed]",
      "text/plain": [
       "<Figure size 1500x480 with 10 Axes>"
      ]
     },
     "metadata": {},
     "output_type": "display_data"
    }
   ],
   "source": [
    "# Setting random seeds for reproducibility\n",
    "torch.manual_seed(0)\n",
    "torch.cuda.manual_seed(0)\n",
    "torch.backends.cudnn.deterministic = True\n",
    "\n",
    "fashion_mnist_train_test, fashion_mnist_val = dataset.get_fashion_mnist_dataset(root=\"./data\")\n",
    "fashion_mnist_train, fashion_mnist_test = dataset.split_dataset(fashion_mnist_train_test, split_proportion=0.8)\n",
    "display_dataset(fashion_mnist_train)\n",
    "print(\"Train Dataset Size: \", len(fashion_mnist_train))\n",
    "print(\"Test Dataset Size: \", len(fashion_mnist_test))\n",
    "print(\"Validation Dataset Size: \", len(fashion_mnist_val))\n",
    "print(\"Validation dataset will be used to select best model during training and handle early stopping. Test dataset will be used for benchmarking. \")"
   ]
  },
  {
   "cell_type": "code",
   "execution_count": 8,
   "id": "a869c7b477e8fe06",
   "metadata": {
    "ExecuteTime": {
     "end_time": "2025-06-07T08:20:57.359097Z",
     "start_time": "2025-06-07T08:20:41.729900Z"
    },
    "collapsed": false
   },
   "outputs": [
    {
     "name": "stdout",
     "output_type": "stream",
     "text": [
      "tensor(1.)\n",
      "tensor(-1.)\n",
      "tensor(1.)\n",
      "tensor(-1.)\n"
     ]
    }
   ],
   "source": [
    "X, y = next(iter(DataLoader(fashion_mnist_train, batch_size=len(fashion_mnist_train), shuffle=True)))\n",
    "print(X.max())\n",
    "print(X.min())\n",
    "X, y = next(iter(DataLoader(mnist_train, batch_size=len(mnist_train), shuffle=True)))\n",
    "print(X.max())\n",
    "print(X.min())"
   ]
  },
  {
   "cell_type": "markdown",
   "id": "bad66492e1c4e09b",
   "metadata": {
    "collapsed": false
   },
   "source": [
    "### Model definition\n",
    "\n",
    "We use a simple 3 layer shallow network to benchmark our methodology. "
   ]
  },
  {
   "cell_type": "code",
   "execution_count": 9,
   "id": "45f70557b78fef2e",
   "metadata": {
    "ExecuteTime": {
     "end_time": "2025-06-07T10:36:16.402458Z",
     "start_time": "2025-06-07T10:36:16.269164Z"
    },
    "collapsed": false
   },
   "outputs": [],
   "source": [
    "def get_model(output_dim=10):\n",
    "    \"\"\"Returns a simple CNN model.\"\"\"\n",
    "    model = torch.nn.Sequential(\n",
    "        torch.nn.Conv2d(1, 8, kernel_size=5, stride=1, padding=1),\n",
    "        torch.nn.ReLU(),\n",
    "        torch.nn.Conv2d(8, 1, kernel_size=5, stride=1, padding=1),\n",
    "        torch.nn.ReLU(),\n",
    "        torch.nn.Flatten(),\n",
    "        torch.nn.Linear(576, output_dim),\n",
    "    ).to(DEVICE)\n",
    "    return model"
   ]
  },
  {
   "cell_type": "markdown",
   "id": "f9a614c4e9223834",
   "metadata": {
    "collapsed": false
   },
   "source": [
    "### Experiments\n",
    "------------------------\n",
    "### MNIST\n"
   ]
  },
  {
   "cell_type": "markdown",
   "id": "3d4c0d5764c2ae93",
   "metadata": {
    "collapsed": false
   },
   "source": [
    "#### Constants"
   ]
  },
  {
   "cell_type": "code",
   "execution_count": null,
   "id": "243c6b36aab92d3a",
   "metadata": {
    "ExecuteTime": {
     "end_time": "2025-06-07T10:36:22.807988Z",
     "start_time": "2025-06-07T10:36:22.676852Z"
    },
    "collapsed": false
   },
   "outputs": [],
   "source": [
    "MNIST_EPSILON_FGSM = 0.1\n",
    "MNIST_EPSILON_CERT_ADV = 0.03\n",
    "MNIST_DATA_DOMAIN = (-1.0, 1.0)\n",
    "\n",
    "ADAM = \"adam\"\n",
    "SAM = \"sam\"\n",
    "PGD = \"pgd\"\n",
    "HYPERCUBE = \"hypercube\""
   ]
  },
  {
   "cell_type": "markdown",
   "id": "a6ee7486def38af8",
   "metadata": {
    "collapsed": false
   },
   "source": [
    "#### ADAM Baseline"
   ]
  },
  {
   "cell_type": "code",
   "execution_count": null,
   "id": "892781e55c31cf7e",
   "metadata": {
    "ExecuteTime": {
     "end_time": "2025-06-07T08:23:55.923367Z",
     "start_time": "2025-06-07T08:20:57.655055Z"
    },
    "collapsed": false
   },
   "outputs": [
    {
     "name": "stdout",
     "output_type": "stream",
     "text": [
      " ---------- Starting Run #0 ---------- \n"
     ]
    },
    {
     "name": "stderr",
     "output_type": "stream",
     "text": [
      "100%|██████████| 700/700 [00:19<00:00, 36.62it/s, loss=0.0986, val_acc=0.916]\n"
     ]
    },
    {
     "name": "stdout",
     "output_type": "stream",
     "text": [
      "-> Run finished with values : [0.918666660785675, 0.7102500200271606, 0.006083333399146795]\n",
      " ---------- Starting Run #1 ---------- \n"
     ]
    },
    {
     "name": "stderr",
     "output_type": "stream",
     "text": [
      "100%|██████████| 700/700 [00:18<00:00, 37.54it/s, loss=0.438, val_acc=0.921] \n"
     ]
    },
    {
     "name": "stdout",
     "output_type": "stream",
     "text": [
      "-> Run finished with values : [0.9175833463668823, 0.6655833125114441, 0.052416667342185974]\n",
      " ---------- Starting Run #2 ---------- \n"
     ]
    },
    {
     "name": "stderr",
     "output_type": "stream",
     "text": [
      "100%|██████████| 700/700 [00:18<00:00, 38.16it/s, loss=0.155, val_acc=0.912] \n"
     ]
    },
    {
     "name": "stdout",
     "output_type": "stream",
     "text": [
      "-> Run finished with values : [0.9175833463668823, 0.7221666574478149, 0.006000000052154064]\n",
      " ---------- Starting Run #3 ---------- \n"
     ]
    },
    {
     "name": "stderr",
     "output_type": "stream",
     "text": [
      "100%|██████████| 700/700 [00:18<00:00, 38.66it/s, loss=0.202, val_acc=0.924] \n"
     ]
    },
    {
     "name": "stdout",
     "output_type": "stream",
     "text": [
      "-> Run finished with values : [0.9179166555404663, 0.6653333306312561, 0.03708333149552345]\n",
      " ---------- Starting Run #4 ---------- \n"
     ]
    },
    {
     "name": "stderr",
     "output_type": "stream",
     "text": [
      "100%|██████████| 700/700 [00:18<00:00, 38.88it/s, loss=0.226, val_acc=0.928] \n"
     ]
    },
    {
     "name": "stdout",
     "output_type": "stream",
     "text": [
      "-> Run finished with values : [0.9213333129882812, 0.7403333187103271, 0.07750000059604645]\n",
      "========== Performance of Adam across 5 independent runs ==========\n",
      "Clean Accuracy : 0.9186 (std 0.0016)\n",
      "FGSM Accuracy : 0.7007 (std 0.0339)\n",
      "Certified Adversarial Accuracy : 0.0358 (std 0.0308)\n"
     ]
    }
   ],
   "source": [
    "# Setting random seeds for reproducibility\n",
    "torch.manual_seed(0)\n",
    "torch.cuda.manual_seed(0)\n",
    "torch.backends.cudnn.deterministic = True\n",
    "\n",
    "def runAdam() -> list[float]:\n",
    "    adam_model = get_model()        \n",
    "    trainer = SimpleTrainer(adam_model, device=DEVICE, quiet=False, acc_evaluation_steps=70)\n",
    "    trainer.train(mnist_train, mnist_val, loss_obj=0.0, max_iters=700, batch_size=64, lr=1e-3)\n",
    "    adam_model = trainer.result()\n",
    "    return evaluate_model(adam_model, mnist_test,epsilon_fgsm=MNIST_EPSILON_FGSM, epsilon_cert_adv=MNIST_EPSILON_CERT_ADV, data_domain=MNIST_DATA_DOMAIN)\n",
    "means, stds, all_runs = evaluate_run(runAdam, N_RUNS)\n",
    "print(\"=\"*10, f\"Performance of Adam across {N_RUNS} independent runs\", \"=\"*10)\n",
    "print(f\"Clean Accuracy : {means[0]:.4f} (std {stds[0]:.4f})\")\n",
    "print(f\"FGSM Accuracy : {means[1]:.4f} (std {stds[1]:.4f})\")\n",
    "print(f\"Certified Adversarial Accuracy : {means[2]:.4f} (std {stds[2]:.4f})\")\n",
    "\n",
    "mnist_means_dict[ADAM] = means\n",
    "mnist_stds_dict[ADAM] = stds\n",
    "#print(\"All runs : \", all_runs)"
   ]
  },
  {
   "cell_type": "markdown",
   "id": "d70ea7de6a59af8",
   "metadata": {
    "collapsed": false
   },
   "source": [
    "#### PGD Baseline"
   ]
  },
  {
   "cell_type": "code",
   "execution_count": null,
   "id": "7caf7999a8e15677",
   "metadata": {
    "ExecuteTime": {
     "end_time": "2025-06-07T08:37:25.215029Z",
     "start_time": "2025-06-07T08:23:55.924613Z"
    },
    "collapsed": false
   },
   "outputs": [
    {
     "name": "stdout",
     "output_type": "stream",
     "text": [
      " ---------- Starting Run #0 ---------- \n"
     ]
    },
    {
     "name": "stderr",
     "output_type": "stream",
     "text": [
      " 14%|█▍        | 101/700 [00:05<00:31, 18.97it/s, loss=2.3, val_acc=0.0781]\n"
     ]
    },
    {
     "name": "stdout",
     "output_type": "stream",
     "text": [
      "Bad Initialization detected. Interrupted Training.\n"
     ]
    },
    {
     "name": "stderr",
     "output_type": "stream",
     "text": [
      "100%|██████████| 700/700 [00:36<00:00, 19.26it/s, loss=0.625, val_acc=0.938]\n"
     ]
    },
    {
     "name": "stdout",
     "output_type": "stream",
     "text": [
      "-> Run finished with values : [0.9039999842643738, 0.8759999871253967, 0.8243333101272583]\n",
      " ---------- Starting Run #1 ---------- \n"
     ]
    },
    {
     "name": "stderr",
     "output_type": "stream",
     "text": [
      " 14%|█▍        | 101/700 [00:05<00:30, 19.43it/s, loss=2.3, val_acc=0.0781] \n"
     ]
    },
    {
     "name": "stdout",
     "output_type": "stream",
     "text": [
      "Bad Initialization detected. Interrupted Training.\n"
     ]
    },
    {
     "name": "stderr",
     "output_type": "stream",
     "text": [
      " 14%|█▍        | 101/700 [00:05<00:31, 19.05it/s, loss=2.3, val_acc=0.141] \n"
     ]
    },
    {
     "name": "stdout",
     "output_type": "stream",
     "text": [
      "Bad Initialization detected. Interrupted Training.\n"
     ]
    },
    {
     "name": "stderr",
     "output_type": "stream",
     "text": [
      " 14%|█▍        | 101/700 [00:05<00:31, 18.96it/s, loss=2.3, val_acc=0.188] \n"
     ]
    },
    {
     "name": "stdout",
     "output_type": "stream",
     "text": [
      "Bad Initialization detected. Interrupted Training.\n"
     ]
    },
    {
     "name": "stderr",
     "output_type": "stream",
     "text": [
      " 14%|█▍        | 101/700 [00:05<00:31, 19.04it/s, loss=2.3, val_acc=0.109] \n"
     ]
    },
    {
     "name": "stdout",
     "output_type": "stream",
     "text": [
      "Bad Initialization detected. Interrupted Training.\n"
     ]
    },
    {
     "name": "stderr",
     "output_type": "stream",
     "text": [
      " 14%|█▍        | 101/700 [00:05<00:30, 19.55it/s, loss=2.3, val_acc=0.0625]\n"
     ]
    },
    {
     "name": "stdout",
     "output_type": "stream",
     "text": [
      "Bad Initialization detected. Interrupted Training.\n"
     ]
    },
    {
     "name": "stderr",
     "output_type": "stream",
     "text": [
      " 14%|█▍        | 101/700 [00:05<00:30, 19.44it/s, loss=2.3, val_acc=0.141] \n"
     ]
    },
    {
     "name": "stdout",
     "output_type": "stream",
     "text": [
      "Bad Initialization detected. Interrupted Training.\n"
     ]
    },
    {
     "name": "stderr",
     "output_type": "stream",
     "text": [
      "100%|██████████| 700/700 [00:35<00:00, 19.59it/s, loss=0.668, val_acc=0.969]\n"
     ]
    },
    {
     "name": "stdout",
     "output_type": "stream",
     "text": [
      "-> Run finished with values : [0.9018332958221436, 0.8729166388511658, 0.5953333377838135]\n",
      " ---------- Starting Run #2 ---------- \n"
     ]
    },
    {
     "name": "stderr",
     "output_type": "stream",
     "text": [
      " 14%|█▍        | 101/700 [00:05<00:31, 19.07it/s, loss=2.31, val_acc=0.156] \n"
     ]
    },
    {
     "name": "stdout",
     "output_type": "stream",
     "text": [
      "Bad Initialization detected. Interrupted Training.\n"
     ]
    },
    {
     "name": "stderr",
     "output_type": "stream",
     "text": [
      " 14%|█▍        | 101/700 [00:05<00:32, 18.33it/s, loss=2.3, val_acc=0.109] \n"
     ]
    },
    {
     "name": "stdout",
     "output_type": "stream",
     "text": [
      "Bad Initialization detected. Interrupted Training.\n"
     ]
    },
    {
     "name": "stderr",
     "output_type": "stream",
     "text": [
      " 14%|█▍        | 101/700 [00:05<00:31, 18.83it/s, loss=2.3, val_acc=0.156] \n"
     ]
    },
    {
     "name": "stdout",
     "output_type": "stream",
     "text": [
      "Bad Initialization detected. Interrupted Training.\n"
     ]
    },
    {
     "name": "stderr",
     "output_type": "stream",
     "text": [
      " 14%|█▍        | 101/700 [00:05<00:30, 19.52it/s, loss=2.3, val_acc=0.109] \n"
     ]
    },
    {
     "name": "stdout",
     "output_type": "stream",
     "text": [
      "Bad Initialization detected. Interrupted Training.\n"
     ]
    },
    {
     "name": "stderr",
     "output_type": "stream",
     "text": [
      " 14%|█▍        | 101/700 [00:05<00:30, 19.43it/s, loss=2.3, val_acc=0.156] \n"
     ]
    },
    {
     "name": "stdout",
     "output_type": "stream",
     "text": [
      "Bad Initialization detected. Interrupted Training.\n"
     ]
    },
    {
     "name": "stderr",
     "output_type": "stream",
     "text": [
      " 14%|█▍        | 101/700 [00:05<00:30, 19.48it/s, loss=2.31, val_acc=0.109]\n"
     ]
    },
    {
     "name": "stdout",
     "output_type": "stream",
     "text": [
      "Bad Initialization detected. Interrupted Training.\n"
     ]
    },
    {
     "name": "stderr",
     "output_type": "stream",
     "text": [
      " 14%|█▍        | 101/700 [00:05<00:30, 19.51it/s, loss=2.3, val_acc=0.0938]\n"
     ]
    },
    {
     "name": "stdout",
     "output_type": "stream",
     "text": [
      "Bad Initialization detected. Interrupted Training.\n"
     ]
    },
    {
     "name": "stderr",
     "output_type": "stream",
     "text": [
      " 14%|█▍        | 101/700 [00:05<00:30, 19.37it/s, loss=2.3, val_acc=0.0938]\n"
     ]
    },
    {
     "name": "stdout",
     "output_type": "stream",
     "text": [
      "Bad Initialization detected. Interrupted Training.\n"
     ]
    },
    {
     "name": "stderr",
     "output_type": "stream",
     "text": [
      " 14%|█▍        | 101/700 [00:05<00:30, 19.41it/s, loss=2.3, val_acc=0.0938]\n"
     ]
    },
    {
     "name": "stdout",
     "output_type": "stream",
     "text": [
      "Bad Initialization detected. Interrupted Training.\n"
     ]
    },
    {
     "name": "stderr",
     "output_type": "stream",
     "text": [
      " 14%|█▍        | 101/700 [00:05<00:31, 19.32it/s, loss=2.3, val_acc=0.0781]\n"
     ]
    },
    {
     "name": "stdout",
     "output_type": "stream",
     "text": [
      "Bad Initialization detected. Interrupted Training.\n"
     ]
    },
    {
     "name": "stderr",
     "output_type": "stream",
     "text": [
      " 14%|█▍        | 101/700 [00:05<00:31, 19.30it/s, loss=2.3, val_acc=0.0625]\n"
     ]
    },
    {
     "name": "stdout",
     "output_type": "stream",
     "text": [
      "Bad Initialization detected. Interrupted Training.\n"
     ]
    },
    {
     "name": "stderr",
     "output_type": "stream",
     "text": [
      " 14%|█▍        | 101/700 [00:05<00:30, 19.36it/s, loss=2.3, val_acc=0.0625]\n"
     ]
    },
    {
     "name": "stdout",
     "output_type": "stream",
     "text": [
      "Bad Initialization detected. Interrupted Training.\n"
     ]
    },
    {
     "name": "stderr",
     "output_type": "stream",
     "text": [
      " 14%|█▍        | 101/700 [00:05<00:30, 19.43it/s, loss=2.3, val_acc=0.125]  \n"
     ]
    },
    {
     "name": "stdout",
     "output_type": "stream",
     "text": [
      "Bad Initialization detected. Interrupted Training.\n"
     ]
    },
    {
     "name": "stderr",
     "output_type": "stream",
     "text": [
      " 14%|█▍        | 101/700 [00:05<00:30, 19.39it/s, loss=2.3, val_acc=0.172] \n"
     ]
    },
    {
     "name": "stdout",
     "output_type": "stream",
     "text": [
      "Bad Initialization detected. Interrupted Training.\n"
     ]
    },
    {
     "name": "stderr",
     "output_type": "stream",
     "text": [
      " 14%|█▍        | 101/700 [00:05<00:31, 19.26it/s, loss=2.3, val_acc=0.0938]\n"
     ]
    },
    {
     "name": "stdout",
     "output_type": "stream",
     "text": [
      "Bad Initialization detected. Interrupted Training.\n"
     ]
    },
    {
     "name": "stderr",
     "output_type": "stream",
     "text": [
      " 14%|█▍        | 101/700 [00:05<00:31, 19.30it/s, loss=2.3, val_acc=0.125] \n"
     ]
    },
    {
     "name": "stdout",
     "output_type": "stream",
     "text": [
      "Bad Initialization detected. Interrupted Training.\n"
     ]
    },
    {
     "name": "stderr",
     "output_type": "stream",
     "text": [
      " 14%|█▍        | 101/700 [00:05<00:31, 19.00it/s, loss=2.3, val_acc=0.156] \n"
     ]
    },
    {
     "name": "stdout",
     "output_type": "stream",
     "text": [
      "Bad Initialization detected. Interrupted Training.\n"
     ]
    },
    {
     "name": "stderr",
     "output_type": "stream",
     "text": [
      " 14%|█▍        | 101/700 [00:05<00:31, 19.24it/s, loss=2.31, val_acc=0.0781]\n"
     ]
    },
    {
     "name": "stdout",
     "output_type": "stream",
     "text": [
      "Bad Initialization detected. Interrupted Training.\n"
     ]
    },
    {
     "name": "stderr",
     "output_type": "stream",
     "text": [
      "100%|██████████| 700/700 [00:36<00:00, 19.33it/s, loss=0.916, val_acc=0.875]\n"
     ]
    },
    {
     "name": "stdout",
     "output_type": "stream",
     "text": [
      "-> Run finished with values : [0.8943333029747009, 0.8588333129882812, 0.5293333530426025]\n",
      " ---------- Starting Run #3 ---------- \n"
     ]
    },
    {
     "name": "stderr",
     "output_type": "stream",
     "text": [
      " 14%|█▍        | 101/700 [00:05<00:30, 19.49it/s, loss=2.3, val_acc=0.0625]\n"
     ]
    },
    {
     "name": "stdout",
     "output_type": "stream",
     "text": [
      "Bad Initialization detected. Interrupted Training.\n"
     ]
    },
    {
     "name": "stderr",
     "output_type": "stream",
     "text": [
      " 14%|█▍        | 101/700 [00:05<00:31, 19.26it/s, loss=2.3, val_acc=0.0469]\n"
     ]
    },
    {
     "name": "stdout",
     "output_type": "stream",
     "text": [
      "Bad Initialization detected. Interrupted Training.\n"
     ]
    },
    {
     "name": "stderr",
     "output_type": "stream",
     "text": [
      " 14%|█▍        | 101/700 [00:05<00:30, 19.39it/s, loss=2.3, val_acc=0.0625] \n"
     ]
    },
    {
     "name": "stdout",
     "output_type": "stream",
     "text": [
      "Bad Initialization detected. Interrupted Training.\n"
     ]
    },
    {
     "name": "stderr",
     "output_type": "stream",
     "text": [
      " 14%|█▍        | 101/700 [00:05<00:30, 19.44it/s, loss=2.3, val_acc=0.0938]\n"
     ]
    },
    {
     "name": "stdout",
     "output_type": "stream",
     "text": [
      "Bad Initialization detected. Interrupted Training.\n"
     ]
    },
    {
     "name": "stderr",
     "output_type": "stream",
     "text": [
      " 14%|█▍        | 101/700 [00:05<00:30, 19.37it/s, loss=2.3, val_acc=0.0938]\n"
     ]
    },
    {
     "name": "stdout",
     "output_type": "stream",
     "text": [
      "Bad Initialization detected. Interrupted Training.\n"
     ]
    },
    {
     "name": "stderr",
     "output_type": "stream",
     "text": [
      " 14%|█▍        | 101/700 [00:05<00:30, 19.43it/s, loss=2.31, val_acc=0.125]\n"
     ]
    },
    {
     "name": "stdout",
     "output_type": "stream",
     "text": [
      "Bad Initialization detected. Interrupted Training.\n"
     ]
    },
    {
     "name": "stderr",
     "output_type": "stream",
     "text": [
      " 14%|█▍        | 101/700 [00:05<00:30, 19.50it/s, loss=2.3, val_acc=0.125] \n"
     ]
    },
    {
     "name": "stdout",
     "output_type": "stream",
     "text": [
      "Bad Initialization detected. Interrupted Training.\n"
     ]
    },
    {
     "name": "stderr",
     "output_type": "stream",
     "text": [
      " 14%|█▍        | 101/700 [00:05<00:30, 19.34it/s, loss=2.3, val_acc=0.141] \n"
     ]
    },
    {
     "name": "stdout",
     "output_type": "stream",
     "text": [
      "Bad Initialization detected. Interrupted Training.\n"
     ]
    },
    {
     "name": "stderr",
     "output_type": "stream",
     "text": [
      " 14%|█▍        | 101/700 [00:05<00:30, 19.45it/s, loss=2.3, val_acc=0.141] \n"
     ]
    },
    {
     "name": "stdout",
     "output_type": "stream",
     "text": [
      "Bad Initialization detected. Interrupted Training.\n"
     ]
    },
    {
     "name": "stderr",
     "output_type": "stream",
     "text": [
      " 14%|█▍        | 101/700 [00:05<00:31, 19.32it/s, loss=2.3, val_acc=0.188] \n"
     ]
    },
    {
     "name": "stdout",
     "output_type": "stream",
     "text": [
      "Bad Initialization detected. Interrupted Training.\n"
     ]
    },
    {
     "name": "stderr",
     "output_type": "stream",
     "text": [
      " 14%|█▍        | 101/700 [00:05<00:30, 19.34it/s, loss=2.3, val_acc=0.141] \n"
     ]
    },
    {
     "name": "stdout",
     "output_type": "stream",
     "text": [
      "Bad Initialization detected. Interrupted Training.\n"
     ]
    },
    {
     "name": "stderr",
     "output_type": "stream",
     "text": [
      " 14%|█▍        | 101/700 [00:05<00:31, 19.15it/s, loss=2.3, val_acc=0.0312]\n"
     ]
    },
    {
     "name": "stdout",
     "output_type": "stream",
     "text": [
      "Bad Initialization detected. Interrupted Training.\n"
     ]
    },
    {
     "name": "stderr",
     "output_type": "stream",
     "text": [
      " 14%|█▍        | 101/700 [00:05<00:31, 19.20it/s, loss=2.3, val_acc=0.0938] \n"
     ]
    },
    {
     "name": "stdout",
     "output_type": "stream",
     "text": [
      "Bad Initialization detected. Interrupted Training.\n"
     ]
    },
    {
     "name": "stderr",
     "output_type": "stream",
     "text": [
      "100%|██████████| 700/700 [00:35<00:00, 19.48it/s, loss=0.781, val_acc=0.906]\n"
     ]
    },
    {
     "name": "stdout",
     "output_type": "stream",
     "text": [
      "-> Run finished with values : [0.8942499756813049, 0.8577499985694885, 0.4607499837875366]\n",
      " ---------- Starting Run #4 ---------- \n"
     ]
    },
    {
     "name": "stderr",
     "output_type": "stream",
     "text": [
      " 14%|█▍        | 101/700 [00:05<00:30, 19.40it/s, loss=2.3, val_acc=0.0625]\n"
     ]
    },
    {
     "name": "stdout",
     "output_type": "stream",
     "text": [
      "Bad Initialization detected. Interrupted Training.\n"
     ]
    },
    {
     "name": "stderr",
     "output_type": "stream",
     "text": [
      " 14%|█▍        | 101/700 [00:05<00:31, 19.31it/s, loss=2.3, val_acc=0.172] \n"
     ]
    },
    {
     "name": "stdout",
     "output_type": "stream",
     "text": [
      "Bad Initialization detected. Interrupted Training.\n"
     ]
    },
    {
     "name": "stderr",
     "output_type": "stream",
     "text": [
      "100%|██████████| 700/700 [00:35<00:00, 19.65it/s, loss=0.596, val_acc=0.875]\n"
     ]
    },
    {
     "name": "stdout",
     "output_type": "stream",
     "text": [
      "-> Run finished with values : [0.8964999914169312, 0.8690833449363708, 0.6859999895095825]\n",
      "========== Performance of PGD across 5 independent runs ==========\n",
      "Clean Accuracy : 0.8982 (std 0.0045)\n",
      "FGSM Accuracy : 0.8669 (std 0.0083)\n",
      "Certified Adversarial Accuracy : 0.6191 (std 0.1417)\n"
     ]
    }
   ],
   "source": [
    "# Setting random seeds for reproducibility\n",
    "torch.manual_seed(0)\n",
    "torch.cuda.manual_seed(0)\n",
    "torch.backends.cudnn.deterministic = True\n",
    "# optimal parameters borrowed from https://github.com/MadryLab/mnist_challenge/blob/master/config.json\n",
    "# epsilon was reduced to 0.2 to allow for training. We noticed that epsilon=0.3 consistently did not train across 10 independant runs. This is because we use a smaller architecture here. \n",
    "def runPGD() -> list[float]:\n",
    "    restart = True\n",
    "    trainer = None \n",
    "    while restart: # restarts if bad initialization is detected\n",
    "        pgd_model = get_model()        \n",
    "        trainer = PGDTrainer(pgd_model, quiet=False, device=DEVICE)\n",
    "        restart = not trainer.train(\n",
    "            mnist_train, mnist_val, 0.0, max_iters=700, batch_size=64, lr=1e-3, epsilon=0.3, alpha=0.01, num_iters=40, data_domain=MNIST_DATA_DOMAIN\n",
    "        )\n",
    "    pgd_model = trainer.result()\n",
    "    return evaluate_model(pgd_model, mnist_test,epsilon_fgsm=MNIST_EPSILON_FGSM, epsilon_cert_adv=MNIST_EPSILON_CERT_ADV, data_domain=MNIST_DATA_DOMAIN)\n",
    "means, stds, all_runs = evaluate_run(runPGD, N_RUNS)\n",
    "print(\"=\"*10, f\"Performance of PGD across {N_RUNS} independent runs\", \"=\"*10)\n",
    "print(f\"Clean Accuracy : {means[0]:.4f} (std {stds[0]:.4f})\")\n",
    "print(f\"FGSM Accuracy : {means[1]:.4f} (std {stds[1]:.4f})\")\n",
    "print(f\"Certified Adversarial Accuracy : {means[2]:.4f} (std {stds[2]:.4f})\")\n",
    "\n",
    "mnist_means_dict[PGD] = means\n",
    "mnist_stds_dict[PGD] = stds\n",
    "#print(\"All runs : \", all_runs)"
   ]
  },
  {
   "cell_type": "markdown",
   "id": "4ea499cdfaa4a48e",
   "metadata": {
    "collapsed": false
   },
   "source": [
    "#### Hypercube Training (Ours)"
   ]
  },
  {
   "cell_type": "code",
   "execution_count": null,
   "id": "73a8ae9c9a8cb955",
   "metadata": {
    "ExecuteTime": {
     "end_time": "2025-06-07T08:42:12.556150Z",
     "start_time": "2025-06-07T08:37:25.216915Z"
    },
    "collapsed": false
   },
   "outputs": [
    {
     "name": "stdout",
     "output_type": "stream",
     "text": [
      " ---------- Starting Run #0 ---------- \n",
      "========== Started Multiphase Trainer for 7 phases ==========\n",
      "First time train is called. Initial training phase started with volume 5e-05.\n"
     ]
    },
    {
     "name": "stderr",
     "output_type": "stream",
     "text": [
      "100%|██████████| 100/100 [00:02<00:00, 36.95it/s, loss=0.734, min_val_acc=0.819]\n"
     ]
    },
    {
     "name": "stdout",
     "output_type": "stream",
     "text": [
      "=> Initial center accuracy is 0.8600000143051147\n",
      "-> Starting phase 6\n",
      "-> Current Volume interval : [5e-05, INFINITY]\n"
     ]
    },
    {
     "name": "stderr",
     "output_type": "stream",
     "text": [
      "100%|██████████| 100/100 [00:02<00:00, 37.00it/s, loss=0.268, min_val_acc=0.875]\n"
     ]
    },
    {
     "name": "stdout",
     "output_type": "stream",
     "text": [
      "-> Phase done\n",
      "-> Center Accuracy is 0.8901000022888184.\n",
      "-> Generalization is above minimum accuracy by 0.11010000228881833.!\n",
      "-> Starting phase 6\n",
      "-> Current Volume interval : [0.0001, INFINITY]\n"
     ]
    },
    {
     "name": "stderr",
     "output_type": "stream",
     "text": [
      "100%|██████████| 100/100 [00:02<00:00, 36.80it/s, loss=0.536, min_val_acc=0.869]\n"
     ]
    },
    {
     "name": "stdout",
     "output_type": "stream",
     "text": [
      "-> Phase done\n",
      "-> Center Accuracy is 0.9007999897003174.\n",
      "-> Generalization is above minimum accuracy by 0.12079998970031736.!\n",
      "-> Starting phase 6\n",
      "-> Current Volume interval : [0.0002, INFINITY]\n"
     ]
    },
    {
     "name": "stderr",
     "output_type": "stream",
     "text": [
      "100%|██████████| 100/100 [00:02<00:00, 37.44it/s, loss=0.478, min_val_acc=0.851]\n"
     ]
    },
    {
     "name": "stdout",
     "output_type": "stream",
     "text": [
      "-> Phase done\n",
      "-> Center Accuracy is 0.9128999710083008.\n",
      "-> Generalization is above minimum accuracy by 0.13289997100830075.!\n",
      "-> Starting phase 6\n",
      "-> Current Volume interval : [0.0004, INFINITY]\n"
     ]
    },
    {
     "name": "stderr",
     "output_type": "stream",
     "text": [
      "100%|██████████| 100/100 [00:02<00:00, 40.24it/s, loss=0.8, min_val_acc=0.817] \n"
     ]
    },
    {
     "name": "stdout",
     "output_type": "stream",
     "text": [
      "-> Phase done\n",
      "-> Center Accuracy is 0.9139000177383423.\n",
      "-> Generalization is above minimum accuracy by 0.13390001773834226.!\n",
      "-> Starting phase 6\n",
      "-> Current Volume interval : [0.0008, INFINITY]\n"
     ]
    },
    {
     "name": "stderr",
     "output_type": "stream",
     "text": [
      "100%|██████████| 100/100 [00:02<00:00, 37.08it/s, loss=0.853, min_val_acc=0.754]\n"
     ]
    },
    {
     "name": "stdout",
     "output_type": "stream",
     "text": [
      "-> Phase done\n",
      "-> Center Accuracy is 0.9142000079154968.\n",
      "-> Generalization is above minimum accuracy by 0.1342000079154968.!\n",
      "-> Starting phase 6\n",
      "-> Current Volume interval : [0.0016, INFINITY]\n"
     ]
    },
    {
     "name": "stderr",
     "output_type": "stream",
     "text": [
      "100%|██████████| 100/100 [00:02<00:00, 38.09it/s, loss=1.36, min_val_acc=0.581]\n"
     ]
    },
    {
     "name": "stdout",
     "output_type": "stream",
     "text": [
      "-> Phase done\n",
      "-> Center Accuracy is 0.9016000032424927.\n",
      "-> Generalization is above minimum accuracy by 0.12160000324249265.!\n",
      "Training succeeded !\n",
      "-> Run finished with values : [0.8921666741371155, 0.8032500147819519, 0.8134999871253967]\n",
      " ---------- Starting Run #1 ---------- \n",
      "========== Started Multiphase Trainer for 7 phases ==========\n",
      "First time train is called. Initial training phase started with volume 5e-05.\n"
     ]
    },
    {
     "name": "stderr",
     "output_type": "stream",
     "text": [
      "100%|██████████| 100/100 [00:02<00:00, 36.63it/s, loss=0.396, min_val_acc=0.845]\n"
     ]
    },
    {
     "name": "stdout",
     "output_type": "stream",
     "text": [
      "=> Initial center accuracy is 0.8539999723434448\n",
      "-> Starting phase 6\n",
      "-> Current Volume interval : [5e-05, INFINITY]\n"
     ]
    },
    {
     "name": "stderr",
     "output_type": "stream",
     "text": [
      "100%|██████████| 100/100 [00:02<00:00, 36.90it/s, loss=0.238, min_val_acc=0.89]\n"
     ]
    },
    {
     "name": "stdout",
     "output_type": "stream",
     "text": [
      "-> Phase done\n",
      "-> Center Accuracy is 0.897599995136261.\n",
      "-> Generalization is above minimum accuracy by 0.11759999513626096.!\n",
      "-> Starting phase 6\n",
      "-> Current Volume interval : [0.0001, INFINITY]\n"
     ]
    },
    {
     "name": "stderr",
     "output_type": "stream",
     "text": [
      "100%|██████████| 100/100 [00:02<00:00, 38.87it/s, loss=0.664, min_val_acc=0.875]\n"
     ]
    },
    {
     "name": "stdout",
     "output_type": "stream",
     "text": [
      "-> Phase done\n",
      "-> Center Accuracy is 0.9075999855995178.\n",
      "-> Generalization is above minimum accuracy by 0.1275999855995178.!\n",
      "-> Starting phase 6\n",
      "-> Current Volume interval : [0.0002, INFINITY]\n"
     ]
    },
    {
     "name": "stderr",
     "output_type": "stream",
     "text": [
      "100%|██████████| 100/100 [00:02<00:00, 39.45it/s, loss=0.457, min_val_acc=0.857]\n"
     ]
    },
    {
     "name": "stdout",
     "output_type": "stream",
     "text": [
      "-> Phase done\n",
      "-> Center Accuracy is 0.9106000065803528.\n",
      "-> Generalization is above minimum accuracy by 0.13060000658035276.!\n",
      "-> Starting phase 6\n",
      "-> Current Volume interval : [0.0004, INFINITY]\n"
     ]
    },
    {
     "name": "stderr",
     "output_type": "stream",
     "text": [
      "100%|██████████| 100/100 [00:02<00:00, 43.68it/s, loss=0.459, min_val_acc=0.834]\n"
     ]
    },
    {
     "name": "stdout",
     "output_type": "stream",
     "text": [
      "-> Phase done\n",
      "-> Center Accuracy is 0.9162999987602234.\n",
      "-> Generalization is above minimum accuracy by 0.13629999876022336.!\n",
      "-> Starting phase 6\n",
      "-> Current Volume interval : [0.0008, INFINITY]\n"
     ]
    },
    {
     "name": "stderr",
     "output_type": "stream",
     "text": [
      "100%|██████████| 100/100 [00:02<00:00, 39.42it/s, loss=0.814, min_val_acc=0.778]\n"
     ]
    },
    {
     "name": "stdout",
     "output_type": "stream",
     "text": [
      "-> Phase done\n",
      "-> Center Accuracy is 0.9161999821662903.\n",
      "-> Generalization is above minimum accuracy by 0.13619998216629026.!\n",
      "-> Starting phase 6\n",
      "-> Current Volume interval : [0.0016, INFINITY]\n"
     ]
    },
    {
     "name": "stderr",
     "output_type": "stream",
     "text": [
      "100%|██████████| 100/100 [00:02<00:00, 39.65it/s, loss=1.82, min_val_acc=0.588]\n"
     ]
    },
    {
     "name": "stdout",
     "output_type": "stream",
     "text": [
      "-> Phase done\n",
      "-> Center Accuracy is 0.9085000157356262.\n",
      "-> Generalization is above minimum accuracy by 0.1285000157356262.!\n",
      "Training succeeded !\n",
      "-> Run finished with values : [0.8999166488647461, 0.812749981880188, 0.8196666836738586]\n",
      " ---------- Starting Run #2 ---------- \n",
      "========== Started Multiphase Trainer for 7 phases ==========\n",
      "First time train is called. Initial training phase started with volume 5e-05.\n"
     ]
    },
    {
     "name": "stderr",
     "output_type": "stream",
     "text": [
      "100%|██████████| 100/100 [00:02<00:00, 40.96it/s, loss=0.798, min_val_acc=0.7] \n"
     ]
    },
    {
     "name": "stdout",
     "output_type": "stream",
     "text": [
      "=> Initial center accuracy is 0.8535000085830688\n",
      "-> Starting phase 6\n",
      "-> Current Volume interval : [5e-05, INFINITY]\n"
     ]
    },
    {
     "name": "stderr",
     "output_type": "stream",
     "text": [
      "100%|██████████| 100/100 [00:02<00:00, 39.39it/s, loss=0.737, min_val_acc=0.885]\n"
     ]
    },
    {
     "name": "stdout",
     "output_type": "stream",
     "text": [
      "-> Phase done\n",
      "-> Center Accuracy is 0.904699981212616.\n",
      "-> Generalization is above minimum accuracy by 0.12469998121261594.!\n",
      "-> Starting phase 6\n",
      "-> Current Volume interval : [0.0001, INFINITY]\n"
     ]
    },
    {
     "name": "stderr",
     "output_type": "stream",
     "text": [
      "100%|██████████| 100/100 [00:02<00:00, 39.55it/s, loss=0.332, min_val_acc=0.893]\n"
     ]
    },
    {
     "name": "stdout",
     "output_type": "stream",
     "text": [
      "-> Phase done\n",
      "-> Center Accuracy is 0.9172999858856201.\n",
      "-> Generalization is above minimum accuracy by 0.1372999858856201.!\n",
      "-> Starting phase 6\n",
      "-> Current Volume interval : [0.0002, INFINITY]\n"
     ]
    },
    {
     "name": "stderr",
     "output_type": "stream",
     "text": [
      "100%|██████████| 100/100 [00:02<00:00, 37.85it/s, loss=0.505, min_val_acc=0.875]\n"
     ]
    },
    {
     "name": "stdout",
     "output_type": "stream",
     "text": [
      "-> Phase done\n",
      "-> Center Accuracy is 0.9222000241279602.\n",
      "-> Generalization is above minimum accuracy by 0.14220002412796018.!\n",
      "-> Starting phase 6\n",
      "-> Current Volume interval : [0.0004, INFINITY]\n"
     ]
    },
    {
     "name": "stderr",
     "output_type": "stream",
     "text": [
      "100%|██████████| 100/100 [00:02<00:00, 44.41it/s, loss=0.485, min_val_acc=0.838]\n"
     ]
    },
    {
     "name": "stdout",
     "output_type": "stream",
     "text": [
      "-> Phase done\n",
      "-> Center Accuracy is 0.9243000149726868.\n",
      "-> Generalization is above minimum accuracy by 0.14430001497268674.!\n",
      "-> Starting phase 6\n",
      "-> Current Volume interval : [0.0008, INFINITY]\n"
     ]
    },
    {
     "name": "stderr",
     "output_type": "stream",
     "text": [
      "100%|██████████| 100/100 [00:02<00:00, 39.96it/s, loss=0.984, min_val_acc=0.744]\n"
     ]
    },
    {
     "name": "stdout",
     "output_type": "stream",
     "text": [
      "-> Phase done\n",
      "-> Center Accuracy is 0.9218999743461609.\n",
      "-> Generalization is above minimum accuracy by 0.14189997434616086.!\n",
      "-> Starting phase 6\n",
      "-> Current Volume interval : [0.0016, INFINITY]\n"
     ]
    },
    {
     "name": "stderr",
     "output_type": "stream",
     "text": [
      "100%|██████████| 100/100 [00:02<00:00, 40.06it/s, loss=1.53, min_val_acc=0.577]\n"
     ]
    },
    {
     "name": "stdout",
     "output_type": "stream",
     "text": [
      "-> Phase done\n",
      "-> Center Accuracy is 0.9004999995231628.\n",
      "-> Generalization is above minimum accuracy by 0.12049999952316282.!\n",
      "Training succeeded !\n",
      "-> Run finished with values : [0.8961666822433472, 0.7993333339691162, 0.8066666722297668]\n",
      " ---------- Starting Run #3 ---------- \n",
      "========== Started Multiphase Trainer for 7 phases ==========\n",
      "First time train is called. Initial training phase started with volume 5e-05.\n"
     ]
    },
    {
     "name": "stderr",
     "output_type": "stream",
     "text": [
      "100%|██████████| 100/100 [00:02<00:00, 40.46it/s, loss=0.359, min_val_acc=0.836]\n"
     ]
    },
    {
     "name": "stdout",
     "output_type": "stream",
     "text": [
      "=> Initial center accuracy is 0.8736000061035156\n",
      "-> Starting phase 6\n",
      "-> Current Volume interval : [5e-05, INFINITY]\n"
     ]
    },
    {
     "name": "stderr",
     "output_type": "stream",
     "text": [
      "100%|██████████| 100/100 [00:02<00:00, 39.82it/s, loss=0.533, min_val_acc=0.876]\n"
     ]
    },
    {
     "name": "stdout",
     "output_type": "stream",
     "text": [
      "-> Phase done\n",
      "-> Center Accuracy is 0.9082000255584717.\n",
      "-> Generalization is above minimum accuracy by 0.12820002555847165.!\n",
      "-> Starting phase 6\n",
      "-> Current Volume interval : [0.0001, INFINITY]\n"
     ]
    },
    {
     "name": "stderr",
     "output_type": "stream",
     "text": [
      "100%|██████████| 100/100 [00:02<00:00, 38.44it/s, loss=0.472, min_val_acc=0.883]\n"
     ]
    },
    {
     "name": "stdout",
     "output_type": "stream",
     "text": [
      "-> Phase done\n",
      "-> Center Accuracy is 0.9233999848365784.\n",
      "-> Generalization is above minimum accuracy by 0.14339998483657834.!\n",
      "-> Starting phase 6\n",
      "-> Current Volume interval : [0.0002, INFINITY]\n"
     ]
    },
    {
     "name": "stderr",
     "output_type": "stream",
     "text": [
      "100%|██████████| 100/100 [00:02<00:00, 40.27it/s, loss=0.441, min_val_acc=0.875]\n"
     ]
    },
    {
     "name": "stdout",
     "output_type": "stream",
     "text": [
      "-> Phase done\n",
      "-> Center Accuracy is 0.9204999804496765.\n",
      "-> Generalization is above minimum accuracy by 0.1404999804496765.!\n",
      "-> Starting phase 6\n",
      "-> Current Volume interval : [0.0004, INFINITY]\n"
     ]
    },
    {
     "name": "stderr",
     "output_type": "stream",
     "text": [
      "100%|██████████| 100/100 [00:02<00:00, 44.24it/s, loss=0.311, min_val_acc=0.848]\n"
     ]
    },
    {
     "name": "stdout",
     "output_type": "stream",
     "text": [
      "-> Phase done\n",
      "-> Center Accuracy is 0.928600013256073.\n",
      "-> Generalization is above minimum accuracy by 0.14860001325607297.!\n",
      "-> Starting phase 6\n",
      "-> Current Volume interval : [0.0008, INFINITY]\n"
     ]
    },
    {
     "name": "stderr",
     "output_type": "stream",
     "text": [
      "100%|██████████| 100/100 [00:02<00:00, 40.22it/s, loss=0.945, min_val_acc=0.791]\n"
     ]
    },
    {
     "name": "stdout",
     "output_type": "stream",
     "text": [
      "-> Phase done\n",
      "-> Center Accuracy is 0.923799991607666.\n",
      "-> Generalization is above minimum accuracy by 0.143799991607666.!\n",
      "-> Starting phase 6\n",
      "-> Current Volume interval : [0.0016, INFINITY]\n"
     ]
    },
    {
     "name": "stderr",
     "output_type": "stream",
     "text": [
      "100%|██████████| 100/100 [00:02<00:00, 40.24it/s, loss=0.976, min_val_acc=0.656]\n"
     ]
    },
    {
     "name": "stdout",
     "output_type": "stream",
     "text": [
      "-> Phase done\n",
      "-> Center Accuracy is 0.9107000231742859.\n",
      "-> Generalization is above minimum accuracy by 0.13070002317428586.!\n",
      "Training succeeded !\n",
      "-> Run finished with values : [0.9004999995231628, 0.8189166784286499, 0.828000009059906]\n",
      " ---------- Starting Run #4 ---------- \n",
      "========== Started Multiphase Trainer for 7 phases ==========\n",
      "First time train is called. Initial training phase started with volume 5e-05.\n"
     ]
    },
    {
     "name": "stderr",
     "output_type": "stream",
     "text": [
      "100%|██████████| 100/100 [00:02<00:00, 40.04it/s, loss=2.3, min_val_acc=0.114]\n"
     ]
    },
    {
     "name": "stdout",
     "output_type": "stream",
     "text": [
      "=> Initial center accuracy is 0.11349999904632568\n",
      "Initial accuracy is below min accuracy threshold by 0.6665000009536743. Training failed.\n",
      "========== Started Multiphase Trainer for 7 phases ==========\n",
      "First time train is called. Initial training phase started with volume 5e-05.\n"
     ]
    },
    {
     "name": "stderr",
     "output_type": "stream",
     "text": [
      "100%|██████████| 100/100 [00:02<00:00, 40.17it/s, loss=2.3, min_val_acc=0.103]\n"
     ]
    },
    {
     "name": "stdout",
     "output_type": "stream",
     "text": [
      "=> Initial center accuracy is 0.10090000182390213\n",
      "Initial accuracy is below min accuracy threshold by 0.6790999981760979. Training failed.\n",
      "========== Started Multiphase Trainer for 7 phases ==========\n",
      "First time train is called. Initial training phase started with volume 5e-05.\n"
     ]
    },
    {
     "name": "stderr",
     "output_type": "stream",
     "text": [
      "100%|██████████| 100/100 [00:02<00:00, 39.97it/s, loss=2.31, min_val_acc=0.0915]\n"
     ]
    },
    {
     "name": "stdout",
     "output_type": "stream",
     "text": [
      "=> Initial center accuracy is 0.10100000351667404\n",
      "Initial accuracy is below min accuracy threshold by 0.678999996483326. Training failed.\n",
      "========== Started Multiphase Trainer for 7 phases ==========\n",
      "First time train is called. Initial training phase started with volume 5e-05.\n"
     ]
    },
    {
     "name": "stderr",
     "output_type": "stream",
     "text": [
      "100%|██████████| 100/100 [00:02<00:00, 40.01it/s, loss=0.362, min_val_acc=0.83]\n"
     ]
    },
    {
     "name": "stdout",
     "output_type": "stream",
     "text": [
      "=> Initial center accuracy is 0.8708000183105469\n",
      "-> Starting phase 6\n",
      "-> Current Volume interval : [5e-05, INFINITY]\n"
     ]
    },
    {
     "name": "stderr",
     "output_type": "stream",
     "text": [
      "100%|██████████| 100/100 [00:02<00:00, 40.10it/s, loss=0.259, min_val_acc=0.899]\n"
     ]
    },
    {
     "name": "stdout",
     "output_type": "stream",
     "text": [
      "-> Phase done\n",
      "-> Center Accuracy is 0.9104999899864197.\n",
      "-> Generalization is above minimum accuracy by 0.13049998998641965.!\n",
      "-> Starting phase 6\n",
      "-> Current Volume interval : [0.0001, INFINITY]\n"
     ]
    },
    {
     "name": "stderr",
     "output_type": "stream",
     "text": [
      "100%|██████████| 100/100 [00:02<00:00, 40.10it/s, loss=0.304, min_val_acc=0.909]\n"
     ]
    },
    {
     "name": "stdout",
     "output_type": "stream",
     "text": [
      "-> Phase done\n",
      "-> Center Accuracy is 0.9251000285148621.\n",
      "-> Generalization is above minimum accuracy by 0.14510002851486203.!\n",
      "-> Starting phase 6\n",
      "-> Current Volume interval : [0.0002, INFINITY]\n"
     ]
    },
    {
     "name": "stderr",
     "output_type": "stream",
     "text": [
      "100%|██████████| 100/100 [00:02<00:00, 40.18it/s, loss=0.75, min_val_acc=0.902]\n"
     ]
    },
    {
     "name": "stdout",
     "output_type": "stream",
     "text": [
      "-> Phase done\n",
      "-> Center Accuracy is 0.9333999752998352.\n",
      "-> Generalization is above minimum accuracy by 0.15339997529983518.!\n",
      "-> Starting phase 6\n",
      "-> Current Volume interval : [0.0004, INFINITY]\n"
     ]
    },
    {
     "name": "stderr",
     "output_type": "stream",
     "text": [
      "100%|██████████| 100/100 [00:02<00:00, 43.47it/s, loss=0.622, min_val_acc=0.873]\n"
     ]
    },
    {
     "name": "stdout",
     "output_type": "stream",
     "text": [
      "-> Phase done\n",
      "-> Center Accuracy is 0.933899998664856.\n",
      "-> Generalization is above minimum accuracy by 0.15389999866485593.!\n",
      "-> Starting phase 6\n",
      "-> Current Volume interval : [0.0008, INFINITY]\n"
     ]
    },
    {
     "name": "stderr",
     "output_type": "stream",
     "text": [
      "100%|██████████| 100/100 [00:02<00:00, 40.12it/s, loss=0.73, min_val_acc=0.839]\n"
     ]
    },
    {
     "name": "stdout",
     "output_type": "stream",
     "text": [
      "-> Phase done\n",
      "-> Center Accuracy is 0.9284999966621399.\n",
      "-> Generalization is above minimum accuracy by 0.14849999666213987.!\n",
      "-> Starting phase 6\n",
      "-> Current Volume interval : [0.0016, INFINITY]\n"
     ]
    },
    {
     "name": "stderr",
     "output_type": "stream",
     "text": [
      "100%|██████████| 100/100 [00:02<00:00, 38.11it/s, loss=0.972, min_val_acc=0.717]\n"
     ]
    },
    {
     "name": "stdout",
     "output_type": "stream",
     "text": [
      "-> Phase done\n",
      "-> Center Accuracy is 0.9211999773979187.\n",
      "-> Generalization is above minimum accuracy by 0.14119997739791867.!\n",
      "Training succeeded !\n",
      "-> Run finished with values : [0.9099999666213989, 0.8229166865348816, 0.8308333158493042]\n",
      "========== Performance of Hypercube training across 5 independent runs ==========\n",
      "Clean Accuracy : 0.8997 (std 0.0066)\n",
      "FGSM Accuracy : 0.8114 (std 0.0100)\n",
      "Certified Adversarial Accuracy : 0.8197 (std 0.0100)\n"
     ]
    }
   ],
   "source": [
    "# Setting random seeds for reproducibility\n",
    "torch.manual_seed(0)\n",
    "torch.cuda.manual_seed(0)\n",
    "torch.backends.cudnn.deterministic = True\n",
    "\n",
    "def runHypercube() -> list[float]:\n",
    "    h_model = None\n",
    "    optimizer = None \n",
    "    multiphase_trainer = None \n",
    "    restart = True \n",
    "    while restart: # Restarts if bad initialization leads to no convergences at beginning of training (doesn't happen very often)\n",
    "        h_model = get_model(output_dim=10)\n",
    "        optimizer = HypercubeTrainer(h_model, device=DEVICE)\n",
    "        multiphase_trainer = ConstrainedVolumeMultiphaseTrainer(\n",
    "            optimizer, \n",
    "            inflate_function=interval_narrowers.inflate_multiplier(2.0),\n",
    "            narrow_function=interval_narrowers.narrower_halver(0.5),\n",
    "            starting_value=1e-4*0.5, \n",
    "            min_acc_limit=0.78,\n",
    "            quiet=False\n",
    "        )\n",
    "        restart = not multiphase_trainer.train(\n",
    "            7, mnist_val,\n",
    "            mnist_train, mnist_val, loss_obj=0.0, max_iters=100, batch_size=64, lr=1e-3\n",
    "        )\n",
    "    h_model = Safebox.bmodelToModel(multiphase_trainer.result()) # evaluate center model \n",
    "    return evaluate_model(h_model, mnist_test,epsilon_fgsm=MNIST_EPSILON_FGSM, epsilon_cert_adv=MNIST_EPSILON_CERT_ADV, data_domain=MNIST_DATA_DOMAIN)\n",
    "means, stds, all_runs = evaluate_run(runHypercube, N_RUNS)\n",
    "print(\"=\"*10, f\"Performance of Hypercube training across {N_RUNS} independent runs\", \"=\"*10)\n",
    "print(f\"Clean Accuracy : {means[0]:.4f} (std {stds[0]:.4f})\")\n",
    "print(f\"FGSM Accuracy : {means[1]:.4f} (std {stds[1]:.4f})\")\n",
    "print(f\"Certified Adversarial Accuracy : {means[2]:.4f} (std {stds[2]:.4f})\")\n",
    "\n",
    "mnist_means_dict[HYPERCUBE] = means\n",
    "mnist_stds_dict[HYPERCUBE] = stds\n",
    "#print(\"All runs : \", all_runs)"
   ]
  },
  {
   "cell_type": "code",
   "execution_count": null,
   "id": "0b20f854",
   "metadata": {},
   "outputs": [
    {
     "data": {
      "image/png": "[encoded data removed]",
      "text/plain": [
       "<Figure size 1980x1500 with 1 Axes>"
      ]
     },
     "metadata": {},
     "output_type": "display_data"
    }
   ],
   "source": [
    "fig, ax = plt.subplots()\n",
    "plotMethod(\n",
    "    [mnist_means_dict[ADAM], mnist_means_dict[PGD], mnist_means_dict[HYPERCUBE]],\n",
    "    [mnist_stds_dict[ADAM], mnist_stds_dict[PGD], mnist_stds_dict[HYPERCUBE]],\n",
    "    #[mnist_means_dict[ADAM], mnist_means_dict[PGD], mnist_means_dict[SAM], mnist_means_dict[HYPERCUBE]],\n",
    "    #[mnist_stds_dict[ADAM], mnist_stds_dict[PGD], mnist_stds_dict[SAM],  mnist_stds_dict[HYPERCUBE]],\n",
    "    ax\n",
    "    )"
   ]
  },
  {
   "cell_type": "markdown",
   "id": "32bcbe9e508bd20c",
   "metadata": {
    "collapsed": false
   },
   "source": [
    "### Fashion-MNIST"
   ]
  },
  {
   "cell_type": "markdown",
   "id": "84e94b53ba9c3c3c",
   "metadata": {
    "collapsed": false
   },
   "source": [
    "#### ADAM Baseline"
   ]
  },
  {
   "cell_type": "code",
   "execution_count": null,
   "id": "423a2b57e9fe5519",
   "metadata": {
    "ExecuteTime": {
     "end_time": "2025-06-07T08:58:32.456937Z",
     "start_time": "2025-06-07T08:42:12.558179Z"
    },
    "collapsed": false
   },
   "outputs": [
    {
     "name": "stdout",
     "output_type": "stream",
     "text": [
      " ---------- Starting Run #0 ---------- \n"
     ]
    },
    {
     "name": "stderr",
     "output_type": "stream",
     "text": [
      "100%|██████████| 7000/7000 [03:08<00:00, 37.07it/s, loss=0.484, val_acc=0.858]\n"
     ]
    },
    {
     "name": "stdout",
     "output_type": "stream",
     "text": [
      "-> Run finished with values : [0.8647499680519104, 0.140666663646698, 0.0]\n",
      " ---------- Starting Run #1 ---------- \n"
     ]
    },
    {
     "name": "stderr",
     "output_type": "stream",
     "text": [
      "100%|██████████| 7000/7000 [03:09<00:00, 37.04it/s, loss=0.326, val_acc=0.869]\n"
     ]
    },
    {
     "name": "stdout",
     "output_type": "stream",
     "text": [
      "-> Run finished with values : [0.8729999661445618, 0.10266666859388351, 0.0]\n",
      " ---------- Starting Run #2 ---------- \n"
     ]
    },
    {
     "name": "stderr",
     "output_type": "stream",
     "text": [
      "100%|██████████| 7000/7000 [03:08<00:00, 37.09it/s, loss=0.261, val_acc=0.859]\n"
     ]
    },
    {
     "name": "stdout",
     "output_type": "stream",
     "text": [
      "-> Run finished with values : [0.85916668176651, 0.19741666316986084, 0.0]\n",
      " ---------- Starting Run #3 ---------- \n"
     ]
    },
    {
     "name": "stderr",
     "output_type": "stream",
     "text": [
      "100%|██████████| 7000/7000 [03:10<00:00, 36.66it/s, loss=0.703, val_acc=0.856]\n"
     ]
    },
    {
     "name": "stdout",
     "output_type": "stream",
     "text": [
      "-> Run finished with values : [0.8571666479110718, 0.132833331823349, 0.0]\n",
      " ---------- Starting Run #4 ---------- \n"
     ]
    },
    {
     "name": "stderr",
     "output_type": "stream",
     "text": [
      "100%|██████████| 7000/7000 [03:09<00:00, 36.99it/s, loss=0.291, val_acc=0.864] \n"
     ]
    },
    {
     "name": "stdout",
     "output_type": "stream",
     "text": [
      "-> Run finished with values : [0.8646666407585144, 0.18050000071525574, 0.0]\n",
      "========== Performance of Adam across 5 independent runs ==========\n",
      "Clean Accuracy : 0.8637 (std 0.0062)\n",
      "FGSM Accuracy : 0.1508 (std 0.0381)\n",
      "Certified Adversarial Accuracy : 0.0000 (std 0.0000)\n"
     ]
    }
   ],
   "source": [
    "# Setting random seeds for reproducibility\n",
    "torch.manual_seed(0)\n",
    "torch.cuda.manual_seed(0)\n",
    "torch.backends.cudnn.deterministic = True\n",
    "\n",
    "def runAdam() -> list[float]:\n",
    "    restart = True \n",
    "    trainer = None \n",
    "    while restart:\n",
    "        adam_model = get_model()        \n",
    "        trainer = SimpleTrainer(adam_model, device=DEVICE, quiet=False, acc_evaluation_steps=200)\n",
    "        restart = not trainer.train(fashion_mnist_train, fashion_mnist_val, loss_obj=0.0, max_iters=7000, batch_size=64, lr=1e-3)\n",
    "    adam_model = trainer.result()\n",
    "    return evaluate_model(adam_model, fashion_mnist_test,epsilon_fgsm=MNIST_EPSILON_FGSM, epsilon_cert_adv=MNIST_EPSILON_CERT_ADV, data_domain=MNIST_DATA_DOMAIN)\n",
    "means, stds, all_runs = evaluate_run(runAdam, N_RUNS)\n",
    "print(\"=\"*10, f\"Performance of Adam across {N_RUNS} independent runs\", \"=\"*10)\n",
    "print(f\"Clean Accuracy : {means[0]:.4f} (std {stds[0]:.4f})\")\n",
    "print(f\"FGSM Accuracy : {means[1]:.4f} (std {stds[1]:.4f})\")\n",
    "print(f\"Certified Adversarial Accuracy : {means[2]:.4f} (std {stds[2]:.4f})\")\n",
    "\n",
    "fashion_mnist_means_dict[ADAM] = means\n",
    "fashion_mnist_stds_dict[ADAM] = stds\n",
    "\n",
    "#print(\"All runs : \", all_runs)"
   ]
  },
  {
   "cell_type": "markdown",
   "id": "a1b3b0d8eaa6baf7",
   "metadata": {
    "collapsed": false
   },
   "source": [
    "#### PGD Baseline"
   ]
  },
  {
   "cell_type": "code",
   "execution_count": null,
   "id": "d4aa041c4cd34995",
   "metadata": {
    "ExecuteTime": {
     "end_time": "2025-06-07T10:04:32.236366Z",
     "start_time": "2025-06-07T08:58:32.457938Z"
    },
    "collapsed": false
   },
   "outputs": [
    {
     "name": "stdout",
     "output_type": "stream",
     "text": [
      " ---------- Starting Run #0 ---------- \n"
     ]
    },
    {
     "name": "stderr",
     "output_type": "stream",
     "text": [
      "  1%|▏         | 101/7000 [00:10<11:46,  9.76it/s, loss=2.3, val_acc=0.141] \n"
     ]
    },
    {
     "name": "stdout",
     "output_type": "stream",
     "text": [
      "BAd Initialization detected. Interrupted Training.\n"
     ]
    },
    {
     "name": "stderr",
     "output_type": "stream",
     "text": [
      "100%|██████████| 7000/7000 [11:50<00:00,  9.85it/s, loss=0.933, val_acc=0.75] \n"
     ]
    },
    {
     "name": "stdout",
     "output_type": "stream",
     "text": [
      "-> Run finished with values : [0.7665833234786987, 0.7307499647140503, 0.23549999296665192]\n",
      " ---------- Starting Run #1 ---------- \n"
     ]
    },
    {
     "name": "stderr",
     "output_type": "stream",
     "text": [
      "  1%|▏         | 101/7000 [00:10<11:40,  9.85it/s, loss=2.3, val_acc=0.109] \n"
     ]
    },
    {
     "name": "stdout",
     "output_type": "stream",
     "text": [
      "BAd Initialization detected. Interrupted Training.\n"
     ]
    },
    {
     "name": "stderr",
     "output_type": "stream",
     "text": [
      "  1%|▏         | 101/7000 [00:10<11:40,  9.85it/s, loss=2.3, val_acc=0.0938] \n"
     ]
    },
    {
     "name": "stdout",
     "output_type": "stream",
     "text": [
      "BAd Initialization detected. Interrupted Training.\n"
     ]
    },
    {
     "name": "stderr",
     "output_type": "stream",
     "text": [
      "  1%|▏         | 101/7000 [00:10<11:44,  9.79it/s, loss=2.3, val_acc=0.0938]\n"
     ]
    },
    {
     "name": "stdout",
     "output_type": "stream",
     "text": [
      "BAd Initialization detected. Interrupted Training.\n"
     ]
    },
    {
     "name": "stderr",
     "output_type": "stream",
     "text": [
      "  1%|▏         | 101/7000 [00:10<11:51,  9.70it/s, loss=2.3, val_acc=0.0781]\n"
     ]
    },
    {
     "name": "stdout",
     "output_type": "stream",
     "text": [
      "BAd Initialization detected. Interrupted Training.\n"
     ]
    },
    {
     "name": "stderr",
     "output_type": "stream",
     "text": [
      "  1%|▏         | 101/7000 [00:12<14:24,  7.98it/s, loss=2.31, val_acc=0.0781]\n"
     ]
    },
    {
     "name": "stdout",
     "output_type": "stream",
     "text": [
      "BAd Initialization detected. Interrupted Training.\n"
     ]
    },
    {
     "name": "stderr",
     "output_type": "stream",
     "text": [
      "  1%|▏         | 101/7000 [00:10<12:22,  9.29it/s, loss=2.31, val_acc=0.0938]\n"
     ]
    },
    {
     "name": "stdout",
     "output_type": "stream",
     "text": [
      "BAd Initialization detected. Interrupted Training.\n"
     ]
    },
    {
     "name": "stderr",
     "output_type": "stream",
     "text": [
      "  1%|▏         | 101/7000 [00:10<11:38,  9.87it/s, loss=2.3, val_acc=0.0781]\n"
     ]
    },
    {
     "name": "stdout",
     "output_type": "stream",
     "text": [
      "BAd Initialization detected. Interrupted Training.\n"
     ]
    },
    {
     "name": "stderr",
     "output_type": "stream",
     "text": [
      "  1%|▏         | 101/7000 [00:10<11:43,  9.81it/s, loss=2.3, val_acc=0.0938]\n"
     ]
    },
    {
     "name": "stdout",
     "output_type": "stream",
     "text": [
      "BAd Initialization detected. Interrupted Training.\n"
     ]
    },
    {
     "name": "stderr",
     "output_type": "stream",
     "text": [
      "  1%|▏         | 101/7000 [00:10<11:36,  9.90it/s, loss=2.3, val_acc=0.109] \n"
     ]
    },
    {
     "name": "stdout",
     "output_type": "stream",
     "text": [
      "BAd Initialization detected. Interrupted Training.\n"
     ]
    },
    {
     "name": "stderr",
     "output_type": "stream",
     "text": [
      "  1%|▏         | 101/7000 [00:10<11:28, 10.02it/s, loss=2.3, val_acc=0.141] \n"
     ]
    },
    {
     "name": "stdout",
     "output_type": "stream",
     "text": [
      "BAd Initialization detected. Interrupted Training.\n"
     ]
    },
    {
     "name": "stderr",
     "output_type": "stream",
     "text": [
      "  1%|▏         | 101/7000 [00:10<11:41,  9.84it/s, loss=2.3, val_acc=0.0781]\n"
     ]
    },
    {
     "name": "stdout",
     "output_type": "stream",
     "text": [
      "BAd Initialization detected. Interrupted Training.\n"
     ]
    },
    {
     "name": "stderr",
     "output_type": "stream",
     "text": [
      "  1%|▏         | 101/7000 [00:10<12:16,  9.37it/s, loss=2.3, val_acc=0.0938]\n"
     ]
    },
    {
     "name": "stdout",
     "output_type": "stream",
     "text": [
      "BAd Initialization detected. Interrupted Training.\n"
     ]
    },
    {
     "name": "stderr",
     "output_type": "stream",
     "text": [
      "100%|██████████| 7000/7000 [11:51<00:00,  9.84it/s, loss=0.821, val_acc=0.797]\n"
     ]
    },
    {
     "name": "stdout",
     "output_type": "stream",
     "text": [
      "-> Run finished with values : [0.7598333358764648, 0.7224999666213989, 0.2835833430290222]\n",
      " ---------- Starting Run #2 ---------- \n"
     ]
    },
    {
     "name": "stderr",
     "output_type": "stream",
     "text": [
      "  1%|▏         | 101/7000 [00:10<11:47,  9.75it/s, loss=2.31, val_acc=0.0938]\n"
     ]
    },
    {
     "name": "stdout",
     "output_type": "stream",
     "text": [
      "BAd Initialization detected. Interrupted Training.\n"
     ]
    },
    {
     "name": "stderr",
     "output_type": "stream",
     "text": [
      "  1%|▏         | 101/7000 [00:10<11:34,  9.93it/s, loss=2.31, val_acc=0.0781]\n"
     ]
    },
    {
     "name": "stdout",
     "output_type": "stream",
     "text": [
      "BAd Initialization detected. Interrupted Training.\n"
     ]
    },
    {
     "name": "stderr",
     "output_type": "stream",
     "text": [
      "  1%|▏         | 101/7000 [00:10<11:44,  9.79it/s, loss=2.3, val_acc=0.0938] \n"
     ]
    },
    {
     "name": "stdout",
     "output_type": "stream",
     "text": [
      "BAd Initialization detected. Interrupted Training.\n"
     ]
    },
    {
     "name": "stderr",
     "output_type": "stream",
     "text": [
      "  1%|▏         | 101/7000 [00:10<11:47,  9.76it/s, loss=2.3, val_acc=0.109] \n"
     ]
    },
    {
     "name": "stdout",
     "output_type": "stream",
     "text": [
      "BAd Initialization detected. Interrupted Training.\n"
     ]
    },
    {
     "name": "stderr",
     "output_type": "stream",
     "text": [
      "  1%|▏         | 101/7000 [00:10<11:44,  9.79it/s, loss=2.3, val_acc=0.0469]\n"
     ]
    },
    {
     "name": "stdout",
     "output_type": "stream",
     "text": [
      "BAd Initialization detected. Interrupted Training.\n"
     ]
    },
    {
     "name": "stderr",
     "output_type": "stream",
     "text": [
      "  1%|▏         | 101/7000 [00:10<11:41,  9.84it/s, loss=2.31, val_acc=0.0938]\n"
     ]
    },
    {
     "name": "stdout",
     "output_type": "stream",
     "text": [
      "BAd Initialization detected. Interrupted Training.\n"
     ]
    },
    {
     "name": "stderr",
     "output_type": "stream",
     "text": [
      "  1%|▏         | 101/7000 [00:10<11:47,  9.75it/s, loss=2.31, val_acc=0.0781]\n"
     ]
    },
    {
     "name": "stdout",
     "output_type": "stream",
     "text": [
      "BAd Initialization detected. Interrupted Training.\n"
     ]
    },
    {
     "name": "stderr",
     "output_type": "stream",
     "text": [
      "  1%|▏         | 101/7000 [00:10<11:30,  9.99it/s, loss=2.31, val_acc=0.0938]\n"
     ]
    },
    {
     "name": "stdout",
     "output_type": "stream",
     "text": [
      "BAd Initialization detected. Interrupted Training.\n"
     ]
    },
    {
     "name": "stderr",
     "output_type": "stream",
     "text": [
      "  1%|▏         | 101/7000 [00:10<11:34,  9.93it/s, loss=2.3, val_acc=0.125] \n"
     ]
    },
    {
     "name": "stdout",
     "output_type": "stream",
     "text": [
      "BAd Initialization detected. Interrupted Training.\n"
     ]
    },
    {
     "name": "stderr",
     "output_type": "stream",
     "text": [
      "  1%|▏         | 101/7000 [00:10<11:42,  9.82it/s, loss=2.3, val_acc=0.0625] \n"
     ]
    },
    {
     "name": "stdout",
     "output_type": "stream",
     "text": [
      "BAd Initialization detected. Interrupted Training.\n"
     ]
    },
    {
     "name": "stderr",
     "output_type": "stream",
     "text": [
      "  1%|▏         | 101/7000 [00:10<11:37,  9.89it/s, loss=2.3, val_acc=0.109] \n"
     ]
    },
    {
     "name": "stdout",
     "output_type": "stream",
     "text": [
      "BAd Initialization detected. Interrupted Training.\n"
     ]
    },
    {
     "name": "stderr",
     "output_type": "stream",
     "text": [
      "  1%|▏         | 101/7000 [00:10<11:36,  9.91it/s, loss=2.3, val_acc=0.0625] \n"
     ]
    },
    {
     "name": "stdout",
     "output_type": "stream",
     "text": [
      "BAd Initialization detected. Interrupted Training.\n"
     ]
    },
    {
     "name": "stderr",
     "output_type": "stream",
     "text": [
      "  1%|▏         | 101/7000 [00:10<11:44,  9.79it/s, loss=2.3, val_acc=0.0938]\n"
     ]
    },
    {
     "name": "stdout",
     "output_type": "stream",
     "text": [
      "BAd Initialization detected. Interrupted Training.\n"
     ]
    },
    {
     "name": "stderr",
     "output_type": "stream",
     "text": [
      "  1%|▏         | 101/7000 [00:10<11:48,  9.73it/s, loss=2.3, val_acc=0.109] \n"
     ]
    },
    {
     "name": "stdout",
     "output_type": "stream",
     "text": [
      "BAd Initialization detected. Interrupted Training.\n"
     ]
    },
    {
     "name": "stderr",
     "output_type": "stream",
     "text": [
      "  1%|▏         | 101/7000 [00:10<11:42,  9.82it/s, loss=2.3, val_acc=0.125] \n"
     ]
    },
    {
     "name": "stdout",
     "output_type": "stream",
     "text": [
      "BAd Initialization detected. Interrupted Training.\n"
     ]
    },
    {
     "name": "stderr",
     "output_type": "stream",
     "text": [
      "  1%|▏         | 101/7000 [00:10<11:37,  9.89it/s, loss=2.3, val_acc=0.0781]\n"
     ]
    },
    {
     "name": "stdout",
     "output_type": "stream",
     "text": [
      "BAd Initialization detected. Interrupted Training.\n"
     ]
    },
    {
     "name": "stderr",
     "output_type": "stream",
     "text": [
      "  1%|▏         | 101/7000 [00:10<11:40,  9.84it/s, loss=2.3, val_acc=0.125]  \n"
     ]
    },
    {
     "name": "stdout",
     "output_type": "stream",
     "text": [
      "BAd Initialization detected. Interrupted Training.\n"
     ]
    },
    {
     "name": "stderr",
     "output_type": "stream",
     "text": [
      "  1%|▏         | 101/7000 [00:10<11:41,  9.84it/s, loss=2.3, val_acc=0.125] \n"
     ]
    },
    {
     "name": "stdout",
     "output_type": "stream",
     "text": [
      "BAd Initialization detected. Interrupted Training.\n"
     ]
    },
    {
     "name": "stderr",
     "output_type": "stream",
     "text": [
      "  1%|▏         | 101/7000 [00:11<13:10,  8.73it/s, loss=2.3, val_acc=0.109] \n"
     ]
    },
    {
     "name": "stdout",
     "output_type": "stream",
     "text": [
      "BAd Initialization detected. Interrupted Training.\n"
     ]
    },
    {
     "name": "stderr",
     "output_type": "stream",
     "text": [
      "100%|██████████| 7000/7000 [11:48<00:00,  9.88it/s, loss=0.79, val_acc=0.703] \n"
     ]
    },
    {
     "name": "stdout",
     "output_type": "stream",
     "text": [
      "-> Run finished with values : [0.7392500042915344, 0.6987500190734863, 0.2055833339691162]\n",
      " ---------- Starting Run #3 ---------- \n"
     ]
    },
    {
     "name": "stderr",
     "output_type": "stream",
     "text": [
      "100%|██████████| 7000/7000 [11:52<00:00,  9.83it/s, loss=0.815, val_acc=0.625]\n"
     ]
    },
    {
     "name": "stdout",
     "output_type": "stream",
     "text": [
      "-> Run finished with values : [0.7517499923706055, 0.7119166851043701, 0.12258332967758179]\n",
      " ---------- Starting Run #4 ---------- \n"
     ]
    },
    {
     "name": "stderr",
     "output_type": "stream",
     "text": [
      "  1%|▏         | 101/7000 [00:10<12:09,  9.46it/s, loss=2.31, val_acc=0.0312]\n"
     ]
    },
    {
     "name": "stdout",
     "output_type": "stream",
     "text": [
      "BAd Initialization detected. Interrupted Training.\n"
     ]
    },
    {
     "name": "stderr",
     "output_type": "stream",
     "text": [
      "  1%|▏         | 101/7000 [00:10<12:01,  9.56it/s, loss=2.3, val_acc=0.141] \n"
     ]
    },
    {
     "name": "stdout",
     "output_type": "stream",
     "text": [
      "BAd Initialization detected. Interrupted Training.\n"
     ]
    },
    {
     "name": "stderr",
     "output_type": "stream",
     "text": [
      "100%|██████████| 7000/7000 [12:09<00:00,  9.60it/s, loss=0.793, val_acc=0.75] \n"
     ]
    },
    {
     "name": "stdout",
     "output_type": "stream",
     "text": [
      "-> Run finished with values : [0.7672500014305115, 0.7305833101272583, 0.1929166615009308]\n",
      "========== Performance of PGD across 5 independent runs ==========\n",
      "Clean Accuracy : 0.7569 (std 0.0117)\n",
      "FGSM Accuracy : 0.7189 (std 0.0136)\n",
      "Certified Adversarial Accuracy : 0.2080 (std 0.0592)\n"
     ]
    }
   ],
   "source": [
    "# Setting random seeds for reproducibility\n",
    "torch.manual_seed(0)\n",
    "torch.cuda.manual_seed(0)\n",
    "torch.backends.cudnn.deterministic = True\n",
    "\n",
    "def runPGD() -> list[float]:\n",
    "    restart = True\n",
    "    trainer = None \n",
    "    while restart: # restarts if bad initialization is detected\n",
    "        pgd_model = get_model()        \n",
    "        trainer = PGDTrainer(pgd_model, quiet=False, device=DEVICE)\n",
    "        restart = not trainer.train(\n",
    "            fashion_mnist_train, fashion_mnist_val, 0.0, max_iters=7000, batch_size=64, lr=1e-3, epsilon=0.3, alpha=0.01, num_iters=40, data_domain=MNIST_DATA_DOMAIN\n",
    "        )\n",
    "    pgd_model = trainer.result()\n",
    "    return evaluate_model(pgd_model, fashion_mnist_test,epsilon_fgsm=MNIST_EPSILON_FGSM, epsilon_cert_adv=MNIST_EPSILON_CERT_ADV, data_domain=MNIST_DATA_DOMAIN)\n",
    "means, stds, all_runs = evaluate_run(runPGD, N_RUNS)\n",
    "print(\"=\"*10, f\"Performance of PGD across {N_RUNS} independent runs\", \"=\"*10)\n",
    "print(f\"Clean Accuracy : {means[0]:.4f} (std {stds[0]:.4f})\")\n",
    "print(f\"FGSM Accuracy : {means[1]:.4f} (std {stds[1]:.4f})\")\n",
    "print(f\"Certified Adversarial Accuracy : {means[2]:.4f} (std {stds[2]:.4f})\")\n",
    "\n",
    "fashion_mnist_means_dict[PGD] = means\n",
    "fashion_mnist_stds_dict[PGD] = stds\n",
    "#print(\"All runs : \", all_runs)"
   ]
  },
  {
   "cell_type": "markdown",
   "id": "9c422a7a2f8ca75",
   "metadata": {
    "collapsed": false
   },
   "source": [
    "#### Hypercube Training (Ours)"
   ]
  },
  {
   "cell_type": "code",
   "execution_count": null,
   "id": "2ac796a7c0564e03",
   "metadata": {
    "ExecuteTime": {
     "end_time": "2025-06-07T11:04:09.696054Z",
     "start_time": "2025-06-07T10:37:07.456531Z"
    },
    "collapsed": false
   },
   "outputs": [
    {
     "name": "stdout",
     "output_type": "stream",
     "text": [
      " ---------- Starting Run #0 ---------- \n",
      "========== Started Multiphase Trainer for 7 phases ==========\n",
      "First time train is called. Initial training phase started with volume 5e-05.\n"
     ]
    },
    {
     "name": "stderr",
     "output_type": "stream",
     "text": [
      "100%|██████████| 1000/1000 [00:43<00:00, 23.19it/s, loss=0.516, min_val_acc=0.806]\n"
     ]
    },
    {
     "name": "stdout",
     "output_type": "stream",
     "text": [
      "=> Initial center accuracy is 0.8205999732017517\n",
      "-> Starting phase 6\n",
      "-> Current Volume interval : [5e-05, INFINITY]\n"
     ]
    },
    {
     "name": "stderr",
     "output_type": "stream",
     "text": [
      "100%|██████████| 1000/1000 [00:44<00:00, 22.50it/s, loss=0.569, min_val_acc=0.803]\n"
     ]
    },
    {
     "name": "stdout",
     "output_type": "stream",
     "text": [
      "-> Phase done\n",
      "-> Center Accuracy is 0.8310999870300293.\n",
      "-> Generalization is above minimum accuracy by 0.05109998703002927.!\n",
      "-> Starting phase 6\n",
      "-> Current Volume interval : [0.0001, INFINITY]\n"
     ]
    },
    {
     "name": "stderr",
     "output_type": "stream",
     "text": [
      "100%|██████████| 1000/1000 [00:45<00:00, 22.21it/s, loss=0.556, min_val_acc=0.787]\n"
     ]
    },
    {
     "name": "stdout",
     "output_type": "stream",
     "text": [
      "-> Phase done\n",
      "-> Center Accuracy is 0.8263999819755554.\n",
      "-> Generalization is above minimum accuracy by 0.04639998197555539.!\n",
      "-> Starting phase 6\n",
      "-> Current Volume interval : [0.0002, INFINITY]\n"
     ]
    },
    {
     "name": "stderr",
     "output_type": "stream",
     "text": [
      "100%|██████████| 1000/1000 [00:43<00:00, 22.77it/s, loss=0.616, min_val_acc=0.786]\n"
     ]
    },
    {
     "name": "stdout",
     "output_type": "stream",
     "text": [
      "-> Phase done\n",
      "-> Center Accuracy is 0.8345999717712402.\n",
      "-> Generalization is above minimum accuracy by 0.05459997177124021.!\n",
      "-> Starting phase 6\n",
      "-> Current Volume interval : [0.0004, INFINITY]\n"
     ]
    },
    {
     "name": "stderr",
     "output_type": "stream",
     "text": [
      "100%|██████████| 1000/1000 [00:44<00:00, 22.55it/s, loss=0.295, min_val_acc=0.74]\n"
     ]
    },
    {
     "name": "stdout",
     "output_type": "stream",
     "text": [
      "-> Phase done\n",
      "-> Center Accuracy is 0.8240000009536743.\n",
      "-> Generalization is above minimum accuracy by 0.04400000095367429.!\n",
      "-> Starting phase 6\n",
      "-> Current Volume interval : [0.0008, INFINITY]\n"
     ]
    },
    {
     "name": "stderr",
     "output_type": "stream",
     "text": [
      "100%|██████████| 1000/1000 [00:44<00:00, 22.39it/s, loss=0.869, min_val_acc=0.728]\n"
     ]
    },
    {
     "name": "stdout",
     "output_type": "stream",
     "text": [
      "-> Phase done\n",
      "-> Center Accuracy is 0.8258000016212463.\n",
      "-> Generalization is above minimum accuracy by 0.04580000162124631.!\n",
      "-> Starting phase 6\n",
      "-> Current Volume interval : [0.0016, INFINITY]\n"
     ]
    },
    {
     "name": "stderr",
     "output_type": "stream",
     "text": [
      "100%|██████████| 1000/1000 [00:44<00:00, 22.45it/s, loss=1.13, min_val_acc=0.675]\n"
     ]
    },
    {
     "name": "stdout",
     "output_type": "stream",
     "text": [
      "-> Phase done\n",
      "-> Center Accuracy is 0.8120999932289124.\n",
      "-> Generalization is above minimum accuracy by 0.03209999322891233.!\n",
      "Training succeeded !\n",
      "-> Run finished with values : [0.8140000104904175, 0.5650833249092102, 0.6104999780654907]\n",
      " ---------- Starting Run #1 ---------- \n",
      "========== Started Multiphase Trainer for 7 phases ==========\n",
      "First time train is called. Initial training phase started with volume 5e-05.\n"
     ]
    },
    {
     "name": "stderr",
     "output_type": "stream",
     "text": [
      " 10%|█         | 101/1000 [00:04<00:40, 22.03it/s, loss=2.3, min_val_acc=0.0985] \n"
     ]
    },
    {
     "name": "stdout",
     "output_type": "stream",
     "text": [
      "BAd Initialization detected. Interrupted Training.\n",
      "=> Initial center accuracy is 0.10019999742507935\n",
      "Initial accuracy is below min accuracy threshold by 0.6798000025749207. Training failed.\n",
      "========== Started Multiphase Trainer for 7 phases ==========\n",
      "First time train is called. Initial training phase started with volume 5e-05.\n"
     ]
    },
    {
     "name": "stderr",
     "output_type": "stream",
     "text": [
      "100%|██████████| 1000/1000 [00:43<00:00, 22.83it/s, loss=0.421, min_val_acc=0.789]\n"
     ]
    },
    {
     "name": "stdout",
     "output_type": "stream",
     "text": [
      "=> Initial center accuracy is 0.8037999868392944\n",
      "-> Starting phase 6\n",
      "-> Current Volume interval : [5e-05, INFINITY]\n"
     ]
    },
    {
     "name": "stderr",
     "output_type": "stream",
     "text": [
      "100%|██████████| 1000/1000 [00:44<00:00, 22.69it/s, loss=0.387, min_val_acc=0.8] \n"
     ]
    },
    {
     "name": "stdout",
     "output_type": "stream",
     "text": [
      "-> Phase done\n",
      "-> Center Accuracy is 0.8241000175476074.\n",
      "-> Generalization is above minimum accuracy by 0.044100017547607395.!\n",
      "-> Starting phase 6\n",
      "-> Current Volume interval : [0.0001, INFINITY]\n"
     ]
    },
    {
     "name": "stderr",
     "output_type": "stream",
     "text": [
      "100%|██████████| 1000/1000 [00:44<00:00, 22.61it/s, loss=0.411, min_val_acc=0.802]\n"
     ]
    },
    {
     "name": "stdout",
     "output_type": "stream",
     "text": [
      "-> Phase done\n",
      "-> Center Accuracy is 0.8374000191688538.\n",
      "-> Generalization is above minimum accuracy by 0.05740001916885373.!\n",
      "-> Starting phase 6\n",
      "-> Current Volume interval : [0.0002, INFINITY]\n"
     ]
    },
    {
     "name": "stderr",
     "output_type": "stream",
     "text": [
      "100%|██████████| 1000/1000 [00:48<00:00, 20.47it/s, loss=0.345, min_val_acc=0.792]\n"
     ]
    },
    {
     "name": "stdout",
     "output_type": "stream",
     "text": [
      "-> Phase done\n",
      "-> Center Accuracy is 0.8359000086784363.\n",
      "-> Generalization is above minimum accuracy by 0.05590000867843625.!\n",
      "-> Starting phase 6\n",
      "-> Current Volume interval : [0.0004, INFINITY]\n"
     ]
    },
    {
     "name": "stderr",
     "output_type": "stream",
     "text": [
      "100%|██████████| 1000/1000 [00:45<00:00, 22.13it/s, loss=0.419, min_val_acc=0.767]\n"
     ]
    },
    {
     "name": "stdout",
     "output_type": "stream",
     "text": [
      "-> Phase done\n",
      "-> Center Accuracy is 0.8384000062942505.\n",
      "-> Generalization is above minimum accuracy by 0.05840000629425046.!\n",
      "-> Starting phase 6\n",
      "-> Current Volume interval : [0.0008, INFINITY]\n"
     ]
    },
    {
     "name": "stderr",
     "output_type": "stream",
     "text": [
      "100%|██████████| 1000/1000 [00:44<00:00, 22.70it/s, loss=0.731, min_val_acc=0.753]\n"
     ]
    },
    {
     "name": "stdout",
     "output_type": "stream",
     "text": [
      "-> Phase done\n",
      "-> Center Accuracy is 0.8291000127792358.\n",
      "-> Generalization is above minimum accuracy by 0.04910001277923581.!\n",
      "-> Starting phase 6\n",
      "-> Current Volume interval : [0.0016, INFINITY]\n"
     ]
    },
    {
     "name": "stderr",
     "output_type": "stream",
     "text": [
      "100%|██████████| 1000/1000 [00:43<00:00, 23.24it/s, loss=1.11, min_val_acc=0.678]\n"
     ]
    },
    {
     "name": "stdout",
     "output_type": "stream",
     "text": [
      "-> Phase done\n",
      "-> Center Accuracy is 0.8166999816894531.\n",
      "-> Generalization is above minimum accuracy by 0.0366999816894531.!\n",
      "Training succeeded !\n",
      "-> Run finished with values : [0.8232499957084656, 0.6159999966621399, 0.6704166531562805]\n",
      " ---------- Starting Run #2 ---------- \n",
      "========== Started Multiphase Trainer for 7 phases ==========\n",
      "First time train is called. Initial training phase started with volume 5e-05.\n"
     ]
    },
    {
     "name": "stderr",
     "output_type": "stream",
     "text": [
      "100%|██████████| 1000/1000 [00:42<00:00, 23.65it/s, loss=0.434, min_val_acc=0.817]\n"
     ]
    },
    {
     "name": "stdout",
     "output_type": "stream",
     "text": [
      "=> Initial center accuracy is 0.8248999714851379\n",
      "-> Starting phase 6\n",
      "-> Current Volume interval : [5e-05, INFINITY]\n"
     ]
    },
    {
     "name": "stderr",
     "output_type": "stream",
     "text": [
      "100%|██████████| 1000/1000 [00:42<00:00, 23.55it/s, loss=0.431, min_val_acc=0.816]\n"
     ]
    },
    {
     "name": "stdout",
     "output_type": "stream",
     "text": [
      "-> Phase done\n",
      "-> Center Accuracy is 0.83160001039505.\n",
      "-> Generalization is above minimum accuracy by 0.05160001039505002.!\n",
      "-> Starting phase 6\n",
      "-> Current Volume interval : [0.0001, INFINITY]\n"
     ]
    },
    {
     "name": "stderr",
     "output_type": "stream",
     "text": [
      "100%|██████████| 1000/1000 [00:42<00:00, 23.68it/s, loss=0.631, min_val_acc=0.803]\n"
     ]
    },
    {
     "name": "stdout",
     "output_type": "stream",
     "text": [
      "-> Phase done\n",
      "-> Center Accuracy is 0.8424000144004822.\n",
      "-> Generalization is above minimum accuracy by 0.06240001440048215.!\n",
      "-> Starting phase 6\n",
      "-> Current Volume interval : [0.0002, INFINITY]\n"
     ]
    },
    {
     "name": "stderr",
     "output_type": "stream",
     "text": [
      "100%|██████████| 1000/1000 [00:42<00:00, 23.30it/s, loss=0.554, min_val_acc=0.803]\n"
     ]
    },
    {
     "name": "stdout",
     "output_type": "stream",
     "text": [
      "-> Phase done\n",
      "-> Center Accuracy is 0.8370000123977661.\n",
      "-> Generalization is above minimum accuracy by 0.05700001239776609.!\n",
      "-> Starting phase 6\n",
      "-> Current Volume interval : [0.0004, INFINITY]\n"
     ]
    },
    {
     "name": "stderr",
     "output_type": "stream",
     "text": [
      "100%|██████████| 1000/1000 [00:43<00:00, 23.14it/s, loss=0.637, min_val_acc=0.783]\n"
     ]
    },
    {
     "name": "stdout",
     "output_type": "stream",
     "text": [
      "-> Phase done\n",
      "-> Center Accuracy is 0.8317999839782715.\n",
      "-> Generalization is above minimum accuracy by 0.05179998397827146.!\n",
      "-> Starting phase 6\n",
      "-> Current Volume interval : [0.0008, INFINITY]\n"
     ]
    },
    {
     "name": "stderr",
     "output_type": "stream",
     "text": [
      "100%|██████████| 1000/1000 [00:43<00:00, 22.80it/s, loss=0.627, min_val_acc=0.719]\n"
     ]
    },
    {
     "name": "stdout",
     "output_type": "stream",
     "text": [
      "-> Phase done\n",
      "-> Center Accuracy is 0.8237000107765198.\n",
      "-> Generalization is above minimum accuracy by 0.04370001077651975.!\n",
      "-> Starting phase 6\n",
      "-> Current Volume interval : [0.0016, INFINITY]\n"
     ]
    },
    {
     "name": "stderr",
     "output_type": "stream",
     "text": [
      "100%|██████████| 1000/1000 [00:43<00:00, 23.19it/s, loss=0.954, min_val_acc=0.666]\n"
     ]
    },
    {
     "name": "stdout",
     "output_type": "stream",
     "text": [
      "-> Phase done\n",
      "-> Center Accuracy is 0.8104000091552734.\n",
      "-> Generalization is above minimum accuracy by 0.03040000915527341.!\n",
      "Training succeeded !\n",
      "-> Run finished with values : [0.815750002861023, 0.6050833463668823, 0.671916663646698]\n",
      " ---------- Starting Run #3 ---------- \n",
      "========== Started Multiphase Trainer for 7 phases ==========\n",
      "First time train is called. Initial training phase started with volume 5e-05.\n"
     ]
    },
    {
     "name": "stderr",
     "output_type": "stream",
     "text": [
      "100%|██████████| 1000/1000 [00:42<00:00, 23.72it/s, loss=0.567, min_val_acc=0.812]\n"
     ]
    },
    {
     "name": "stdout",
     "output_type": "stream",
     "text": [
      "=> Initial center accuracy is 0.8284000158309937\n",
      "-> Starting phase 6\n",
      "-> Current Volume interval : [5e-05, INFINITY]\n"
     ]
    },
    {
     "name": "stderr",
     "output_type": "stream",
     "text": [
      "100%|██████████| 1000/1000 [00:42<00:00, 23.39it/s, loss=0.483, min_val_acc=0.801]\n"
     ]
    },
    {
     "name": "stdout",
     "output_type": "stream",
     "text": [
      "-> Phase done\n",
      "-> Center Accuracy is 0.8374999761581421.\n",
      "-> Generalization is above minimum accuracy by 0.05749997615814206.!\n",
      "-> Starting phase 6\n",
      "-> Current Volume interval : [0.0001, INFINITY]\n"
     ]
    },
    {
     "name": "stderr",
     "output_type": "stream",
     "text": [
      "100%|██████████| 1000/1000 [00:42<00:00, 23.59it/s, loss=0.356, min_val_acc=0.819]\n"
     ]
    },
    {
     "name": "stdout",
     "output_type": "stream",
     "text": [
      "-> Phase done\n",
      "-> Center Accuracy is 0.8292999863624573.\n",
      "-> Generalization is above minimum accuracy by 0.04929998636245725.!\n",
      "-> Starting phase 6\n",
      "-> Current Volume interval : [0.0002, INFINITY]\n"
     ]
    },
    {
     "name": "stderr",
     "output_type": "stream",
     "text": [
      "100%|██████████| 1000/1000 [00:42<00:00, 23.46it/s, loss=0.411, min_val_acc=0.787]\n"
     ]
    },
    {
     "name": "stdout",
     "output_type": "stream",
     "text": [
      "-> Phase done\n",
      "-> Center Accuracy is 0.836899995803833.\n",
      "-> Generalization is above minimum accuracy by 0.05689999580383298.!\n",
      "-> Starting phase 6\n",
      "-> Current Volume interval : [0.0004, INFINITY]\n"
     ]
    },
    {
     "name": "stderr",
     "output_type": "stream",
     "text": [
      "100%|██████████| 1000/1000 [00:42<00:00, 23.37it/s, loss=0.723, min_val_acc=0.767]\n"
     ]
    },
    {
     "name": "stdout",
     "output_type": "stream",
     "text": [
      "-> Phase done\n",
      "-> Center Accuracy is 0.829800009727478.\n",
      "-> Generalization is above minimum accuracy by 0.049800009727478.!\n",
      "-> Starting phase 6\n",
      "-> Current Volume interval : [0.0008, INFINITY]\n"
     ]
    },
    {
     "name": "stderr",
     "output_type": "stream",
     "text": [
      "100%|██████████| 1000/1000 [00:42<00:00, 23.32it/s, loss=0.588, min_val_acc=0.739]\n"
     ]
    },
    {
     "name": "stdout",
     "output_type": "stream",
     "text": [
      "-> Phase done\n",
      "-> Center Accuracy is 0.822700023651123.\n",
      "-> Generalization is above minimum accuracy by 0.04270002365112302.!\n",
      "-> Starting phase 6\n",
      "-> Current Volume interval : [0.0016, INFINITY]\n"
     ]
    },
    {
     "name": "stderr",
     "output_type": "stream",
     "text": [
      "100%|██████████| 1000/1000 [00:42<00:00, 23.34it/s, loss=0.863, min_val_acc=0.685]\n"
     ]
    },
    {
     "name": "stdout",
     "output_type": "stream",
     "text": [
      "-> Phase done\n",
      "-> Center Accuracy is 0.8086000084877014.\n",
      "-> Generalization is above minimum accuracy by 0.02860000848770139.!\n",
      "Training succeeded !\n",
      "-> Run finished with values : [0.8103333115577698, 0.5834999680519104, 0.6380833387374878]\n",
      " ---------- Starting Run #4 ---------- \n",
      "========== Started Multiphase Trainer for 7 phases ==========\n",
      "First time train is called. Initial training phase started with volume 5e-05.\n"
     ]
    },
    {
     "name": "stderr",
     "output_type": "stream",
     "text": [
      "100%|██████████| 1000/1000 [00:42<00:00, 23.44it/s, loss=0.535, min_val_acc=0.815]\n"
     ]
    },
    {
     "name": "stdout",
     "output_type": "stream",
     "text": [
      "=> Initial center accuracy is 0.8162999749183655\n",
      "-> Starting phase 6\n",
      "-> Current Volume interval : [5e-05, INFINITY]\n"
     ]
    },
    {
     "name": "stderr",
     "output_type": "stream",
     "text": [
      "100%|██████████| 1000/1000 [00:42<00:00, 23.34it/s, loss=0.472, min_val_acc=0.823]\n"
     ]
    },
    {
     "name": "stdout",
     "output_type": "stream",
     "text": [
      "-> Phase done\n",
      "-> Center Accuracy is 0.8334000110626221.\n",
      "-> Generalization is above minimum accuracy by 0.053400011062622044.!\n",
      "-> Starting phase 6\n",
      "-> Current Volume interval : [0.0001, INFINITY]\n"
     ]
    },
    {
     "name": "stderr",
     "output_type": "stream",
     "text": [
      "100%|██████████| 1000/1000 [00:42<00:00, 23.34it/s, loss=0.367, min_val_acc=0.796]\n"
     ]
    },
    {
     "name": "stdout",
     "output_type": "stream",
     "text": [
      "-> Phase done\n",
      "-> Center Accuracy is 0.8360000252723694.\n",
      "-> Generalization is above minimum accuracy by 0.05600002527236936.!\n",
      "-> Starting phase 6\n",
      "-> Current Volume interval : [0.0002, INFINITY]\n"
     ]
    },
    {
     "name": "stderr",
     "output_type": "stream",
     "text": [
      "100%|██████████| 1000/1000 [00:42<00:00, 23.45it/s, loss=0.507, min_val_acc=0.778]\n"
     ]
    },
    {
     "name": "stdout",
     "output_type": "stream",
     "text": [
      "-> Phase done\n",
      "-> Center Accuracy is 0.8352000117301941.\n",
      "-> Generalization is above minimum accuracy by 0.055200011730194065.!\n",
      "-> Starting phase 6\n",
      "-> Current Volume interval : [0.0004, INFINITY]\n"
     ]
    },
    {
     "name": "stderr",
     "output_type": "stream",
     "text": [
      "100%|██████████| 1000/1000 [00:42<00:00, 23.35it/s, loss=0.57, min_val_acc=0.734]\n"
     ]
    },
    {
     "name": "stdout",
     "output_type": "stream",
     "text": [
      "-> Phase done\n",
      "-> Center Accuracy is 0.8294000029563904.\n",
      "-> Generalization is above minimum accuracy by 0.049400002956390354.!\n",
      "-> Starting phase 6\n",
      "-> Current Volume interval : [0.0008, INFINITY]\n"
     ]
    },
    {
     "name": "stderr",
     "output_type": "stream",
     "text": [
      "100%|██████████| 1000/1000 [00:42<00:00, 23.42it/s, loss=0.45, min_val_acc=0.721]\n"
     ]
    },
    {
     "name": "stdout",
     "output_type": "stream",
     "text": [
      "-> Phase done\n",
      "-> Center Accuracy is 0.8205000162124634.\n",
      "-> Generalization is above minimum accuracy by 0.04050001621246335.!\n",
      "-> Starting phase 6\n",
      "-> Current Volume interval : [0.0016, INFINITY]\n"
     ]
    },
    {
     "name": "stderr",
     "output_type": "stream",
     "text": [
      "100%|██████████| 1000/1000 [00:42<00:00, 23.30it/s, loss=0.71, min_val_acc=0.686]\n"
     ]
    },
    {
     "name": "stdout",
     "output_type": "stream",
     "text": [
      "-> Phase done\n",
      "-> Center Accuracy is 0.8126999735832214.\n",
      "-> Generalization is above minimum accuracy by 0.03269997358322141.!\n",
      "Training succeeded !\n",
      "-> Run finished with values : [0.8140833377838135, 0.5790833234786987, 0.6517499685287476]\n",
      "========== Performance of Hypercube training across 5 independent runs ==========\n",
      "Clean Accuracy : 0.8155 (std 0.0048)\n",
      "FGSM Accuracy : 0.5897 (std 0.0205)\n",
      "Certified Adversarial Accuracy : 0.6485 (std 0.0255)\n"
     ]
    }
   ],
   "source": [
    "# Setting random seeds for reproducibility\n",
    "torch.manual_seed(0)\n",
    "torch.cuda.manual_seed(0)\n",
    "torch.backends.cudnn.deterministic = True\n",
    "\n",
    "def runHypercube() -> list[float]:\n",
    "    h_model = None\n",
    "    optimizer = None \n",
    "    multiphase_trainer = None \n",
    "    restart = True \n",
    "    while restart: # Restarts if bad initialization leads to no convergences at beginning of training (doesn't happen very often)\n",
    "        h_model = get_model(output_dim=10)\n",
    "        optimizer = HypercubeTrainer(h_model, device=DEVICE)\n",
    "        multiphase_trainer = ConstrainedVolumeMultiphaseTrainer(\n",
    "            optimizer, \n",
    "            inflate_function=interval_narrowers.inflate_multiplier(2.0),\n",
    "            narrow_function=interval_narrowers.narrower_halver(0.5),\n",
    "            starting_value=1e-4*0.5, \n",
    "            min_acc_limit=0.78,\n",
    "            quiet=False\n",
    "        )\n",
    "        restart = not multiphase_trainer.train(\n",
    "            7, fashion_mnist_val,\n",
    "            fashion_mnist_train, fashion_mnist_val, loss_obj=0.0, max_iters=1000, batch_size=64, lr=1e-3\n",
    "        )\n",
    "    h_model = Safebox.bmodelToModel(multiphase_trainer.result()) # evaluate center model \n",
    "    return evaluate_model(h_model, fashion_mnist_test,epsilon_fgsm=MNIST_EPSILON_FGSM, epsilon_cert_adv=MNIST_EPSILON_CERT_ADV, data_domain=MNIST_DATA_DOMAIN)\n",
    "means, stds, all_runs = evaluate_run(runHypercube, N_RUNS)\n",
    "print(\"=\"*10, f\"Performance of Hypercube training across {N_RUNS} independent runs\", \"=\"*10)\n",
    "print(f\"Clean Accuracy : {means[0]:.4f} (std {stds[0]:.4f})\")\n",
    "print(f\"FGSM Accuracy : {means[1]:.4f} (std {stds[1]:.4f})\")\n",
    "print(f\"Certified Adversarial Accuracy : {means[2]:.4f} (std {stds[2]:.4f})\")\n",
    "\n",
    "fashion_mnist_means_dict[HYPERCUBE] = means\n",
    "fashion_mnist_stds_dict[HYPERCUBE] = stds\n",
    "#print(\"All runs : \", all_runs)"
   ]
  },
  {
   "cell_type": "code",
   "execution_count": null,
   "id": "69e5fb0becd3c54",
   "metadata": {
    "collapsed": false
   },
   "outputs": [],
   "source": [
    "fig, ax = plt.subplots()\n",
    "plotMethod(\n",
    "    [fashion_mnist_means_dict[ADAM], fashion_mnist_means_dict[PGD], fashion_mnist_means_dict[HYPERCUBE]],\n",
    "    [fashion_mnist_stds_dict[ADAM], fashion_mnist_stds_dict[PGD], fashion_mnist_stds_dict[HYPERCUBE]],\n",
    "    #[fashion_mnist_means_dict[ADAM], fashion_mnist_means_dict[PGD], fashion_mnist_means_dict[SAM], fashion_mnist_means_dict[HYPERCUBE]],\n",
    "    #[fashion_mnist_stds_dict[ADAM],  fashion_mnist_stds_dict[PGD], fashion_mnist_stds_dict[SAM], fashion_mnist_stds_dict[HYPERCUBE]],\n",
    "    ax\n",
    "    )"
   ]
  }
 ],
 "metadata": {
  "kernelspec": {
   "display_name": "opti3",
   "language": "python",
   "name": "python3"
  },
  "language_info": {
   "codemirror_mode": {
    "name": "ipython",
    "version": 3
   },
   "file_extension": ".py",
   "mimetype": "text/x-python",
   "name": "python",
   "nbconvert_exporter": "python",
   "pygments_lexer": "ipython3",
   "version": "3.11.9"
  }
 },
 "nbformat": 4,
 "nbformat_minor": 5
}
