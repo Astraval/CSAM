{
 "cells": [
  {
   "cell_type": "markdown",
   "source": [
    "# Continual Learning Experiment \n",
    "-----------------------------\n",
    "### WARNING : This is NOT our benchmark. This is a proof of concept. For our benchmark on adversarial attacks, please refer to benchmark.ipynb"
   ],
   "metadata": {
    "collapsed": false
   },
   "id": "22a79be7bff2a950"
  },
  {
   "cell_type": "code",
   "outputs": [],
   "source": [
    "from src.bayes.BayesianModel import BayesianModel\n",
    "from src.optimizers.SAMTrainer import SAMTrainer\n",
    "from src.optimizers.SimpleTrainer import SimpleTrainer\n",
    "%load_ext autoreload\n",
    "%autoreload 2\n",
    "import sys\n",
    "import os\n",
    "\n",
    "project_root = os.path.abspath(os.path.join(os.getcwd(), \"..\"))\n",
    "if project_root not in sys.path:\n",
    "    sys.path.append(project_root)"
   ],
   "metadata": {
    "collapsed": true,
    "ExecuteTime": {
     "end_time": "2025-06-07T15:20:29.696743Z",
     "start_time": "2025-06-07T15:20:27.401266Z"
    }
   },
   "id": "initial_id",
   "execution_count": 1
  },
  {
   "cell_type": "markdown",
   "source": [
    "#### Loading Modules"
   ],
   "metadata": {
    "collapsed": false
   },
   "id": "ec3a01720c071055"
  },
  {
   "cell_type": "code",
   "outputs": [],
   "source": [
    "import torch\n",
    "from src.utils import dataset\n",
    "from matplotlib import pyplot as plt\n",
    "from src.continual_learning.CertifiedPostTrainer import CertifiedPostTrainer\n",
    "from src.optimizers import interval_narrowers\n",
    "from src.optimizers.ConstrainedVolumeMultiphaseTrainer import ConstrainedVolumeMultiphaseTrainer\n",
    "from src.optimizers.HypercubeTrainer import HypercubeTrainer\n",
    "from src.utils.evaluation import evaluate_accuracy\n",
    "from src.cert import Safebox\n",
    "from torch.utils.data import DataLoader, Dataset"
   ],
   "metadata": {
    "collapsed": false,
    "ExecuteTime": {
     "end_time": "2025-06-07T15:20:33.298219Z",
     "start_time": "2025-06-07T15:20:29.697748Z"
    }
   },
   "id": "5b2867ee52190887",
   "execution_count": 2
  },
  {
   "cell_type": "markdown",
   "source": [
    "#### Utils and Constants"
   ],
   "metadata": {
    "collapsed": false
   },
   "id": "9fb6b53c338ac8b7"
  },
  {
   "cell_type": "code",
   "outputs": [],
   "source": [
    "DEVICE = \"cuda\" if torch.cuda.is_available() else \"cpu\""
   ],
   "metadata": {
    "collapsed": false,
    "ExecuteTime": {
     "end_time": "2025-06-07T15:20:33.452370Z",
     "start_time": "2025-06-07T15:20:33.299649Z"
    }
   },
   "id": "6ef52ac6b4db9728",
   "execution_count": 3
  },
  {
   "cell_type": "code",
   "outputs": [],
   "source": [
    "def display_dataset(dataset):\n",
    "    fig, axs = plt.subplots(1,10)\n",
    "    fig.set_figwidth(15)\n",
    "    for i in range(10):\n",
    "        axs[i].set_axis_off()\n",
    "        axs[i].imshow(dataset[i][0].numpy().reshape((28,28)), cmap=\"gray\")"
   ],
   "metadata": {
    "collapsed": false,
    "ExecuteTime": {
     "end_time": "2025-06-07T15:20:33.575007Z",
     "start_time": "2025-06-07T15:20:33.453526Z"
    }
   },
   "id": "b3a6a688b79dcbe1",
   "execution_count": 4
  },
  {
   "cell_type": "code",
   "outputs": [],
   "source": [
    "def get_model(output_dim=10):\n",
    "    \"\"\"Returns a simple CNN model.\"\"\"\n",
    "    model = torch.nn.Sequential(\n",
    "        torch.nn.Conv2d(1, 8, kernel_size=5, stride=1, padding=1),\n",
    "        torch.nn.ReLU(),\n",
    "        torch.nn.Conv2d(8, 1, kernel_size=5, stride=1, padding=1),\n",
    "        torch.nn.ReLU(),\n",
    "        torch.nn.Flatten(),\n",
    "        torch.nn.Linear(576, output_dim),\n",
    "    ).to(DEVICE)\n",
    "    return model\n",
    "\n",
    "def certify_accuracy(dataset: Dataset, bound_model: torch.nn.Sequential, device=\"cpu\") -> float:\n",
    "    X, y = next(iter(DataLoader(dataset, batch_size=len(dataset), shuffle=True)))\n",
    "    X, y, = X.to(device), y.to(device)\n",
    "    bound_model.eval()\n",
    "    with torch.no_grad():\n",
    "        return Safebox.min_acc(y, bound_model(X.unsqueeze(-1).expand(*X.shape, 2))).item()\n"
   ],
   "metadata": {
    "collapsed": false,
    "ExecuteTime": {
     "end_time": "2025-06-07T15:20:33.699113Z",
     "start_time": "2025-06-07T15:20:33.576107Z"
    }
   },
   "id": "9ea4138fa6212ac3",
   "execution_count": 5
  },
  {
   "cell_type": "markdown",
   "source": [
    "### MNIST Experiment\n",
    "---------\n",
    "In this setup we learn first to classify between digits 0 and 1 and then learn to classify between digits 6 and 7 using the same network. We do not have access to the previous dataset when doing finetuning."
   ],
   "metadata": {
    "collapsed": false
   },
   "id": "78ecfc77b8fc4fe3"
  },
  {
   "cell_type": "code",
   "outputs": [
    {
     "name": "stdout",
     "output_type": "stream",
     "text": [
      "Digit 01 Train Dataset Size:  10132\n",
      "Digit 01 Test Dataset Size:  2533\n",
      "Digit 01 Validation Dataset Size:  2115\n",
      "Digit 67 Train Dataset Size:  9746\n",
      "Digit 67 Test Dataset Size:  2437\n",
      "Digit 67 Validation Dataset Size:  1986\n"
     ]
    },
    {
     "data": {
      "text/plain": "<Figure size 1500x480 with 10 Axes>",
      "image/png": "[encoded data removed]"
     },
     "metadata": {},
     "output_type": "display_data"
    },
    {
     "data": {
      "text/plain": "<Figure size 1500x480 with 10 Axes>",
      "image/png": "[encoded data removed]"
     },
     "metadata": {},
     "output_type": "display_data"
    }
   ],
   "source": [
    "# Setting random seeds for reproducibility\n",
    "torch.manual_seed(0)\n",
    "torch.cuda.manual_seed(0)\n",
    "torch.backends.cudnn.deterministic = True\n",
    "\n",
    "mnist_train_test, mnist_val = dataset.get_mnist_dataset(root=\"./data\")\n",
    "digit_01_train_test, digit01_val = dataset.filter_labels(mnist_train_test, [0,1]), dataset.filter_labels(mnist_val, [0,1])\n",
    "digit67_train_test, digit67_val = dataset.filter_labels(mnist_train_test, [6,7]), dataset.filter_labels(mnist_val, [6,7])\n",
    "\n",
    "digit01_train, digit01_test = dataset.split_dataset(digit_01_train_test, split_proportion=0.8)\n",
    "digit67_train, digit67_test = dataset.split_dataset(digit67_train_test, split_proportion=0.8)\n",
    "digit67_train = dataset.map_labels(digit67_train, {6:0, 7:1})\n",
    "digit67_val = dataset.map_labels(digit67_val, {6:0, 7:1})\n",
    "digit67_test = dataset.map_labels(digit67_test, {6:0, 7:1})\n",
    "print(\"Digit 01 Train Dataset Size: \", len(digit01_train))\n",
    "print(\"Digit 01 Test Dataset Size: \", len(digit01_test))\n",
    "print(\"Digit 01 Validation Dataset Size: \", len(digit01_val))\n",
    "display_dataset(digit01_train)\n",
    "print(\"Digit 67 Train Dataset Size: \", len(digit67_train))\n",
    "print(\"Digit 67 Test Dataset Size: \", len(digit67_test))\n",
    "print(\"Digit 67 Validation Dataset Size: \", len(digit67_val))\n",
    "display_dataset(digit67_train)"
   ],
   "metadata": {
    "collapsed": false,
    "ExecuteTime": {
     "end_time": "2025-06-07T15:20:34.287098Z",
     "start_time": "2025-06-07T15:20:33.700456Z"
    }
   },
   "id": "f5d0ef0945b55e2f",
   "execution_count": 6
  },
  {
   "cell_type": "code",
   "outputs": [
    {
     "name": "stdout",
     "output_type": "stream",
     "text": [
      "========== Started Multiphase Trainer for 16 phases ==========\n",
      "First time train is called. Initial training phase started with volume 5e-05.\n"
     ]
    },
    {
     "name": "stderr",
     "output_type": "stream",
     "text": [
      "100%|██████████| 500/500 [00:21<00:00, 22.74it/s, loss=0.0002, min_val_acc=0.999]\n"
     ]
    },
    {
     "name": "stdout",
     "output_type": "stream",
     "text": [
      "=> Initial center accuracy is 0.9990543723106384\n",
      "-> Starting phase 15\n",
      "-> Current Volume interval : [5e-05, INFINITY]\n"
     ]
    },
    {
     "name": "stderr",
     "output_type": "stream",
     "text": [
      "100%|██████████| 500/500 [00:21<00:00, 23.54it/s, loss=0.0016, min_val_acc=1]    \n"
     ]
    },
    {
     "name": "stdout",
     "output_type": "stream",
     "text": [
      "-> Phase done\n",
      "-> Center Accuracy is 0.9995272159576416.\n",
      "-> Generalization is above minimum accuracy by 0.21952721595764157.!\n",
      "-> Starting phase 15\n",
      "-> Current Volume interval : [7.5e-05, INFINITY]\n"
     ]
    },
    {
     "name": "stderr",
     "output_type": "stream",
     "text": [
      "100%|██████████| 500/500 [00:21<00:00, 23.32it/s, loss=0, min_val_acc=1]         \n"
     ]
    },
    {
     "name": "stdout",
     "output_type": "stream",
     "text": [
      "-> Phase done\n",
      "-> Center Accuracy is 0.9995272159576416.\n",
      "-> Generalization is above minimum accuracy by 0.21952721595764157.!\n",
      "-> Starting phase 15\n",
      "-> Current Volume interval : [0.0001125, INFINITY]\n"
     ]
    },
    {
     "name": "stderr",
     "output_type": "stream",
     "text": [
      "100%|██████████| 500/500 [00:21<00:00, 23.46it/s, loss=0, min_val_acc=1]         \n"
     ]
    },
    {
     "name": "stdout",
     "output_type": "stream",
     "text": [
      "-> Phase done\n",
      "-> Center Accuracy is 0.9995272159576416.\n",
      "-> Generalization is above minimum accuracy by 0.21952721595764157.!\n",
      "-> Starting phase 15\n",
      "-> Current Volume interval : [0.00016875, INFINITY]\n"
     ]
    },
    {
     "name": "stderr",
     "output_type": "stream",
     "text": [
      "100%|██████████| 500/500 [00:21<00:00, 22.98it/s, loss=0, min_val_acc=0.999]     \n"
     ]
    },
    {
     "name": "stdout",
     "output_type": "stream",
     "text": [
      "-> Phase done\n",
      "-> Center Accuracy is 0.9995272159576416.\n",
      "-> Generalization is above minimum accuracy by 0.21952721595764157.!\n",
      "-> Starting phase 15\n",
      "-> Current Volume interval : [0.00025312, INFINITY]\n"
     ]
    },
    {
     "name": "stderr",
     "output_type": "stream",
     "text": [
      "100%|██████████| 500/500 [00:21<00:00, 23.39it/s, loss=0, min_val_acc=0.999]     \n"
     ]
    },
    {
     "name": "stdout",
     "output_type": "stream",
     "text": [
      "-> Phase done\n",
      "-> Center Accuracy is 0.9990543723106384.\n",
      "-> Generalization is above minimum accuracy by 0.2190543723106384.!\n",
      "-> Starting phase 15\n",
      "-> Current Volume interval : [0.00037969, INFINITY]\n"
     ]
    },
    {
     "name": "stderr",
     "output_type": "stream",
     "text": [
      "100%|██████████| 500/500 [00:21<00:00, 23.25it/s, loss=0, min_val_acc=0.998]     \n"
     ]
    },
    {
     "name": "stdout",
     "output_type": "stream",
     "text": [
      "-> Phase done\n",
      "-> Center Accuracy is 0.99858158826828.\n",
      "-> Generalization is above minimum accuracy by 0.21858158826828.!\n",
      "-> Starting phase 15\n",
      "-> Current Volume interval : [0.00056953, INFINITY]\n"
     ]
    },
    {
     "name": "stderr",
     "output_type": "stream",
     "text": [
      "100%|██████████| 500/500 [00:21<00:00, 23.58it/s, loss=0, min_val_acc=0.999]     \n"
     ]
    },
    {
     "name": "stdout",
     "output_type": "stream",
     "text": [
      "-> Phase done\n",
      "-> Center Accuracy is 0.9995272159576416.\n",
      "-> Generalization is above minimum accuracy by 0.21952721595764157.!\n",
      "-> Starting phase 15\n",
      "-> Current Volume interval : [0.0008543, INFINITY]\n"
     ]
    },
    {
     "name": "stderr",
     "output_type": "stream",
     "text": [
      "100%|██████████| 500/500 [00:20<00:00, 23.93it/s, loss=0, min_val_acc=0.998]     \n"
     ]
    },
    {
     "name": "stdout",
     "output_type": "stream",
     "text": [
      "-> Phase done\n",
      "-> Center Accuracy is 0.9990543723106384.\n",
      "-> Generalization is above minimum accuracy by 0.2190543723106384.!\n",
      "-> Starting phase 15\n",
      "-> Current Volume interval : [0.00128145, INFINITY]\n"
     ]
    },
    {
     "name": "stderr",
     "output_type": "stream",
     "text": [
      "100%|██████████| 500/500 [00:20<00:00, 24.22it/s, loss=0, min_val_acc=0.999]     \n"
     ]
    },
    {
     "name": "stdout",
     "output_type": "stream",
     "text": [
      "-> Phase done\n",
      "-> Center Accuracy is 0.9990543723106384.\n",
      "-> Generalization is above minimum accuracy by 0.2190543723106384.!\n",
      "-> Starting phase 15\n",
      "-> Current Volume interval : [0.00192217, INFINITY]\n"
     ]
    },
    {
     "name": "stderr",
     "output_type": "stream",
     "text": [
      "100%|██████████| 500/500 [00:20<00:00, 24.21it/s, loss=0, min_val_acc=0.998]     \n"
     ]
    },
    {
     "name": "stdout",
     "output_type": "stream",
     "text": [
      "-> Phase done\n",
      "-> Center Accuracy is 0.9990543723106384.\n",
      "-> Generalization is above minimum accuracy by 0.2190543723106384.!\n",
      "-> Starting phase 15\n",
      "-> Current Volume interval : [0.00288325, INFINITY]\n"
     ]
    },
    {
     "name": "stderr",
     "output_type": "stream",
     "text": [
      "100%|██████████| 500/500 [00:20<00:00, 23.98it/s, loss=0, min_val_acc=0.996]     \n"
     ]
    },
    {
     "name": "stdout",
     "output_type": "stream",
     "text": [
      "-> Phase done\n",
      "-> Center Accuracy is 0.9995272159576416.\n",
      "-> Generalization is above minimum accuracy by 0.21952721595764157.!\n",
      "-> Starting phase 15\n",
      "-> Current Volume interval : [0.00432488, INFINITY]\n"
     ]
    },
    {
     "name": "stderr",
     "output_type": "stream",
     "text": [
      "100%|██████████| 500/500 [00:21<00:00, 23.74it/s, loss=0, min_val_acc=0.997]     \n"
     ]
    },
    {
     "name": "stdout",
     "output_type": "stream",
     "text": [
      "-> Phase done\n",
      "-> Center Accuracy is 1.0.\n",
      "-> Generalization is above minimum accuracy by 0.21999999999999997.!\n",
      "-> Starting phase 15\n",
      "-> Current Volume interval : [0.00648732, INFINITY]\n"
     ]
    },
    {
     "name": "stderr",
     "output_type": "stream",
     "text": [
      "100%|██████████| 500/500 [00:21<00:00, 23.67it/s, loss=0, min_val_acc=0.995]     \n"
     ]
    },
    {
     "name": "stdout",
     "output_type": "stream",
     "text": [
      "-> Phase done\n",
      "-> Center Accuracy is 0.9995272159576416.\n",
      "-> Generalization is above minimum accuracy by 0.21952721595764157.!\n",
      "-> Starting phase 15\n",
      "-> Current Volume interval : [0.00973098, INFINITY]\n"
     ]
    },
    {
     "name": "stderr",
     "output_type": "stream",
     "text": [
      "100%|██████████| 500/500 [00:20<00:00, 23.82it/s, loss=0, min_val_acc=0.992]     \n"
     ]
    },
    {
     "name": "stdout",
     "output_type": "stream",
     "text": [
      "-> Phase done\n",
      "-> Center Accuracy is 1.0.\n",
      "-> Generalization is above minimum accuracy by 0.21999999999999997.!\n",
      "-> Starting phase 15\n",
      "-> Current Volume interval : [0.01459646, INFINITY]\n"
     ]
    },
    {
     "name": "stderr",
     "output_type": "stream",
     "text": [
      "100%|██████████| 500/500 [00:21<00:00, 23.73it/s, loss=0.132, min_val_acc=0.984] \n"
     ]
    },
    {
     "name": "stdout",
     "output_type": "stream",
     "text": [
      "-> Phase done\n",
      "-> Center Accuracy is 1.0.\n",
      "-> Generalization is above minimum accuracy by 0.21999999999999997.!\n",
      "Training succeeded !\n"
     ]
    },
    {
     "data": {
      "text/plain": "True"
     },
     "execution_count": 7,
     "metadata": {},
     "output_type": "execute_result"
    }
   ],
   "source": [
    "# Setting random seeds for reproducibility\n",
    "torch.manual_seed(0)\n",
    "torch.cuda.manual_seed(0)\n",
    "torch.backends.cudnn.deterministic = True\n",
    "\n",
    "h_model_mnist = get_model(output_dim=2)\n",
    "optimizer_mnist = HypercubeTrainer(h_model_mnist, device=DEVICE)\n",
    "multiphase_trainer_mnist = ConstrainedVolumeMultiphaseTrainer(\n",
    "    optimizer_mnist, \n",
    "    inflate_function=interval_narrowers.inflate_multiplier(1.5),\n",
    "    narrow_function=interval_narrowers.narrower_halver(0.5),\n",
    "    starting_value=1e-4*0.5, \n",
    "    min_acc_limit=0.78,\n",
    "    quiet=False\n",
    ")\n",
    "multiphase_trainer_mnist.train(\n",
    "    16, digit01_val,\n",
    "    digit01_train, digit01_val, loss_obj=0.0, max_iters=500, batch_size=64, lr=1e-3,\n",
    "    n_iter_eval_stop = 1000000,\n",
    "              hard_min_loss_stop = 2.2\n",
    ")"
   ],
   "metadata": {
    "collapsed": false,
    "ExecuteTime": {
     "end_time": "2025-06-07T15:26:19.983278Z",
     "start_time": "2025-06-07T15:20:34.288518Z"
    }
   },
   "id": "5884b06af801eb1",
   "execution_count": 7
  },
  {
   "cell_type": "code",
   "outputs": [
    {
     "name": "stdout",
     "output_type": "stream",
     "text": [
      "Certified Accuracy of bound model on original task 0.9774969816207886\n",
      "Initial center model accuracy on new task 0.706196129322052\n"
     ]
    },
    {
     "name": "stderr",
     "output_type": "stream",
     "text": [
      "100%|██████████| 700/700 [00:16<00:00, 41.59it/s, loss=3.99, val_acc=0.823] \n"
     ]
    },
    {
     "name": "stdout",
     "output_type": "stream",
     "text": [
      "Final Fine-Tuned model accuracy on new task 0.791136622428894\n",
      "Final Fine-Tuned model accuracy on original task 0.9992104172706604\n"
     ]
    }
   ],
   "source": [
    "bound_model_mnist = multiphase_trainer_mnist.result()\n",
    "center_model_mnist = Safebox.bmodelToModel(bound_model_mnist).to(DEVICE)\n",
    "print(f\"Certified Accuracy of bound model on original task {certify_accuracy(digit01_test, bound_model_mnist, device=DEVICE)}\")\n",
    "print(f\"Initial center model accuracy on new task {evaluate_accuracy(digit67_test, center_model_mnist, num_samples=len(digit67_test), device=DEVICE)}\")\n",
    "post_trainer_mnist = CertifiedPostTrainer(bound_model_mnist, device=DEVICE)\n",
    "\n",
    "post_trainer_mnist.train(\n",
    "    digit67_train,\n",
    "    digit67_val, loss_obj=0.0, max_iters=700, batch_size=64, lr=1e-3,\n",
    "    n_iter_eval_stop = 10000000000,\n",
    ")\n",
    "fine_tuned_model_mnist = post_trainer_mnist.result()\n",
    "print(f\"Final Fine-Tuned model accuracy on new task {evaluate_accuracy(digit67_test, fine_tuned_model_mnist, num_samples=len(digit67_test), device=DEVICE)}\")\n",
    "print(f\"Final Fine-Tuned model accuracy on original task {evaluate_accuracy(digit01_test, fine_tuned_model_mnist, num_samples=len(digit01_test), device=DEVICE)}\")"
   ],
   "metadata": {
    "collapsed": false,
    "ExecuteTime": {
     "end_time": "2025-06-07T15:26:39.036110Z",
     "start_time": "2025-06-07T15:26:19.984279Z"
    }
   },
   "id": "f37fa80bfbb3e4cb",
   "execution_count": 8
  },
  {
   "cell_type": "code",
   "outputs": [
    {
     "name": "stdout",
     "output_type": "stream",
     "text": [
      "item 01 Train Dataset Size:  9600\n",
      "item 01 Test Dataset Size:  2400\n",
      "item 01 Validation Dataset Size:  2000\n",
      "item 23 Train Dataset Size:  9600\n",
      "item 23 Test Dataset Size:  2400\n",
      "item 23 Validation Dataset Size:  2000\n"
     ]
    },
    {
     "data": {
      "text/plain": "<Figure size 1500x480 with 10 Axes>",
      "image/png": "[encoded data removed]"
     },
     "metadata": {},
     "output_type": "display_data"
    },
    {
     "data": {
      "text/plain": "<Figure size 1500x480 with 10 Axes>",
      "image/png": "[encoded data removed]"
     },
     "metadata": {},
     "output_type": "display_data"
    }
   ],
   "source": [
    "# Setting random seeds for reproducibility\n",
    "torch.manual_seed(0)\n",
    "torch.cuda.manual_seed(0)\n",
    "torch.backends.cudnn.deterministic = True\n",
    "\n",
    "fashion_mnist_train_test, fashion_mnist_val = dataset.get_fashion_mnist_dataset(root=\"./data\")\n",
    "item_01_train_test, item01_val = dataset.filter_labels(fashion_mnist_train_test, [0,1]), dataset.filter_labels(fashion_mnist_val, [0,1])\n",
    "item_23_train_test, item23_val = dataset.filter_labels(fashion_mnist_train_test, [2,3]), dataset.filter_labels(fashion_mnist_val, [2,3])\n",
    "\n",
    "item01_train, item01_test = dataset.split_dataset(item_01_train_test, split_proportion=0.8)\n",
    "item23_train, item23_test = dataset.split_dataset(item_23_train_test, split_proportion=0.8)\n",
    "item23_train = dataset.map_labels(item23_train, {2:0, 3:1})\n",
    "item23_val = dataset.map_labels(item23_val, {2:0, 3:1})\n",
    "item23_test = dataset.map_labels(item23_test, {2:0, 3:1})\n",
    "print(\"item 01 Train Dataset Size: \", len(item01_train))\n",
    "print(\"item 01 Test Dataset Size: \", len(item01_test))\n",
    "print(\"item 01 Validation Dataset Size: \", len(item01_val))\n",
    "display_dataset(item01_train)\n",
    "print(\"item 23 Train Dataset Size: \", len(item23_train))\n",
    "print(\"item 23 Test Dataset Size: \", len(item23_test))\n",
    "print(\"item 23 Validation Dataset Size: \", len(item23_val))\n",
    "display_dataset(item23_train)"
   ],
   "metadata": {
    "collapsed": false,
    "ExecuteTime": {
     "end_time": "2025-06-07T15:26:39.545512Z",
     "start_time": "2025-06-07T15:26:39.038111Z"
    }
   },
   "id": "5a9a1ae3d5c52868",
   "execution_count": 9
  },
  {
   "cell_type": "code",
   "outputs": [
    {
     "name": "stdout",
     "output_type": "stream",
     "text": [
      "========== Started Multiphase Trainer for 16 phases ==========\n",
      "First time train is called. Initial training phase started with volume 5e-05.\n"
     ]
    },
    {
     "name": "stderr",
     "output_type": "stream",
     "text": [
      "100%|██████████| 500/500 [00:21<00:00, 23.09it/s, loss=0.0401, min_val_acc=0.979]\n"
     ]
    },
    {
     "name": "stdout",
     "output_type": "stream",
     "text": [
      "=> Initial center accuracy is 0.9869999885559082\n",
      "-> Starting phase 15\n",
      "-> Current Volume interval : [5e-05, INFINITY]\n"
     ]
    },
    {
     "name": "stderr",
     "output_type": "stream",
     "text": [
      "100%|██████████| 500/500 [00:21<00:00, 22.86it/s, loss=0.0437, min_val_acc=0.982]\n"
     ]
    },
    {
     "name": "stdout",
     "output_type": "stream",
     "text": [
      "-> Phase done\n",
      "-> Center Accuracy is 0.9890000224113464.\n",
      "-> Generalization is above minimum accuracy by 0.2090000224113464.!\n",
      "-> Starting phase 15\n",
      "-> Current Volume interval : [7.5e-05, INFINITY]\n"
     ]
    },
    {
     "name": "stderr",
     "output_type": "stream",
     "text": [
      "100%|██████████| 500/500 [00:21<00:00, 22.95it/s, loss=0.0109, min_val_acc=0.989]\n"
     ]
    },
    {
     "name": "stdout",
     "output_type": "stream",
     "text": [
      "-> Phase done\n",
      "-> Center Accuracy is 0.9904999732971191.\n",
      "-> Generalization is above minimum accuracy by 0.21049997329711911.!\n",
      "-> Starting phase 15\n",
      "-> Current Volume interval : [0.0001125, INFINITY]\n"
     ]
    },
    {
     "name": "stderr",
     "output_type": "stream",
     "text": [
      "100%|██████████| 500/500 [00:21<00:00, 22.79it/s, loss=0.0344, min_val_acc=0.986]\n"
     ]
    },
    {
     "name": "stdout",
     "output_type": "stream",
     "text": [
      "-> Phase done\n",
      "-> Center Accuracy is 0.9890000224113464.\n",
      "-> Generalization is above minimum accuracy by 0.2090000224113464.!\n",
      "-> Starting phase 15\n",
      "-> Current Volume interval : [0.00016875, INFINITY]\n"
     ]
    },
    {
     "name": "stderr",
     "output_type": "stream",
     "text": [
      "100%|██████████| 500/500 [00:28<00:00, 17.57it/s, loss=0.0473, min_val_acc=0.987]\n"
     ]
    },
    {
     "name": "stdout",
     "output_type": "stream",
     "text": [
      "-> Phase done\n",
      "-> Center Accuracy is 0.9894999861717224.\n",
      "-> Generalization is above minimum accuracy by 0.20949998617172239.!\n",
      "-> Starting phase 15\n",
      "-> Current Volume interval : [0.00025312, INFINITY]\n"
     ]
    },
    {
     "name": "stderr",
     "output_type": "stream",
     "text": [
      "100%|██████████| 500/500 [00:21<00:00, 23.51it/s, loss=0.0005, min_val_acc=0.987]\n"
     ]
    },
    {
     "name": "stdout",
     "output_type": "stream",
     "text": [
      "-> Phase done\n",
      "-> Center Accuracy is 0.9915000200271606.\n",
      "-> Generalization is above minimum accuracy by 0.21150002002716062.!\n",
      "-> Starting phase 15\n",
      "-> Current Volume interval : [0.00037969, INFINITY]\n"
     ]
    },
    {
     "name": "stderr",
     "output_type": "stream",
     "text": [
      "100%|██████████| 500/500 [00:21<00:00, 23.42it/s, loss=0.002, min_val_acc=0.986] \n"
     ]
    },
    {
     "name": "stdout",
     "output_type": "stream",
     "text": [
      "-> Phase done\n",
      "-> Center Accuracy is 0.9915000200271606.\n",
      "-> Generalization is above minimum accuracy by 0.21150002002716062.!\n",
      "-> Starting phase 15\n",
      "-> Current Volume interval : [0.00056953, INFINITY]\n"
     ]
    },
    {
     "name": "stderr",
     "output_type": "stream",
     "text": [
      "100%|██████████| 500/500 [00:21<00:00, 22.81it/s, loss=0.0172, min_val_acc=0.986]\n"
     ]
    },
    {
     "name": "stdout",
     "output_type": "stream",
     "text": [
      "-> Phase done\n",
      "-> Center Accuracy is 0.9894999861717224.\n",
      "-> Generalization is above minimum accuracy by 0.20949998617172239.!\n",
      "-> Starting phase 15\n",
      "-> Current Volume interval : [0.0008543, INFINITY]\n"
     ]
    },
    {
     "name": "stderr",
     "output_type": "stream",
     "text": [
      "100%|██████████| 500/500 [00:21<00:00, 23.02it/s, loss=0.0011, min_val_acc=0.985]\n"
     ]
    },
    {
     "name": "stdout",
     "output_type": "stream",
     "text": [
      "-> Phase done\n",
      "-> Center Accuracy is 0.9909999966621399.\n",
      "-> Generalization is above minimum accuracy by 0.21099999666213987.!\n",
      "-> Starting phase 15\n",
      "-> Current Volume interval : [0.00128145, INFINITY]\n"
     ]
    },
    {
     "name": "stderr",
     "output_type": "stream",
     "text": [
      "100%|██████████| 500/500 [00:22<00:00, 22.59it/s, loss=0.0587, min_val_acc=0.984]\n"
     ]
    },
    {
     "name": "stdout",
     "output_type": "stream",
     "text": [
      "-> Phase done\n",
      "-> Center Accuracy is 0.9900000095367432.\n",
      "-> Generalization is above minimum accuracy by 0.21000000953674314.!\n",
      "-> Starting phase 15\n",
      "-> Current Volume interval : [0.00192217, INFINITY]\n"
     ]
    },
    {
     "name": "stderr",
     "output_type": "stream",
     "text": [
      "100%|██████████| 500/500 [00:22<00:00, 22.46it/s, loss=0.0054, min_val_acc=0.98] \n"
     ]
    },
    {
     "name": "stdout",
     "output_type": "stream",
     "text": [
      "-> Phase done\n",
      "-> Center Accuracy is 0.9900000095367432.\n",
      "-> Generalization is above minimum accuracy by 0.21000000953674314.!\n",
      "-> Starting phase 15\n",
      "-> Current Volume interval : [0.00288325, INFINITY]\n"
     ]
    },
    {
     "name": "stderr",
     "output_type": "stream",
     "text": [
      "100%|██████████| 500/500 [00:22<00:00, 22.70it/s, loss=0.057, min_val_acc=0.975] \n"
     ]
    },
    {
     "name": "stdout",
     "output_type": "stream",
     "text": [
      "-> Phase done\n",
      "-> Center Accuracy is 0.9879999756813049.\n",
      "-> Generalization is above minimum accuracy by 0.2079999756813049.!\n",
      "-> Starting phase 15\n",
      "-> Current Volume interval : [0.00432488, INFINITY]\n"
     ]
    },
    {
     "name": "stderr",
     "output_type": "stream",
     "text": [
      "100%|██████████| 500/500 [00:21<00:00, 22.93it/s, loss=0.0763, min_val_acc=0.965]\n"
     ]
    },
    {
     "name": "stdout",
     "output_type": "stream",
     "text": [
      "-> Phase done\n",
      "-> Center Accuracy is 0.9869999885559082.\n",
      "-> Generalization is above minimum accuracy by 0.20699998855590818.!\n",
      "-> Starting phase 15\n",
      "-> Current Volume interval : [0.00648732, INFINITY]\n"
     ]
    },
    {
     "name": "stderr",
     "output_type": "stream",
     "text": [
      "100%|██████████| 500/500 [00:22<00:00, 22.49it/s, loss=0.0348, min_val_acc=0.955]\n"
     ]
    },
    {
     "name": "stdout",
     "output_type": "stream",
     "text": [
      "-> Phase done\n",
      "-> Center Accuracy is 0.9860000014305115.\n",
      "-> Generalization is above minimum accuracy by 0.20600000143051145.!\n",
      "-> Starting phase 15\n",
      "-> Current Volume interval : [0.00973098, INFINITY]\n"
     ]
    },
    {
     "name": "stderr",
     "output_type": "stream",
     "text": [
      "100%|██████████| 500/500 [00:21<00:00, 23.21it/s, loss=0.258, min_val_acc=0.933] \n"
     ]
    },
    {
     "name": "stdout",
     "output_type": "stream",
     "text": [
      "-> Phase done\n",
      "-> Center Accuracy is 0.9825000166893005.\n",
      "-> Generalization is above minimum accuracy by 0.2025000166893005.!\n",
      "-> Starting phase 15\n",
      "-> Current Volume interval : [0.01459646, INFINITY]\n"
     ]
    },
    {
     "name": "stderr",
     "output_type": "stream",
     "text": [
      "100%|██████████| 500/500 [00:21<00:00, 23.51it/s, loss=0.432, min_val_acc=0.881]\n"
     ]
    },
    {
     "name": "stdout",
     "output_type": "stream",
     "text": [
      "-> Phase done\n",
      "-> Center Accuracy is 0.9745000004768372.\n",
      "-> Generalization is above minimum accuracy by 0.19450000047683713.!\n",
      "Training succeeded !\n"
     ]
    },
    {
     "data": {
      "text/plain": "True"
     },
     "execution_count": 10,
     "metadata": {},
     "output_type": "execute_result"
    }
   ],
   "source": [
    "# Setting random seeds for reproducibility\n",
    "torch.manual_seed(0)\n",
    "torch.cuda.manual_seed(0)\n",
    "torch.backends.cudnn.deterministic = True\n",
    "\n",
    "h_model_fashion = get_model(output_dim=2)\n",
    "optimizer_fashion = HypercubeTrainer(h_model_fashion, device=DEVICE)\n",
    "multiphase_trainer_fashion = ConstrainedVolumeMultiphaseTrainer(\n",
    "    optimizer_fashion, \n",
    "    inflate_function=interval_narrowers.inflate_multiplier(1.5),\n",
    "    narrow_function=interval_narrowers.narrower_halver(0.5),\n",
    "    starting_value=1e-4*0.5, \n",
    "    min_acc_limit=0.78,\n",
    "    quiet=False\n",
    ")\n",
    "multiphase_trainer_fashion.train(\n",
    "    16, item01_val,\n",
    "    item01_train, item01_val, loss_obj=0.0, max_iters=500, batch_size=64, lr=1e-3,\n",
    "    n_iter_eval_stop = 1000000,\n",
    "              hard_min_loss_stop = 2.2\n",
    ")"
   ],
   "metadata": {
    "collapsed": false,
    "ExecuteTime": {
     "end_time": "2025-06-07T15:32:41.324741Z",
     "start_time": "2025-06-07T15:26:39.546953Z"
    }
   },
   "id": "e24e482424695881",
   "execution_count": 10
  },
  {
   "cell_type": "code",
   "outputs": [
    {
     "name": "stdout",
     "output_type": "stream",
     "text": [
      "Certified Accuracy of bound model on original task 0.8808333277702332\n",
      "Initial center model accuracy on new task 0.6387500166893005\n"
     ]
    },
    {
     "name": "stderr",
     "output_type": "stream",
     "text": [
      "100%|██████████| 700/700 [00:17<00:00, 39.07it/s, loss=0.607, val_acc=0.738]\n"
     ]
    },
    {
     "name": "stdout",
     "output_type": "stream",
     "text": [
      "Final Fine-Tuned model accuracy on new task 0.7520833611488342\n",
      "Final Fine-Tuned model accuracy on original task 0.9754167199134827\n"
     ]
    }
   ],
   "source": [
    "from src.continual_learning.CertifiedPostTrainer import CertifiedPostTrainer\n",
    "\n",
    "bound_model_fashion = multiphase_trainer_fashion.result()\n",
    "center_model_fashion = Safebox.bmodelToModel(bound_model_fashion).to(DEVICE)\n",
    "print(f\"Certified Accuracy of bound model on original task {certify_accuracy(item01_test, bound_model_fashion, device=DEVICE)}\")\n",
    "print(f\"Initial center model accuracy on new task {evaluate_accuracy(item23_test, center_model_fashion, num_samples=len(item23_test), device=DEVICE)}\")\n",
    "post_trainer_fashion = CertifiedPostTrainer(bound_model_fashion, device=DEVICE)\n",
    "\n",
    "post_trainer_fashion.train(\n",
    "    item23_train,\n",
    "    item23_val, loss_obj=0.0, max_iters=700, batch_size=64, lr=1e-3,\n",
    "    n_iter_eval_stop = 10000000000,\n",
    ")\n",
    "fine_tuned_model_fashion = post_trainer_fashion.result()\n",
    "print(f\"Final Fine-Tuned model accuracy on new task {evaluate_accuracy(item23_test, fine_tuned_model_fashion, num_samples=len(item23_test), device=DEVICE)}\")\n",
    "print(f\"Final Fine-Tuned model accuracy on original task {evaluate_accuracy(item01_test, fine_tuned_model_fashion, num_samples=len(item01_test), device=DEVICE)}\")"
   ],
   "metadata": {
    "collapsed": false,
    "ExecuteTime": {
     "end_time": "2025-06-07T15:33:01.168890Z",
     "start_time": "2025-06-07T15:32:41.326391Z"
    }
   },
   "id": "3f4558287705a8bc",
   "execution_count": 11
  }
 ],
 "metadata": {
  "kernelspec": {
   "display_name": "Python 3",
   "language": "python",
   "name": "python3"
  },
  "language_info": {
   "codemirror_mode": {
    "name": "ipython",
    "version": 2
   },
   "file_extension": ".py",
   "mimetype": "text/x-python",
   "name": "python",
   "nbconvert_exporter": "python",
   "pygments_lexer": "ipython2",
   "version": "2.7.6"
  }
 },
 "nbformat": 4,
 "nbformat_minor": 5
}
