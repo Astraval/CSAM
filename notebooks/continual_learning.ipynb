{
 "cells": [
  {
   "cell_type": "markdown",
   "id": "22a79be7bff2a950",
   "metadata": {
    "collapsed": false
   },
   "source": [
    "# Continual Learning Experiment \n",
    "-----------------------------\n",
    "### WARNING : This is NOT our benchmark. This is a proof of concept. For our benchmark on adversarial attacks, please refer to benchmark.ipynb"
   ]
  },
  {
   "cell_type": "code",
   "execution_count": 2,
   "id": "initial_id",
   "metadata": {
    "ExecuteTime": {
     "end_time": "2025-06-07T15:20:29.696743Z",
     "start_time": "2025-06-07T15:20:27.401266Z"
    },
    "collapsed": true
   },
   "outputs": [],
   "source": [
    "%load_ext autoreload\n",
    "%autoreload 2\n",
    "import sys\n",
    "import os\n",
    "\n",
    "project_root = os.path.abspath(os.path.join(os.getcwd(), \"..\"))\n",
    "if project_root not in sys.path:\n",
    "    sys.path.append(project_root)"
   ]
  },
  {
   "cell_type": "markdown",
   "id": "ec3a01720c071055",
   "metadata": {
    "collapsed": false
   },
   "source": [
    "#### Loading Modules"
   ]
  },
  {
   "cell_type": "code",
   "execution_count": 86,
   "id": "5b2867ee52190887",
   "metadata": {
    "ExecuteTime": {
     "end_time": "2025-06-07T15:20:33.298219Z",
     "start_time": "2025-06-07T15:20:29.697748Z"
    },
    "collapsed": false
   },
   "outputs": [],
   "source": [
    "import torch\n",
    "from src.utils import dataset\n",
    "from matplotlib import pyplot as plt\n",
    "from src.continual_learning.CertifiedPostTrainer import CertifiedPostTrainer\n",
    "from src.optimizers import interval_narrowers\n",
    "from src.optimizers.ConstrainedVolumeMultiphaseTrainer import ConstrainedVolumeMultiphaseTrainer\n",
    "from src.optimizers.HypercubeTrainer import HypercubeTrainer\n",
    "from src.utils.evaluation import evaluate_accuracy\n",
    "from src.cert import Safebox\n",
    "from torch.utils.data import DataLoader, Dataset\n",
    "from src.bayes.BayesianModel import BayesianModel\n",
    "from src.optimizers.SAMTrainer import SAMTrainer\n",
    "from src.optimizers.SimpleTrainer import SimpleTrainer\n",
    "import scienceplots\n",
    "import numpy as np\n",
    "from matplotlib.lines import Line2D"
   ]
  },
  {
   "cell_type": "markdown",
   "id": "9fb6b53c338ac8b7",
   "metadata": {
    "collapsed": false
   },
   "source": [
    "#### Utils and Constants"
   ]
  },
  {
   "cell_type": "code",
   "execution_count": 4,
   "id": "6ef52ac6b4db9728",
   "metadata": {
    "ExecuteTime": {
     "end_time": "2025-06-07T15:20:33.452370Z",
     "start_time": "2025-06-07T15:20:33.299649Z"
    },
    "collapsed": false
   },
   "outputs": [],
   "source": [
    "DEVICE = \"cuda\" if torch.cuda.is_available() else \"cpu\""
   ]
  },
  {
   "cell_type": "code",
   "execution_count": 5,
   "id": "b3a6a688b79dcbe1",
   "metadata": {
    "ExecuteTime": {
     "end_time": "2025-06-07T15:20:33.575007Z",
     "start_time": "2025-06-07T15:20:33.453526Z"
    },
    "collapsed": false
   },
   "outputs": [],
   "source": [
    "def display_dataset(dataset):\n",
    "    fig, axs = plt.subplots(1,10)\n",
    "    fig.set_figwidth(15)\n",
    "    for i in range(10):\n",
    "        axs[i].set_axis_off()\n",
    "        axs[i].imshow(dataset[i][0].numpy().reshape((28,28)), cmap=\"gray\")"
   ]
  },
  {
   "cell_type": "code",
   "execution_count": 6,
   "id": "9ea4138fa6212ac3",
   "metadata": {
    "ExecuteTime": {
     "end_time": "2025-06-07T15:20:33.699113Z",
     "start_time": "2025-06-07T15:20:33.576107Z"
    },
    "collapsed": false
   },
   "outputs": [],
   "source": [
    "def get_model(output_dim=10):\n",
    "    \"\"\"Returns a simple CNN model.\"\"\"\n",
    "    model = torch.nn.Sequential(\n",
    "        torch.nn.Conv2d(1, 8, kernel_size=5, stride=1, padding=1),\n",
    "        torch.nn.ReLU(),\n",
    "        torch.nn.Conv2d(8, 1, kernel_size=5, stride=1, padding=1),\n",
    "        torch.nn.ReLU(),\n",
    "        torch.nn.Flatten(),\n",
    "        torch.nn.Linear(576, output_dim),\n",
    "    ).to(DEVICE)\n",
    "    return model\n",
    "\n",
    "def certify_accuracy(dataset: Dataset, bound_model: torch.nn.Sequential, device=\"cpu\") -> float:\n",
    "    X, y = next(iter(DataLoader(dataset, batch_size=len(dataset), shuffle=True)))\n",
    "    X, y, = X.to(device), y.to(device)\n",
    "    bound_model.eval()\n",
    "    with torch.no_grad():\n",
    "        return Safebox.min_acc(y, bound_model(X.unsqueeze(-1).expand(*X.shape, 2))).item()\n"
   ]
  },
  {
   "cell_type": "code",
   "execution_count": 17,
   "id": "c6187c1b",
   "metadata": {},
   "outputs": [],
   "source": [
    "plt.style.use(['science','ieee'])"
   ]
  },
  {
   "cell_type": "markdown",
   "id": "78ecfc77b8fc4fe3",
   "metadata": {
    "collapsed": false
   },
   "source": [
    "### MNIST Experiment\n",
    "---------\n",
    "In this setup we learn first to classify between digits 0 and 1 and then learn to classify between digits 6 and 7 using the same network. We do not have access to the previous dataset when doing finetuning."
   ]
  },
  {
   "cell_type": "code",
   "execution_count": 8,
   "id": "f5d0ef0945b55e2f",
   "metadata": {
    "ExecuteTime": {
     "end_time": "2025-06-07T15:20:34.287098Z",
     "start_time": "2025-06-07T15:20:33.700456Z"
    },
    "collapsed": false
   },
   "outputs": [
    {
     "name": "stdout",
     "output_type": "stream",
     "text": [
      "Digit 01 Train Dataset Size:  10132\n",
      "Digit 01 Test Dataset Size:  2533\n",
      "Digit 01 Validation Dataset Size:  2115\n",
      "Digit 67 Train Dataset Size:  9746\n",
      "Digit 67 Test Dataset Size:  2437\n",
      "Digit 67 Validation Dataset Size:  1986\n"
     ]
    },
    {
     "data": {
      "image/png": "[encoded data removed]",
      "text/plain": [
       "<Figure size 1500x480 with 10 Axes>"
      ]
     },
     "metadata": {},
     "output_type": "display_data"
    },
    {
     "data": {
      "image/png": "[encoded data removed]",
      "text/plain": [
       "<Figure size 1500x480 with 10 Axes>"
      ]
     },
     "metadata": {},
     "output_type": "display_data"
    }
   ],
   "source": [
    "# Setting random seeds for reproducibility\n",
    "torch.manual_seed(0)\n",
    "torch.cuda.manual_seed(0)\n",
    "torch.backends.cudnn.deterministic = True\n",
    "\n",
    "mnist_train_test, mnist_val = dataset.get_mnist_dataset(root=\"./data\")\n",
    "digit_01_train_test, digit01_val = dataset.filter_labels(mnist_train_test, [0,1]), dataset.filter_labels(mnist_val, [0,1])\n",
    "digit67_train_test, digit67_val = dataset.filter_labels(mnist_train_test, [6,7]), dataset.filter_labels(mnist_val, [6,7])\n",
    "\n",
    "digit01_train, digit01_test = dataset.split_dataset(digit_01_train_test, split_proportion=0.8)\n",
    "digit67_train, digit67_test = dataset.split_dataset(digit67_train_test, split_proportion=0.8)\n",
    "digit67_train = dataset.map_labels(digit67_train, {6:0, 7:1})\n",
    "digit67_val = dataset.map_labels(digit67_val, {6:0, 7:1})\n",
    "digit67_test = dataset.map_labels(digit67_test, {6:0, 7:1})\n",
    "print(\"Digit 01 Train Dataset Size: \", len(digit01_train))\n",
    "print(\"Digit 01 Test Dataset Size: \", len(digit01_test))\n",
    "print(\"Digit 01 Validation Dataset Size: \", len(digit01_val))\n",
    "display_dataset(digit01_train)\n",
    "print(\"Digit 67 Train Dataset Size: \", len(digit67_train))\n",
    "print(\"Digit 67 Test Dataset Size: \", len(digit67_test))\n",
    "print(\"Digit 67 Validation Dataset Size: \", len(digit67_val))\n",
    "display_dataset(digit67_train)"
   ]
  },
  {
   "cell_type": "code",
   "execution_count": 21,
   "id": "5884b06af801eb1",
   "metadata": {
    "ExecuteTime": {
     "end_time": "2025-06-07T15:26:19.983278Z",
     "start_time": "2025-06-07T15:20:34.288518Z"
    },
    "collapsed": false
   },
   "outputs": [
    {
     "name": "stdout",
     "output_type": "stream",
     "text": [
      "========== Started Multiphase Trainer for 16 phases ==========\n",
      "First time train is called. Initial training phase started with volume 5e-05.\n"
     ]
    },
    {
     "name": "stderr",
     "output_type": "stream",
     "text": [
      "100%|██████████| 500/500 [00:18<00:00, 27.74it/s, loss=0.0002, min_val_acc=0.999]\n"
     ]
    },
    {
     "name": "stdout",
     "output_type": "stream",
     "text": [
      "=> Initial center accuracy is 0.9990543723106384\n",
      "-> Starting phase 15\n",
      "-> Current Volume interval : [5e-05, INFINITY]\n"
     ]
    },
    {
     "name": "stderr",
     "output_type": "stream",
     "text": [
      "100%|██████████| 500/500 [00:12<00:00, 38.54it/s, loss=0.0015, min_val_acc=1]    \n"
     ]
    },
    {
     "name": "stdout",
     "output_type": "stream",
     "text": [
      "-> Phase done\n",
      "-> Center Accuracy is 0.9995272159576416.\n",
      "-> Generalization is above minimum accuracy by 0.21952721595764157.!\n",
      "-> Starting phase 15\n",
      "-> Current Volume interval : [7.5e-05, INFINITY]\n"
     ]
    },
    {
     "name": "stderr",
     "output_type": "stream",
     "text": [
      "100%|██████████| 500/500 [00:13<00:00, 38.10it/s, loss=0, min_val_acc=1]         \n"
     ]
    },
    {
     "name": "stdout",
     "output_type": "stream",
     "text": [
      "-> Phase done\n",
      "-> Center Accuracy is 0.9995272159576416.\n",
      "-> Generalization is above minimum accuracy by 0.21952721595764157.!\n",
      "-> Starting phase 15\n",
      "-> Current Volume interval : [0.0001125, INFINITY]\n"
     ]
    },
    {
     "name": "stderr",
     "output_type": "stream",
     "text": [
      "100%|██████████| 500/500 [00:13<00:00, 37.66it/s, loss=0, min_val_acc=1]         \n"
     ]
    },
    {
     "name": "stdout",
     "output_type": "stream",
     "text": [
      "-> Phase done\n",
      "-> Center Accuracy is 0.9995272159576416.\n",
      "-> Generalization is above minimum accuracy by 0.21952721595764157.!\n",
      "-> Starting phase 15\n",
      "-> Current Volume interval : [0.00016875, INFINITY]\n"
     ]
    },
    {
     "name": "stderr",
     "output_type": "stream",
     "text": [
      "100%|██████████| 500/500 [00:13<00:00, 37.43it/s, loss=0, min_val_acc=0.999]     \n"
     ]
    },
    {
     "name": "stdout",
     "output_type": "stream",
     "text": [
      "-> Phase done\n",
      "-> Center Accuracy is 0.9995272159576416.\n",
      "-> Generalization is above minimum accuracy by 0.21952721595764157.!\n",
      "-> Starting phase 15\n",
      "-> Current Volume interval : [0.00025312, INFINITY]\n"
     ]
    },
    {
     "name": "stderr",
     "output_type": "stream",
     "text": [
      "100%|██████████| 500/500 [00:12<00:00, 38.85it/s, loss=0, min_val_acc=0.999]     \n"
     ]
    },
    {
     "name": "stdout",
     "output_type": "stream",
     "text": [
      "-> Phase done\n",
      "-> Center Accuracy is 0.99858158826828.\n",
      "-> Generalization is above minimum accuracy by 0.21858158826828.!\n",
      "-> Starting phase 15\n",
      "-> Current Volume interval : [0.00037969, INFINITY]\n"
     ]
    },
    {
     "name": "stderr",
     "output_type": "stream",
     "text": [
      "100%|██████████| 500/500 [00:13<00:00, 38.12it/s, loss=0, min_val_acc=0.997]     \n"
     ]
    },
    {
     "name": "stdout",
     "output_type": "stream",
     "text": [
      "-> Phase done\n",
      "-> Center Accuracy is 0.9976359605789185.\n",
      "-> Generalization is above minimum accuracy by 0.21763596057891843.!\n",
      "-> Starting phase 15\n",
      "-> Current Volume interval : [0.00056953, INFINITY]\n"
     ]
    },
    {
     "name": "stderr",
     "output_type": "stream",
     "text": [
      "100%|██████████| 500/500 [00:12<00:00, 38.86it/s, loss=0, min_val_acc=0.999]     \n"
     ]
    },
    {
     "name": "stdout",
     "output_type": "stream",
     "text": [
      "-> Phase done\n",
      "-> Center Accuracy is 0.9995272159576416.\n",
      "-> Generalization is above minimum accuracy by 0.21952721595764157.!\n",
      "-> Starting phase 15\n",
      "-> Current Volume interval : [0.0008543, INFINITY]\n"
     ]
    },
    {
     "name": "stderr",
     "output_type": "stream",
     "text": [
      "100%|██████████| 500/500 [00:13<00:00, 38.05it/s, loss=0, min_val_acc=0.998]     \n"
     ]
    },
    {
     "name": "stdout",
     "output_type": "stream",
     "text": [
      "-> Phase done\n",
      "-> Center Accuracy is 0.9990543723106384.\n",
      "-> Generalization is above minimum accuracy by 0.2190543723106384.!\n",
      "-> Starting phase 15\n",
      "-> Current Volume interval : [0.00128145, INFINITY]\n"
     ]
    },
    {
     "name": "stderr",
     "output_type": "stream",
     "text": [
      "100%|██████████| 500/500 [00:13<00:00, 36.78it/s, loss=0, min_val_acc=0.999]     \n"
     ]
    },
    {
     "name": "stdout",
     "output_type": "stream",
     "text": [
      "-> Phase done\n",
      "-> Center Accuracy is 0.9990543723106384.\n",
      "-> Generalization is above minimum accuracy by 0.2190543723106384.!\n",
      "-> Starting phase 15\n",
      "-> Current Volume interval : [0.00192217, INFINITY]\n"
     ]
    },
    {
     "name": "stderr",
     "output_type": "stream",
     "text": [
      "100%|██████████| 500/500 [00:13<00:00, 36.24it/s, loss=0, min_val_acc=0.998]     \n"
     ]
    },
    {
     "name": "stdout",
     "output_type": "stream",
     "text": [
      "-> Phase done\n",
      "-> Center Accuracy is 0.9990543723106384.\n",
      "-> Generalization is above minimum accuracy by 0.2190543723106384.!\n",
      "-> Starting phase 15\n",
      "-> Current Volume interval : [0.00288325, INFINITY]\n"
     ]
    },
    {
     "name": "stderr",
     "output_type": "stream",
     "text": [
      "100%|██████████| 500/500 [00:13<00:00, 37.18it/s, loss=0, min_val_acc=0.996]     \n"
     ]
    },
    {
     "name": "stdout",
     "output_type": "stream",
     "text": [
      "-> Phase done\n",
      "-> Center Accuracy is 0.9995272159576416.\n",
      "-> Generalization is above minimum accuracy by 0.21952721595764157.!\n",
      "-> Starting phase 15\n",
      "-> Current Volume interval : [0.00432488, INFINITY]\n"
     ]
    },
    {
     "name": "stderr",
     "output_type": "stream",
     "text": [
      "100%|██████████| 500/500 [00:12<00:00, 38.74it/s, loss=0, min_val_acc=0.996]     \n"
     ]
    },
    {
     "name": "stdout",
     "output_type": "stream",
     "text": [
      "-> Phase done\n",
      "-> Center Accuracy is 1.0.\n",
      "-> Generalization is above minimum accuracy by 0.21999999999999997.!\n",
      "-> Starting phase 15\n",
      "-> Current Volume interval : [0.00648732, INFINITY]\n"
     ]
    },
    {
     "name": "stderr",
     "output_type": "stream",
     "text": [
      "100%|██████████| 500/500 [00:12<00:00, 39.45it/s, loss=0, min_val_acc=0.995]     \n"
     ]
    },
    {
     "name": "stdout",
     "output_type": "stream",
     "text": [
      "-> Phase done\n",
      "-> Center Accuracy is 0.9995272159576416.\n",
      "-> Generalization is above minimum accuracy by 0.21952721595764157.!\n",
      "-> Starting phase 15\n",
      "-> Current Volume interval : [0.00973098, INFINITY]\n"
     ]
    },
    {
     "name": "stderr",
     "output_type": "stream",
     "text": [
      "100%|██████████| 500/500 [00:12<00:00, 38.94it/s, loss=0, min_val_acc=0.991]     \n"
     ]
    },
    {
     "name": "stdout",
     "output_type": "stream",
     "text": [
      "-> Phase done\n",
      "-> Center Accuracy is 1.0.\n",
      "-> Generalization is above minimum accuracy by 0.21999999999999997.!\n",
      "-> Starting phase 15\n",
      "-> Current Volume interval : [0.01459646, INFINITY]\n"
     ]
    },
    {
     "name": "stderr",
     "output_type": "stream",
     "text": [
      "100%|██████████| 500/500 [00:12<00:00, 39.67it/s, loss=0.14, min_val_acc=0.984]  \n"
     ]
    },
    {
     "name": "stdout",
     "output_type": "stream",
     "text": [
      "-> Phase done\n",
      "-> Center Accuracy is 1.0.\n",
      "-> Generalization is above minimum accuracy by 0.21999999999999997.!\n",
      "Training succeeded !\n"
     ]
    },
    {
     "data": {
      "text/plain": [
       "True"
      ]
     },
     "execution_count": 21,
     "metadata": {},
     "output_type": "execute_result"
    }
   ],
   "source": [
    "# Setting random seeds for reproducibility\n",
    "torch.manual_seed(0)\n",
    "torch.cuda.manual_seed(0)\n",
    "torch.backends.cudnn.deterministic = True\n",
    "\n",
    "h_model_mnist = get_model(output_dim=2)\n",
    "optimizer_mnist = HypercubeTrainer(h_model_mnist, device=DEVICE)\n",
    "multiphase_trainer_mnist = ConstrainedVolumeMultiphaseTrainer(\n",
    "    optimizer_mnist, \n",
    "    inflate_function=interval_narrowers.inflate_multiplier(1.5),\n",
    "    narrow_function=interval_narrowers.narrower_halver(0.5),\n",
    "    starting_value=1e-4*0.5, \n",
    "    min_acc_limit=0.78,\n",
    "    quiet=False\n",
    ")\n",
    "multiphase_trainer_mnist.train(\n",
    "    16, digit01_val,\n",
    "    digit01_train, digit01_val, loss_obj=0.0, max_iters=500, batch_size=64, lr=1e-3,\n",
    "    n_iter_eval_stop = 1000000,\n",
    "              hard_min_loss_stop = 2.2\n",
    ")"
   ]
  },
  {
   "cell_type": "code",
   "execution_count": 22,
   "id": "f37fa80bfbb3e4cb",
   "metadata": {
    "ExecuteTime": {
     "end_time": "2025-06-07T15:26:39.036110Z",
     "start_time": "2025-06-07T15:26:19.984279Z"
    },
    "collapsed": false
   },
   "outputs": [
    {
     "name": "stdout",
     "output_type": "stream",
     "text": [
      "Certified Accuracy of bound model on original task 0.976707398891449\n",
      "Initial center model accuracy on new task 0.7086581587791443\n"
     ]
    },
    {
     "name": "stderr",
     "output_type": "stream",
     "text": [
      "100%|██████████| 700/700 [00:10<00:00, 69.35it/s, loss=3.93, val_acc=0.824] \n"
     ]
    },
    {
     "name": "stdout",
     "output_type": "stream",
     "text": [
      "Final Fine-Tuned model accuracy on new task 0.7890849113464355\n",
      "Final Fine-Tuned model accuracy on original task 0.9992104172706604\n"
     ]
    }
   ],
   "source": [
    "bound_model_mnist = multiphase_trainer_mnist.result()\n",
    "center_model_mnist = Safebox.bmodelToModel(bound_model_mnist).to(DEVICE)\n",
    "\n",
    "certified_accuracy_originial_task = certify_accuracy(digit01_test, bound_model_mnist, device=DEVICE)\n",
    "initial_accuracy_new_task = evaluate_accuracy(digit67_test, center_model_mnist, num_samples=len(digit67_test), device=DEVICE)\n",
    "\n",
    "print(f\"Certified Accuracy of bound model on original task {certified_accuracy_originial_task}\")\n",
    "print(f\"Initial center model accuracy on new task {initial_accuracy_new_task}\")\n",
    "post_trainer_mnist = CertifiedPostTrainer(bound_model_mnist, device=DEVICE)\n",
    "\n",
    "post_trainer_mnist.train(\n",
    "    digit67_train,\n",
    "    digit67_val, loss_obj=0.0, max_iters=700, batch_size=64, lr=1e-3,\n",
    "    n_iter_eval_stop = 10000000000,\n",
    ")\n",
    "fine_tuned_model_mnist = post_trainer_mnist.result()\n",
    "\n",
    "fine_tuned_accuracy_new_task = evaluate_accuracy(digit67_test, fine_tuned_model_mnist, num_samples=len(digit67_test), device=DEVICE)\n",
    "fine_tuned_accuracy_original_task = evaluate_accuracy(digit01_test, fine_tuned_model_mnist, num_samples=len(digit01_test), device=DEVICE)\n",
    "print(f\"Final Fine-Tuned model accuracy on new task {fine_tuned_accuracy_new_task}\")\n",
    "print(f\"Final Fine-Tuned model accuracy on original task {fine_tuned_accuracy_original_task}\")"
   ]
  },
  {
   "cell_type": "code",
   "execution_count": 64,
   "id": "5a9a1ae3d5c52868",
   "metadata": {
    "ExecuteTime": {
     "end_time": "2025-06-07T15:26:39.545512Z",
     "start_time": "2025-06-07T15:26:39.038111Z"
    },
    "collapsed": false
   },
   "outputs": [
    {
     "name": "stdout",
     "output_type": "stream",
     "text": [
      "item 01 Train Dataset Size:  9600\n",
      "item 01 Test Dataset Size:  2400\n",
      "item 01 Validation Dataset Size:  2000\n",
      "item 23 Train Dataset Size:  9600\n",
      "item 23 Test Dataset Size:  2400\n",
      "item 23 Validation Dataset Size:  2000\n"
     ]
    },
    {
     "data": {
      "image/png": "[encoded data removed]",
      "text/plain": [
       "<Figure size 9000x1500 with 10 Axes>"
      ]
     },
     "metadata": {},
     "output_type": "display_data"
    },
    {
     "data": {
      "image/png": "[encoded data removed]",
      "text/plain": [
       "<Figure size 9000x1500 with 10 Axes>"
      ]
     },
     "metadata": {},
     "output_type": "display_data"
    }
   ],
   "source": [
    "# Setting random seeds for reproducibility\n",
    "torch.manual_seed(0)\n",
    "torch.cuda.manual_seed(0)\n",
    "torch.backends.cudnn.deterministic = True\n",
    "\n",
    "fashion_mnist_train_test, fashion_mnist_val = dataset.get_fashion_mnist_dataset(root=\"./data\")\n",
    "item_01_train_test, item01_val = dataset.filter_labels(fashion_mnist_train_test, [0,1]), dataset.filter_labels(fashion_mnist_val, [0,1])\n",
    "item_23_train_test, item23_val = dataset.filter_labels(fashion_mnist_train_test, [2,3]), dataset.filter_labels(fashion_mnist_val, [2,3])\n",
    "\n",
    "item01_train, item01_test = dataset.split_dataset(item_01_train_test, split_proportion=0.8)\n",
    "item23_train, item23_test = dataset.split_dataset(item_23_train_test, split_proportion=0.8)\n",
    "item23_train = dataset.map_labels(item23_train, {2:0, 3:1})\n",
    "item23_val = dataset.map_labels(item23_val, {2:0, 3:1})\n",
    "item23_test = dataset.map_labels(item23_test, {2:0, 3:1})\n",
    "print(\"item 01 Train Dataset Size: \", len(item01_train))\n",
    "print(\"item 01 Test Dataset Size: \", len(item01_test))\n",
    "print(\"item 01 Validation Dataset Size: \", len(item01_val))\n",
    "display_dataset(item01_train)\n",
    "print(\"item 23 Train Dataset Size: \", len(item23_train))\n",
    "print(\"item 23 Test Dataset Size: \", len(item23_test))\n",
    "print(\"item 23 Validation Dataset Size: \", len(item23_val))\n",
    "display_dataset(item23_train)"
   ]
  },
  {
   "cell_type": "code",
   "execution_count": 65,
   "id": "e24e482424695881",
   "metadata": {
    "ExecuteTime": {
     "end_time": "2025-06-07T15:32:41.324741Z",
     "start_time": "2025-06-07T15:26:39.546953Z"
    },
    "collapsed": false
   },
   "outputs": [
    {
     "name": "stdout",
     "output_type": "stream",
     "text": [
      "========== Started Multiphase Trainer for 16 phases ==========\n",
      "First time train is called. Initial training phase started with volume 5e-05.\n"
     ]
    },
    {
     "name": "stderr",
     "output_type": "stream",
     "text": [
      "100%|██████████| 500/500 [00:12<00:00, 39.48it/s, loss=0.0407, min_val_acc=0.978]\n"
     ]
    },
    {
     "name": "stdout",
     "output_type": "stream",
     "text": [
      "=> Initial center accuracy is 0.9869999885559082\n",
      "-> Starting phase 15\n",
      "-> Current Volume interval : [5e-05, INFINITY]\n"
     ]
    },
    {
     "name": "stderr",
     "output_type": "stream",
     "text": [
      "100%|██████████| 500/500 [00:12<00:00, 39.25it/s, loss=0.044, min_val_acc=0.983] \n"
     ]
    },
    {
     "name": "stdout",
     "output_type": "stream",
     "text": [
      "-> Phase done\n",
      "-> Center Accuracy is 0.9890000224113464.\n",
      "-> Generalization is above minimum accuracy by 0.2090000224113464.!\n",
      "-> Starting phase 15\n",
      "-> Current Volume interval : [7.5e-05, INFINITY]\n"
     ]
    },
    {
     "name": "stderr",
     "output_type": "stream",
     "text": [
      "100%|██████████| 500/500 [00:12<00:00, 39.94it/s, loss=0.0116, min_val_acc=0.989]\n"
     ]
    },
    {
     "name": "stdout",
     "output_type": "stream",
     "text": [
      "-> Phase done\n",
      "-> Center Accuracy is 0.9900000095367432.\n",
      "-> Generalization is above minimum accuracy by 0.21000000953674314.!\n",
      "-> Starting phase 15\n",
      "-> Current Volume interval : [0.0001125, INFINITY]\n"
     ]
    },
    {
     "name": "stderr",
     "output_type": "stream",
     "text": [
      "100%|██████████| 500/500 [00:12<00:00, 39.65it/s, loss=0.0397, min_val_acc=0.986]\n"
     ]
    },
    {
     "name": "stdout",
     "output_type": "stream",
     "text": [
      "-> Phase done\n",
      "-> Center Accuracy is 0.9890000224113464.\n",
      "-> Generalization is above minimum accuracy by 0.2090000224113464.!\n",
      "-> Starting phase 15\n",
      "-> Current Volume interval : [0.00016875, INFINITY]\n"
     ]
    },
    {
     "name": "stderr",
     "output_type": "stream",
     "text": [
      "100%|██████████| 500/500 [00:12<00:00, 39.63it/s, loss=0.0452, min_val_acc=0.989]\n"
     ]
    },
    {
     "name": "stdout",
     "output_type": "stream",
     "text": [
      "-> Phase done\n",
      "-> Center Accuracy is 0.9900000095367432.\n",
      "-> Generalization is above minimum accuracy by 0.21000000953674314.!\n",
      "-> Starting phase 15\n",
      "-> Current Volume interval : [0.00025312, INFINITY]\n"
     ]
    },
    {
     "name": "stderr",
     "output_type": "stream",
     "text": [
      "100%|██████████| 500/500 [00:12<00:00, 40.51it/s, loss=0.0005, min_val_acc=0.987]\n"
     ]
    },
    {
     "name": "stdout",
     "output_type": "stream",
     "text": [
      "-> Phase done\n",
      "-> Center Accuracy is 0.9925000071525574.\n",
      "-> Generalization is above minimum accuracy by 0.21250000715255735.!\n",
      "-> Starting phase 15\n",
      "-> Current Volume interval : [0.00037969, INFINITY]\n"
     ]
    },
    {
     "name": "stderr",
     "output_type": "stream",
     "text": [
      "100%|██████████| 500/500 [00:12<00:00, 38.48it/s, loss=0.0032, min_val_acc=0.986]\n"
     ]
    },
    {
     "name": "stdout",
     "output_type": "stream",
     "text": [
      "-> Phase done\n",
      "-> Center Accuracy is 0.9925000071525574.\n",
      "-> Generalization is above minimum accuracy by 0.21250000715255735.!\n",
      "-> Starting phase 15\n",
      "-> Current Volume interval : [0.00056953, INFINITY]\n"
     ]
    },
    {
     "name": "stderr",
     "output_type": "stream",
     "text": [
      "100%|██████████| 500/500 [00:12<00:00, 39.05it/s, loss=0.0187, min_val_acc=0.987]\n"
     ]
    },
    {
     "name": "stdout",
     "output_type": "stream",
     "text": [
      "-> Phase done\n",
      "-> Center Accuracy is 0.9900000095367432.\n",
      "-> Generalization is above minimum accuracy by 0.21000000953674314.!\n",
      "-> Starting phase 15\n",
      "-> Current Volume interval : [0.0008543, INFINITY]\n"
     ]
    },
    {
     "name": "stderr",
     "output_type": "stream",
     "text": [
      "100%|██████████| 500/500 [00:12<00:00, 38.63it/s, loss=0.0015, min_val_acc=0.986]\n"
     ]
    },
    {
     "name": "stdout",
     "output_type": "stream",
     "text": [
      "-> Phase done\n",
      "-> Center Accuracy is 0.9909999966621399.\n",
      "-> Generalization is above minimum accuracy by 0.21099999666213987.!\n",
      "-> Starting phase 15\n",
      "-> Current Volume interval : [0.00128145, INFINITY]\n"
     ]
    },
    {
     "name": "stderr",
     "output_type": "stream",
     "text": [
      "100%|██████████| 500/500 [00:13<00:00, 37.98it/s, loss=0.0818, min_val_acc=0.985]\n"
     ]
    },
    {
     "name": "stdout",
     "output_type": "stream",
     "text": [
      "-> Phase done\n",
      "-> Center Accuracy is 0.9900000095367432.\n",
      "-> Generalization is above minimum accuracy by 0.21000000953674314.!\n",
      "-> Starting phase 15\n",
      "-> Current Volume interval : [0.00192217, INFINITY]\n"
     ]
    },
    {
     "name": "stderr",
     "output_type": "stream",
     "text": [
      "100%|██████████| 500/500 [00:12<00:00, 38.78it/s, loss=0.0058, min_val_acc=0.98] \n"
     ]
    },
    {
     "name": "stdout",
     "output_type": "stream",
     "text": [
      "-> Phase done\n",
      "-> Center Accuracy is 0.9900000095367432.\n",
      "-> Generalization is above minimum accuracy by 0.21000000953674314.!\n",
      "-> Starting phase 15\n",
      "-> Current Volume interval : [0.00288325, INFINITY]\n"
     ]
    },
    {
     "name": "stderr",
     "output_type": "stream",
     "text": [
      "100%|██████████| 500/500 [00:13<00:00, 38.15it/s, loss=0.0802, min_val_acc=0.975]\n"
     ]
    },
    {
     "name": "stdout",
     "output_type": "stream",
     "text": [
      "-> Phase done\n",
      "-> Center Accuracy is 0.9894999861717224.\n",
      "-> Generalization is above minimum accuracy by 0.20949998617172239.!\n",
      "-> Starting phase 15\n",
      "-> Current Volume interval : [0.00432488, INFINITY]\n"
     ]
    },
    {
     "name": "stderr",
     "output_type": "stream",
     "text": [
      "100%|██████████| 500/500 [00:12<00:00, 38.73it/s, loss=0.0965, min_val_acc=0.966]\n"
     ]
    },
    {
     "name": "stdout",
     "output_type": "stream",
     "text": [
      "-> Phase done\n",
      "-> Center Accuracy is 0.9879999756813049.\n",
      "-> Generalization is above minimum accuracy by 0.2079999756813049.!\n",
      "-> Starting phase 15\n",
      "-> Current Volume interval : [0.00648732, INFINITY]\n"
     ]
    },
    {
     "name": "stderr",
     "output_type": "stream",
     "text": [
      "100%|██████████| 500/500 [00:12<00:00, 38.79it/s, loss=0.0427, min_val_acc=0.957]\n"
     ]
    },
    {
     "name": "stdout",
     "output_type": "stream",
     "text": [
      "-> Phase done\n",
      "-> Center Accuracy is 0.984499990940094.\n",
      "-> Generalization is above minimum accuracy by 0.20449999094009397.!\n",
      "-> Starting phase 15\n",
      "-> Current Volume interval : [0.00973098, INFINITY]\n"
     ]
    },
    {
     "name": "stderr",
     "output_type": "stream",
     "text": [
      "100%|██████████| 500/500 [00:12<00:00, 38.63it/s, loss=0.262, min_val_acc=0.935] \n"
     ]
    },
    {
     "name": "stdout",
     "output_type": "stream",
     "text": [
      "-> Phase done\n",
      "-> Center Accuracy is 0.9815000295639038.\n",
      "-> Generalization is above minimum accuracy by 0.20150002956390378.!\n",
      "-> Starting phase 15\n",
      "-> Current Volume interval : [0.01459646, INFINITY]\n"
     ]
    },
    {
     "name": "stderr",
     "output_type": "stream",
     "text": [
      "100%|██████████| 500/500 [00:12<00:00, 38.96it/s, loss=0.439, min_val_acc=0.882] \n"
     ]
    },
    {
     "name": "stdout",
     "output_type": "stream",
     "text": [
      "-> Phase done\n",
      "-> Center Accuracy is 0.9739999771118164.\n",
      "-> Generalization is above minimum accuracy by 0.19399997711181638.!\n",
      "Training succeeded !\n"
     ]
    },
    {
     "data": {
      "text/plain": [
       "True"
      ]
     },
     "execution_count": 65,
     "metadata": {},
     "output_type": "execute_result"
    }
   ],
   "source": [
    "# Setting random seeds for reproducibility\n",
    "torch.manual_seed(0)\n",
    "torch.cuda.manual_seed(0)\n",
    "torch.backends.cudnn.deterministic = True\n",
    "\n",
    "h_model_fashion = get_model(output_dim=2)\n",
    "optimizer_fashion = HypercubeTrainer(h_model_fashion, device=DEVICE)\n",
    "multiphase_trainer_fashion = ConstrainedVolumeMultiphaseTrainer(\n",
    "    optimizer_fashion, \n",
    "    inflate_function=interval_narrowers.inflate_multiplier(1.5),\n",
    "    narrow_function=interval_narrowers.narrower_halver(0.5),\n",
    "    starting_value=1e-4*0.5, \n",
    "    min_acc_limit=0.78,\n",
    "    quiet=False\n",
    ")\n",
    "multiphase_trainer_fashion.train(\n",
    "    16, item01_val,\n",
    "    item01_train, item01_val, loss_obj=0.0, max_iters=500, batch_size=64, lr=1e-3,\n",
    "    n_iter_eval_stop = 1000000,\n",
    "              hard_min_loss_stop = 2.2\n",
    ")"
   ]
  },
  {
   "cell_type": "code",
   "execution_count": 66,
   "id": "3f4558287705a8bc",
   "metadata": {
    "ExecuteTime": {
     "end_time": "2025-06-07T15:33:01.168890Z",
     "start_time": "2025-06-07T15:32:41.326391Z"
    },
    "collapsed": false
   },
   "outputs": [
    {
     "name": "stdout",
     "output_type": "stream",
     "text": [
      "Certified Accuracy of bound model on original task 0.8833333253860474\n",
      "Initial center model accuracy on new task 0.6429166793823242\n"
     ]
    },
    {
     "name": "stderr",
     "output_type": "stream",
     "text": [
      "100%|██████████| 700/700 [00:10<00:00, 68.14it/s, loss=0.591, val_acc=0.737]\n"
     ]
    },
    {
     "name": "stdout",
     "output_type": "stream",
     "text": [
      "Final Fine-Tuned model accuracy on new task 0.7516666650772095\n",
      "Final Fine-Tuned model accuracy on original task 0.9762500524520874\n"
     ]
    }
   ],
   "source": [
    "from src.continual_learning.CertifiedPostTrainer import CertifiedPostTrainer\n",
    "\n",
    "bound_model_fashion = multiphase_trainer_fashion.result()\n",
    "center_model_fashion = Safebox.bmodelToModel(bound_model_fashion).to(DEVICE)\n",
    "\n",
    "certified_accuracy_originial_task_fmnist = certify_accuracy(item01_test, bound_model_fashion, device=DEVICE)\n",
    "initial_accuracy_new_task_fmnist = evaluate_accuracy(item23_test, center_model_fashion, num_samples=len(item23_test), device=DEVICE)\n",
    "\n",
    "print(f\"Certified Accuracy of bound model on original task {certified_accuracy_originial_task_fmnist}\")\n",
    "print(f\"Initial center model accuracy on new task {initial_accuracy_new_task_fmnist}\")\n",
    "post_trainer_fashion = CertifiedPostTrainer(bound_model_fashion, device=DEVICE)\n",
    "\n",
    "post_trainer_fashion.train(\n",
    "    item23_train,\n",
    "    item23_val, loss_obj=0.0, max_iters=700, batch_size=64, lr=1e-3,\n",
    "    n_iter_eval_stop = 10000000000,\n",
    ")\n",
    "fine_tuned_model_fashion = post_trainer_fashion.result()\n",
    "\n",
    "fine_tuned_accuracy_new_task_fmnist = evaluate_accuracy(item23_test, fine_tuned_model_fashion, num_samples=len(item23_test), device=DEVICE)\n",
    "fine_tuned_accuracy_original_task_fmnist = evaluate_accuracy(item01_test, fine_tuned_model_fashion, num_samples=len(item01_test), device=DEVICE)\n",
    "\n",
    "print(f\"Final Fine-Tuned model accuracy on new task {fine_tuned_accuracy_new_task_fmnist}\")\n",
    "print(f\"Final Fine-Tuned model accuracy on original task {fine_tuned_accuracy_original_task_fmnist}\")"
   ]
  },
  {
   "cell_type": "code",
   "execution_count": null,
   "id": "0c757d0a",
   "metadata": {},
   "outputs": [
    {
     "ename": "TypeError",
     "evalue": "only length-1 arrays can be converted to Python scalars",
     "output_type": "error",
     "traceback": [
      "\u001b[31m---------------------------------------------------------------------------\u001b[39m",
      "\u001b[31mTypeError\u001b[39m                                 Traceback (most recent call last)",
      "\u001b[36mCell\u001b[39m\u001b[36m \u001b[39m\u001b[32mIn[101]\u001b[39m\u001b[32m, line 44\u001b[39m\n\u001b[32m     36\u001b[39m labels.reverse()\n\u001b[32m     38\u001b[39m \u001b[38;5;66;03m# ax.barh(labels, certified_values, color='#00ad3a', label='Certified model')\u001b[39;00m\n\u001b[32m     39\u001b[39m \u001b[38;5;66;03m# ax.barh(labels, initial_values, color='#ffa000', label='Initial model')\u001b[39;00m\n\u001b[32m     40\u001b[39m \u001b[38;5;66;03m# ax.barh(labels, fine_values, left=first_values,color='#00aaff', label='Fine tuned model')\u001b[39;00m\n\u001b[32m     41\u001b[39m \n\u001b[32m     42\u001b[39m \u001b[38;5;66;03m#ax.barh(labels, fine_original, color=\"#00aaff\", label='Fine Tuned Model')\u001b[39;00m\n\u001b[32m     43\u001b[39m \u001b[38;5;66;03m#ax.barh(labels, fine_new, color=\"#00aaff\")\u001b[39;00m\n\u001b[32m---> \u001b[39m\u001b[32m44\u001b[39m \u001b[43max\u001b[49m\u001b[43m.\u001b[49m\u001b[43mbarh\u001b[49m\u001b[43m(\u001b[49m\u001b[43m[\u001b[49m\u001b[33;43m'\u001b[39;49m\u001b[33;43mMNIST\u001b[39;49m\u001b[33;43m'\u001b[39;49m\u001b[43m,\u001b[49m\u001b[43m \u001b[49m\u001b[33;43m'\u001b[39;49m\u001b[33;43mFMNIST\u001b[39;49m\u001b[33;43m'\u001b[39;49m\u001b[43m]\u001b[49m\u001b[43m,\u001b[49m\u001b[43m \u001b[49m\u001b[43mfine\u001b[49m\u001b[43m)\u001b[49m\n\u001b[32m     45\u001b[39m ax.barh(labels, certificates_w, left=certificates, color=\u001b[33m\"\u001b[39m\u001b[33m#000000\u001b[39m\u001b[33m\"\u001b[39m, height=\u001b[32m1\u001b[39m)\n\u001b[32m     47\u001b[39m point = Line2D([\u001b[32m0\u001b[39m], [\u001b[32m0\u001b[39m], label=\u001b[33m'\u001b[39m\u001b[33mOriginal Task Certificate\u001b[39m\u001b[33m'\u001b[39m, marker=\u001b[33m'\u001b[39m\u001b[33m|\u001b[39m\u001b[33m'\u001b[39m, markersize=\u001b[32m8\u001b[39m, \n\u001b[32m     48\u001b[39m          color=\u001b[33m'\u001b[39m\u001b[33m#000000\u001b[39m\u001b[33m'\u001b[39m, linestyle=\u001b[33m'\u001b[39m\u001b[33m'\u001b[39m)\n",
      "\u001b[36mFile \u001b[39m\u001b[32m~/libraries/miniconda3/envs/opti3/lib/python3.11/site-packages/matplotlib/axes/_axes.py:2834\u001b[39m, in \u001b[36mAxes.barh\u001b[39m\u001b[34m(self, y, width, height, left, align, data, **kwargs)\u001b[39m\n\u001b[32m   2704\u001b[39m \u001b[38;5;250m\u001b[39m\u001b[33mr\u001b[39m\u001b[33;03m\"\"\"\u001b[39;00m\n\u001b[32m   2705\u001b[39m \u001b[33;03mMake a horizontal bar plot.\u001b[39;00m\n\u001b[32m   2706\u001b[39m \n\u001b[32m   (...)\u001b[39m\u001b[32m   2831\u001b[39m \u001b[33;03m:doc:`/gallery/lines_bars_and_markers/horizontal_barchart_distribution`.\u001b[39;00m\n\u001b[32m   2832\u001b[39m \u001b[33;03m\"\"\"\u001b[39;00m\n\u001b[32m   2833\u001b[39m kwargs.setdefault(\u001b[33m'\u001b[39m\u001b[33morientation\u001b[39m\u001b[33m'\u001b[39m, \u001b[33m'\u001b[39m\u001b[33mhorizontal\u001b[39m\u001b[33m'\u001b[39m)\n\u001b[32m-> \u001b[39m\u001b[32m2834\u001b[39m patches = \u001b[38;5;28;43mself\u001b[39;49m\u001b[43m.\u001b[49m\u001b[43mbar\u001b[49m\u001b[43m(\u001b[49m\u001b[43mx\u001b[49m\u001b[43m=\u001b[49m\u001b[43mleft\u001b[49m\u001b[43m,\u001b[49m\u001b[43m \u001b[49m\u001b[43mheight\u001b[49m\u001b[43m=\u001b[49m\u001b[43mheight\u001b[49m\u001b[43m,\u001b[49m\u001b[43m \u001b[49m\u001b[43mwidth\u001b[49m\u001b[43m=\u001b[49m\u001b[43mwidth\u001b[49m\u001b[43m,\u001b[49m\u001b[43m \u001b[49m\u001b[43mbottom\u001b[49m\u001b[43m=\u001b[49m\u001b[43my\u001b[49m\u001b[43m,\u001b[49m\n\u001b[32m   2835\u001b[39m \u001b[43m                   \u001b[49m\u001b[43malign\u001b[49m\u001b[43m=\u001b[49m\u001b[43malign\u001b[49m\u001b[43m,\u001b[49m\u001b[43m \u001b[49m\u001b[43mdata\u001b[49m\u001b[43m=\u001b[49m\u001b[43mdata\u001b[49m\u001b[43m,\u001b[49m\u001b[43m \u001b[49m\u001b[43m*\u001b[49m\u001b[43m*\u001b[49m\u001b[43mkwargs\u001b[49m\u001b[43m)\u001b[49m\n\u001b[32m   2836\u001b[39m \u001b[38;5;28;01mreturn\u001b[39;00m patches\n",
      "\u001b[36mFile \u001b[39m\u001b[32m~/libraries/miniconda3/envs/opti3/lib/python3.11/site-packages/matplotlib/__init__.py:1521\u001b[39m, in \u001b[36m_preprocess_data.<locals>.inner\u001b[39m\u001b[34m(ax, data, *args, **kwargs)\u001b[39m\n\u001b[32m   1518\u001b[39m \u001b[38;5;129m@functools\u001b[39m.wraps(func)\n\u001b[32m   1519\u001b[39m \u001b[38;5;28;01mdef\u001b[39;00m\u001b[38;5;250m \u001b[39m\u001b[34minner\u001b[39m(ax, *args, data=\u001b[38;5;28;01mNone\u001b[39;00m, **kwargs):\n\u001b[32m   1520\u001b[39m     \u001b[38;5;28;01mif\u001b[39;00m data \u001b[38;5;129;01mis\u001b[39;00m \u001b[38;5;28;01mNone\u001b[39;00m:\n\u001b[32m-> \u001b[39m\u001b[32m1521\u001b[39m         \u001b[38;5;28;01mreturn\u001b[39;00m \u001b[43mfunc\u001b[49m\u001b[43m(\u001b[49m\n\u001b[32m   1522\u001b[39m \u001b[43m            \u001b[49m\u001b[43max\u001b[49m\u001b[43m,\u001b[49m\n\u001b[32m   1523\u001b[39m \u001b[43m            \u001b[49m\u001b[43m*\u001b[49m\u001b[38;5;28;43mmap\u001b[39;49m\u001b[43m(\u001b[49m\u001b[43mcbook\u001b[49m\u001b[43m.\u001b[49m\u001b[43msanitize_sequence\u001b[49m\u001b[43m,\u001b[49m\u001b[43m \u001b[49m\u001b[43margs\u001b[49m\u001b[43m)\u001b[49m\u001b[43m,\u001b[49m\n\u001b[32m   1524\u001b[39m \u001b[43m            \u001b[49m\u001b[43m*\u001b[49m\u001b[43m*\u001b[49m\u001b[43m{\u001b[49m\u001b[43mk\u001b[49m\u001b[43m:\u001b[49m\u001b[43m \u001b[49m\u001b[43mcbook\u001b[49m\u001b[43m.\u001b[49m\u001b[43msanitize_sequence\u001b[49m\u001b[43m(\u001b[49m\u001b[43mv\u001b[49m\u001b[43m)\u001b[49m\u001b[43m \u001b[49m\u001b[38;5;28;43;01mfor\u001b[39;49;00m\u001b[43m \u001b[49m\u001b[43mk\u001b[49m\u001b[43m,\u001b[49m\u001b[43m \u001b[49m\u001b[43mv\u001b[49m\u001b[43m \u001b[49m\u001b[38;5;129;43;01min\u001b[39;49;00m\u001b[43m \u001b[49m\u001b[43mkwargs\u001b[49m\u001b[43m.\u001b[49m\u001b[43mitems\u001b[49m\u001b[43m(\u001b[49m\u001b[43m)\u001b[49m\u001b[43m}\u001b[49m\u001b[43m)\u001b[49m\n\u001b[32m   1526\u001b[39m     bound = new_sig.bind(ax, *args, **kwargs)\n\u001b[32m   1527\u001b[39m     auto_label = (bound.arguments.get(label_namer)\n\u001b[32m   1528\u001b[39m                   \u001b[38;5;129;01mor\u001b[39;00m bound.kwargs.get(label_namer))\n",
      "\u001b[36mFile \u001b[39m\u001b[32m~/libraries/miniconda3/envs/opti3/lib/python3.11/site-packages/matplotlib/axes/_axes.py:2646\u001b[39m, in \u001b[36mAxes.bar\u001b[39m\u001b[34m(self, x, height, width, bottom, align, **kwargs)\u001b[39m\n\u001b[32m   2643\u001b[39m args = \u001b[38;5;28mzip\u001b[39m(left, bottom, width, height, facecolor, edgecolor, linewidth,\n\u001b[32m   2644\u001b[39m            hatch, patch_labels)\n\u001b[32m   2645\u001b[39m \u001b[38;5;28;01mfor\u001b[39;00m l, b, w, h, c, e, lw, htch, lbl \u001b[38;5;129;01min\u001b[39;00m args:\n\u001b[32m-> \u001b[39m\u001b[32m2646\u001b[39m     r = \u001b[43mmpatches\u001b[49m\u001b[43m.\u001b[49m\u001b[43mRectangle\u001b[49m\u001b[43m(\u001b[49m\n\u001b[32m   2647\u001b[39m \u001b[43m        \u001b[49m\u001b[43mxy\u001b[49m\u001b[43m=\u001b[49m\u001b[43m(\u001b[49m\u001b[43ml\u001b[49m\u001b[43m,\u001b[49m\u001b[43m \u001b[49m\u001b[43mb\u001b[49m\u001b[43m)\u001b[49m\u001b[43m,\u001b[49m\u001b[43m \u001b[49m\u001b[43mwidth\u001b[49m\u001b[43m=\u001b[49m\u001b[43mw\u001b[49m\u001b[43m,\u001b[49m\u001b[43m \u001b[49m\u001b[43mheight\u001b[49m\u001b[43m=\u001b[49m\u001b[43mh\u001b[49m\u001b[43m,\u001b[49m\n\u001b[32m   2648\u001b[39m \u001b[43m        \u001b[49m\u001b[43mfacecolor\u001b[49m\u001b[43m=\u001b[49m\u001b[43mc\u001b[49m\u001b[43m,\u001b[49m\n\u001b[32m   2649\u001b[39m \u001b[43m        \u001b[49m\u001b[43medgecolor\u001b[49m\u001b[43m=\u001b[49m\u001b[43me\u001b[49m\u001b[43m,\u001b[49m\n\u001b[32m   2650\u001b[39m \u001b[43m        \u001b[49m\u001b[43mlinewidth\u001b[49m\u001b[43m=\u001b[49m\u001b[43mlw\u001b[49m\u001b[43m,\u001b[49m\n\u001b[32m   2651\u001b[39m \u001b[43m        \u001b[49m\u001b[43mlabel\u001b[49m\u001b[43m=\u001b[49m\u001b[43mlbl\u001b[49m\u001b[43m,\u001b[49m\n\u001b[32m   2652\u001b[39m \u001b[43m        \u001b[49m\u001b[43mhatch\u001b[49m\u001b[43m=\u001b[49m\u001b[43mhtch\u001b[49m\u001b[43m,\u001b[49m\n\u001b[32m   2653\u001b[39m \u001b[43m        \u001b[49m\u001b[43m)\u001b[49m\n\u001b[32m   2654\u001b[39m     r._internal_update(kwargs)\n\u001b[32m   2655\u001b[39m     r.get_path()._interpolation_steps = \u001b[32m100\u001b[39m\n",
      "\u001b[36mFile \u001b[39m\u001b[32m~/libraries/miniconda3/envs/opti3/lib/python3.11/site-packages/matplotlib/patches.py:772\u001b[39m, in \u001b[36mRectangle.__init__\u001b[39m\u001b[34m(self, xy, width, height, angle, rotation_point, **kwargs)\u001b[39m\n\u001b[32m    748\u001b[39m \u001b[38;5;129m@_docstring\u001b[39m.interpd\n\u001b[32m    749\u001b[39m \u001b[38;5;28;01mdef\u001b[39;00m\u001b[38;5;250m \u001b[39m\u001b[34m__init__\u001b[39m(\u001b[38;5;28mself\u001b[39m, xy, width, height, *,\n\u001b[32m    750\u001b[39m              angle=\u001b[32m0.0\u001b[39m, rotation_point=\u001b[33m'\u001b[39m\u001b[33mxy\u001b[39m\u001b[33m'\u001b[39m, **kwargs):\n\u001b[32m    751\u001b[39m \u001b[38;5;250m    \u001b[39m\u001b[33;03m\"\"\"\u001b[39;00m\n\u001b[32m    752\u001b[39m \u001b[33;03m    Parameters\u001b[39;00m\n\u001b[32m    753\u001b[39m \u001b[33;03m    ----------\u001b[39;00m\n\u001b[32m   (...)\u001b[39m\u001b[32m    770\u001b[39m \u001b[33;03m        %(Patch:kwdoc)s\u001b[39;00m\n\u001b[32m    771\u001b[39m \u001b[33;03m    \"\"\"\u001b[39;00m\n\u001b[32m--> \u001b[39m\u001b[32m772\u001b[39m     \u001b[38;5;28;43msuper\u001b[39;49m\u001b[43m(\u001b[49m\u001b[43m)\u001b[49m\u001b[43m.\u001b[49m\u001b[34;43m__init__\u001b[39;49m\u001b[43m(\u001b[49m\u001b[43m*\u001b[49m\u001b[43m*\u001b[49m\u001b[43mkwargs\u001b[49m\u001b[43m)\u001b[49m\n\u001b[32m    773\u001b[39m     \u001b[38;5;28mself\u001b[39m._x0 = xy[\u001b[32m0\u001b[39m]\n\u001b[32m    774\u001b[39m     \u001b[38;5;28mself\u001b[39m._y0 = xy[\u001b[32m1\u001b[39m]\n",
      "\u001b[36mFile \u001b[39m\u001b[32m~/libraries/miniconda3/envs/opti3/lib/python3.11/site-packages/matplotlib/patches.py:92\u001b[39m, in \u001b[36mPatch.__init__\u001b[39m\u001b[34m(self, edgecolor, facecolor, color, linewidth, linestyle, antialiased, hatch, fill, capstyle, joinstyle, **kwargs)\u001b[39m\n\u001b[32m     89\u001b[39m \u001b[38;5;28mself\u001b[39m._dash_pattern = (\u001b[32m0\u001b[39m, \u001b[38;5;28;01mNone\u001b[39;00m)  \u001b[38;5;66;03m# offset, dash (scaled by linewidth)\u001b[39;00m\n\u001b[32m     91\u001b[39m \u001b[38;5;28mself\u001b[39m.set_linestyle(linestyle)\n\u001b[32m---> \u001b[39m\u001b[32m92\u001b[39m \u001b[38;5;28;43mself\u001b[39;49m\u001b[43m.\u001b[49m\u001b[43mset_linewidth\u001b[49m\u001b[43m(\u001b[49m\u001b[43mlinewidth\u001b[49m\u001b[43m)\u001b[49m\n\u001b[32m     93\u001b[39m \u001b[38;5;28mself\u001b[39m.set_antialiased(antialiased)\n\u001b[32m     94\u001b[39m \u001b[38;5;28mself\u001b[39m.set_hatch(hatch)\n",
      "\u001b[36mFile \u001b[39m\u001b[32m~/libraries/miniconda3/envs/opti3/lib/python3.11/site-packages/matplotlib/patches.py:439\u001b[39m, in \u001b[36mPatch.set_linewidth\u001b[39m\u001b[34m(self, w)\u001b[39m\n\u001b[32m    437\u001b[39m \u001b[38;5;28;01mif\u001b[39;00m w \u001b[38;5;129;01mis\u001b[39;00m \u001b[38;5;28;01mNone\u001b[39;00m:\n\u001b[32m    438\u001b[39m     w = mpl.rcParams[\u001b[33m'\u001b[39m\u001b[33mpatch.linewidth\u001b[39m\u001b[33m'\u001b[39m]\n\u001b[32m--> \u001b[39m\u001b[32m439\u001b[39m \u001b[38;5;28mself\u001b[39m._linewidth = \u001b[38;5;28mfloat\u001b[39m(w)\n\u001b[32m    440\u001b[39m \u001b[38;5;28mself\u001b[39m._dash_pattern = mlines._scale_dashes(\n\u001b[32m    441\u001b[39m     *\u001b[38;5;28mself\u001b[39m._unscaled_dash_pattern, w)\n\u001b[32m    442\u001b[39m \u001b[38;5;28mself\u001b[39m.stale = \u001b[38;5;28;01mTrue\u001b[39;00m\n",
      "\u001b[31mTypeError\u001b[39m: only length-1 arrays can be converted to Python scalars"
     ]
    },
    {
     "data": {
      "image/png": "[encoded data removed]",
      "text/plain": [
       "<Figure size 1980x600 with 1 Axes>"
      ]
     },
     "metadata": {},
     "output_type": "display_data"
    }
   ],
   "source": [
    "fig, ax = plt.subplots()\n",
    "\n",
    "fig.set_figheight(1)\n",
    "\n",
    "plt.rcParams.update({'ytick.left': False})\n",
    "plt.rcParams.update({'ytick.right': False})\n",
    "\n",
    "labels = ['MNIST original task', 'MNIST new task', 'FMNIST original task', 'FMNIST new task']\n",
    "# certified_values = [certified_accuracy_originial_task,0, certified_accuracy_originial_task_fmnist, 0]\n",
    "# initial_values = [0,initial_accuracy_new_task, 0, initial_accuracy_new_task_fmnist]\n",
    "# first_values = [certified_accuracy_originial_task,initial_accuracy_new_task, certified_accuracy_originial_task_fmnist, initial_accuracy_new_task_fmnist]\n",
    "\n",
    "fine_original = [fine_tuned_accuracy_original_task, 0, fine_tuned_accuracy_original_task_fmnist,0]\n",
    "fine_original.reverse()\n",
    "\n",
    "fine_new = [0, fine_tuned_accuracy_new_task, 0, fine_tuned_accuracy_new_task_fmnist]\n",
    "fine_new.reverse()\n",
    "\n",
    "fine = [[fine_tuned_accuracy_new_task, fine_tuned_accuracy_original_task], [fine_tuned_accuracy_new_task_fmnist, fine_tuned_accuracy_original_task_fmnist]]\n",
    "fine.reverse()\n",
    "\n",
    "certificates = [certified_accuracy_originial_task, 0, certified_accuracy_originial_task_fmnist, 0]\n",
    "certificates_w = np.array([0,1,0,1])*0.005\n",
    "certificates.reverse()\n",
    "\n",
    "# fine_values = [\n",
    "#     fine_tuned_accuracy_original_task - certified_accuracy_originial_task,\n",
    "#     fine_tuned_accuracy_new_task-initial_accuracy_new_task, \n",
    "#     fine_tuned_accuracy_original_task_fmnist - certified_accuracy_originial_task_fmnist,\n",
    "#     fine_tuned_accuracy_new_task_fmnist-initial_accuracy_new_task_fmnist, \n",
    "# ]\n",
    "# fine_values.reverse()\n",
    "# initial_values.reverse()\n",
    "# certified_values.reverse()\n",
    "# first_values.reverse()\n",
    "labels.reverse()\n",
    "\n",
    "# ax.barh(labels, certified_values, color='#00ad3a', label='Certified model')\n",
    "# ax.barh(labels, initial_values, color='#ffa000', label='Initial model')\n",
    "# ax.barh(labels, fine_values, left=first_values,color='#00aaff', label='Fine tuned model')\n",
    "\n",
    "ax.barh(labels, fine_original, color=\"#00aaff\", label='Fine Tuned Model')\n",
    "ax.barh(labels, fine_new, color=\"#00aaff\")\n",
    "ax.barh(labels, certificates_w, left=certificates, color=\"#000000\", height=1)\n",
    "\n",
    "point = Line2D([0], [0], label='Original Task Certificate', marker='|', markersize=8, \n",
    "         color='#000000', linestyle='')\n",
    "\n",
    "handles, labels = plt.gca().get_legend_handles_labels()\n",
    "handles.extend([point])\n",
    "\n",
    "\n",
    "\n",
    "ax.legend(facecolor='#ffffff', framealpha=1, frameon=True, fontsize='x-small', handles=handles, handleheight=1)"
   ]
  }
 ],
 "metadata": {
  "kernelspec": {
   "display_name": "opti3",
   "language": "python",
   "name": "python3"
  },
  "language_info": {
   "codemirror_mode": {
    "name": "ipython",
    "version": 3
   },
   "file_extension": ".py",
   "mimetype": "text/x-python",
   "name": "python",
   "nbconvert_exporter": "python",
   "pygments_lexer": "ipython3",
   "version": "3.11.9"
  }
 },
 "nbformat": 4,
 "nbformat_minor": 5
}
