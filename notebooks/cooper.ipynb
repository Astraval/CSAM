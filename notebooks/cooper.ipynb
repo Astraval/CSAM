{
 "cells": [
  {
   "metadata": {},
   "cell_type": "markdown",
   "source": [
    "### Set up"
   ],
   "id": "973712b768d82327"
  },
  {
   "cell_type": "code",
   "id": "initial_id",
   "metadata": {
    "collapsed": true,
    "ExecuteTime": {
     "end_time": "2025-05-31T17:30:33.749207Z",
     "start_time": "2025-05-31T17:30:30.855356Z"
    }
   },
   "source": [
    "from typing import Any\n",
    "\n",
    "import cooper\n",
    "import torch\n",
    "import math\n",
    "from cooper import CMPState"
   ],
   "outputs": [],
   "execution_count": 1
  },
  {
   "metadata": {
    "ExecuteTime": {
     "end_time": "2025-05-31T17:30:34.909155Z",
     "start_time": "2025-05-31T17:30:34.893481Z"
    }
   },
   "cell_type": "code",
   "source": [
    "loss_fn = torch.nn.MSELoss()"
   ],
   "id": "ce8f7ce3b6286159",
   "outputs": [],
   "execution_count": 2
  },
  {
   "metadata": {
    "ExecuteTime": {
     "end_time": "2025-05-31T17:30:37.067444Z",
     "start_time": "2025-05-31T17:30:37.055334Z"
    }
   },
   "cell_type": "code",
   "source": [
    "# Template for single lower bound constraint on given \"volume\" function\n",
    "class VolumeConstrainedIntervalMinimizer(cooper.ConstrainedMinimizationProblem):\n",
    "    def __init__(self, volume_threshold: float, volume_function):\n",
    "        super().__init__()\n",
    "        self.volume_threshold = volume_threshold\n",
    "        self.volume_function = volume_function\n",
    "        multiplier = cooper.multipliers.DenseMultiplier(num_constraints=1) # device =\n",
    "        self.volume_constraint = cooper.Constraint(\n",
    "            multiplier=multiplier,\n",
    "            constraint_type=cooper.ConstraintType.INEQUALITY,\n",
    "            formulation_type=cooper.formulations.Lagrangian,\n",
    "        )\n",
    "\n",
    "    def compute_cmp_state(self, model, inputs, targets) -> cooper.CMPState:\n",
    "        logits = model(*inputs)\n",
    "        loss = loss_fn(logits, targets)\n",
    "        volume = self.volumeFunction(model.weight)\n",
    "        volume_constraint_state = cooper.ConstraintState(violation=self.volume_threshold - volume)\n",
    "\n",
    "        #misc = {\"batch_accuracy\": ...}\n",
    "\n",
    "        observed_constraints = {self.volume_constraint: volume_constraint_state}\n",
    "\n",
    "        return cooper.CMPState(loss=loss, observed_constraints=observed_constraints, ) # misc =\n",
    "\n",
    "\n"
   ],
   "id": "c9f7adb3bb6f18a4",
   "outputs": [],
   "execution_count": 3
  },
  {
   "metadata": {},
   "cell_type": "markdown",
   "source": [
    "### A dummy example\n",
    "\n",
    "##### Minimizing x+y subject to x² + y² = 1"
   ],
   "id": "348e99d98cc9f75b"
  },
  {
   "metadata": {
    "ExecuteTime": {
     "end_time": "2025-05-31T17:30:38.154738Z",
     "start_time": "2025-05-31T17:30:38.141094Z"
    }
   },
   "cell_type": "code",
   "source": [
    "class SphereSurfaceConstrainedMinimizer(cooper.ConstrainedMinimizationProblem):\n",
    "    def __init__(self, radius):\n",
    "        super().__init__()\n",
    "        self.radius = radius\n",
    "        multiplier = cooper.multipliers.DenseMultiplier(num_constraints=1)\n",
    "        self.radius_constraint = cooper.Constraint(\n",
    "            multiplier=multiplier,\n",
    "            constraint_type=cooper.ConstraintType.EQUALITY,\n",
    "            formulation_type=cooper.formulations.Lagrangian,\n",
    "        )\n",
    "\n",
    "    def compute_cmp_state(self, model) -> cooper.CMPState:\n",
    "        loss = model.weight.sum()\n",
    "        radius = model.weight.pow(2).sum()\n",
    "\n",
    "        radius_constraint_state = cooper.ConstraintState(violation=self.radius-radius)\n",
    "        observed_constraints = {self.radius_constraint: radius_constraint_state}\n",
    "        return cooper.CMPState(loss=loss, observed_constraints=observed_constraints, )\n"
   ],
   "id": "2dc2cb4d8adf2942",
   "outputs": [],
   "execution_count": 4
  },
  {
   "metadata": {
    "ExecuteTime": {
     "end_time": "2025-05-31T17:30:39.171264Z",
     "start_time": "2025-05-31T17:30:39.164582Z"
    }
   },
   "cell_type": "code",
   "source": [
    "class DummyModel(torch.nn.Module):\n",
    "    def __init__(self, *args, **kwargs):\n",
    "        super().__init__(*args, **kwargs)\n",
    "        self.weight = torch.nn.Parameter(torch.tensor([1.0,1.0]))\n",
    "\n",
    "    def forward(self):\n",
    "        return self.weight\n"
   ],
   "id": "96f41bbbb68a0459",
   "outputs": [],
   "execution_count": 5
  },
  {
   "metadata": {
    "ExecuteTime": {
     "end_time": "2025-05-31T17:30:43.047784Z",
     "start_time": "2025-05-31T17:30:39.776128Z"
    }
   },
   "cell_type": "code",
   "source": [
    "cmp = SphereSurfaceConstrainedMinimizer(radius=1.0)\n",
    "model = torch.nn.Linear(1,2,False)\n",
    "\n",
    "primal_optimizer = torch.optim.SGD(model.parameters(), lr=0.01)\n",
    "dual_optimizer = torch.optim.SGD(cmp.dual_parameters(), lr=0.01, maximize=True)\n",
    "\n",
    "cooper_optimizer = cooper.optim.AlternatingDualPrimalOptimizer(\n",
    "    cmp = cmp, primal_optimizers=primal_optimizer, dual_optimizers=dual_optimizer\n",
    ")"
   ],
   "id": "b80021c3a9d0fc5c",
   "outputs": [],
   "execution_count": 6
  },
  {
   "metadata": {
    "ExecuteTime": {
     "end_time": "2025-05-31T17:31:32.687933Z",
     "start_time": "2025-05-31T17:31:32.009495Z"
    }
   },
   "cell_type": "code",
   "source": [
    "for epoch_num in range(1000):\n",
    "    compute_cmp_state_kwargs = {\"model\": model,}\n",
    "    roll_out = cooper_optimizer.roll(compute_cmp_state_kwargs=compute_cmp_state_kwargs)"
   ],
   "id": "134f3b040eeee727",
   "outputs": [],
   "execution_count": 9
  },
  {
   "metadata": {
    "ExecuteTime": {
     "end_time": "2025-05-31T17:31:32.703111Z",
     "start_time": "2025-05-31T17:31:32.689449Z"
    }
   },
   "cell_type": "code",
   "source": [
    "model.weight"
   ],
   "id": "cf8158b236359b0f",
   "outputs": [
    {
     "data": {
      "text/plain": "Parameter containing:\ntensor([[-0.7071],\n        [-0.7071]], requires_grad=True)"
     },
     "execution_count": 10,
     "metadata": {},
     "output_type": "execute_result"
    }
   ],
   "execution_count": 10
  },
  {
   "cell_type": "code",
   "outputs": [],
   "source": [],
   "metadata": {
    "collapsed": false,
    "ExecuteTime": {
     "end_time": "2025-05-31T17:31:32.936604Z",
     "start_time": "2025-05-31T17:31:32.931075Z"
    }
   },
   "id": "314fc657f143500",
   "execution_count": 10
  },
  {
   "cell_type": "code",
   "outputs": [],
   "source": [],
   "metadata": {
    "collapsed": false
   },
   "id": "cb354aa8a5ec7722"
  }
 ],
 "metadata": {
  "kernelspec": {
   "display_name": "Python 3",
   "language": "python",
   "name": "python3"
  },
  "language_info": {
   "codemirror_mode": {
    "name": "ipython",
    "version": 2
   },
   "file_extension": ".py",
   "mimetype": "text/x-python",
   "name": "python",
   "nbconvert_exporter": "python",
   "pygments_lexer": "ipython2",
   "version": "2.7.6"
  }
 },
 "nbformat": 4,
 "nbformat_minor": 5
}
