{
 "cells": [
  {
   "cell_type": "code",
   "id": "initial_id",
   "metadata": {
    "collapsed": true,
    "ExecuteTime": {
     "end_time": "2025-06-06T09:24:56.696340Z",
     "start_time": "2025-06-06T09:24:56.641692Z"
    }
   },
   "source": [
    "%load_ext autoreload\n",
    "%autoreload 2\n",
    "import sys\n",
    "import os\n",
    "\n",
    "project_root = os.path.abspath(os.path.join(os.getcwd(), \"..\"))\n",
    "if project_root not in sys.path:\n",
    "    sys.path.append(project_root)"
   ],
   "outputs": [],
   "execution_count": 1
  },
  {
   "cell_type": "code",
   "source": [
    "import torch\n",
    "from src.optimizers.LagrangianTrainer import LagrangianTrainer\n",
    "from src.optimizers.SimpleTrainer import SimpleTrainer\n",
    "from src.utils import dataset\n",
    "from src.optimizers.HypercubeTrainer import HypercubeTrainer\n",
    "from src.utils.evaluation import evaluate_accuracy\n",
    "from src.cert import Safebox"
   ],
   "metadata": {
    "collapsed": false,
    "ExecuteTime": {
     "end_time": "2025-06-06T09:25:06.050609Z",
     "start_time": "2025-06-06T09:24:56.698343Z"
    }
   },
   "id": "c675c831c2e4942d",
   "outputs": [],
   "execution_count": 2
  },
  {
   "cell_type": "code",
   "source": [
    "DEVICE = \"cuda\" if torch.cuda.is_available() else \"cpu\""
   ],
   "metadata": {
    "collapsed": false,
    "ExecuteTime": {
     "end_time": "2025-06-06T09:25:06.283070Z",
     "start_time": "2025-06-06T09:25:06.052076Z"
    }
   },
   "id": "1a0613def2799a06",
   "outputs": [],
   "execution_count": 3
  },
  {
   "cell_type": "code",
   "source": [
    "def get_model(output_dim=10):\n",
    "    \"\"\"Returns a simple CNN model.\"\"\"\n",
    "    model = torch.nn.Sequential(\n",
    "        torch.nn.Conv2d(1, 8, kernel_size=5, stride=1, padding=1),\n",
    "        torch.nn.ReLU(),\n",
    "        torch.nn.Conv2d(8, 1, kernel_size=5, stride=1, padding=1),\n",
    "        torch.nn.ReLU(),\n",
    "        torch.nn.Flatten(),\n",
    "        torch.nn.Linear(576, output_dim),\n",
    "    ).to(DEVICE)\n",
    "    return model\n",
    "def get_model_cifar10(seed=0, output_dim=10):\n",
    "    \"\"\"Returns a simple CNN model.\"\"\"\n",
    "    torch.manual_seed(seed)\n",
    "    model = torch.nn.Sequential(\n",
    "        torch.nn.Conv2d(3, 8, kernel_size=5, stride=1, padding=1),\n",
    "        torch.nn.ReLU(),\n",
    "        torch.nn.Conv2d(8, 3, kernel_size=5, stride=1, padding=1),\n",
    "        torch.nn.ReLU(),\n",
    "        torch.nn.Flatten(),\n",
    "        torch.nn.Linear(2352, output_dim),\n",
    "    ).to(DEVICE)\n",
    "    return model\n",
    "\n"
   ],
   "metadata": {
    "collapsed": false,
    "ExecuteTime": {
     "end_time": "2025-06-06T09:25:06.514675Z",
     "start_time": "2025-06-06T09:25:06.284574Z"
    }
   },
   "id": "4e0a95cef96b5757",
   "outputs": [],
   "execution_count": 4
  },
  {
   "cell_type": "code",
   "source": [
    "from src.utils.dataset import reduce_dataset\n",
    "\n",
    "train_dataset, val_dataset = dataset.get_fashion_mnist_dataset()\n",
    "#train_dataset = reduce_dataset(train_dataset, num_samples=300)"
   ],
   "metadata": {
    "collapsed": false,
    "ExecuteTime": {
     "end_time": "2025-06-06T09:25:06.916185Z",
     "start_time": "2025-06-06T09:25:06.516910Z"
    }
   },
   "id": "9046dfd0a62bb615",
   "outputs": [],
   "execution_count": 5
  },
  {
   "cell_type": "code",
   "outputs": [
    {
     "name": "stderr",
     "output_type": "stream",
     "text": [
      "100%|██████████| 3000/3000 [01:30<00:00, 33.29it/s, loss=0.477, val_acc=0.891]"
     ]
    },
    {
     "name": "stdout",
     "output_type": "stream",
     "text": [
      "----------  Training completed with loss  0 ----------\n"
     ]
    },
    {
     "name": "stderr",
     "output_type": "stream",
     "text": [
      "\n"
     ]
    }
   ],
   "source": [
    "simple_model = get_model()\n",
    "trainer = SimpleTrainer(simple_model, device=DEVICE)\n",
    "simple_model = trainer.train(train_dataset, val_dataset, loss_obj=0.000000000000001, max_iters=3000, batch_size=64, lr=1e-3)"
   ],
   "metadata": {
    "collapsed": false,
    "ExecuteTime": {
     "end_time": "2025-06-04T14:02:21.873082Z",
     "start_time": "2025-06-04T14:00:51.329592Z"
    }
   },
   "id": "73033846897c5935",
   "execution_count": 8
  },
  {
   "cell_type": "code",
   "outputs": [
    {
     "name": "stdout",
     "output_type": "stream",
     "text": [
      "Accuracy Simple Training 0.8112999796867371\n"
     ]
    }
   ],
   "source": [
    "print(\"Accuracy Simple Training\", evaluate_accuracy(val_dataset, simple_model, num_samples=len(val_dataset), device=DEVICE))"
   ],
   "metadata": {
    "collapsed": false,
    "ExecuteTime": {
     "end_time": "2025-06-04T07:47:32.801983Z",
     "start_time": "2025-06-04T07:47:30.151138Z"
    }
   },
   "id": "511d020827ebfaec",
   "execution_count": 15
  },
  {
   "cell_type": "code",
   "outputs": [
    {
     "name": "stdout",
     "output_type": "stream",
     "text": [
      "0.6250999569892883\n"
     ]
    }
   ],
   "source": [
    "bmodel_test = Safebox.modelToBModel(simple_model)\n",
    "Safebox.assign_epsilon(bmodel_test, 1e-4*1.5)\n",
    "trainer = HypercubeTrainer(simple_model, \"cuda\", False)\n",
    "trainer._interval_model = bmodel_test\n",
    "print(trainer._evaluate_min_val_acc(val_dataset, len(val_dataset)))"
   ],
   "metadata": {
    "collapsed": false,
    "ExecuteTime": {
     "end_time": "2025-06-04T07:53:48.730934Z",
     "start_time": "2025-06-04T07:53:45.808475Z"
    }
   },
   "id": "1952922071d9533c",
   "execution_count": 25
  },
  {
   "cell_type": "code",
   "outputs": [
    {
     "name": "stderr",
     "output_type": "stream",
     "text": [
      "100%|██████████| 3000/3000 [02:59<00:00, 16.69it/s, loss=0.588, min_val_acc=0.719]"
     ]
    },
    {
     "name": "stdout",
     "output_type": "stream",
     "text": [
      "----------  Training completed with loss  1 ----------\n"
     ]
    },
    {
     "name": "stderr",
     "output_type": "stream",
     "text": [
      "\n"
     ]
    }
   ],
   "source": [
    "model = get_model(output_dim=10)\n",
    "optimizer = HypercubeTrainer(model, device=DEVICE)\n",
    "optimizer.set_volume_constrain(1e-4*1.5) # start with a small volume at first \n",
    "optimizer.train(\n",
    "    train_dataset, val_dataset, loss_obj=0.000000000000001, max_iters=3000, batch_size=64, lr=1e-4\n",
    ")"
   ],
   "metadata": {
    "collapsed": false,
    "ExecuteTime": {
     "end_time": "2025-06-04T07:53:23.333961Z",
     "start_time": "2025-06-04T07:50:23.353570Z"
    }
   },
   "id": "3eb30db4134b45e0",
   "execution_count": 23
  },
  {
   "cell_type": "code",
   "outputs": [
    {
     "name": "stderr",
     "output_type": "stream",
     "text": [
      " 13%|█▎        | 378/3000 [00:18<02:00, 21.81it/s, loss=0.61, min_val_acc=0.719] "
     ]
    }
   ],
   "source": [
    "optimizer.set_volume_constrain(1e-4*5.0) # start with a small volume at first \n",
    "optimizer.train(\n",
    "    train_dataset, val_dataset, loss_obj=0.000000000000001, max_iters=3000, batch_size=64, lr=1e-4\n",
    ")"
   ],
   "metadata": {
    "collapsed": false,
    "ExecuteTime": {
     "start_time": "2025-06-04T09:07:05.100505Z"
    }
   },
   "id": "9ca73a3106cbfd07",
   "execution_count": null
  },
  {
   "cell_type": "code",
   "outputs": [
    {
     "data": {
      "text/plain": "0.7630999684333801"
     },
     "execution_count": 44,
     "metadata": {},
     "output_type": "execute_result"
    }
   ],
   "source": [
    "optimizer._evaluate_min_val_acc(val_dataset, len(val_dataset))"
   ],
   "metadata": {
    "collapsed": false,
    "ExecuteTime": {
     "end_time": "2025-06-04T08:20:21.208027Z",
     "start_time": "2025-06-04T08:20:15.774521Z"
    }
   },
   "id": "5f626fac339d1210",
   "execution_count": 44
  },
  {
   "cell_type": "code",
   "outputs": [
    {
     "name": "stdout",
     "output_type": "stream",
     "text": [
      "Accuracy  0.8331000208854675\n"
     ]
    }
   ],
   "source": [
    "model = Safebox.bmodelToModel(optimizer.result())\n",
    "print(\"Accuracy \", evaluate_accuracy(val_dataset, model, num_samples=len(val_dataset)))"
   ],
   "metadata": {
    "collapsed": false,
    "ExecuteTime": {
     "end_time": "2025-06-04T08:20:28.636809Z",
     "start_time": "2025-06-04T08:20:24.049617Z"
    }
   },
   "id": "c6ee958cc44c873e",
   "execution_count": 45
  },
  {
   "cell_type": "code",
   "outputs": [
    {
     "name": "stdout",
     "output_type": "stream",
     "text": [
      "--- New Layer ---\n",
      "Simple weight :  -0.02653699927031994  std  0.13423000276088715\n",
      "Flat weight :  0.018327999860048294  std  0.14879299700260162\n",
      "Simple bias :  0.05447600036859512  std  0.1779630035161972\n",
      "Flat bias :  -0.046386998146772385  std  0.13203200697898865\n",
      "--- New Layer ---\n",
      "Simple weight :  0.024111000820994377  std  0.06942799687385559\n",
      "Flat weight :  0.007294999901205301  std  0.07857400178909302\n",
      "Simple bias :  0.11389800161123276  std  nan\n",
      "Flat bias :  -0.05412000045180321  std  nan\n",
      "--- New Layer ---\n",
      "Simple weight :  -0.006694999989122152  std  0.03820300102233887\n",
      "Flat weight :  -0.005133999977260828  std  0.0362280011177063\n",
      "Simple bias :  -0.0016080000204965472  std  0.029248999431729317\n",
      "Flat bias :  -0.014062999747693539  std  0.04829400032758713\n"
     ]
    },
    {
     "name": "stderr",
     "output_type": "stream",
     "text": [
      "C:\\Users\\Fasterling Pierre\\AppData\\Local\\Temp\\ipykernel_24724\\1052549600.py:6: UserWarning: std(): degrees of freedom is <= 0. Correction should be strictly less than the reduction factor (input numel divided by output numel). (Triggered internally at C:\\actions-runner\\_work\\pytorch\\pytorch\\pytorch\\aten\\src\\ATen\\native\\ReduceOps.cpp:1839.)\n",
      "  print(\"Simple bias : \", layerSimple.bias.mean().round(decimals=6).item(), \" std \", layerSimple.bias.std().round(decimals=6).item())\n",
      "C:\\Users\\Fasterling Pierre\\AppData\\Local\\Temp\\ipykernel_24724\\1052549600.py:7: UserWarning: std(): degrees of freedom is <= 0. Correction should be strictly less than the reduction factor (input numel divided by output numel). (Triggered internally at C:\\actions-runner\\_work\\pytorch\\pytorch\\pytorch\\aten\\src\\ATen\\native\\ReduceOps.cpp:1839.)\n",
      "  print(\"Flat bias : \", layerFlat.b_c.mean().round(decimals=6).item(), \" std \", layerFlat.b_c.std().round(decimals=6).item())\n"
     ]
    }
   ],
   "source": [
    "for layerSimple, layerFlat in zip(simple_model, optimizer.result()):\n",
    "    if isinstance(layerSimple, torch.nn.Linear) or isinstance(layerSimple, torch.nn.Conv2d): \n",
    "        print(\"--- New Layer ---\")\n",
    "        print(\"Simple weight : \", layerSimple.weight.mean().round(decimals=6).item(), \" std \", layerSimple.weight.std().round(decimals=6).item())\n",
    "        print(\"Flat weight : \", layerFlat.W_c.mean().round(decimals=6).item(), \" std \", layerFlat.W_c.std().round(decimals=6).item())\n",
    "        print(\"Simple bias : \", layerSimple.bias.mean().round(decimals=6).item(), \" std \", layerSimple.bias.std().round(decimals=6).item())\n",
    "        print(\"Flat bias : \", layerFlat.b_c.mean().round(decimals=6).item(), \" std \", layerFlat.b_c.std().round(decimals=6).item())\n"
   ],
   "metadata": {
    "collapsed": false,
    "ExecuteTime": {
     "end_time": "2025-06-04T08:05:19.813266Z",
     "start_time": "2025-06-04T08:05:19.551830Z"
    }
   },
   "id": "ff31a1343e8c5550",
   "execution_count": 36
  },
  {
   "metadata": {},
   "cell_type": "markdown",
   "source": [
    "### Lagrangian experiments"
   ],
   "id": "2a9f8a6e5c2d2bab"
  },
  {
   "metadata": {
    "ExecuteTime": {
     "end_time": "2025-06-01T22:35:18.225425Z",
     "start_time": "2025-06-01T22:31:33.386557Z"
    }
   },
   "cell_type": "code",
   "source": [
    "from src.optimizers.volumes import LogVolume\n",
    "\n",
    "model = get_model(output_dim=10)\n",
    "optimizer = LagrangianTrainer(model,LogVolume(epsilon=1e-8), device=DEVICE)\n",
    "optimizer.set_volume_constrain(1e-4) # start with a small volume at first\n",
    "print(optimizer._volume_function(optimizer._interval_model))\n",
    "optimizer.train(\n",
    "    train_dataset, val_dataset, loss_obj=-0.000000000000001, max_iters=3000, batch_size=64, lr=1e-4\n",
    ")"
   ],
   "id": "b80923e351a1571",
   "outputs": [
    {
     "name": "stdout",
     "output_type": "stream",
     "text": [
      "tensor(-8.5171, device='cuda:0', grad_fn=<DivBackward0>)\n"
     ]
    },
    {
     "name": "stderr",
     "output_type": "stream",
     "text": [
      "100%|██████████| 3000/3000 [03:44<00:00, 13.37it/s, loss=0.405, min_val_acc=0.531, current_volume=-8.53] "
     ]
    },
    {
     "name": "stdout",
     "output_type": "stream",
     "text": [
      "----------  Training completed with loss  0 ----------\n"
     ]
    },
    {
     "name": "stderr",
     "output_type": "stream",
     "text": [
      "\n"
     ]
    }
   ],
   "execution_count": 8
  },
  {
   "cell_type": "code",
   "outputs": [
    {
     "name": "stdout",
     "output_type": "stream",
     "text": [
      "Accuracy  0.7109000086784363\n",
      "Mean layer intervals W_u tensor(0.0001, device='cuda:0', grad_fn=<MeanBackward0>)  std  tensor(0.0002, device='cuda:0', grad_fn=<StdBackward0>)\n",
      "Mean layer intervals W_l tensor(0.0001, device='cuda:0', grad_fn=<MeanBackward0>)  std  tensor(0.0002, device='cuda:0', grad_fn=<StdBackward0>)\n",
      "Mean layer intervals b_u tensor(0.0001, device='cuda:0', grad_fn=<MeanBackward0>)  std  tensor(0.0002, device='cuda:0', grad_fn=<StdBackward0>)\n",
      "Mean layer intervals b_l tensor(0.0001, device='cuda:0', grad_fn=<MeanBackward0>)  std  tensor(0.0002, device='cuda:0', grad_fn=<StdBackward0>)\n",
      "Mean layer intervals W_u tensor(0.0003, device='cuda:0', grad_fn=<MeanBackward0>)  std  tensor(0.0003, device='cuda:0', grad_fn=<StdBackward0>)\n",
      "Mean layer intervals W_l tensor(0.0003, device='cuda:0', grad_fn=<MeanBackward0>)  std  tensor(0.0003, device='cuda:0', grad_fn=<StdBackward0>)\n",
      "Mean layer intervals b_u tensor(6.2757e-05, device='cuda:0', grad_fn=<MeanBackward0>)  std  tensor(nan, device='cuda:0', grad_fn=<StdBackward0>)\n",
      "Mean layer intervals b_l tensor(6.2233e-05, device='cuda:0', grad_fn=<MeanBackward0>)  std  tensor(nan, device='cuda:0', grad_fn=<StdBackward0>)\n",
      "Mean layer intervals W_u tensor(0.0004, device='cuda:0', grad_fn=<MeanBackward0>)  std  tensor(0.0006, device='cuda:0', grad_fn=<StdBackward0>)\n",
      "Mean layer intervals W_l tensor(0.0005, device='cuda:0', grad_fn=<MeanBackward0>)  std  tensor(0.0006, device='cuda:0', grad_fn=<StdBackward0>)\n",
      "Mean layer intervals b_u tensor(0.0003, device='cuda:0', grad_fn=<MeanBackward0>)  std  tensor(0.0005, device='cuda:0', grad_fn=<StdBackward0>)\n",
      "Mean layer intervals b_l tensor(0.0003, device='cuda:0', grad_fn=<MeanBackward0>)  std  tensor(0.0005, device='cuda:0', grad_fn=<StdBackward0>)\n"
     ]
    },
    {
     "name": "stderr",
     "output_type": "stream",
     "text": [
      "C:\\Users\\Fasterling Pierre\\AppData\\Local\\Temp\\ipykernel_4020\\4181305677.py:7: UserWarning: std(): degrees of freedom is <= 0. Correction should be strictly less than the reduction factor (input numel divided by output numel). (Triggered internally at C:\\actions-runner\\_work\\pytorch\\pytorch\\pytorch\\aten\\src\\ATen\\native\\ReduceOps.cpp:1839.)\n",
      "  print(\"Mean layer intervals b_u\", layer.b_u.mean(), \" std \", layer.b_u.std())\n",
      "C:\\Users\\Fasterling Pierre\\AppData\\Local\\Temp\\ipykernel_4020\\4181305677.py:8: UserWarning: std(): degrees of freedom is <= 0. Correction should be strictly less than the reduction factor (input numel divided by output numel). (Triggered internally at C:\\actions-runner\\_work\\pytorch\\pytorch\\pytorch\\aten\\src\\ATen\\native\\ReduceOps.cpp:1839.)\n",
      "  print(\"Mean layer intervals b_l\", layer.b_l.mean(), \" std \", layer.b_l.std())\n"
     ]
    }
   ],
   "source": [
    "interval_model = optimizer.result()\n",
    "print(\"Accuracy \", evaluate_accuracy(val_dataset, Safebox.bmodelToModel(interval_model), num_samples=len(val_dataset)))\n",
    "for layer in interval_model:\n",
    "    if isinstance(layer, Safebox.BDense) or isinstance(layer, Safebox.BConv2d):\n",
    "        print(\"Mean layer intervals W_u\", layer.W_u.mean(), \" std \", layer.W_u.std())\n",
    "        print(\"Mean layer intervals W_l\", layer.W_l.mean(), \" std \", layer.W_l.std())\n",
    "        print(\"Mean layer intervals b_u\", layer.b_u.mean(), \" std \", layer.b_u.std())\n",
    "        print(\"Mean layer intervals b_l\", layer.b_l.mean(), \" std \", layer.b_l.std())"
   ],
   "metadata": {
    "collapsed": false,
    "ExecuteTime": {
     "end_time": "2025-06-01T22:38:07.559575Z",
     "start_time": "2025-06-01T22:38:04.948291Z"
    }
   },
   "id": "1b50227a26282546",
   "execution_count": 9
  },
  {
   "cell_type": "code",
   "source": [
    "model = Safebox.bmodelToModel(optimizer.result())\n",
    "print(\"Accuracy \", evaluate_accuracy(val_dataset, model, num_samples=10000))"
   ],
   "metadata": {
    "collapsed": false,
    "ExecuteTime": {
     "end_time": "2025-06-01T11:19:20.252182Z",
     "start_time": "2025-06-01T11:19:18.788649Z"
    }
   },
   "id": "b9d6317752bffce3",
   "outputs": [
    {
     "name": "stdout",
     "output_type": "stream",
     "text": [
      "Accuracy  0.12359999865293503\n"
     ]
    }
   ],
   "execution_count": 23
  },
  {
   "metadata": {},
   "cell_type": "code",
   "outputs": [],
   "execution_count": null,
   "source": [],
   "id": "60ed13093b04b25a"
  }
 ],
 "metadata": {
  "kernelspec": {
   "display_name": "Python 3",
   "language": "python",
   "name": "python3"
  },
  "language_info": {
   "codemirror_mode": {
    "name": "ipython",
    "version": 2
   },
   "file_extension": ".py",
   "mimetype": "text/x-python",
   "name": "python",
   "nbconvert_exporter": "python",
   "pygments_lexer": "ipython2",
   "version": "2.7.6"
  }
 },
 "nbformat": 4,
 "nbformat_minor": 5
}
